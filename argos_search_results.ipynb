{
 "cells": [
  {
   "cell_type": "markdown",
   "id": "f9a2edd2-bc2e-4e78-9d8f-db14ca30c01d",
   "metadata": {},
   "source": [
    "# Argos Search Results Notebook"
   ]
  },
  {
   "cell_type": "markdown",
   "id": "2f1c5770-5350-4421-a341-439c9d5b79ce",
   "metadata": {},
   "source": [
    "## Installations"
   ]
  },
  {
   "cell_type": "markdown",
   "id": "fb2e622a-fb71-4842-bef4-3960bf52f4a7",
   "metadata": {},
   "source": [
    "Importing all necessary modules to run this notebook. Ensure selenium, selectorlib, and fake-useragent have been installed prior to running this notebook."
   ]
  },
  {
   "cell_type": "code",
   "execution_count": null,
   "id": "acf5e0c7-0f7d-4f9c-923c-80bd9c6ceb24",
   "metadata": {},
   "outputs": [],
   "source": [
    "import requests\n",
    "import json\n",
    "import pandas as pd\n",
    "import numpy as np\n",
    "import time\n",
    "import warnings"
   ]
  },
  {
   "cell_type": "code",
   "execution_count": null,
   "id": "bd452286-f4a0-409d-9457-620a9382e5b6",
   "metadata": {},
   "outputs": [],
   "source": [
    "from fake_useragent import UserAgent\n",
    "from selenium import webdriver\n",
    "from selenium.webdriver.support.ui import WebDriverWait\n",
    "from webdriver_manager.chrome import ChromeDriverManager\n",
    "from selenium.webdriver.common.by import By\n",
    "from selenium.common.exceptions import NoSuchElementException\n",
    "from selectorlib import Extractor"
   ]
  },
  {
   "cell_type": "markdown",
   "id": "9327f8f2-f3ea-4f8d-b98d-7a176a330a13",
   "metadata": {},
   "source": [
    "## Loading Pre-Documented Gender Stereotyped Toys"
   ]
  },
  {
   "cell_type": "markdown",
   "id": "c0ca50e8-4e76-4bae-8a99-a1f601f5bf55",
   "metadata": {},
   "source": [
    "Taking in predoc_stereotyped_items.csv, a CSV file containing 72 rows."
   ]
  },
  {
   "cell_type": "code",
   "execution_count": null,
   "id": "f9621c53-2738-4017-b681-806ca1dbebab",
   "metadata": {},
   "outputs": [],
   "source": [
    "stereo_toys = pd.read_csv('../predoc_info/predoc_stereotyped_items.csv', delimiter=',')\n",
    "stereo_toys[:10]"
   ]
  },
  {
   "cell_type": "code",
   "execution_count": null,
   "id": "f6a9c633-d09b-4333-85f0-758231463a3a",
   "metadata": {},
   "outputs": [],
   "source": [
    "len(stereo_toys)"
   ]
  },
  {
   "cell_type": "markdown",
   "id": "50e100f9-5bb1-436f-b52c-56adb5d64cb8",
   "metadata": {},
   "source": [
    "## Loading List of Toys Collected from Previous Research"
   ]
  },
  {
   "cell_type": "markdown",
   "id": "5ce08f41-a720-452c-80c1-609174821c49",
   "metadata": {},
   "source": [
    "all_items.txt contains a list of strings, where each string represents a toy that will be searched on Argos. This text file contains 166 rows."
   ]
  },
  {
   "cell_type": "code",
   "execution_count": null,
   "id": "5a886d71-124b-46da-8677-c8ba313422a0",
   "metadata": {},
   "outputs": [],
   "source": [
    "with open('../predoc_info/all_items.txt') as f:\n",
    "    all_items = f.read().splitlines()"
   ]
  },
  {
   "cell_type": "code",
   "execution_count": null,
   "id": "47a4499b-87e5-4ccb-9299-30dc76d9e9a2",
   "metadata": {},
   "outputs": [],
   "source": [
    "len(all_items)"
   ]
  },
  {
   "cell_type": "markdown",
   "id": "70135979-e940-4eab-bd8b-cbc447b6fc96",
   "metadata": {},
   "source": [
    "## Trial"
   ]
  },
  {
   "cell_type": "markdown",
   "id": "8f22efea-9b29-4a2c-92af-6299a33f6044",
   "metadata": {},
   "source": [
    "Creating a short list of 6 toys from all_items. Trial is used so the following functions can be tested on a smaller sample rathen than testing on all 166 toys."
   ]
  },
  {
   "cell_type": "code",
   "execution_count": null,
   "id": "abb1e190-5cd9-4f70-a0f2-a590a9f61d17",
   "metadata": {},
   "outputs": [],
   "source": [
    "trial = all_items[160:]\n",
    "trial"
   ]
  },
  {
   "cell_type": "code",
   "execution_count": null,
   "id": "edb318eb-99a8-4b44-9473-1fc20273d53e",
   "metadata": {},
   "outputs": [],
   "source": [
    "len(trial)"
   ]
  },
  {
   "cell_type": "code",
   "execution_count": null,
   "id": "94c2a640-2be4-48eb-979b-4f55edb28b3d",
   "metadata": {},
   "outputs": [],
   "source": [
    "generic = ['toys', 'books', 'learning material', 'games', 'sports']"
   ]
  },
  {
   "cell_type": "code",
   "execution_count": null,
   "id": "c50fc700-daca-4d83-8dc1-3bcdaea8e1fd",
   "metadata": {},
   "outputs": [],
   "source": [
    "gender = ['boys', 'girls', 'neutral']"
   ]
  },
  {
   "cell_type": "markdown",
   "id": "37c5057b-6818-4436-afef-b97102a33cb2",
   "metadata": {},
   "source": [
    "## Scraping Functions"
   ]
  },
  {
   "cell_type": "markdown",
   "id": "49bfcd28-0a00-42ee-8dde-32c880aa6333",
   "metadata": {},
   "source": [
    "### Unique Identifier Function"
   ]
  },
  {
   "cell_type": "markdown",
   "id": "81ec75fc-ab03-4d78-99cd-15e7d13e9ccf",
   "metadata": {},
   "source": [
    "This function is used to scrape the EAN number for each toy."
   ]
  },
  {
   "cell_type": "code",
   "execution_count": null,
   "id": "72e33dc4-b079-45fe-8559-d42851f971cb",
   "metadata": {},
   "outputs": [],
   "source": [
    "def ean(driver):\n",
    "    ean_list = []\n",
    "    for index in range(1, 10):\n",
    "        eans = driver.find_elements('xpath', '//a[@aria-labelledby]')\n",
    "        for ean in eans:\n",
    "            ean_list.append(ean.get_attribute('aria-labelledby'))\n",
    "    return ean_list"
   ]
  },
  {
   "cell_type": "markdown",
   "id": "32283dbc-6b03-43da-a6f1-195fe90ab917",
   "metadata": {},
   "source": [
    "### Product Title Function"
   ]
  },
  {
   "cell_type": "markdown",
   "id": "f3aa7dd9-d558-484c-8801-927539295b56",
   "metadata": {},
   "source": [
    "This function is used to scrape the name of each toy."
   ]
  },
  {
   "cell_type": "code",
   "execution_count": null,
   "id": "643bfb87-ef85-4d4c-b21b-db678ec520d6",
   "metadata": {},
   "outputs": [],
   "source": [
    "def item_info(driver):\n",
    "    item = []\n",
    "    elem = driver.find_elements('xpath', \"//a[meta/@itemprop]\")\n",
    "    for i in elem:\n",
    "        item.append(i.text)\n",
    "    return item"
   ]
  },
  {
   "cell_type": "markdown",
   "id": "6d3503fd-2d32-42b5-9e20-4ca71a8b85e4",
   "metadata": {},
   "source": [
    "### Product Link Function"
   ]
  },
  {
   "cell_type": "markdown",
   "id": "c6befa7f-9e6f-457a-a0a0-e974f442ae8e",
   "metadata": {},
   "source": [
    "This function is used to scrape the associated links of each toy."
   ]
  },
  {
   "cell_type": "code",
   "execution_count": null,
   "id": "123efac1-785c-4690-a19f-e065adf9ed8a",
   "metadata": {},
   "outputs": [],
   "source": [
    "def item_link(driver):\n",
    "    href = []\n",
    "    links = driver.find_elements('xpath', \"//a[@data-test = 'component-product-card-link']\")\n",
    "    for link in links:\n",
    "        href.append(link.get_attribute('href'))\n",
    "    return href"
   ]
  },
  {
   "cell_type": "markdown",
   "id": "ea96a351-fbdd-4230-aaac-f316a93e4e97",
   "metadata": {},
   "source": [
    "### Search Function"
   ]
  },
  {
   "cell_type": "markdown",
   "id": "b9040b8a-c7c3-4e20-8d48-1e892d61246e",
   "metadata": {},
   "source": [
    "This function calls the above three functions, and runs them on each toy for all three queries (for boys, for girls, for kids)."
   ]
  },
  {
   "cell_type": "code",
   "execution_count": null,
   "id": "169415c6-51da-46c7-a899-3942b9afada5",
   "metadata": {},
   "outputs": [],
   "source": [
    "def search(item, who):\n",
    "    if who == 'neutral':\n",
    "        query = item + '-for-' + 'kids'\n",
    "    else:\n",
    "        query = item + '-for-' + who\n",
    "    driver.get(f'https://www.argos.co.uk/search/{query}/?clickOrigin=searchbar:home:term:{query}')\n",
    "    time.sleep(15)\n",
    "    list_ean = ean(driver)\n",
    "    item_list = item_info(driver)\n",
    "    item_page = item_link(driver)\n",
    "    return (list_ean, item_list), item_page"
   ]
  },
  {
   "cell_type": "markdown",
   "id": "8e8aabd6-1db8-42be-8585-a0b00ea9b42f",
   "metadata": {},
   "source": [
    "## Database Initialization"
   ]
  },
  {
   "cell_type": "markdown",
   "id": "c2a728d6-ae81-44da-9878-01931a916137",
   "metadata": {},
   "source": [
    "Initializing databases to store scraped data."
   ]
  },
  {
   "cell_type": "code",
   "execution_count": null,
   "id": "91e6f4cd-d647-461e-bdfe-651f124419b2",
   "metadata": {},
   "outputs": [],
   "source": [
    "columns1 = ['gender', 'query', 'result']\n",
    "qr = pd.DataFrame(columns=columns1)\n",
    "columns2 = ['gender', 'query', 'href']\n",
    "qr_link = pd.DataFrame(columns=columns2)"
   ]
  },
  {
   "cell_type": "markdown",
   "id": "65bd011c-a94b-4e1f-805e-1bbea2262df2",
   "metadata": {},
   "source": [
    "## Running Queries for Boys, Girls, and Kids (Neutral)"
   ]
  },
  {
   "cell_type": "markdown",
   "id": "0ca72148-e1c8-47dc-aa5d-4a968a4009a2",
   "metadata": {},
   "source": [
    "This code is used to scrape all relevant data from the toys included in all_items. As of right now, all_items is used on line 7 in order to run the code through the entire list of toys. Changing all_items with trial on line 7 will faciliate testing as this will run the code on a smaller sample size."
   ]
  },
  {
   "cell_type": "code",
   "execution_count": null,
   "id": "77ba24f1-7156-45ae-8dc2-1cb02ef2c21a",
   "metadata": {},
   "outputs": [],
   "source": [
    "warnings.filterwarnings('ignore')\n",
    "driver = webdriver.Chrome(ChromeDriverManager().install())\n",
    "data1 = []\n",
    "data2 = []\n",
    "item = ''\n",
    "for item in all_items:\n",
    "    for g in gender:\n",
    "        result, link = search(item, g)\n",
    "        values1 = [g, item, result]\n",
    "        values2 = [g, item, link]\n",
    "        zipped1 = zip(columns1, values1)\n",
    "        zipped2 = zip(columns2, values2)\n",
    "        a_dictionary1 = dict(zipped1)\n",
    "        a_dictionary2 = dict(zipped2)\n",
    "        time.sleep(15)\n",
    "        data1.append(a_dictionary1)\n",
    "        data2.append(a_dictionary2)\n",
    "driver.close()"
   ]
  },
  {
   "cell_type": "markdown",
   "id": "db86d6ea-40e9-4215-9f64-70d6bc7ce047",
   "metadata": {},
   "source": [
    "Appending EAN data to previously initialized dataframe."
   ]
  },
  {
   "cell_type": "code",
   "execution_count": null,
   "id": "f78b49a8-05df-4418-97ca-5de0a494182f",
   "metadata": {},
   "outputs": [],
   "source": [
    "qr = qr.append(data1, True)\n",
    "qr"
   ]
  },
  {
   "cell_type": "markdown",
   "id": "dae71988-7021-4f58-849d-7586ab85beec",
   "metadata": {},
   "source": [
    "Database of toys and their associated links."
   ]
  },
  {
   "cell_type": "code",
   "execution_count": null,
   "id": "e658670b-3f03-4e3d-9ffa-490f8c499e31",
   "metadata": {},
   "outputs": [],
   "source": [
    "qr_link = qr_link.append(data2, True)\n",
    "qr_link"
   ]
  },
  {
   "cell_type": "markdown",
   "id": "bd0ca9be-465d-4908-8676-264bd77b7d64",
   "metadata": {},
   "source": [
    "## Converting Data to CSV File"
   ]
  },
  {
   "cell_type": "code",
   "execution_count": null,
   "id": "69eac5bd-b50d-40a1-8cfc-87eb65514158",
   "metadata": {},
   "outputs": [],
   "source": [
    "argos_search_results = pd.DataFrame()"
   ]
  },
  {
   "cell_type": "code",
   "execution_count": null,
   "id": "071f52b4-19b9-43d9-9d1c-0a78aed24b88",
   "metadata": {},
   "outputs": [],
   "source": [
    "argos_search_results = argos_search_results.append(qr, ignore_index = True)\n",
    "# argos_search_results_link = argos_search_results_link.append(qr_link, ignore_index =True)"
   ]
  },
  {
   "cell_type": "code",
   "execution_count": null,
   "id": "0c1dfae8-2cd5-4c07-ae59-74d22758cb9c",
   "metadata": {},
   "outputs": [],
   "source": [
    "argos_search_results"
   ]
  },
  {
   "cell_type": "markdown",
   "id": "b18f6d9a-32c9-4d25-ad61-2e2a74a68275",
   "metadata": {},
   "source": [
    "Export data to CSV file."
   ]
  },
  {
   "cell_type": "code",
   "execution_count": null,
   "id": "d0d7e1ed-cba2-4ce4-8f56-3e94c3345482",
   "metadata": {},
   "outputs": [],
   "source": [
    "argos_search_results.to_csv('argos_search_results.csv', index = False)"
   ]
  }
 ],
 "metadata": {
  "kernelspec": {
   "display_name": "Python 3 (ipykernel)",
   "language": "python",
   "name": "python3"
  },
  "language_info": {
   "codemirror_mode": {
    "name": "ipython",
    "version": 3
   },
   "file_extension": ".py",
   "mimetype": "text/x-python",
   "name": "python",
   "nbconvert_exporter": "python",
   "pygments_lexer": "ipython3",
   "version": "3.10.6"
  }
 },
 "nbformat": 4,
 "nbformat_minor": 5
}
