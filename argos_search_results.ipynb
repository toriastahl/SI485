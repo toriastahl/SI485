{
 "cells": [
  {
   "cell_type": "markdown",
   "id": "f9a2edd2-bc2e-4e78-9d8f-db14ca30c01d",
   "metadata": {},
   "source": [
    "# Argos Search Results Notebook"
   ]
  },
  {
   "cell_type": "markdown",
   "id": "2f1c5770-5350-4421-a341-439c9d5b79ce",
   "metadata": {},
   "source": [
    "## Installations"
   ]
  },
  {
   "cell_type": "code",
   "execution_count": 1,
   "id": "b9070860-e499-4f02-ab17-b4bc3d2f9037",
   "metadata": {},
   "outputs": [
    {
     "name": "stdout",
     "output_type": "stream",
     "text": [
      "Requirement already satisfied: fake-useragent in /Users/tylercarvette/opt/anaconda3/envs/si370fa22/lib/python3.10/site-packages (1.1.1)\n",
      "Note: you may need to restart the kernel to use updated packages.\n"
     ]
    }
   ],
   "source": [
    "pip install fake-useragent"
   ]
  },
  {
   "cell_type": "code",
   "execution_count": 2,
   "id": "acf5e0c7-0f7d-4f9c-923c-80bd9c6ceb24",
   "metadata": {},
   "outputs": [],
   "source": [
    "import requests\n",
    "import json\n",
    "from fake_useragent import UserAgent"
   ]
  },
  {
   "cell_type": "code",
   "execution_count": 3,
   "id": "5381d322-76c8-4804-a681-6785b6858f79",
   "metadata": {},
   "outputs": [],
   "source": [
    "import pandas as pd\n",
    "import numpy as np"
   ]
  },
  {
   "cell_type": "code",
   "execution_count": 4,
   "id": "660045b5-fb19-4004-9e2e-b8046b61b16f",
   "metadata": {},
   "outputs": [
    {
     "name": "stdout",
     "output_type": "stream",
     "text": [
      "Requirement already satisfied: selectorlib in /Users/tylercarvette/opt/anaconda3/envs/si370fa22/lib/python3.10/site-packages (0.16.0)\n",
      "Requirement already satisfied: Click>=6.0 in /Users/tylercarvette/opt/anaconda3/envs/si370fa22/lib/python3.10/site-packages (from selectorlib) (8.0.4)\n",
      "Requirement already satisfied: pyyaml>=3.12 in /Users/tylercarvette/opt/anaconda3/envs/si370fa22/lib/python3.10/site-packages (from selectorlib) (6.0)\n",
      "Requirement already satisfied: parsel>=1.5.1 in /Users/tylercarvette/opt/anaconda3/envs/si370fa22/lib/python3.10/site-packages (from selectorlib) (1.7.0)\n",
      "Requirement already satisfied: cssselect>=0.9 in /Users/tylercarvette/opt/anaconda3/envs/si370fa22/lib/python3.10/site-packages (from parsel>=1.5.1->selectorlib) (1.2.0)\n",
      "Requirement already satisfied: lxml in /Users/tylercarvette/opt/anaconda3/envs/si370fa22/lib/python3.10/site-packages (from parsel>=1.5.1->selectorlib) (4.9.1)\n",
      "Requirement already satisfied: w3lib>=1.19.0 in /Users/tylercarvette/opt/anaconda3/envs/si370fa22/lib/python3.10/site-packages (from parsel>=1.5.1->selectorlib) (2.1.1)\n",
      "Requirement already satisfied: packaging in /Users/tylercarvette/opt/anaconda3/envs/si370fa22/lib/python3.10/site-packages (from parsel>=1.5.1->selectorlib) (21.3)\n",
      "Requirement already satisfied: pyparsing!=3.0.5,>=2.0.2 in /Users/tylercarvette/opt/anaconda3/envs/si370fa22/lib/python3.10/site-packages (from packaging->parsel>=1.5.1->selectorlib) (3.0.9)\n",
      "Note: you may need to restart the kernel to use updated packages.\n"
     ]
    }
   ],
   "source": [
    "pip install selectorlib"
   ]
  },
  {
   "cell_type": "code",
   "execution_count": 5,
   "id": "bd452286-f4a0-409d-9457-620a9382e5b6",
   "metadata": {},
   "outputs": [],
   "source": [
    "from selenium import webdriver\n",
    "from webdriver_manager.chrome import ChromeDriverManager\n",
    "from selenium.common.exceptions import NoSuchElementException\n",
    "from selectorlib import Extractor\n",
    "import time"
   ]
  },
  {
   "cell_type": "markdown",
   "id": "9327f8f2-f3ea-4f8d-b98d-7a176a330a13",
   "metadata": {},
   "source": [
    "## Loading Pre-Documented Gender Stereotyped Items"
   ]
  },
  {
   "cell_type": "code",
   "execution_count": 6,
   "id": "f9621c53-2738-4017-b681-806ca1dbebab",
   "metadata": {},
   "outputs": [
    {
     "data": {
      "text/html": [
       "<div>\n",
       "<style scoped>\n",
       "    .dataframe tbody tr th:only-of-type {\n",
       "        vertical-align: middle;\n",
       "    }\n",
       "\n",
       "    .dataframe tbody tr th {\n",
       "        vertical-align: top;\n",
       "    }\n",
       "\n",
       "    .dataframe thead th {\n",
       "        text-align: right;\n",
       "    }\n",
       "</style>\n",
       "<table border=\"1\" class=\"dataframe\">\n",
       "  <thead>\n",
       "    <tr style=\"text-align: right;\">\n",
       "      <th></th>\n",
       "      <th>BOY</th>\n",
       "      <th>GIRL</th>\n",
       "      <th>NEUTRAL</th>\n",
       "    </tr>\n",
       "  </thead>\n",
       "  <tbody>\n",
       "    <tr>\n",
       "      <th>0</th>\n",
       "      <td>vehicle toys</td>\n",
       "      <td>doll</td>\n",
       "      <td>toy animals</td>\n",
       "    </tr>\n",
       "    <tr>\n",
       "      <th>1</th>\n",
       "      <td>sport</td>\n",
       "      <td>domestic toys</td>\n",
       "      <td>books</td>\n",
       "    </tr>\n",
       "    <tr>\n",
       "      <th>2</th>\n",
       "      <td>military toys</td>\n",
       "      <td>educational art</td>\n",
       "      <td>educational teaching</td>\n",
       "    </tr>\n",
       "    <tr>\n",
       "      <th>3</th>\n",
       "      <td>race cars</td>\n",
       "      <td>clothes</td>\n",
       "      <td>musical games</td>\n",
       "    </tr>\n",
       "    <tr>\n",
       "      <th>4</th>\n",
       "      <td>outer space toys</td>\n",
       "      <td>dollhouses</td>\n",
       "      <td>games</td>\n",
       "    </tr>\n",
       "    <tr>\n",
       "      <th>...</th>\n",
       "      <td>...</td>\n",
       "      <td>...</td>\n",
       "      <td>...</td>\n",
       "    </tr>\n",
       "    <tr>\n",
       "      <th>67</th>\n",
       "      <td>toy rocket</td>\n",
       "      <td>barbie furniture set</td>\n",
       "      <td>NaN</td>\n",
       "    </tr>\n",
       "    <tr>\n",
       "      <th>68</th>\n",
       "      <td>soccer ball</td>\n",
       "      <td>NaN</td>\n",
       "      <td>NaN</td>\n",
       "    </tr>\n",
       "    <tr>\n",
       "      <th>69</th>\n",
       "      <td>blue ipad</td>\n",
       "      <td>pink ipad</td>\n",
       "      <td>NaN</td>\n",
       "    </tr>\n",
       "    <tr>\n",
       "      <th>70</th>\n",
       "      <td>toy robots</td>\n",
       "      <td>NaN</td>\n",
       "      <td>NaN</td>\n",
       "    </tr>\n",
       "    <tr>\n",
       "      <th>71</th>\n",
       "      <td>toy drones</td>\n",
       "      <td>NaN</td>\n",
       "      <td>NaN</td>\n",
       "    </tr>\n",
       "  </tbody>\n",
       "</table>\n",
       "<p>72 rows × 3 columns</p>\n",
       "</div>"
      ],
      "text/plain": [
       "                 BOY                  GIRL               NEUTRAL\n",
       "0       vehicle toys                  doll           toy animals\n",
       "1              sport         domestic toys                 books\n",
       "2      military toys       educational art  educational teaching\n",
       "3          race cars               clothes         musical games\n",
       "4   outer space toys            dollhouses                 games\n",
       "..               ...                   ...                   ...\n",
       "67        toy rocket  barbie furniture set                   NaN\n",
       "68       soccer ball                   NaN                   NaN\n",
       "69         blue ipad             pink ipad                   NaN\n",
       "70        toy robots                   NaN                   NaN\n",
       "71        toy drones                   NaN                   NaN\n",
       "\n",
       "[72 rows x 3 columns]"
      ]
     },
     "execution_count": 6,
     "metadata": {},
     "output_type": "execute_result"
    }
   ],
   "source": [
    "stereo_toys = pd.read_csv('predoc_stereotyped_items.csv', delimiter=',')\n",
    "stereo_toys"
   ]
  },
  {
   "cell_type": "code",
   "execution_count": 7,
   "id": "5a886d71-124b-46da-8677-c8ba313422a0",
   "metadata": {},
   "outputs": [],
   "source": [
    "with open('all_items.txt') as f:\n",
    "    all_items = f.read().splitlines()"
   ]
  },
  {
   "cell_type": "code",
   "execution_count": 8,
   "id": "47a4499b-87e5-4ccb-9299-30dc76d9e9a2",
   "metadata": {},
   "outputs": [
    {
     "data": {
      "text/plain": [
       "166"
      ]
     },
     "execution_count": 8,
     "metadata": {},
     "output_type": "execute_result"
    }
   ],
   "source": [
    "len(all_items)"
   ]
  },
  {
   "cell_type": "code",
   "execution_count": 9,
   "id": "abb1e190-5cd9-4f70-a0f2-a590a9f61d17",
   "metadata": {},
   "outputs": [
    {
     "data": {
      "text/plain": [
       "['legos', 'scooter', 'drum set', 'puzzles', 'board games', 'rock painting']"
      ]
     },
     "execution_count": 9,
     "metadata": {},
     "output_type": "execute_result"
    }
   ],
   "source": [
    "trial = all_items[160:]\n",
    "trial"
   ]
  },
  {
   "cell_type": "code",
   "execution_count": 10,
   "id": "94c2a640-2be4-48eb-979b-4f55edb28b3d",
   "metadata": {},
   "outputs": [],
   "source": [
    "generic = ['toys', 'books', 'learning material', 'games', 'sports']"
   ]
  },
  {
   "cell_type": "code",
   "execution_count": 11,
   "id": "c50fc700-daca-4d83-8dc1-3bcdaea8e1fd",
   "metadata": {},
   "outputs": [],
   "source": [
    "gender = ['boys', 'girls', 'neutral']"
   ]
  },
  {
   "cell_type": "markdown",
   "id": "37c5057b-6818-4436-afef-b97102a33cb2",
   "metadata": {},
   "source": [
    "## Search"
   ]
  },
  {
   "cell_type": "markdown",
   "id": "49bfcd28-0a00-42ee-8dde-32c880aa6333",
   "metadata": {},
   "source": [
    "### Collecting ASIN of Retrieved Products"
   ]
  },
  {
   "cell_type": "code",
   "execution_count": 34,
   "id": "72e33dc4-b079-45fe-8559-d42851f971cb",
   "metadata": {},
   "outputs": [],
   "source": [
    "def asin(driver):\n",
    "    asin_list = []\n",
    "    for index in range(1, 10):\n",
    "        asins = driver.find_elements('xpath','//a[@aria-labelledby]')\n",
    "        for asin in asins:\n",
    "            asin_list.append(asin.get_attribute('aria-labelledby'))\n",
    "    return asin_list"
   ]
  },
  {
   "cell_type": "markdown",
   "id": "32283dbc-6b03-43da-a6f1-195fe90ab917",
   "metadata": {},
   "source": [
    "### Get Title Information of Retrieved Products"
   ]
  },
  {
   "cell_type": "code",
   "execution_count": 64,
   "id": "643bfb87-ef85-4d4c-b21b-db678ec520d6",
   "metadata": {},
   "outputs": [],
   "source": [
    "from selenium.webdriver.common.by import By\n",
    "def item_info(driver):\n",
    "    item = []\n",
    "    elem = driver.find_elements('xpath', \"//a[@href]\")\n",
    "    for i in elem:\n",
    "        item.append(i.text)\n",
    "    return item"
   ]
  },
  {
   "cell_type": "markdown",
   "id": "6d3503fd-2d32-42b5-9e20-4ca71a8b85e4",
   "metadata": {},
   "source": [
    "### Collect Product Link of Retrieved Products"
   ]
  },
  {
   "cell_type": "code",
   "execution_count": 104,
   "id": "123efac1-785c-4690-a19f-e065adf9ed8a",
   "metadata": {},
   "outputs": [],
   "source": [
    "def item_link(driver):\n",
    "    href = []\n",
    "    links = driver.find_elements('xpath', \"//a[@data-test = 'component-product-card-link']\")\n",
    "    for link in links:\n",
    "        time.sleep(1.5)\n",
    "        href.append(link.get_attribute('href'))\n",
    "    return href"
   ]
  },
  {
   "cell_type": "markdown",
   "id": "ea96a351-fbdd-4230-aaac-f316a93e4e97",
   "metadata": {},
   "source": [
    "## Running Queries for Boys, Girls, and Neutral"
   ]
  },
  {
   "cell_type": "code",
   "execution_count": 105,
   "id": "169415c6-51da-46c7-a899-3942b9afada5",
   "metadata": {},
   "outputs": [],
   "source": [
    "def search(item, who):\n",
    "    if who == 'neutral':\n",
    "        query = item + '-for-' + 'kids'\n",
    "    else:\n",
    "        query = item + '-for-' + who\n",
    "    driver.get(f'https://www.argos.co.uk/search/{query}/?clickOrigin=searchbar:home:term:{query}')\n",
    "    list_asin = asin(driver)\n",
    "    item_list = item_info(driver)\n",
    "    item_page = item_link(driver)\n",
    "    return (list_asin, item_list), item_page"
   ]
  },
  {
   "cell_type": "code",
   "execution_count": 106,
   "id": "91e6f4cd-d647-461e-bdfe-651f124419b2",
   "metadata": {},
   "outputs": [],
   "source": [
    "columns1 = ['gender', 'query', 'result']\n",
    "qr = pd.DataFrame(columns=columns1)\n",
    "columns2 = ['gender', 'query', 'href']\n",
    "qr_link = pd.DataFrame(columns=columns2)"
   ]
  },
  {
   "cell_type": "code",
   "execution_count": 107,
   "id": "c156290f-6b45-4898-b66b-bc2f28628c4c",
   "metadata": {},
   "outputs": [
    {
     "data": {
      "text/plain": [
       "['legos', 'scooter', 'drum set', 'puzzles', 'board games', 'rock painting']"
      ]
     },
     "execution_count": 107,
     "metadata": {},
     "output_type": "execute_result"
    }
   ],
   "source": [
    "trial"
   ]
  },
  {
   "cell_type": "code",
   "execution_count": 108,
   "id": "b5c12dff-f50f-4b2b-9a89-cf5cf5d3f719",
   "metadata": {},
   "outputs": [
    {
     "data": {
      "text/plain": [
       "6"
      ]
     },
     "execution_count": 108,
     "metadata": {},
     "output_type": "execute_result"
    }
   ],
   "source": [
    "len(trial)"
   ]
  },
  {
   "cell_type": "markdown",
   "id": "65bd011c-a94b-4e1f-805e-1bbea2262df2",
   "metadata": {},
   "source": [
    "## Running Queries in a Loop"
   ]
  },
  {
   "cell_type": "code",
   "execution_count": 109,
   "id": "bf923ffa-5ffe-4e56-9a45-f8c32c5d2936",
   "metadata": {},
   "outputs": [],
   "source": [
    "import warnings\n",
    "warnings.filterwarnings('ignore')\n",
    "driver = webdriver.Chrome(ChromeDriverManager().install())\n",
    "data1 = []\n",
    "data2 = []\n",
    "item = ''\n",
    "for item in trial:\n",
    "    for g in gender:\n",
    "        result, link = search(item, g)\n",
    "        values1 = [g, item, result]\n",
    "        values2 = [g, item, link]\n",
    "        zipped1 = zip(columns1, values1)\n",
    "        zipped2 = zip(columns2, values2)\n",
    "        a_dictionary1 = dict(zipped1)\n",
    "        a_dictionary2 = dict(zipped2)\n",
    "        time.sleep(1.5)\n",
    "        data1.append(a_dictionary1)\n",
    "        data2.append(a_dictionary2)\n",
    "driver.close()"
   ]
  },
  {
   "cell_type": "code",
   "execution_count": 110,
   "id": "f78b49a8-05df-4418-97ca-5de0a494182f",
   "metadata": {},
   "outputs": [
    {
     "data": {
      "text/html": [
       "<div>\n",
       "<style scoped>\n",
       "    .dataframe tbody tr th:only-of-type {\n",
       "        vertical-align: middle;\n",
       "    }\n",
       "\n",
       "    .dataframe tbody tr th {\n",
       "        vertical-align: top;\n",
       "    }\n",
       "\n",
       "    .dataframe thead th {\n",
       "        text-align: right;\n",
       "    }\n",
       "</style>\n",
       "<table border=\"1\" class=\"dataframe\">\n",
       "  <thead>\n",
       "    <tr style=\"text-align: right;\">\n",
       "      <th></th>\n",
       "      <th>gender</th>\n",
       "      <th>query</th>\n",
       "      <th>result</th>\n",
       "    </tr>\n",
       "  </thead>\n",
       "  <tbody>\n",
       "    <tr>\n",
       "      <th>0</th>\n",
       "      <td>boys</td>\n",
       "      <td>legos</td>\n",
       "      <td>([product-title-9567867, product-title-1404203...</td>\n",
       "    </tr>\n",
       "    <tr>\n",
       "      <th>1</th>\n",
       "      <td>girls</td>\n",
       "      <td>legos</td>\n",
       "      <td>([product-title-9567867, product-title-1404203...</td>\n",
       "    </tr>\n",
       "    <tr>\n",
       "      <th>2</th>\n",
       "      <td>neutral</td>\n",
       "      <td>legos</td>\n",
       "      <td>([product-title-9568206, product-title-9632709...</td>\n",
       "    </tr>\n",
       "    <tr>\n",
       "      <th>3</th>\n",
       "      <td>boys</td>\n",
       "      <td>scooter</td>\n",
       "      <td>([product-title-8936372, product-title-8880916...</td>\n",
       "    </tr>\n",
       "    <tr>\n",
       "      <th>4</th>\n",
       "      <td>girls</td>\n",
       "      <td>scooter</td>\n",
       "      <td>([product-title-8936372, product-title-8880916...</td>\n",
       "    </tr>\n",
       "    <tr>\n",
       "      <th>5</th>\n",
       "      <td>neutral</td>\n",
       "      <td>scooter</td>\n",
       "      <td>([product-title-2073279, product-title-9424443...</td>\n",
       "    </tr>\n",
       "    <tr>\n",
       "      <th>6</th>\n",
       "      <td>boys</td>\n",
       "      <td>drum set</td>\n",
       "      <td>([product-title-7248937, product-title-1308378...</td>\n",
       "    </tr>\n",
       "    <tr>\n",
       "      <th>7</th>\n",
       "      <td>girls</td>\n",
       "      <td>drum set</td>\n",
       "      <td>([product-title-7248937, product-title-9654574...</td>\n",
       "    </tr>\n",
       "    <tr>\n",
       "      <th>8</th>\n",
       "      <td>neutral</td>\n",
       "      <td>drum set</td>\n",
       "      <td>([product-title-7248937, product-title-5318838...</td>\n",
       "    </tr>\n",
       "    <tr>\n",
       "      <th>9</th>\n",
       "      <td>boys</td>\n",
       "      <td>puzzles</td>\n",
       "      <td>([product-title-9393457, product-title-8803041...</td>\n",
       "    </tr>\n",
       "    <tr>\n",
       "      <th>10</th>\n",
       "      <td>girls</td>\n",
       "      <td>puzzles</td>\n",
       "      <td>([product-title-4191018, product-title-9393457...</td>\n",
       "    </tr>\n",
       "    <tr>\n",
       "      <th>11</th>\n",
       "      <td>neutral</td>\n",
       "      <td>puzzles</td>\n",
       "      <td>([product-title-9407965, product-title-9393457...</td>\n",
       "    </tr>\n",
       "    <tr>\n",
       "      <th>12</th>\n",
       "      <td>boys</td>\n",
       "      <td>board games</td>\n",
       "      <td>([product-title-3907306, product-title-3900468...</td>\n",
       "    </tr>\n",
       "    <tr>\n",
       "      <th>13</th>\n",
       "      <td>girls</td>\n",
       "      <td>board games</td>\n",
       "      <td>([product-title-3907306, product-title-3900468...</td>\n",
       "    </tr>\n",
       "    <tr>\n",
       "      <th>14</th>\n",
       "      <td>neutral</td>\n",
       "      <td>board games</td>\n",
       "      <td>([product-title-4849731, product-title-2687421...</td>\n",
       "    </tr>\n",
       "    <tr>\n",
       "      <th>15</th>\n",
       "      <td>boys</td>\n",
       "      <td>rock painting</td>\n",
       "      <td>([product-title-9493113, product-title-9493113...</td>\n",
       "    </tr>\n",
       "    <tr>\n",
       "      <th>16</th>\n",
       "      <td>girls</td>\n",
       "      <td>rock painting</td>\n",
       "      <td>([product-title-9493113, product-title-9493113...</td>\n",
       "    </tr>\n",
       "    <tr>\n",
       "      <th>17</th>\n",
       "      <td>neutral</td>\n",
       "      <td>rock painting</td>\n",
       "      <td>([product-title-5318838, product-title-9493113...</td>\n",
       "    </tr>\n",
       "  </tbody>\n",
       "</table>\n",
       "</div>"
      ],
      "text/plain": [
       "     gender          query                                             result\n",
       "0      boys          legos  ([product-title-9567867, product-title-1404203...\n",
       "1     girls          legos  ([product-title-9567867, product-title-1404203...\n",
       "2   neutral          legos  ([product-title-9568206, product-title-9632709...\n",
       "3      boys        scooter  ([product-title-8936372, product-title-8880916...\n",
       "4     girls        scooter  ([product-title-8936372, product-title-8880916...\n",
       "5   neutral        scooter  ([product-title-2073279, product-title-9424443...\n",
       "6      boys       drum set  ([product-title-7248937, product-title-1308378...\n",
       "7     girls       drum set  ([product-title-7248937, product-title-9654574...\n",
       "8   neutral       drum set  ([product-title-7248937, product-title-5318838...\n",
       "9      boys        puzzles  ([product-title-9393457, product-title-8803041...\n",
       "10    girls        puzzles  ([product-title-4191018, product-title-9393457...\n",
       "11  neutral        puzzles  ([product-title-9407965, product-title-9393457...\n",
       "12     boys    board games  ([product-title-3907306, product-title-3900468...\n",
       "13    girls    board games  ([product-title-3907306, product-title-3900468...\n",
       "14  neutral    board games  ([product-title-4849731, product-title-2687421...\n",
       "15     boys  rock painting  ([product-title-9493113, product-title-9493113...\n",
       "16    girls  rock painting  ([product-title-9493113, product-title-9493113...\n",
       "17  neutral  rock painting  ([product-title-5318838, product-title-9493113..."
      ]
     },
     "execution_count": 110,
     "metadata": {},
     "output_type": "execute_result"
    }
   ],
   "source": [
    "qr = qr.append(data1, True)\n",
    "qr"
   ]
  },
  {
   "cell_type": "code",
   "execution_count": 111,
   "id": "e658670b-3f03-4e3d-9ffa-490f8c499e31",
   "metadata": {},
   "outputs": [
    {
     "data": {
      "text/html": [
       "<div>\n",
       "<style scoped>\n",
       "    .dataframe tbody tr th:only-of-type {\n",
       "        vertical-align: middle;\n",
       "    }\n",
       "\n",
       "    .dataframe tbody tr th {\n",
       "        vertical-align: top;\n",
       "    }\n",
       "\n",
       "    .dataframe thead th {\n",
       "        text-align: right;\n",
       "    }\n",
       "</style>\n",
       "<table border=\"1\" class=\"dataframe\">\n",
       "  <thead>\n",
       "    <tr style=\"text-align: right;\">\n",
       "      <th></th>\n",
       "      <th>gender</th>\n",
       "      <th>query</th>\n",
       "      <th>href</th>\n",
       "    </tr>\n",
       "  </thead>\n",
       "  <tbody>\n",
       "    <tr>\n",
       "      <th>0</th>\n",
       "      <td>boys</td>\n",
       "      <td>legos</td>\n",
       "      <td>[https://www.argos.co.uk/product/9567867?click...</td>\n",
       "    </tr>\n",
       "    <tr>\n",
       "      <th>1</th>\n",
       "      <td>girls</td>\n",
       "      <td>legos</td>\n",
       "      <td>[https://www.argos.co.uk/product/9567867?click...</td>\n",
       "    </tr>\n",
       "    <tr>\n",
       "      <th>2</th>\n",
       "      <td>neutral</td>\n",
       "      <td>legos</td>\n",
       "      <td>[https://www.argos.co.uk/product/9568206?click...</td>\n",
       "    </tr>\n",
       "    <tr>\n",
       "      <th>3</th>\n",
       "      <td>boys</td>\n",
       "      <td>scooter</td>\n",
       "      <td>[https://www.argos.co.uk/product/8936372?click...</td>\n",
       "    </tr>\n",
       "    <tr>\n",
       "      <th>4</th>\n",
       "      <td>girls</td>\n",
       "      <td>scooter</td>\n",
       "      <td>[https://www.argos.co.uk/product/8936372?click...</td>\n",
       "    </tr>\n",
       "    <tr>\n",
       "      <th>5</th>\n",
       "      <td>neutral</td>\n",
       "      <td>scooter</td>\n",
       "      <td>[https://www.argos.co.uk/product/2073279?click...</td>\n",
       "    </tr>\n",
       "    <tr>\n",
       "      <th>6</th>\n",
       "      <td>boys</td>\n",
       "      <td>drum set</td>\n",
       "      <td>[https://www.argos.co.uk/product/7248937?click...</td>\n",
       "    </tr>\n",
       "    <tr>\n",
       "      <th>7</th>\n",
       "      <td>girls</td>\n",
       "      <td>drum set</td>\n",
       "      <td>[https://www.argos.co.uk/product/7248937?click...</td>\n",
       "    </tr>\n",
       "    <tr>\n",
       "      <th>8</th>\n",
       "      <td>neutral</td>\n",
       "      <td>drum set</td>\n",
       "      <td>[https://www.argos.co.uk/product/7248937?click...</td>\n",
       "    </tr>\n",
       "    <tr>\n",
       "      <th>9</th>\n",
       "      <td>boys</td>\n",
       "      <td>puzzles</td>\n",
       "      <td>[https://www.argos.co.uk/product/9393457?click...</td>\n",
       "    </tr>\n",
       "    <tr>\n",
       "      <th>10</th>\n",
       "      <td>girls</td>\n",
       "      <td>puzzles</td>\n",
       "      <td>[https://www.argos.co.uk/product/4191018?click...</td>\n",
       "    </tr>\n",
       "    <tr>\n",
       "      <th>11</th>\n",
       "      <td>neutral</td>\n",
       "      <td>puzzles</td>\n",
       "      <td>[https://www.argos.co.uk/product/9407965?click...</td>\n",
       "    </tr>\n",
       "    <tr>\n",
       "      <th>12</th>\n",
       "      <td>boys</td>\n",
       "      <td>board games</td>\n",
       "      <td>[https://www.argos.co.uk/product/3907306?click...</td>\n",
       "    </tr>\n",
       "    <tr>\n",
       "      <th>13</th>\n",
       "      <td>girls</td>\n",
       "      <td>board games</td>\n",
       "      <td>[https://www.argos.co.uk/product/3907306?click...</td>\n",
       "    </tr>\n",
       "    <tr>\n",
       "      <th>14</th>\n",
       "      <td>neutral</td>\n",
       "      <td>board games</td>\n",
       "      <td>[https://www.argos.co.uk/product/4849731?click...</td>\n",
       "    </tr>\n",
       "    <tr>\n",
       "      <th>15</th>\n",
       "      <td>boys</td>\n",
       "      <td>rock painting</td>\n",
       "      <td>[https://www.argos.co.uk/product/9493113?click...</td>\n",
       "    </tr>\n",
       "    <tr>\n",
       "      <th>16</th>\n",
       "      <td>girls</td>\n",
       "      <td>rock painting</td>\n",
       "      <td>[https://www.argos.co.uk/product/9493113?click...</td>\n",
       "    </tr>\n",
       "    <tr>\n",
       "      <th>17</th>\n",
       "      <td>neutral</td>\n",
       "      <td>rock painting</td>\n",
       "      <td>[https://www.argos.co.uk/product/5318838?click...</td>\n",
       "    </tr>\n",
       "  </tbody>\n",
       "</table>\n",
       "</div>"
      ],
      "text/plain": [
       "     gender          query                                               href\n",
       "0      boys          legos  [https://www.argos.co.uk/product/9567867?click...\n",
       "1     girls          legos  [https://www.argos.co.uk/product/9567867?click...\n",
       "2   neutral          legos  [https://www.argos.co.uk/product/9568206?click...\n",
       "3      boys        scooter  [https://www.argos.co.uk/product/8936372?click...\n",
       "4     girls        scooter  [https://www.argos.co.uk/product/8936372?click...\n",
       "5   neutral        scooter  [https://www.argos.co.uk/product/2073279?click...\n",
       "6      boys       drum set  [https://www.argos.co.uk/product/7248937?click...\n",
       "7     girls       drum set  [https://www.argos.co.uk/product/7248937?click...\n",
       "8   neutral       drum set  [https://www.argos.co.uk/product/7248937?click...\n",
       "9      boys        puzzles  [https://www.argos.co.uk/product/9393457?click...\n",
       "10    girls        puzzles  [https://www.argos.co.uk/product/4191018?click...\n",
       "11  neutral        puzzles  [https://www.argos.co.uk/product/9407965?click...\n",
       "12     boys    board games  [https://www.argos.co.uk/product/3907306?click...\n",
       "13    girls    board games  [https://www.argos.co.uk/product/3907306?click...\n",
       "14  neutral    board games  [https://www.argos.co.uk/product/4849731?click...\n",
       "15     boys  rock painting  [https://www.argos.co.uk/product/9493113?click...\n",
       "16    girls  rock painting  [https://www.argos.co.uk/product/9493113?click...\n",
       "17  neutral  rock painting  [https://www.argos.co.uk/product/5318838?click..."
      ]
     },
     "execution_count": 111,
     "metadata": {},
     "output_type": "execute_result"
    }
   ],
   "source": [
    "qr_link = qr_link.append(data2, True)\n",
    "qr_link"
   ]
  },
  {
   "cell_type": "code",
   "execution_count": 118,
   "id": "4d790fff-81ef-47ef-a679-1994374f3ba5",
   "metadata": {},
   "outputs": [
    {
     "data": {
      "text/plain": [
       "['https://www.argos.co.uk/product/9567867?clickSR=slp:term:legos%20for%20girls:1:461:1',\n",
       " 'https://www.argos.co.uk/product/1404203?clickSR=slp:term:legos%20for%20girls:2:461:1',\n",
       " 'https://www.argos.co.uk/product/3042711?clickSR=slp:term:legos%20for%20girls:3:461:1',\n",
       " 'https://www.argos.co.uk/product/9618675?clickSR=slp:term:legos%20for%20girls:4:461:1',\n",
       " 'https://www.argos.co.uk/product/1403871?clickSR=slp:term:legos%20for%20girls:5:461:1',\n",
       " 'https://www.argos.co.uk/product/1461442?clickSR=slp:term:legos%20for%20girls:6:461:1',\n",
       " 'https://www.argos.co.uk/product/1403307?clickSR=slp:term:legos%20for%20girls:7:461:1',\n",
       " 'https://www.argos.co.uk/product/1404210?clickSR=slp:term:legos%20for%20girls:8:461:1',\n",
       " 'https://www.argos.co.uk/product/9403938?clickSR=slp:term:legos%20for%20girls:9:461:1',\n",
       " 'https://www.argos.co.uk/product/9654196?clickSR=slp:term:legos%20for%20girls:10:461:1',\n",
       " 'https://www.argos.co.uk/product/9552432?clickSR=slp:term:legos%20for%20girls:11:461:1',\n",
       " 'https://www.argos.co.uk/product/8863342?clickSR=slp:term:legos%20for%20girls:12:461:1',\n",
       " 'https://www.argos.co.uk/product/9625637?clickSR=slp:term:legos%20for%20girls:13:461:1',\n",
       " 'https://www.argos.co.uk/product/1403998?clickSR=slp:term:legos%20for%20girls:14:461:1',\n",
       " 'https://www.argos.co.uk/product/9700071?clickSR=slp:term:legos%20for%20girls:15:461:1',\n",
       " 'https://www.argos.co.uk/product/4663869?clickSR=slp:term:legos%20for%20girls:16:461:1',\n",
       " 'https://www.argos.co.uk/product/9495207?clickSR=slp:term:legos%20for%20girls:17:461:1',\n",
       " 'https://www.argos.co.uk/product/2018375?clickSR=slp:term:legos%20for%20girls:18:461:1',\n",
       " 'https://www.argos.co.uk/product/1404227?clickSR=slp:term:legos%20for%20girls:19:461:1',\n",
       " 'https://www.argos.co.uk/product/1403682?clickSR=slp:term:legos%20for%20girls:20:461:1',\n",
       " 'https://www.argos.co.uk/product/1403895?clickSR=slp:term:legos%20for%20girls:21:461:1',\n",
       " 'https://www.argos.co.uk/product/9235319?clickSR=slp:term:legos%20for%20girls:22:461:1',\n",
       " 'https://www.argos.co.uk/product/9537347?clickSR=slp:term:legos%20for%20girls:23:461:1',\n",
       " 'https://www.argos.co.uk/product/9647347?clickSR=slp:term:legos%20for%20girls:24:461:1',\n",
       " 'https://www.argos.co.uk/product/9568206?clickSR=slp:term:legos%20for%20girls:25:461:1',\n",
       " 'https://www.argos.co.uk/product/7161014?clickSR=slp:term:legos%20for%20girls:26:461:1',\n",
       " 'https://www.argos.co.uk/product/9572890?clickSR=slp:term:legos%20for%20girls:27:461:1',\n",
       " 'https://www.argos.co.uk/product/1404155?clickSR=slp:term:legos%20for%20girls:28:461:1',\n",
       " 'https://www.argos.co.uk/product/9688155?clickSR=slp:term:legos%20for%20girls:29:461:1',\n",
       " 'https://www.argos.co.uk/product/1403503?clickSR=slp:term:legos%20for%20girls:30:461:1']"
      ]
     },
     "execution_count": 118,
     "metadata": {},
     "output_type": "execute_result"
    }
   ],
   "source": [
    "qr_link.href[1]"
   ]
  },
  {
   "cell_type": "code",
   "execution_count": 113,
   "id": "69eac5bd-b50d-40a1-8cfc-87eb65514158",
   "metadata": {},
   "outputs": [],
   "source": [
    "first20 = pd.DataFrame()"
   ]
  },
  {
   "cell_type": "code",
   "execution_count": 114,
   "id": "071f52b4-19b9-43d9-9d1c-0a78aed24b88",
   "metadata": {},
   "outputs": [],
   "source": [
    "first20 = first20.append(qr, ignore_index = True)"
   ]
  },
  {
   "cell_type": "code",
   "execution_count": 115,
   "id": "0c1dfae8-2cd5-4c07-ae59-74d22758cb9c",
   "metadata": {},
   "outputs": [
    {
     "data": {
      "text/html": [
       "<div>\n",
       "<style scoped>\n",
       "    .dataframe tbody tr th:only-of-type {\n",
       "        vertical-align: middle;\n",
       "    }\n",
       "\n",
       "    .dataframe tbody tr th {\n",
       "        vertical-align: top;\n",
       "    }\n",
       "\n",
       "    .dataframe thead th {\n",
       "        text-align: right;\n",
       "    }\n",
       "</style>\n",
       "<table border=\"1\" class=\"dataframe\">\n",
       "  <thead>\n",
       "    <tr style=\"text-align: right;\">\n",
       "      <th></th>\n",
       "      <th>gender</th>\n",
       "      <th>query</th>\n",
       "      <th>result</th>\n",
       "    </tr>\n",
       "  </thead>\n",
       "  <tbody>\n",
       "    <tr>\n",
       "      <th>0</th>\n",
       "      <td>boys</td>\n",
       "      <td>legos</td>\n",
       "      <td>([product-title-9567867, product-title-1404203...</td>\n",
       "    </tr>\n",
       "    <tr>\n",
       "      <th>1</th>\n",
       "      <td>girls</td>\n",
       "      <td>legos</td>\n",
       "      <td>([product-title-9567867, product-title-1404203...</td>\n",
       "    </tr>\n",
       "    <tr>\n",
       "      <th>2</th>\n",
       "      <td>neutral</td>\n",
       "      <td>legos</td>\n",
       "      <td>([product-title-9568206, product-title-9632709...</td>\n",
       "    </tr>\n",
       "    <tr>\n",
       "      <th>3</th>\n",
       "      <td>boys</td>\n",
       "      <td>scooter</td>\n",
       "      <td>([product-title-8936372, product-title-8880916...</td>\n",
       "    </tr>\n",
       "    <tr>\n",
       "      <th>4</th>\n",
       "      <td>girls</td>\n",
       "      <td>scooter</td>\n",
       "      <td>([product-title-8936372, product-title-8880916...</td>\n",
       "    </tr>\n",
       "    <tr>\n",
       "      <th>5</th>\n",
       "      <td>neutral</td>\n",
       "      <td>scooter</td>\n",
       "      <td>([product-title-2073279, product-title-9424443...</td>\n",
       "    </tr>\n",
       "    <tr>\n",
       "      <th>6</th>\n",
       "      <td>boys</td>\n",
       "      <td>drum set</td>\n",
       "      <td>([product-title-7248937, product-title-1308378...</td>\n",
       "    </tr>\n",
       "    <tr>\n",
       "      <th>7</th>\n",
       "      <td>girls</td>\n",
       "      <td>drum set</td>\n",
       "      <td>([product-title-7248937, product-title-9654574...</td>\n",
       "    </tr>\n",
       "    <tr>\n",
       "      <th>8</th>\n",
       "      <td>neutral</td>\n",
       "      <td>drum set</td>\n",
       "      <td>([product-title-7248937, product-title-5318838...</td>\n",
       "    </tr>\n",
       "    <tr>\n",
       "      <th>9</th>\n",
       "      <td>boys</td>\n",
       "      <td>puzzles</td>\n",
       "      <td>([product-title-9393457, product-title-8803041...</td>\n",
       "    </tr>\n",
       "    <tr>\n",
       "      <th>10</th>\n",
       "      <td>girls</td>\n",
       "      <td>puzzles</td>\n",
       "      <td>([product-title-4191018, product-title-9393457...</td>\n",
       "    </tr>\n",
       "    <tr>\n",
       "      <th>11</th>\n",
       "      <td>neutral</td>\n",
       "      <td>puzzles</td>\n",
       "      <td>([product-title-9407965, product-title-9393457...</td>\n",
       "    </tr>\n",
       "    <tr>\n",
       "      <th>12</th>\n",
       "      <td>boys</td>\n",
       "      <td>board games</td>\n",
       "      <td>([product-title-3907306, product-title-3900468...</td>\n",
       "    </tr>\n",
       "    <tr>\n",
       "      <th>13</th>\n",
       "      <td>girls</td>\n",
       "      <td>board games</td>\n",
       "      <td>([product-title-3907306, product-title-3900468...</td>\n",
       "    </tr>\n",
       "    <tr>\n",
       "      <th>14</th>\n",
       "      <td>neutral</td>\n",
       "      <td>board games</td>\n",
       "      <td>([product-title-4849731, product-title-2687421...</td>\n",
       "    </tr>\n",
       "    <tr>\n",
       "      <th>15</th>\n",
       "      <td>boys</td>\n",
       "      <td>rock painting</td>\n",
       "      <td>([product-title-9493113, product-title-9493113...</td>\n",
       "    </tr>\n",
       "    <tr>\n",
       "      <th>16</th>\n",
       "      <td>girls</td>\n",
       "      <td>rock painting</td>\n",
       "      <td>([product-title-9493113, product-title-9493113...</td>\n",
       "    </tr>\n",
       "    <tr>\n",
       "      <th>17</th>\n",
       "      <td>neutral</td>\n",
       "      <td>rock painting</td>\n",
       "      <td>([product-title-5318838, product-title-9493113...</td>\n",
       "    </tr>\n",
       "  </tbody>\n",
       "</table>\n",
       "</div>"
      ],
      "text/plain": [
       "     gender          query                                             result\n",
       "0      boys          legos  ([product-title-9567867, product-title-1404203...\n",
       "1     girls          legos  ([product-title-9567867, product-title-1404203...\n",
       "2   neutral          legos  ([product-title-9568206, product-title-9632709...\n",
       "3      boys        scooter  ([product-title-8936372, product-title-8880916...\n",
       "4     girls        scooter  ([product-title-8936372, product-title-8880916...\n",
       "5   neutral        scooter  ([product-title-2073279, product-title-9424443...\n",
       "6      boys       drum set  ([product-title-7248937, product-title-1308378...\n",
       "7     girls       drum set  ([product-title-7248937, product-title-9654574...\n",
       "8   neutral       drum set  ([product-title-7248937, product-title-5318838...\n",
       "9      boys        puzzles  ([product-title-9393457, product-title-8803041...\n",
       "10    girls        puzzles  ([product-title-4191018, product-title-9393457...\n",
       "11  neutral        puzzles  ([product-title-9407965, product-title-9393457...\n",
       "12     boys    board games  ([product-title-3907306, product-title-3900468...\n",
       "13    girls    board games  ([product-title-3907306, product-title-3900468...\n",
       "14  neutral    board games  ([product-title-4849731, product-title-2687421...\n",
       "15     boys  rock painting  ([product-title-9493113, product-title-9493113...\n",
       "16    girls  rock painting  ([product-title-9493113, product-title-9493113...\n",
       "17  neutral  rock painting  ([product-title-5318838, product-title-9493113..."
      ]
     },
     "execution_count": 115,
     "metadata": {},
     "output_type": "execute_result"
    }
   ],
   "source": [
    "first20"
   ]
  },
  {
   "cell_type": "code",
   "execution_count": 116,
   "id": "33ac38b7-ddc0-4660-8553-1a26901e805d",
   "metadata": {},
   "outputs": [
    {
     "data": {
      "text/plain": [
       "228"
      ]
     },
     "execution_count": 116,
     "metadata": {},
     "output_type": "execute_result"
    }
   ],
   "source": [
    "len(first20.loc[0]['result'][1])"
   ]
  },
  {
   "cell_type": "code",
   "execution_count": 117,
   "id": "d0d7e1ed-cba2-4ce4-8f56-3e94c3345482",
   "metadata": {},
   "outputs": [],
   "source": [
    "first20.to_csv('item_results.csv', index = False)"
   ]
  },
  {
   "cell_type": "code",
   "execution_count": null,
   "id": "fd8d66ea-9b69-4bff-a49e-892fbd9c019d",
   "metadata": {},
   "outputs": [],
   "source": []
  },
  {
   "cell_type": "code",
   "execution_count": null,
   "id": "e4acbdf1-ea19-4cd8-b970-dc75f2c27378",
   "metadata": {},
   "outputs": [],
   "source": []
  },
  {
   "cell_type": "code",
   "execution_count": null,
   "id": "47370c99-99d4-4f50-9c4e-e1caf93d3fda",
   "metadata": {},
   "outputs": [],
   "source": []
  }
 ],
 "metadata": {
  "kernelspec": {
   "display_name": "Python 3 (ipykernel)",
   "language": "python",
   "name": "python3"
  },
  "language_info": {
   "codemirror_mode": {
    "name": "ipython",
    "version": 3
   },
   "file_extension": ".py",
   "mimetype": "text/x-python",
   "name": "python",
   "nbconvert_exporter": "python",
   "pygments_lexer": "ipython3",
   "version": "3.10.6"
  }
 },
 "nbformat": 4,
 "nbformat_minor": 5
}
