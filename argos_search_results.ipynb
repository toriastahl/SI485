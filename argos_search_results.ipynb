{
 "cells": [
  {
   "cell_type": "markdown",
   "id": "f9a2edd2-bc2e-4e78-9d8f-db14ca30c01d",
   "metadata": {},
   "source": [
    "# Argos Search Results Notebook"
   ]
  },
  {
   "cell_type": "markdown",
   "id": "2f1c5770-5350-4421-a341-439c9d5b79ce",
   "metadata": {},
   "source": [
    "## Installations"
   ]
  },
  {
   "cell_type": "code",
   "execution_count": 105,
   "id": "acf5e0c7-0f7d-4f9c-923c-80bd9c6ceb24",
   "metadata": {},
   "outputs": [],
   "source": [
    "import requests\n",
    "import json\n",
    "from fake_useragent import UserAgent"
   ]
  },
  {
   "cell_type": "code",
   "execution_count": 106,
   "id": "5381d322-76c8-4804-a681-6785b6858f79",
   "metadata": {},
   "outputs": [],
   "source": [
    "import pandas as pd\n",
    "import numpy as np"
   ]
  },
  {
   "cell_type": "code",
   "execution_count": 107,
   "id": "bd452286-f4a0-409d-9457-620a9382e5b6",
   "metadata": {},
   "outputs": [],
   "source": [
    "from selenium import webdriver\n",
    "from webdriver_manager.chrome import ChromeDriverManager\n",
    "from selenium.common.exceptions import NoSuchElementException\n",
    "from selectorlib import Extractor\n",
    "import time"
   ]
  },
  {
   "cell_type": "code",
   "execution_count": 108,
   "id": "8aafffe2-7926-4e0c-8082-6f8ce09b3906",
   "metadata": {},
   "outputs": [],
   "source": [
    "from selenium.webdriver.support.ui import WebDriverWait"
   ]
  },
  {
   "cell_type": "markdown",
   "id": "9327f8f2-f3ea-4f8d-b98d-7a176a330a13",
   "metadata": {},
   "source": [
    "## Loading Pre-Documented Gender Stereotyped Items"
   ]
  },
  {
   "cell_type": "code",
   "execution_count": 109,
   "id": "f9621c53-2738-4017-b681-806ca1dbebab",
   "metadata": {},
   "outputs": [
    {
     "data": {
      "text/html": [
       "<div>\n",
       "<style scoped>\n",
       "    .dataframe tbody tr th:only-of-type {\n",
       "        vertical-align: middle;\n",
       "    }\n",
       "\n",
       "    .dataframe tbody tr th {\n",
       "        vertical-align: top;\n",
       "    }\n",
       "\n",
       "    .dataframe thead th {\n",
       "        text-align: right;\n",
       "    }\n",
       "</style>\n",
       "<table border=\"1\" class=\"dataframe\">\n",
       "  <thead>\n",
       "    <tr style=\"text-align: right;\">\n",
       "      <th></th>\n",
       "      <th>BOY</th>\n",
       "      <th>GIRL</th>\n",
       "      <th>NEUTRAL</th>\n",
       "    </tr>\n",
       "  </thead>\n",
       "  <tbody>\n",
       "    <tr>\n",
       "      <th>0</th>\n",
       "      <td>vehicle toys</td>\n",
       "      <td>doll</td>\n",
       "      <td>toy animals</td>\n",
       "    </tr>\n",
       "    <tr>\n",
       "      <th>1</th>\n",
       "      <td>sport</td>\n",
       "      <td>domestic toys</td>\n",
       "      <td>books</td>\n",
       "    </tr>\n",
       "    <tr>\n",
       "      <th>2</th>\n",
       "      <td>military toys</td>\n",
       "      <td>educational art</td>\n",
       "      <td>educational teaching</td>\n",
       "    </tr>\n",
       "    <tr>\n",
       "      <th>3</th>\n",
       "      <td>race cars</td>\n",
       "      <td>clothes</td>\n",
       "      <td>musical games</td>\n",
       "    </tr>\n",
       "    <tr>\n",
       "      <th>4</th>\n",
       "      <td>outer space toys</td>\n",
       "      <td>dollhouses</td>\n",
       "      <td>games</td>\n",
       "    </tr>\n",
       "    <tr>\n",
       "      <th>...</th>\n",
       "      <td>...</td>\n",
       "      <td>...</td>\n",
       "      <td>...</td>\n",
       "    </tr>\n",
       "    <tr>\n",
       "      <th>67</th>\n",
       "      <td>toy rocket</td>\n",
       "      <td>barbie furniture set</td>\n",
       "      <td>NaN</td>\n",
       "    </tr>\n",
       "    <tr>\n",
       "      <th>68</th>\n",
       "      <td>soccer ball</td>\n",
       "      <td>NaN</td>\n",
       "      <td>NaN</td>\n",
       "    </tr>\n",
       "    <tr>\n",
       "      <th>69</th>\n",
       "      <td>blue ipad</td>\n",
       "      <td>pink ipad</td>\n",
       "      <td>NaN</td>\n",
       "    </tr>\n",
       "    <tr>\n",
       "      <th>70</th>\n",
       "      <td>toy robots</td>\n",
       "      <td>NaN</td>\n",
       "      <td>NaN</td>\n",
       "    </tr>\n",
       "    <tr>\n",
       "      <th>71</th>\n",
       "      <td>toy drones</td>\n",
       "      <td>NaN</td>\n",
       "      <td>NaN</td>\n",
       "    </tr>\n",
       "  </tbody>\n",
       "</table>\n",
       "<p>72 rows × 3 columns</p>\n",
       "</div>"
      ],
      "text/plain": [
       "                 BOY                  GIRL               NEUTRAL\n",
       "0       vehicle toys                  doll           toy animals\n",
       "1              sport         domestic toys                 books\n",
       "2      military toys       educational art  educational teaching\n",
       "3          race cars               clothes         musical games\n",
       "4   outer space toys            dollhouses                 games\n",
       "..               ...                   ...                   ...\n",
       "67        toy rocket  barbie furniture set                   NaN\n",
       "68       soccer ball                   NaN                   NaN\n",
       "69         blue ipad             pink ipad                   NaN\n",
       "70        toy robots                   NaN                   NaN\n",
       "71        toy drones                   NaN                   NaN\n",
       "\n",
       "[72 rows x 3 columns]"
      ]
     },
     "execution_count": 109,
     "metadata": {},
     "output_type": "execute_result"
    }
   ],
   "source": [
    "stereo_toys = pd.read_csv('~/Downloads/SI485/Data/predoc_stereotyped_items.csv', delimiter =',')\n",
    "stereo_toys"
   ]
  },
  {
   "cell_type": "code",
   "execution_count": 110,
   "id": "5a886d71-124b-46da-8677-c8ba313422a0",
   "metadata": {},
   "outputs": [],
   "source": [
    "with open('Data/all_items.txt') as f:\n",
    "    all_items = f.read().splitlines()"
   ]
  },
  {
   "cell_type": "code",
   "execution_count": 111,
   "id": "47a4499b-87e5-4ccb-9299-30dc76d9e9a2",
   "metadata": {},
   "outputs": [
    {
     "data": {
      "text/plain": [
       "166"
      ]
     },
     "execution_count": 111,
     "metadata": {},
     "output_type": "execute_result"
    }
   ],
   "source": [
    "len(all_items)"
   ]
  },
  {
   "cell_type": "code",
   "execution_count": 142,
   "id": "abb1e190-5cd9-4f70-a0f2-a590a9f61d17",
   "metadata": {},
   "outputs": [
    {
     "data": {
      "text/plain": [
       "['vehicle toys',\n",
       " 'sport',\n",
       " 'military toys',\n",
       " 'race cars',\n",
       " 'outer space toys',\n",
       " 'depots',\n",
       " 'machines',\n",
       " 'doll-humanoid',\n",
       " 'action figures',\n",
       " 'gi joe action figure']"
      ]
     },
     "execution_count": 142,
     "metadata": {},
     "output_type": "execute_result"
    }
   ],
   "source": [
    "trial = all_items[:10]\n",
    "trial"
   ]
  },
  {
   "cell_type": "code",
   "execution_count": 113,
   "id": "94c2a640-2be4-48eb-979b-4f55edb28b3d",
   "metadata": {},
   "outputs": [],
   "source": [
    "generic = ['toys', 'books', 'learning material', 'games', 'sports']"
   ]
  },
  {
   "cell_type": "code",
   "execution_count": 114,
   "id": "c50fc700-daca-4d83-8dc1-3bcdaea8e1fd",
   "metadata": {},
   "outputs": [],
   "source": [
    "gender = ['boys', 'girls', 'neutral']"
   ]
  },
  {
   "cell_type": "markdown",
   "id": "37c5057b-6818-4436-afef-b97102a33cb2",
   "metadata": {},
   "source": [
    "## Search"
   ]
  },
  {
   "cell_type": "markdown",
   "id": "49bfcd28-0a00-42ee-8dde-32c880aa6333",
   "metadata": {},
   "source": [
    "### Collecting ASIN of Retrieved Products"
   ]
  },
  {
   "cell_type": "code",
   "execution_count": 145,
   "id": "72e33dc4-b079-45fe-8559-d42851f971cb",
   "metadata": {},
   "outputs": [],
   "source": [
    "def asin(driver):\n",
    "    asin_list = []\n",
    "    for index in range(1, 10):\n",
    "        driver.implicitly_wait(120)\n",
    "        asins = driver.find_elements('xpath','//a[@aria-labelledby]')\n",
    "\n",
    "        for asin in asins:\n",
    "            asin_list.append(asin.get_attribute('aria-labelledby'))\n",
    "\n",
    "        return asin_list\n",
    "        \n",
    "        \n",
    "       # asins = driver.find_elements('xpath','//a[@aria-labelledby]') # is this going through each individual page?\n",
    "        #for asin in asins:\n",
    "         #   time.sleep(0.5)\n",
    "          #  asin_list.append(asin.get_attribute('aria-labelledby'))\n",
    "   # return asin_list"
   ]
  },
  {
   "cell_type": "markdown",
   "id": "32283dbc-6b03-43da-a6f1-195fe90ab917",
   "metadata": {},
   "source": [
    "### Get Title Information of Retrieved Products"
   ]
  },
  {
   "cell_type": "code",
   "execution_count": 127,
   "id": "643bfb87-ef85-4d4c-b21b-db678ec520d6",
   "metadata": {},
   "outputs": [],
   "source": [
    "from selenium.webdriver.common.by import By\n",
    "def item_info(driver):\n",
    "    item = []\n",
    "    for index in range(1, 10):\n",
    "        #driver.implicitly_wait(10)\n",
    "        elem = driver.find_elements('xpath','//a[meta/@itemprop]')\n",
    "\n",
    "        for i in elem:\n",
    "            item.append(i.text)\n",
    "\n",
    "        return item"
   ]
  },
  {
   "cell_type": "markdown",
   "id": "6d3503fd-2d32-42b5-9e20-4ca71a8b85e4",
   "metadata": {},
   "source": [
    "### Collect Product Link of Retrieved Products"
   ]
  },
  {
   "cell_type": "code",
   "execution_count": 128,
   "id": "123efac1-785c-4690-a19f-e065adf9ed8a",
   "metadata": {},
   "outputs": [],
   "source": [
    "def item_link(driver):\n",
    "    href = []\n",
    "    links = driver.find_elements('xpath', \"//a[@data-test = 'component-product-card-link']\")\n",
    "    for link in links:\n",
    "        href.append(link.get_attribute('href'))\n",
    "    return href"
   ]
  },
  {
   "cell_type": "markdown",
   "id": "ea96a351-fbdd-4230-aaac-f316a93e4e97",
   "metadata": {},
   "source": [
    "## Running Queries for Boys, Girls, and Neutral"
   ]
  },
  {
   "cell_type": "code",
   "execution_count": 146,
   "id": "169415c6-51da-46c7-a899-3942b9afada5",
   "metadata": {},
   "outputs": [],
   "source": [
    "def search(item, who):\n",
    "    if who == 'neutral':\n",
    "        query = item + '-for-' + 'kids'\n",
    "    else:\n",
    "        query = item + '-for-' + who\n",
    "    driver.get(f'https://www.argos.co.uk/search/{query}/?clickOrigin=searchbar:home:term:{query}')\n",
    "    driver.implicitly_wait(120)\n",
    "    list_asin = asin(driver)\n",
    "    item_list = item_info(driver)\n",
    "    item_page = item_link(driver)\n",
    "    return (list_asin, item_list), item_page"
   ]
  },
  {
   "cell_type": "code",
   "execution_count": 130,
   "id": "91e6f4cd-d647-461e-bdfe-651f124419b2",
   "metadata": {},
   "outputs": [],
   "source": [
    "columns1 = ['gender', 'query', 'result']\n",
    "qr = pd.DataFrame(columns=columns1)\n",
    "columns2 = ['gender', 'query', 'href']\n",
    "qr_link = pd.DataFrame(columns=columns2)"
   ]
  },
  {
   "cell_type": "code",
   "execution_count": 131,
   "id": "c156290f-6b45-4898-b66b-bc2f28628c4c",
   "metadata": {},
   "outputs": [
    {
     "data": {
      "text/plain": [
       "['legos', 'scooter', 'drum set', 'puzzles', 'board games', 'rock painting']"
      ]
     },
     "execution_count": 131,
     "metadata": {},
     "output_type": "execute_result"
    }
   ],
   "source": [
    "trial"
   ]
  },
  {
   "cell_type": "markdown",
   "id": "65bd011c-a94b-4e1f-805e-1bbea2262df2",
   "metadata": {},
   "source": [
    "## Running Queries in a Loop"
   ]
  },
  {
   "cell_type": "code",
   "execution_count": 147,
   "id": "bf923ffa-5ffe-4e56-9a45-f8c32c5d2936",
   "metadata": {},
   "outputs": [
    {
     "ename": "StaleElementReferenceException",
     "evalue": "Message: stale element reference: element is not attached to the page document\n  (Session info: chrome=109.0.5414.119)\nStacktrace:\n0   chromedriver                        0x0000000105a5cfa8 chromedriver + 4886440\n1   chromedriver                        0x00000001059da643 chromedriver + 4351555\n2   chromedriver                        0x0000000105628b27 chromedriver + 477991\n3   chromedriver                        0x000000010562cf78 chromedriver + 495480\n4   chromedriver                        0x000000010562cc46 chromedriver + 494662\n5   chromedriver                        0x000000010562db9e chromedriver + 498590\n6   chromedriver                        0x00000001056af35f chromedriver + 1028959\n7   chromedriver                        0x00000001056935d2 chromedriver + 914898\n8   chromedriver                        0x00000001056ae5fe chromedriver + 1025534\n9   chromedriver                        0x00000001056933a3 chromedriver + 914339\n10  chromedriver                        0x000000010565d57f chromedriver + 693631\n11  chromedriver                        0x000000010565eb1e chromedriver + 699166\n12  chromedriver                        0x0000000105a29b9e chromedriver + 4676510\n13  chromedriver                        0x0000000105a2e91e chromedriver + 4696350\n14  chromedriver                        0x0000000105a3619f chromedriver + 4727199\n15  chromedriver                        0x0000000105a2f81a chromedriver + 4700186\n16  chromedriver                        0x0000000105a02a62 chromedriver + 4516450\n17  chromedriver                        0x0000000105a4e8c8 chromedriver + 4827336\n18  chromedriver                        0x0000000105a4ea45 chromedriver + 4827717\n19  chromedriver                        0x0000000105a647ef chromedriver + 4917231\n20  libsystem_pthread.dylib             0x00007ff812938259 _pthread_start + 125\n21  libsystem_pthread.dylib             0x00007ff812933c7b thread_start + 15\n",
     "output_type": "error",
     "traceback": [
      "\u001b[0;31m---------------------------------------------------------------------------\u001b[0m",
      "\u001b[0;31mStaleElementReferenceException\u001b[0m            Traceback (most recent call last)",
      "Input \u001b[0;32mIn [147]\u001b[0m, in \u001b[0;36m<cell line: 7>\u001b[0;34m()\u001b[0m\n\u001b[1;32m      7\u001b[0m \u001b[38;5;28;01mfor\u001b[39;00m item \u001b[38;5;129;01min\u001b[39;00m all_items:\n\u001b[1;32m      8\u001b[0m     \u001b[38;5;28;01mfor\u001b[39;00m g \u001b[38;5;129;01min\u001b[39;00m gender:\n\u001b[0;32m----> 9\u001b[0m         result, link \u001b[38;5;241m=\u001b[39m \u001b[43msearch\u001b[49m\u001b[43m(\u001b[49m\u001b[43mitem\u001b[49m\u001b[43m,\u001b[49m\u001b[43m \u001b[49m\u001b[43mg\u001b[49m\u001b[43m)\u001b[49m\n\u001b[1;32m     10\u001b[0m         values1 \u001b[38;5;241m=\u001b[39m [g, item, result]\n\u001b[1;32m     11\u001b[0m         values2 \u001b[38;5;241m=\u001b[39m [g, item, link]\n",
      "Input \u001b[0;32mIn [146]\u001b[0m, in \u001b[0;36msearch\u001b[0;34m(item, who)\u001b[0m\n\u001b[1;32m      6\u001b[0m driver\u001b[38;5;241m.\u001b[39mget(\u001b[38;5;124mf\u001b[39m\u001b[38;5;124m'\u001b[39m\u001b[38;5;124mhttps://www.argos.co.uk/search/\u001b[39m\u001b[38;5;132;01m{\u001b[39;00mquery\u001b[38;5;132;01m}\u001b[39;00m\u001b[38;5;124m/?clickOrigin=searchbar:home:term:\u001b[39m\u001b[38;5;132;01m{\u001b[39;00mquery\u001b[38;5;132;01m}\u001b[39;00m\u001b[38;5;124m'\u001b[39m)\n\u001b[1;32m      7\u001b[0m driver\u001b[38;5;241m.\u001b[39mimplicitly_wait(\u001b[38;5;241m120\u001b[39m)\n\u001b[0;32m----> 8\u001b[0m list_asin \u001b[38;5;241m=\u001b[39m \u001b[43masin\u001b[49m\u001b[43m(\u001b[49m\u001b[43mdriver\u001b[49m\u001b[43m)\u001b[49m\n\u001b[1;32m      9\u001b[0m item_list \u001b[38;5;241m=\u001b[39m item_info(driver)\n\u001b[1;32m     10\u001b[0m item_page \u001b[38;5;241m=\u001b[39m item_link(driver)\n",
      "Input \u001b[0;32mIn [145]\u001b[0m, in \u001b[0;36masin\u001b[0;34m(driver)\u001b[0m\n\u001b[1;32m      5\u001b[0m asins \u001b[38;5;241m=\u001b[39m driver\u001b[38;5;241m.\u001b[39mfind_elements(\u001b[38;5;124m'\u001b[39m\u001b[38;5;124mxpath\u001b[39m\u001b[38;5;124m'\u001b[39m,\u001b[38;5;124m'\u001b[39m\u001b[38;5;124m//a[@aria-labelledby]\u001b[39m\u001b[38;5;124m'\u001b[39m)\n\u001b[1;32m      7\u001b[0m \u001b[38;5;28;01mfor\u001b[39;00m asin \u001b[38;5;129;01min\u001b[39;00m asins:\n\u001b[0;32m----> 8\u001b[0m     asin_list\u001b[38;5;241m.\u001b[39mappend(\u001b[43masin\u001b[49m\u001b[38;5;241;43m.\u001b[39;49m\u001b[43mget_attribute\u001b[49m\u001b[43m(\u001b[49m\u001b[38;5;124;43m'\u001b[39;49m\u001b[38;5;124;43maria-labelledby\u001b[39;49m\u001b[38;5;124;43m'\u001b[39;49m\u001b[43m)\u001b[49m)\n\u001b[1;32m     10\u001b[0m \u001b[38;5;28;01mreturn\u001b[39;00m asin_list\n",
      "File \u001b[0;32m~/anaconda3/lib/python3.9/site-packages/selenium/webdriver/remote/webelement.py:179\u001b[0m, in \u001b[0;36mWebElement.get_attribute\u001b[0;34m(self, name)\u001b[0m\n\u001b[1;32m    177\u001b[0m \u001b[38;5;28;01mif\u001b[39;00m getAttribute_js \u001b[38;5;129;01mis\u001b[39;00m \u001b[38;5;28;01mNone\u001b[39;00m:\n\u001b[1;32m    178\u001b[0m     _load_js()\n\u001b[0;32m--> 179\u001b[0m attribute_value \u001b[38;5;241m=\u001b[39m \u001b[38;5;28;43mself\u001b[39;49m\u001b[38;5;241;43m.\u001b[39;49m\u001b[43mparent\u001b[49m\u001b[38;5;241;43m.\u001b[39;49m\u001b[43mexecute_script\u001b[49m\u001b[43m(\u001b[49m\n\u001b[1;32m    180\u001b[0m \u001b[43m    \u001b[49m\u001b[38;5;124;43m\"\u001b[39;49m\u001b[38;5;124;43mreturn (\u001b[39;49m\u001b[38;5;132;43;01m%s\u001b[39;49;00m\u001b[38;5;124;43m).apply(null, arguments);\u001b[39;49m\u001b[38;5;124;43m\"\u001b[39;49m\u001b[43m \u001b[49m\u001b[38;5;241;43m%\u001b[39;49m\u001b[43m \u001b[49m\u001b[43mgetAttribute_js\u001b[49m\u001b[43m,\u001b[49m\u001b[43m \u001b[49m\u001b[38;5;28;43mself\u001b[39;49m\u001b[43m,\u001b[49m\u001b[43m \u001b[49m\u001b[43mname\u001b[49m\n\u001b[1;32m    181\u001b[0m \u001b[43m\u001b[49m\u001b[43m)\u001b[49m\n\u001b[1;32m    182\u001b[0m \u001b[38;5;28;01mreturn\u001b[39;00m attribute_value\n",
      "File \u001b[0;32m~/anaconda3/lib/python3.9/site-packages/selenium/webdriver/remote/webdriver.py:506\u001b[0m, in \u001b[0;36mWebDriver.execute_script\u001b[0;34m(self, script, *args)\u001b[0m\n\u001b[1;32m    503\u001b[0m converted_args \u001b[38;5;241m=\u001b[39m \u001b[38;5;28mlist\u001b[39m(args)\n\u001b[1;32m    504\u001b[0m command \u001b[38;5;241m=\u001b[39m Command\u001b[38;5;241m.\u001b[39mW3C_EXECUTE_SCRIPT\n\u001b[0;32m--> 506\u001b[0m \u001b[38;5;28;01mreturn\u001b[39;00m \u001b[38;5;28;43mself\u001b[39;49m\u001b[38;5;241;43m.\u001b[39;49m\u001b[43mexecute\u001b[49m\u001b[43m(\u001b[49m\u001b[43mcommand\u001b[49m\u001b[43m,\u001b[49m\u001b[43m \u001b[49m\u001b[43m{\u001b[49m\u001b[38;5;124;43m\"\u001b[39;49m\u001b[38;5;124;43mscript\u001b[39;49m\u001b[38;5;124;43m\"\u001b[39;49m\u001b[43m:\u001b[49m\u001b[43m \u001b[49m\u001b[43mscript\u001b[49m\u001b[43m,\u001b[49m\u001b[43m \u001b[49m\u001b[38;5;124;43m\"\u001b[39;49m\u001b[38;5;124;43margs\u001b[39;49m\u001b[38;5;124;43m\"\u001b[39;49m\u001b[43m:\u001b[49m\u001b[43m \u001b[49m\u001b[43mconverted_args\u001b[49m\u001b[43m}\u001b[49m\u001b[43m)\u001b[49m[\u001b[38;5;124m\"\u001b[39m\u001b[38;5;124mvalue\u001b[39m\u001b[38;5;124m\"\u001b[39m]\n",
      "File \u001b[0;32m~/anaconda3/lib/python3.9/site-packages/selenium/webdriver/remote/webdriver.py:444\u001b[0m, in \u001b[0;36mWebDriver.execute\u001b[0;34m(self, driver_command, params)\u001b[0m\n\u001b[1;32m    442\u001b[0m response \u001b[38;5;241m=\u001b[39m \u001b[38;5;28mself\u001b[39m\u001b[38;5;241m.\u001b[39mcommand_executor\u001b[38;5;241m.\u001b[39mexecute(driver_command, params)\n\u001b[1;32m    443\u001b[0m \u001b[38;5;28;01mif\u001b[39;00m response:\n\u001b[0;32m--> 444\u001b[0m     \u001b[38;5;28;43mself\u001b[39;49m\u001b[38;5;241;43m.\u001b[39;49m\u001b[43merror_handler\u001b[49m\u001b[38;5;241;43m.\u001b[39;49m\u001b[43mcheck_response\u001b[49m\u001b[43m(\u001b[49m\u001b[43mresponse\u001b[49m\u001b[43m)\u001b[49m\n\u001b[1;32m    445\u001b[0m     response[\u001b[38;5;124m\"\u001b[39m\u001b[38;5;124mvalue\u001b[39m\u001b[38;5;124m\"\u001b[39m] \u001b[38;5;241m=\u001b[39m \u001b[38;5;28mself\u001b[39m\u001b[38;5;241m.\u001b[39m_unwrap_value(response\u001b[38;5;241m.\u001b[39mget(\u001b[38;5;124m\"\u001b[39m\u001b[38;5;124mvalue\u001b[39m\u001b[38;5;124m\"\u001b[39m, \u001b[38;5;28;01mNone\u001b[39;00m))\n\u001b[1;32m    446\u001b[0m     \u001b[38;5;28;01mreturn\u001b[39;00m response\n",
      "File \u001b[0;32m~/anaconda3/lib/python3.9/site-packages/selenium/webdriver/remote/errorhandler.py:249\u001b[0m, in \u001b[0;36mErrorHandler.check_response\u001b[0;34m(self, response)\u001b[0m\n\u001b[1;32m    247\u001b[0m         alert_text \u001b[38;5;241m=\u001b[39m value[\u001b[38;5;124m\"\u001b[39m\u001b[38;5;124malert\u001b[39m\u001b[38;5;124m\"\u001b[39m]\u001b[38;5;241m.\u001b[39mget(\u001b[38;5;124m\"\u001b[39m\u001b[38;5;124mtext\u001b[39m\u001b[38;5;124m\"\u001b[39m)\n\u001b[1;32m    248\u001b[0m     \u001b[38;5;28;01mraise\u001b[39;00m exception_class(message, screen, stacktrace, alert_text)  \u001b[38;5;66;03m# type: ignore[call-arg]  # mypy is not smart enough here\u001b[39;00m\n\u001b[0;32m--> 249\u001b[0m \u001b[38;5;28;01mraise\u001b[39;00m exception_class(message, screen, stacktrace)\n",
      "\u001b[0;31mStaleElementReferenceException\u001b[0m: Message: stale element reference: element is not attached to the page document\n  (Session info: chrome=109.0.5414.119)\nStacktrace:\n0   chromedriver                        0x0000000105a5cfa8 chromedriver + 4886440\n1   chromedriver                        0x00000001059da643 chromedriver + 4351555\n2   chromedriver                        0x0000000105628b27 chromedriver + 477991\n3   chromedriver                        0x000000010562cf78 chromedriver + 495480\n4   chromedriver                        0x000000010562cc46 chromedriver + 494662\n5   chromedriver                        0x000000010562db9e chromedriver + 498590\n6   chromedriver                        0x00000001056af35f chromedriver + 1028959\n7   chromedriver                        0x00000001056935d2 chromedriver + 914898\n8   chromedriver                        0x00000001056ae5fe chromedriver + 1025534\n9   chromedriver                        0x00000001056933a3 chromedriver + 914339\n10  chromedriver                        0x000000010565d57f chromedriver + 693631\n11  chromedriver                        0x000000010565eb1e chromedriver + 699166\n12  chromedriver                        0x0000000105a29b9e chromedriver + 4676510\n13  chromedriver                        0x0000000105a2e91e chromedriver + 4696350\n14  chromedriver                        0x0000000105a3619f chromedriver + 4727199\n15  chromedriver                        0x0000000105a2f81a chromedriver + 4700186\n16  chromedriver                        0x0000000105a02a62 chromedriver + 4516450\n17  chromedriver                        0x0000000105a4e8c8 chromedriver + 4827336\n18  chromedriver                        0x0000000105a4ea45 chromedriver + 4827717\n19  chromedriver                        0x0000000105a647ef chromedriver + 4917231\n20  libsystem_pthread.dylib             0x00007ff812938259 _pthread_start + 125\n21  libsystem_pthread.dylib             0x00007ff812933c7b thread_start + 15\n"
     ]
    }
   ],
   "source": [
    "import warnings\n",
    "warnings.filterwarnings('ignore')\n",
    "driver = webdriver.Chrome(ChromeDriverManager().install())\n",
    "data1 = []\n",
    "data2 = []\n",
    "item = ''\n",
    "for item in all_items:\n",
    "    for g in gender:\n",
    "        result, link = search(item, g)\n",
    "        values1 = [g, item, result]\n",
    "        values2 = [g, item, link]\n",
    "        zipped1 = zip(columns1, values1)\n",
    "        zipped2 = zip(columns2, values2)\n",
    "        a_dictionary1 = dict(zipped1)\n",
    "        a_dictionary2 = dict(zipped2)\n",
    "        time.sleep(1.5)\n",
    "        data1.append(a_dictionary1)\n",
    "        data2.append(a_dictionary2)\n",
    "driver.close()"
   ]
  },
  {
   "cell_type": "code",
   "execution_count": null,
   "id": "f78b49a8-05df-4418-97ca-5de0a494182f",
   "metadata": {},
   "outputs": [],
   "source": [
    "qr = qr.append(data1, True)\n",
    "qr"
   ]
  },
  {
   "cell_type": "code",
   "execution_count": null,
   "id": "fee16b53-78d4-42f6-ae50-66f4f46f7a7e",
   "metadata": {},
   "outputs": [],
   "source": [
    "qr['result'][0]"
   ]
  },
  {
   "cell_type": "code",
   "execution_count": null,
   "id": "e658670b-3f03-4e3d-9ffa-490f8c499e31",
   "metadata": {},
   "outputs": [],
   "source": [
    "qr_link = qr_link.append(data2, True)\n",
    "qr_link"
   ]
  },
  {
   "cell_type": "code",
   "execution_count": null,
   "id": "4d790fff-81ef-47ef-a679-1994374f3ba5",
   "metadata": {},
   "outputs": [],
   "source": [
    "qr_link.href[1]"
   ]
  },
  {
   "cell_type": "code",
   "execution_count": null,
   "id": "69eac5bd-b50d-40a1-8cfc-87eb65514158",
   "metadata": {},
   "outputs": [],
   "source": [
    "first20 = pd.DataFrame()"
   ]
  },
  {
   "cell_type": "code",
   "execution_count": null,
   "id": "071f52b4-19b9-43d9-9d1c-0a78aed24b88",
   "metadata": {},
   "outputs": [],
   "source": [
    "first20 = first20.append(qr, ignore_index = True)"
   ]
  },
  {
   "cell_type": "code",
   "execution_count": null,
   "id": "0c1dfae8-2cd5-4c07-ae59-74d22758cb9c",
   "metadata": {},
   "outputs": [],
   "source": [
    "first20"
   ]
  },
  {
   "cell_type": "code",
   "execution_count": null,
   "id": "33ac38b7-ddc0-4660-8553-1a26901e805d",
   "metadata": {},
   "outputs": [],
   "source": [
    "len(first20.loc[0]['result'][1])"
   ]
  },
  {
   "cell_type": "code",
   "execution_count": null,
   "id": "d0d7e1ed-cba2-4ce4-8f56-3e94c3345482",
   "metadata": {},
   "outputs": [],
   "source": [
    "first20.to_csv('argos_search_results.csv', index = False)"
   ]
  },
  {
   "cell_type": "code",
   "execution_count": null,
   "id": "fd8d66ea-9b69-4bff-a49e-892fbd9c019d",
   "metadata": {},
   "outputs": [],
   "source": []
  },
  {
   "cell_type": "code",
   "execution_count": null,
   "id": "e4acbdf1-ea19-4cd8-b970-dc75f2c27378",
   "metadata": {},
   "outputs": [],
   "source": []
  },
  {
   "cell_type": "code",
   "execution_count": null,
   "id": "47370c99-99d4-4f50-9c4e-e1caf93d3fda",
   "metadata": {},
   "outputs": [],
   "source": []
  }
 ],
 "metadata": {
  "kernelspec": {
   "display_name": "Python 3 (ipykernel)",
   "language": "python",
   "name": "python3"
  },
  "language_info": {
   "codemirror_mode": {
    "name": "ipython",
    "version": 3
   },
   "file_extension": ".py",
   "mimetype": "text/x-python",
   "name": "python",
   "nbconvert_exporter": "python",
   "pygments_lexer": "ipython3",
   "version": "3.9.12"
  }
 },
 "nbformat": 4,
 "nbformat_minor": 5
}
