{
 "cells": [
  {
   "cell_type": "code",
   "execution_count": 1,
   "metadata": {
    "colab": {
     "base_uri": "https://localhost:8080/"
    },
    "executionInfo": {
     "elapsed": 7836,
     "status": "ok",
     "timestamp": 1673551985717,
     "user": {
      "displayName": "Kate Gould",
      "userId": "05910585260938437266"
     },
     "user_tz": 300
    },
    "id": "KTbyFgFbeG_G",
    "outputId": "6a4f132d-ff84-4e6c-b6a5-d042f918cdf9"
   },
   "outputs": [
    {
     "name": "stdout",
     "output_type": "stream",
     "text": [
      "Requirement already satisfied: fake_useragent in /Users/toriastahl/opt/anaconda3/lib/python3.9/site-packages (1.1.1)\n",
      "Requirement already satisfied: importlib-resources>=5.0 in /Users/toriastahl/opt/anaconda3/lib/python3.9/site-packages (from fake_useragent) (5.10.2)\n",
      "Requirement already satisfied: zipp>=3.1.0 in /Users/toriastahl/opt/anaconda3/lib/python3.9/site-packages (from importlib-resources>=5.0->fake_useragent) (3.8.0)\n",
      "Note: you may need to restart the kernel to use updated packages.\n"
     ]
    }
   ],
   "source": [
    "pip install fake_useragent"
   ]
  },
  {
   "cell_type": "code",
   "execution_count": 1,
   "metadata": {
    "executionInfo": {
     "elapsed": 4,
     "status": "ok",
     "timestamp": 1673551987533,
     "user": {
      "displayName": "Kate Gould",
      "userId": "05910585260938437266"
     },
     "user_tz": 300
    },
    "id": "65gQ9veZrK5Z"
   },
   "outputs": [],
   "source": [
    "import requests\n",
    "import json\n",
    "from fake_useragent import UserAgent"
   ]
  },
  {
   "cell_type": "code",
   "execution_count": 2,
   "metadata": {
    "executionInfo": {
     "elapsed": 272,
     "status": "ok",
     "timestamp": 1673551991229,
     "user": {
      "displayName": "Kate Gould",
      "userId": "05910585260938437266"
     },
     "user_tz": 300
    },
    "id": "nWb2_I70rK5l"
   },
   "outputs": [],
   "source": [
    "ua = UserAgent()\n",
    "headers = {\"user-agent\": ua.chrome}"
   ]
  },
  {
   "cell_type": "code",
   "execution_count": 3,
   "metadata": {
    "executionInfo": {
     "elapsed": 971,
     "status": "ok",
     "timestamp": 1673551994470,
     "user": {
      "displayName": "Kate Gould",
      "userId": "05910585260938437266"
     },
     "user_tz": 300
    },
    "id": "4_zySUrjrK5n"
   },
   "outputs": [],
   "source": [
    "import pandas as pd\n",
    "import numpy as np"
   ]
  },
  {
   "cell_type": "markdown",
   "metadata": {
    "id": "69nkD2oRrK5o"
   },
   "source": [
    "### Loading list of toys"
   ]
  },
  {
   "cell_type": "code",
   "execution_count": 16,
   "metadata": {
    "colab": {
     "base_uri": "https://localhost:8080/",
     "height": 188
    },
    "executionInfo": {
     "elapsed": 7,
     "status": "error",
     "timestamp": 1673551996475,
     "user": {
      "displayName": "Kate Gould",
      "userId": "05910585260938437266"
     },
     "user_tz": 300
    },
    "id": "jUPwZ4dkrK6V",
    "outputId": "cef9c600-3886-468e-beec-c59156a8e06f"
   },
   "outputs": [
    {
     "data": {
      "text/plain": [
       "['vehicle toys',\n",
       " 'sport',\n",
       " 'military toys',\n",
       " 'race cars',\n",
       " 'outer space toys',\n",
       " 'depots',\n",
       " 'machines',\n",
       " 'doll-humanoid',\n",
       " 'action figures',\n",
       " 'gi joe action figure',\n",
       " 'spiderman',\n",
       " 'guitar',\n",
       " 'castle tent',\n",
       " 'microscope',\n",
       " 'monster trucks',\n",
       " 'bug collection set',\n",
       " 'barn',\n",
       " 'grill',\n",
       " 'dinosaur toy',\n",
       " 'volcano creator',\n",
       " 'pokemon cards',\n",
       " 'space station toys',\n",
       " 'basketball hoop',\n",
       " 'gears',\n",
       " 'train set',\n",
       " 'lincoln logs',\n",
       " 'police station toy',\n",
       " 'airport toy',\n",
       " 'police officer gear',\n",
       " 'dragonballz',\n",
       " 'superhero costumes',\n",
       " 'helicopter',\n",
       " 'racetrack',\n",
       " 'remote control car',\n",
       " 'football',\n",
       " 'hockey stick',\n",
       " 'sword toy',\n",
       " 'miniature guns',\n",
       " 'truck set',\n",
       " 'remote control helicopter',\n",
       " 'sully costume',\n",
       " 'woody valentine',\n",
       " 'spiderman costume',\n",
       " 'batman costume',\n",
       " 'ninja costume',\n",
       " 'wwe action figure',\n",
       " 'action figure',\n",
       " 'toy gun',\n",
       " 'construction games',\n",
       " 'war toys',\n",
       " 'toy vehicles',\n",
       " 'educational material',\n",
       " 'nerf guns',\n",
       " 'construction toys',\n",
       " 'car toys',\n",
       " 'video games',\n",
       " 'building blocks',\n",
       " 'dinosaur toys',\n",
       " 'lego cars',\n",
       " 'lego toys',\n",
       " 'computer games',\n",
       " 'spaceship lego',\n",
       " 'firefighter gear',\n",
       " 'soldier toys',\n",
       " 'space station',\n",
       " 'science project kit',\n",
       " 'toy rocket',\n",
       " 'soccer ball',\n",
       " 'blue ipad',\n",
       " 'toy robots',\n",
       " 'toy drones',\n",
       " 'doll',\n",
       " 'domestic toys',\n",
       " 'educational art',\n",
       " 'clothes',\n",
       " 'dollhouses',\n",
       " 'clothing accessories',\n",
       " 'doll accessories',\n",
       " 'furnishing',\n",
       " 'ballerina costume',\n",
       " 'barbie costume',\n",
       " 'barbie jeep',\n",
       " 'play makeup',\n",
       " 'bratz doll',\n",
       " 'jewelry',\n",
       " 'my little pony',\n",
       " 'tea set',\n",
       " 'vanity set',\n",
       " 'princess costume',\n",
       " 'baby dolls',\n",
       " 'beads',\n",
       " 'dollhouse',\n",
       " 'easy bake oven',\n",
       " 'baby doll stroller',\n",
       " 'sewing machine',\n",
       " 'pink ice skates',\n",
       " 'ken doll',\n",
       " 'toy kitchen',\n",
       " 'broom',\n",
       " 'beanie baby bear',\n",
       " 'toy vacuum cleaner',\n",
       " 'veterinarian kit',\n",
       " 'kitchen set',\n",
       " 'stuffed animals',\n",
       " 'plush toys',\n",
       " 'unicorn',\n",
       " 'sparkly toys',\n",
       " 'disney doll',\n",
       " 'baking kit',\n",
       " 'painting kit',\n",
       " 'dora doll',\n",
       " 'power ranger valentine',\n",
       " 'dorothy costume',\n",
       " 'minnie mouse',\n",
       " 'monster high doll',\n",
       " 'monster high costume',\n",
       " 'barbie',\n",
       " 'baby doll',\n",
       " 'fashion doll',\n",
       " 'tiara',\n",
       " 'craft toys',\n",
       " 'beauty products',\n",
       " 'tea party set',\n",
       " 'pink doll',\n",
       " 'cupcake maker',\n",
       " 'makeup kit',\n",
       " 'fashion dolls',\n",
       " 'crochet kit',\n",
       " 'playhouses',\n",
       " 'princess sword',\n",
       " 'doctors kit',\n",
       " 'skin care kit',\n",
       " 'barbie furniture set']"
      ]
     },
     "execution_count": 16,
     "metadata": {},
     "output_type": "execute_result"
    }
   ],
   "source": [
    "with open('all_items.txt') as f:\n",
    "    contents = f.read().splitlines()\n",
    "contents"
   ]
  },
  {
   "cell_type": "markdown",
   "metadata": {
    "id": "DyX1n2ChrK6W"
   },
   "source": [
    "stereo_books = pd.read_csv('../data/stereotyped_books.csv', delimiter =',')\n",
    "stereo_books"
   ]
  },
  {
   "cell_type": "markdown",
   "metadata": {
    "id": "J1bMU1cMrK6X"
   },
   "source": [
    "with open('book_list.txt') as f:\n",
    "    books = f.read().splitlines()"
   ]
  },
  {
   "cell_type": "markdown",
   "metadata": {
    "id": "BV4sktdkrK6Y"
   },
   "source": [
    "books"
   ]
  },
  {
   "cell_type": "markdown",
   "metadata": {
    "id": "T9caSoUsrK6Z"
   },
   "source": [
    "## Loading pre-documented gender stereotyped toys"
   ]
  },
  {
   "cell_type": "code",
   "execution_count": 9,
   "metadata": {
    "id": "c78_SFFxrK6a",
    "outputId": "77e37d16-614a-42d6-ba31-e9d5ce3f4ea8"
   },
   "outputs": [
    {
     "data": {
      "text/html": [
       "<div>\n",
       "<style scoped>\n",
       "    .dataframe tbody tr th:only-of-type {\n",
       "        vertical-align: middle;\n",
       "    }\n",
       "\n",
       "    .dataframe tbody tr th {\n",
       "        vertical-align: top;\n",
       "    }\n",
       "\n",
       "    .dataframe thead th {\n",
       "        text-align: right;\n",
       "    }\n",
       "</style>\n",
       "<table border=\"1\" class=\"dataframe\">\n",
       "  <thead>\n",
       "    <tr style=\"text-align: right;\">\n",
       "      <th></th>\n",
       "      <th>BOY</th>\n",
       "      <th>GIRL</th>\n",
       "      <th>NEUTRAL</th>\n",
       "    </tr>\n",
       "  </thead>\n",
       "  <tbody>\n",
       "    <tr>\n",
       "      <th>0</th>\n",
       "      <td>vehicle toys</td>\n",
       "      <td>doll</td>\n",
       "      <td>toy animals</td>\n",
       "    </tr>\n",
       "    <tr>\n",
       "      <th>1</th>\n",
       "      <td>sport</td>\n",
       "      <td>domestic toys</td>\n",
       "      <td>books</td>\n",
       "    </tr>\n",
       "    <tr>\n",
       "      <th>2</th>\n",
       "      <td>military toys</td>\n",
       "      <td>educational art</td>\n",
       "      <td>educational teaching</td>\n",
       "    </tr>\n",
       "    <tr>\n",
       "      <th>3</th>\n",
       "      <td>race cars</td>\n",
       "      <td>clothes</td>\n",
       "      <td>musical games</td>\n",
       "    </tr>\n",
       "    <tr>\n",
       "      <th>4</th>\n",
       "      <td>outer space toys</td>\n",
       "      <td>dollhouses</td>\n",
       "      <td>games</td>\n",
       "    </tr>\n",
       "    <tr>\n",
       "      <th>...</th>\n",
       "      <td>...</td>\n",
       "      <td>...</td>\n",
       "      <td>...</td>\n",
       "    </tr>\n",
       "    <tr>\n",
       "      <th>67</th>\n",
       "      <td>toy rocket</td>\n",
       "      <td>barbie furniture set</td>\n",
       "      <td>NaN</td>\n",
       "    </tr>\n",
       "    <tr>\n",
       "      <th>68</th>\n",
       "      <td>soccer ball</td>\n",
       "      <td>NaN</td>\n",
       "      <td>NaN</td>\n",
       "    </tr>\n",
       "    <tr>\n",
       "      <th>69</th>\n",
       "      <td>blue ipad</td>\n",
       "      <td>pink ipad</td>\n",
       "      <td>NaN</td>\n",
       "    </tr>\n",
       "    <tr>\n",
       "      <th>70</th>\n",
       "      <td>toy robots</td>\n",
       "      <td>NaN</td>\n",
       "      <td>NaN</td>\n",
       "    </tr>\n",
       "    <tr>\n",
       "      <th>71</th>\n",
       "      <td>toy drones</td>\n",
       "      <td>NaN</td>\n",
       "      <td>NaN</td>\n",
       "    </tr>\n",
       "  </tbody>\n",
       "</table>\n",
       "<p>72 rows × 3 columns</p>\n",
       "</div>"
      ],
      "text/plain": [
       "                 BOY                  GIRL               NEUTRAL\n",
       "0       vehicle toys                  doll           toy animals\n",
       "1              sport         domestic toys                 books\n",
       "2      military toys       educational art  educational teaching\n",
       "3          race cars               clothes         musical games\n",
       "4   outer space toys            dollhouses                 games\n",
       "..               ...                   ...                   ...\n",
       "67        toy rocket  barbie furniture set                   NaN\n",
       "68       soccer ball                   NaN                   NaN\n",
       "69         blue ipad             pink ipad                   NaN\n",
       "70        toy robots                   NaN                   NaN\n",
       "71        toy drones                   NaN                   NaN\n",
       "\n",
       "[72 rows x 3 columns]"
      ]
     },
     "execution_count": 9,
     "metadata": {},
     "output_type": "execute_result"
    }
   ],
   "source": [
    "stereo_toys = pd.read_csv('~/Desktop/485/Data/predoc_stereotyped_items.csv', delimiter =',')\n",
    "stereo_toys"
   ]
  },
  {
   "cell_type": "code",
   "execution_count": null,
   "metadata": {
    "id": "fKjDG7unrK6c"
   },
   "outputs": [],
   "source": [
    "#stereo_toys.dropna()"
   ]
  },
  {
   "cell_type": "markdown",
   "metadata": {
    "id": "R2MSTqEvrK6d"
   },
   "source": [
    "stereo_toys['BOY'] = stereo_toys['BOY'].apply(lambda x: x.lower() if isinstance(x, str) else x)\n",
    "stereo_toys['GIRL'] = stereo_toys['GIRL'].apply(lambda x: x.lower() if isinstance(x, str) else x)\n",
    "stereo_toys['NEUTRAL'] = stereo_toys['NEUTRAL'].apply(lambda x: x.lower() if isinstance(x, str) else x)\n",
    "stereo_toys"
   ]
  },
  {
   "cell_type": "markdown",
   "metadata": {
    "id": "nER_V1rgrK6e"
   },
   "source": [
    "stereo_toys.to_csv('../data/stereotyped_items.csv', index=False)"
   ]
  },
  {
   "cell_type": "markdown",
   "metadata": {
    "id": "Rpk2koDnrK6f"
   },
   "source": [
    "### Some stat on the dataset"
   ]
  },
  {
   "cell_type": "code",
   "execution_count": 10,
   "metadata": {
    "id": "Bfh7xZoNrK6g",
    "outputId": "67005328-29fa-4c9e-aa01-3b7ffe091369"
   },
   "outputs": [
    {
     "data": {
      "text/plain": [
       "71"
      ]
     },
     "execution_count": 10,
     "metadata": {},
     "output_type": "execute_result"
    }
   ],
   "source": [
    "boy_toys = stereo_toys['BOY'].unique().tolist()\n",
    "len(boy_toys)"
   ]
  },
  {
   "cell_type": "code",
   "execution_count": 11,
   "metadata": {
    "id": "EWttdKj3rK6h",
    "outputId": "bd396ec9-2522-4139-8658-45883a8ff8f7"
   },
   "outputs": [
    {
     "data": {
      "text/plain": [
       "64"
      ]
     },
     "execution_count": 11,
     "metadata": {},
     "output_type": "execute_result"
    }
   ],
   "source": [
    "girl_toys = stereo_toys['GIRL'].unique().tolist()\n",
    "len(girl_toys)"
   ]
  },
  {
   "cell_type": "code",
   "execution_count": 12,
   "metadata": {
    "id": "UWemfiEDrK6i",
    "outputId": "1c8e2dd5-5ec9-4a3d-d046-cb0800c53463"
   },
   "outputs": [
    {
     "data": {
      "text/plain": [
       "33"
      ]
     },
     "execution_count": 12,
     "metadata": {},
     "output_type": "execute_result"
    }
   ],
   "source": [
    "neutral_toys = stereo_toys['NEUTRAL'].unique().tolist()\n",
    "len(neutral_toys)"
   ]
  },
  {
   "cell_type": "code",
   "execution_count": 13,
   "metadata": {
    "id": "iknAUJJHrK6j",
    "outputId": "83954cd9-afe8-4471-cebd-1cb998ac60d5"
   },
   "outputs": [
    {
     "data": {
      "text/plain": [
       "168"
      ]
     },
     "execution_count": 13,
     "metadata": {},
     "output_type": "execute_result"
    }
   ],
   "source": [
    "all_items = boy_toys + girl_toys + neutral_toys\n",
    "len(all_items)"
   ]
  },
  {
   "cell_type": "code",
   "execution_count": 20,
   "metadata": {
    "id": "TRQwxkOBrK6k"
   },
   "outputs": [],
   "source": [
    "all_items = [x for x in all_items if isinstance(x, str)]"
   ]
  },
  {
   "cell_type": "markdown",
   "metadata": {
    "id": "b-bXbFnIrK6k"
   },
   "source": [
    "## Preparing the data for query"
   ]
  },
  {
   "cell_type": "markdown",
   "metadata": {
    "id": "Wis5s7orrK6l"
   },
   "source": [
    "textfile = open(\"all_items.txt\", \"w\")\n",
    "for element in all_items:\n",
    "    textfile.write(element + \"\\n\")\n",
    "textfile.close()"
   ]
  },
  {
   "cell_type": "code",
   "execution_count": 21,
   "metadata": {},
   "outputs": [],
   "source": [
    "#contents"
   ]
  },
  {
   "cell_type": "markdown",
   "metadata": {
    "id": "E89T78gbrK6l"
   },
   "source": [
    "### Adding \"for\""
   ]
  },
  {
   "cell_type": "code",
   "execution_count": 23,
   "metadata": {
    "id": "m6XKf6J7rK6m",
    "outputId": "d6368e7f-925f-402f-94bc-c26a06bade3e"
   },
   "outputs": [
    {
     "data": {
      "text/plain": [
       "['vehicle toys',\n",
       " 'sport',\n",
       " 'military toys',\n",
       " 'race cars',\n",
       " 'outer space toys',\n",
       " 'depots',\n",
       " 'machines',\n",
       " 'doll-humanoid',\n",
       " 'action figures',\n",
       " 'gi joe action figure',\n",
       " 'spiderman',\n",
       " 'guitar',\n",
       " 'castle tent',\n",
       " 'microscope',\n",
       " 'monster trucks',\n",
       " 'bug collection set',\n",
       " 'barn',\n",
       " 'grill',\n",
       " 'dinosaur toy',\n",
       " 'volcano creator',\n",
       " 'pokemon cards',\n",
       " 'space station toys',\n",
       " 'basketball hoop',\n",
       " 'gears',\n",
       " 'train set',\n",
       " 'lincoln logs',\n",
       " 'police station toy',\n",
       " 'airport toy',\n",
       " 'police officer gear',\n",
       " 'dragonballz',\n",
       " 'superhero costumes',\n",
       " 'helicopter',\n",
       " 'racetrack',\n",
       " 'remote control car',\n",
       " 'football',\n",
       " 'hockey stick',\n",
       " 'sword toy',\n",
       " 'miniature guns',\n",
       " 'truck set',\n",
       " 'remote control helicopter',\n",
       " 'sully costume',\n",
       " 'woody valentine',\n",
       " 'spiderman costume',\n",
       " 'batman costume',\n",
       " 'ninja costume',\n",
       " 'wwe action figure',\n",
       " 'action figure',\n",
       " 'toy gun',\n",
       " 'construction games',\n",
       " 'war toys',\n",
       " 'toy vehicles',\n",
       " 'educational material',\n",
       " 'nerf guns',\n",
       " 'construction toys',\n",
       " 'car toys',\n",
       " 'video games',\n",
       " 'building blocks',\n",
       " 'dinosaur toys',\n",
       " 'lego cars',\n",
       " 'lego toys',\n",
       " 'computer games',\n",
       " 'spaceship lego',\n",
       " 'firefighter gear',\n",
       " 'soldier toys',\n",
       " 'space station',\n",
       " 'science project kit',\n",
       " 'toy rocket',\n",
       " 'soccer ball',\n",
       " 'blue ipad',\n",
       " 'toy robots',\n",
       " 'toy drones',\n",
       " 'doll',\n",
       " 'domestic toys',\n",
       " 'educational art',\n",
       " 'clothes',\n",
       " 'dollhouses',\n",
       " 'clothing accessories',\n",
       " 'doll accessories',\n",
       " 'furnishing',\n",
       " 'ballerina costume',\n",
       " 'barbie costume',\n",
       " 'barbie jeep',\n",
       " 'play makeup',\n",
       " 'bratz doll',\n",
       " 'jewelry',\n",
       " 'my little pony',\n",
       " 'tea set',\n",
       " 'vanity set',\n",
       " 'princess costume',\n",
       " 'baby dolls',\n",
       " 'beads',\n",
       " 'dollhouse',\n",
       " 'easy bake oven',\n",
       " 'baby doll stroller',\n",
       " 'sewing machine',\n",
       " 'pink ice skates',\n",
       " 'ken doll',\n",
       " 'toy kitchen',\n",
       " 'broom',\n",
       " 'beanie baby bear',\n",
       " 'toy vacuum cleaner',\n",
       " 'veterinarian kit',\n",
       " 'kitchen set',\n",
       " 'stuffed animals',\n",
       " 'plush toys',\n",
       " 'unicorn',\n",
       " 'sparkly toys',\n",
       " 'disney doll',\n",
       " 'baking kit',\n",
       " 'painting kit',\n",
       " 'dora doll',\n",
       " 'power ranger valentine',\n",
       " 'dorothy costume',\n",
       " 'minnie mouse',\n",
       " 'monster high doll',\n",
       " 'monster high costume',\n",
       " 'barbie',\n",
       " 'baby doll',\n",
       " 'fashion doll',\n",
       " 'tiara',\n",
       " 'craft toys',\n",
       " 'beauty products',\n",
       " 'tea party set',\n",
       " 'pink doll',\n",
       " 'cupcake maker',\n",
       " 'makeup kit',\n",
       " 'fashion dolls',\n",
       " 'crochet kit',\n",
       " 'playhouses',\n",
       " 'princess sword',\n",
       " 'doctors kit',\n",
       " 'skin care kit',\n",
       " 'barbie furniture set',\n",
       " 'pink ipad',\n",
       " 'toy animals',\n",
       " 'books',\n",
       " 'educational teaching',\n",
       " 'musical games',\n",
       " 'games',\n",
       " 'live animals',\n",
       " 'candy land',\n",
       " 'winnie the pooh',\n",
       " 'karaoke machine',\n",
       " 'elmo',\n",
       " 'gardening tools',\n",
       " 'crayons',\n",
       " 'doctor kit',\n",
       " 'tricycle',\n",
       " 'play-doh',\n",
       " 'leappad',\n",
       " 'trampoline',\n",
       " 'swingset',\n",
       " 'mr potato head',\n",
       " 'spongebob square pants',\n",
       " 'math flash card',\n",
       " 'wagon',\n",
       " 'bus',\n",
       " 'tree house',\n",
       " 'wood blocks',\n",
       " 'harry potter books',\n",
       " 'legos',\n",
       " 'scooter',\n",
       " 'drum set',\n",
       " 'puzzles',\n",
       " 'board games',\n",
       " 'rock painting']"
      ]
     },
     "execution_count": 23,
     "metadata": {},
     "output_type": "execute_result"
    }
   ],
   "source": [
    "new_content = [x.strip() for x in all_items]\n",
    "new_content = [x.replace(' for','') for x in new_content]\n",
    "new_content = [x.lower() for x in new_content]\n",
    "new_content"
   ]
  },
  {
   "cell_type": "code",
   "execution_count": 24,
   "metadata": {
    "id": "vheiNobHrK6n",
    "outputId": "7a611450-c57f-4b4a-8e42-2f8102b8e22e"
   },
   "outputs": [
    {
     "data": {
      "text/plain": [
       "['vehicle toys for',\n",
       " 'sport for',\n",
       " 'military toys for',\n",
       " 'race cars for',\n",
       " 'outer space toys for',\n",
       " 'depots for',\n",
       " 'machines for',\n",
       " 'doll-humanoid for',\n",
       " 'action figures for',\n",
       " 'gi joe action figure for',\n",
       " 'spiderman for',\n",
       " 'guitar for',\n",
       " 'castle tent for',\n",
       " 'microscope for',\n",
       " 'monster trucks for',\n",
       " 'bug collection set for',\n",
       " 'barn for',\n",
       " 'grill for',\n",
       " 'dinosaur toy for',\n",
       " 'volcano creator for',\n",
       " 'pokemon cards for',\n",
       " 'space station toys for',\n",
       " 'basketball hoop for',\n",
       " 'gears for',\n",
       " 'train set for',\n",
       " 'lincoln logs for',\n",
       " 'police station toy for',\n",
       " 'airport toy for',\n",
       " 'police officer gear for',\n",
       " 'dragonballz for',\n",
       " 'superhero costumes for',\n",
       " 'helicopter for',\n",
       " 'racetrack for',\n",
       " 'remote control car for',\n",
       " 'football for',\n",
       " 'hockey stick for',\n",
       " 'sword toy for',\n",
       " 'miniature guns for',\n",
       " 'truck set for',\n",
       " 'remote control helicopter for',\n",
       " 'sully costume for',\n",
       " 'woody valentine for',\n",
       " 'spiderman costume for',\n",
       " 'batman costume for',\n",
       " 'ninja costume for',\n",
       " 'wwe action figure for',\n",
       " 'action figure for',\n",
       " 'toy gun for',\n",
       " 'construction games for',\n",
       " 'war toys for',\n",
       " 'toy vehicles for',\n",
       " 'educational material for',\n",
       " 'nerf guns for',\n",
       " 'construction toys for',\n",
       " 'car toys for',\n",
       " 'video games for',\n",
       " 'building blocks for',\n",
       " 'dinosaur toys for',\n",
       " 'lego cars for',\n",
       " 'lego toys for',\n",
       " 'computer games for',\n",
       " 'spaceship lego for',\n",
       " 'firefighter gear for',\n",
       " 'soldier toys for',\n",
       " 'space station for',\n",
       " 'science project kit for',\n",
       " 'toy rocket for',\n",
       " 'soccer ball for',\n",
       " 'blue ipad for',\n",
       " 'toy robots for',\n",
       " 'toy drones for',\n",
       " 'doll for',\n",
       " 'domestic toys for',\n",
       " 'educational art for',\n",
       " 'clothes for',\n",
       " 'dollhouses for',\n",
       " 'clothing accessories for',\n",
       " 'doll accessories for',\n",
       " 'furnishing for',\n",
       " 'ballerina costume for',\n",
       " 'barbie costume for',\n",
       " 'barbie jeep for',\n",
       " 'play makeup for',\n",
       " 'bratz doll for',\n",
       " 'jewelry for',\n",
       " 'my little pony for',\n",
       " 'tea set for',\n",
       " 'vanity set for',\n",
       " 'princess costume for',\n",
       " 'baby dolls for',\n",
       " 'beads for',\n",
       " 'dollhouse for',\n",
       " 'easy bake oven for',\n",
       " 'baby doll stroller for',\n",
       " 'sewing machine for',\n",
       " 'pink ice skates for',\n",
       " 'ken doll for',\n",
       " 'toy kitchen for',\n",
       " 'broom for',\n",
       " 'beanie baby bear for',\n",
       " 'toy vacuum cleaner for',\n",
       " 'veterinarian kit for',\n",
       " 'kitchen set for',\n",
       " 'stuffed animals for',\n",
       " 'plush toys for',\n",
       " 'unicorn for',\n",
       " 'sparkly toys for',\n",
       " 'disney doll for',\n",
       " 'baking kit for',\n",
       " 'painting kit for',\n",
       " 'dora doll for',\n",
       " 'power ranger valentine for',\n",
       " 'dorothy costume for',\n",
       " 'minnie mouse for',\n",
       " 'monster high doll for',\n",
       " 'monster high costume for',\n",
       " 'barbie for',\n",
       " 'baby doll for',\n",
       " 'fashion doll for',\n",
       " 'tiara for',\n",
       " 'craft toys for',\n",
       " 'beauty products for',\n",
       " 'tea party set for',\n",
       " 'pink doll for',\n",
       " 'cupcake maker for',\n",
       " 'makeup kit for',\n",
       " 'fashion dolls for',\n",
       " 'crochet kit for',\n",
       " 'playhouses for',\n",
       " 'princess sword for',\n",
       " 'doctors kit for',\n",
       " 'skin care kit for',\n",
       " 'barbie furniture set for',\n",
       " 'pink ipad for',\n",
       " 'toy animals for',\n",
       " 'books for',\n",
       " 'educational teaching for',\n",
       " 'musical games for',\n",
       " 'games for',\n",
       " 'live animals for',\n",
       " 'candy land for',\n",
       " 'winnie the pooh for',\n",
       " 'karaoke machine for',\n",
       " 'elmo for',\n",
       " 'gardening tools for',\n",
       " 'crayons for',\n",
       " 'doctor kit for',\n",
       " 'tricycle for',\n",
       " 'play-doh for',\n",
       " 'leappad for',\n",
       " 'trampoline for',\n",
       " 'swingset for',\n",
       " 'mr potato head for',\n",
       " 'spongebob square pants for',\n",
       " 'math flash card for',\n",
       " 'wagon for',\n",
       " 'bus for',\n",
       " 'tree house for',\n",
       " 'wood blocks for',\n",
       " 'harry potter books for',\n",
       " 'legos for',\n",
       " 'scooter for',\n",
       " 'drum set for',\n",
       " 'puzzles for',\n",
       " 'board games for',\n",
       " 'rock painting for']"
      ]
     },
     "execution_count": 24,
     "metadata": {},
     "output_type": "execute_result"
    }
   ],
   "source": [
    "search_terms = [x+' for' for x in new_content]\n",
    "search_terms"
   ]
  },
  {
   "cell_type": "markdown",
   "metadata": {
    "id": "rZoRgOPLrK6o"
   },
   "source": [
    "search_books = [x+' for' for x in books]\n",
    "search_books"
   ]
  },
  {
   "cell_type": "markdown",
   "metadata": {
    "id": "2cUiROYyrK6p"
   },
   "source": [
    "## Search Engines and E-Com Sites"
   ]
  },
  {
   "cell_type": "markdown",
   "metadata": {
    "id": "ixqQWo4erK6w"
   },
   "source": [
    "### Amazon"
   ]
  },
  {
   "cell_type": "code",
   "execution_count": 25,
   "metadata": {
    "id": "TeQHIWsTrK6y"
   },
   "outputs": [],
   "source": [
    "def amazon_scrape(query):\n",
    "    url = f\"https://completion.amazon.com/api/2017/suggestions?session-id=131-6901588-5783061&customer-id=A373R49950VTB6&request-id=72HVV86S4JC3AK898B3X&page-type=Gateway&lop=en_gb&site-variant=desktop&client-info=amazon-search-ui&mid=ATVPDKIKX0DER&alias=aps&ks=undefined&prefix={query}&event=onFocusWithSearchTerm&limit=11&b2b=0&fresh=0&fb=1&suggestion-type=KEYWORD&suggestion-type=WIDGET&_=1637596795610\"\n",
    "    response = requests.get(url, headers=headers, verify=False).json()\n",
    "    return response"
   ]
  },
  {
   "cell_type": "markdown",
   "metadata": {
    "id": "HfDpLCy2rK7D"
   },
   "source": [
    "### All together"
   ]
  },
  {
   "cell_type": "code",
   "execution_count": 26,
   "metadata": {
    "id": "QzDAuYeBrK7E"
   },
   "outputs": [],
   "source": [
    "def amazon_auto(item):\n",
    "    res = amazon_scrape(item)\n",
    "    suggestions = res['suggestions']\n",
    "    results = []\n",
    "    for s in suggestions:\n",
    "        results.append(s['value'])\n",
    "    return results"
   ]
  },
  {
   "cell_type": "markdown",
   "metadata": {
    "id": "3qu9oCwkrK7I"
   },
   "source": [
    "## Run queries"
   ]
  },
  {
   "cell_type": "code",
   "execution_count": 27,
   "metadata": {
    "id": "4Mw6WgLGrK7J",
    "outputId": "b972fe58-255b-42ca-be1f-f008224bcad1"
   },
   "outputs": [
    {
     "data": {
      "text/html": [
       "<div>\n",
       "<style scoped>\n",
       "    .dataframe tbody tr th:only-of-type {\n",
       "        vertical-align: middle;\n",
       "    }\n",
       "\n",
       "    .dataframe tbody tr th {\n",
       "        vertical-align: top;\n",
       "    }\n",
       "\n",
       "    .dataframe thead th {\n",
       "        text-align: right;\n",
       "    }\n",
       "</style>\n",
       "<table border=\"1\" class=\"dataframe\">\n",
       "  <thead>\n",
       "    <tr style=\"text-align: right;\">\n",
       "      <th></th>\n",
       "      <th>platform</th>\n",
       "      <th>query</th>\n",
       "      <th>suggestions</th>\n",
       "    </tr>\n",
       "  </thead>\n",
       "  <tbody>\n",
       "  </tbody>\n",
       "</table>\n",
       "</div>"
      ],
      "text/plain": [
       "Empty DataFrame\n",
       "Columns: [platform, query, suggestions]\n",
       "Index: []"
      ]
     },
     "execution_count": 27,
     "metadata": {},
     "output_type": "execute_result"
    }
   ],
   "source": [
    "import pandas as pd\n",
    "columns = ['platform', 'query', 'suggestions']\n",
    "df = pd.DataFrame(columns = columns)\n",
    "df"
   ]
  },
  {
   "cell_type": "code",
   "execution_count": 37,
   "metadata": {
    "id": "fj2CUZNirK7J"
   },
   "outputs": [],
   "source": [
    "def search(platform):\n",
    "    if platform == 'Amazon_UK':\n",
    "        return amazon_auto(item)"
   ]
  },
  {
   "cell_type": "code",
   "execution_count": null,
   "metadata": {
    "id": "qS0hQVGWrK7N"
   },
   "outputs": [],
   "source": [
    "import time\n",
    "import warnings\n",
    "warnings.filterwarnings('ignore')\n",
    "platforms = ['Amazon_UK']\n",
    "data = []\n",
    "for item in contents:\n",
    "    for platform in platforms:\n",
    "        result = search(platform) \n",
    "        values = [platform, item, result]\n",
    "        zipped = zip(columns, values)\n",
    "        a_dictionary = dict(zipped)\n",
    "        #print(a_dictionary)\n",
    "        time.sleep(1.5)\n",
    "        data.append(a_dictionary)"
   ]
  },
  {
   "cell_type": "code",
   "execution_count": 36,
   "metadata": {
    "id": "HePm6xn-rK7P",
    "outputId": "4ad8c767-8b50-4003-9d6a-dad8b28decb0"
   },
   "outputs": [
    {
     "data": {
      "text/plain": [
       "[{'platform': 'Amazon_UK', 'query': 'vehicle toys', 'suggestions': None},\n",
       " {'platform': 'Amazon_UK', 'query': 'sport', 'suggestions': None},\n",
       " {'platform': 'Amazon_UK', 'query': 'military toys', 'suggestions': None},\n",
       " {'platform': 'Amazon_UK', 'query': 'race cars', 'suggestions': None},\n",
       " {'platform': 'Amazon_UK', 'query': 'outer space toys', 'suggestions': None},\n",
       " {'platform': 'Amazon_UK', 'query': 'depots', 'suggestions': None},\n",
       " {'platform': 'Amazon_UK', 'query': 'machines', 'suggestions': None},\n",
       " {'platform': 'Amazon_UK', 'query': 'doll-humanoid', 'suggestions': None},\n",
       " {'platform': 'Amazon_UK', 'query': 'action figures', 'suggestions': None},\n",
       " {'platform': 'Amazon_UK',\n",
       "  'query': 'gi joe action figure',\n",
       "  'suggestions': None},\n",
       " {'platform': 'Amazon_UK', 'query': 'spiderman', 'suggestions': None},\n",
       " {'platform': 'Amazon_UK', 'query': 'guitar', 'suggestions': None},\n",
       " {'platform': 'Amazon_UK', 'query': 'castle tent', 'suggestions': None},\n",
       " {'platform': 'Amazon_UK', 'query': 'microscope', 'suggestions': None},\n",
       " {'platform': 'Amazon_UK', 'query': 'monster trucks', 'suggestions': None},\n",
       " {'platform': 'Amazon_UK', 'query': 'bug collection set', 'suggestions': None},\n",
       " {'platform': 'Amazon_UK', 'query': 'barn', 'suggestions': None},\n",
       " {'platform': 'Amazon_UK', 'query': 'grill', 'suggestions': None},\n",
       " {'platform': 'Amazon_UK', 'query': 'dinosaur toy', 'suggestions': None},\n",
       " {'platform': 'Amazon_UK', 'query': 'volcano creator', 'suggestions': None},\n",
       " {'platform': 'Amazon_UK', 'query': 'pokemon cards', 'suggestions': None},\n",
       " {'platform': 'Amazon_UK', 'query': 'space station toys', 'suggestions': None},\n",
       " {'platform': 'Amazon_UK', 'query': 'basketball hoop', 'suggestions': None},\n",
       " {'platform': 'Amazon_UK', 'query': 'gears', 'suggestions': None},\n",
       " {'platform': 'Amazon_UK', 'query': 'train set', 'suggestions': None},\n",
       " {'platform': 'Amazon_UK', 'query': 'lincoln logs', 'suggestions': None},\n",
       " {'platform': 'Amazon_UK', 'query': 'police station toy', 'suggestions': None},\n",
       " {'platform': 'Amazon_UK', 'query': 'airport toy', 'suggestions': None},\n",
       " {'platform': 'Amazon_UK',\n",
       "  'query': 'police officer gear',\n",
       "  'suggestions': None},\n",
       " {'platform': 'Amazon_UK', 'query': 'dragonballz', 'suggestions': None},\n",
       " {'platform': 'Amazon_UK', 'query': 'superhero costumes', 'suggestions': None},\n",
       " {'platform': 'Amazon_UK', 'query': 'helicopter', 'suggestions': None},\n",
       " {'platform': 'Amazon_UK', 'query': 'racetrack', 'suggestions': None},\n",
       " {'platform': 'Amazon_UK', 'query': 'remote control car', 'suggestions': None},\n",
       " {'platform': 'Amazon_UK', 'query': 'football', 'suggestions': None},\n",
       " {'platform': 'Amazon_UK', 'query': 'hockey stick', 'suggestions': None},\n",
       " {'platform': 'Amazon_UK', 'query': 'sword toy', 'suggestions': None},\n",
       " {'platform': 'Amazon_UK', 'query': 'miniature guns', 'suggestions': None},\n",
       " {'platform': 'Amazon_UK', 'query': 'truck set', 'suggestions': None},\n",
       " {'platform': 'Amazon_UK',\n",
       "  'query': 'remote control helicopter',\n",
       "  'suggestions': None},\n",
       " {'platform': 'Amazon_UK', 'query': 'sully costume', 'suggestions': None},\n",
       " {'platform': 'Amazon_UK', 'query': 'woody valentine', 'suggestions': None},\n",
       " {'platform': 'Amazon_UK', 'query': 'spiderman costume', 'suggestions': None},\n",
       " {'platform': 'Amazon_UK', 'query': 'batman costume', 'suggestions': None},\n",
       " {'platform': 'Amazon_UK', 'query': 'ninja costume', 'suggestions': None},\n",
       " {'platform': 'Amazon_UK', 'query': 'wwe action figure', 'suggestions': None},\n",
       " {'platform': 'Amazon_UK', 'query': 'action figure', 'suggestions': None},\n",
       " {'platform': 'Amazon_UK', 'query': 'toy gun', 'suggestions': None},\n",
       " {'platform': 'Amazon_UK', 'query': 'construction games', 'suggestions': None},\n",
       " {'platform': 'Amazon_UK', 'query': 'war toys', 'suggestions': None},\n",
       " {'platform': 'Amazon_UK', 'query': 'toy vehicles', 'suggestions': None},\n",
       " {'platform': 'Amazon_UK',\n",
       "  'query': 'educational material',\n",
       "  'suggestions': None},\n",
       " {'platform': 'Amazon_UK', 'query': 'nerf guns', 'suggestions': None},\n",
       " {'platform': 'Amazon_UK', 'query': 'construction toys', 'suggestions': None},\n",
       " {'platform': 'Amazon_UK', 'query': 'car toys', 'suggestions': None},\n",
       " {'platform': 'Amazon_UK', 'query': 'video games', 'suggestions': None},\n",
       " {'platform': 'Amazon_UK', 'query': 'building blocks', 'suggestions': None},\n",
       " {'platform': 'Amazon_UK', 'query': 'dinosaur toys', 'suggestions': None},\n",
       " {'platform': 'Amazon_UK', 'query': 'lego cars', 'suggestions': None},\n",
       " {'platform': 'Amazon_UK', 'query': 'lego toys', 'suggestions': None},\n",
       " {'platform': 'Amazon_UK', 'query': 'computer games', 'suggestions': None},\n",
       " {'platform': 'Amazon_UK', 'query': 'spaceship lego', 'suggestions': None},\n",
       " {'platform': 'Amazon_UK', 'query': 'firefighter gear', 'suggestions': None},\n",
       " {'platform': 'Amazon_UK', 'query': 'soldier toys', 'suggestions': None},\n",
       " {'platform': 'Amazon_UK', 'query': 'space station', 'suggestions': None},\n",
       " {'platform': 'Amazon_UK',\n",
       "  'query': 'science project kit',\n",
       "  'suggestions': None},\n",
       " {'platform': 'Amazon_UK', 'query': 'toy rocket', 'suggestions': None},\n",
       " {'platform': 'Amazon_UK', 'query': 'soccer ball', 'suggestions': None},\n",
       " {'platform': 'Amazon_UK', 'query': 'blue ipad', 'suggestions': None},\n",
       " {'platform': 'Amazon_UK', 'query': 'toy robots', 'suggestions': None},\n",
       " {'platform': 'Amazon_UK', 'query': 'toy drones', 'suggestions': None},\n",
       " {'platform': 'Amazon_UK', 'query': 'doll', 'suggestions': None},\n",
       " {'platform': 'Amazon_UK', 'query': 'domestic toys', 'suggestions': None},\n",
       " {'platform': 'Amazon_UK', 'query': 'educational art', 'suggestions': None},\n",
       " {'platform': 'Amazon_UK', 'query': 'clothes', 'suggestions': None},\n",
       " {'platform': 'Amazon_UK', 'query': 'dollhouses', 'suggestions': None},\n",
       " {'platform': 'Amazon_UK',\n",
       "  'query': 'clothing accessories',\n",
       "  'suggestions': None},\n",
       " {'platform': 'Amazon_UK', 'query': 'doll accessories', 'suggestions': None},\n",
       " {'platform': 'Amazon_UK', 'query': 'furnishing', 'suggestions': None},\n",
       " {'platform': 'Amazon_UK', 'query': 'ballerina costume', 'suggestions': None},\n",
       " {'platform': 'Amazon_UK', 'query': 'barbie costume', 'suggestions': None},\n",
       " {'platform': 'Amazon_UK', 'query': 'barbie jeep', 'suggestions': None},\n",
       " {'platform': 'Amazon_UK', 'query': 'play makeup', 'suggestions': None},\n",
       " {'platform': 'Amazon_UK', 'query': 'bratz doll', 'suggestions': None},\n",
       " {'platform': 'Amazon_UK', 'query': 'jewelry', 'suggestions': None},\n",
       " {'platform': 'Amazon_UK', 'query': 'my little pony', 'suggestions': None},\n",
       " {'platform': 'Amazon_UK', 'query': 'tea set', 'suggestions': None},\n",
       " {'platform': 'Amazon_UK', 'query': 'vanity set', 'suggestions': None},\n",
       " {'platform': 'Amazon_UK', 'query': 'princess costume', 'suggestions': None},\n",
       " {'platform': 'Amazon_UK', 'query': 'baby dolls', 'suggestions': None},\n",
       " {'platform': 'Amazon_UK', 'query': 'beads', 'suggestions': None},\n",
       " {'platform': 'Amazon_UK', 'query': 'dollhouse', 'suggestions': None},\n",
       " {'platform': 'Amazon_UK', 'query': 'easy bake oven', 'suggestions': None},\n",
       " {'platform': 'Amazon_UK', 'query': 'baby doll stroller', 'suggestions': None},\n",
       " {'platform': 'Amazon_UK', 'query': 'sewing machine', 'suggestions': None},\n",
       " {'platform': 'Amazon_UK', 'query': 'pink ice skates', 'suggestions': None},\n",
       " {'platform': 'Amazon_UK', 'query': 'ken doll', 'suggestions': None},\n",
       " {'platform': 'Amazon_UK', 'query': 'toy kitchen', 'suggestions': None},\n",
       " {'platform': 'Amazon_UK', 'query': 'broom', 'suggestions': None},\n",
       " {'platform': 'Amazon_UK', 'query': 'beanie baby bear', 'suggestions': None},\n",
       " {'platform': 'Amazon_UK', 'query': 'toy vacuum cleaner', 'suggestions': None},\n",
       " {'platform': 'Amazon_UK', 'query': 'veterinarian kit', 'suggestions': None},\n",
       " {'platform': 'Amazon_UK', 'query': 'kitchen set', 'suggestions': None},\n",
       " {'platform': 'Amazon_UK', 'query': 'stuffed animals', 'suggestions': None},\n",
       " {'platform': 'Amazon_UK', 'query': 'plush toys', 'suggestions': None},\n",
       " {'platform': 'Amazon_UK', 'query': 'unicorn', 'suggestions': None},\n",
       " {'platform': 'Amazon_UK', 'query': 'sparkly toys', 'suggestions': None},\n",
       " {'platform': 'Amazon_UK', 'query': 'disney doll', 'suggestions': None},\n",
       " {'platform': 'Amazon_UK', 'query': 'baking kit', 'suggestions': None},\n",
       " {'platform': 'Amazon_UK', 'query': 'painting kit', 'suggestions': None},\n",
       " {'platform': 'Amazon_UK', 'query': 'dora doll', 'suggestions': None},\n",
       " {'platform': 'Amazon_UK',\n",
       "  'query': 'power ranger valentine',\n",
       "  'suggestions': None},\n",
       " {'platform': 'Amazon_UK', 'query': 'dorothy costume', 'suggestions': None},\n",
       " {'platform': 'Amazon_UK', 'query': 'minnie mouse', 'suggestions': None},\n",
       " {'platform': 'Amazon_UK', 'query': 'monster high doll', 'suggestions': None},\n",
       " {'platform': 'Amazon_UK',\n",
       "  'query': 'monster high costume',\n",
       "  'suggestions': None},\n",
       " {'platform': 'Amazon_UK', 'query': 'barbie', 'suggestions': None},\n",
       " {'platform': 'Amazon_UK', 'query': 'baby doll', 'suggestions': None},\n",
       " {'platform': 'Amazon_UK', 'query': 'fashion doll', 'suggestions': None},\n",
       " {'platform': 'Amazon_UK', 'query': 'tiara', 'suggestions': None},\n",
       " {'platform': 'Amazon_UK', 'query': 'craft toys', 'suggestions': None},\n",
       " {'platform': 'Amazon_UK', 'query': 'beauty products', 'suggestions': None},\n",
       " {'platform': 'Amazon_UK', 'query': 'tea party set', 'suggestions': None},\n",
       " {'platform': 'Amazon_UK', 'query': 'pink doll', 'suggestions': None},\n",
       " {'platform': 'Amazon_UK', 'query': 'cupcake maker', 'suggestions': None},\n",
       " {'platform': 'Amazon_UK', 'query': 'makeup kit', 'suggestions': None},\n",
       " {'platform': 'Amazon_UK', 'query': 'fashion dolls', 'suggestions': None},\n",
       " {'platform': 'Amazon_UK', 'query': 'crochet kit', 'suggestions': None},\n",
       " {'platform': 'Amazon_UK', 'query': 'playhouses', 'suggestions': None},\n",
       " {'platform': 'Amazon_UK', 'query': 'princess sword', 'suggestions': None},\n",
       " {'platform': 'Amazon_UK', 'query': 'doctors kit', 'suggestions': None},\n",
       " {'platform': 'Amazon_UK', 'query': 'skin care kit', 'suggestions': None},\n",
       " {'platform': 'Amazon_UK',\n",
       "  'query': 'barbie furniture set',\n",
       "  'suggestions': None}]"
      ]
     },
     "execution_count": 36,
     "metadata": {},
     "output_type": "execute_result"
    }
   ],
   "source": [
    "data"
   ]
  },
  {
   "cell_type": "code",
   "execution_count": 31,
   "metadata": {
    "id": "YI6nkF5FrK7Q",
    "outputId": "bd6200da-c5ed-4094-bb5b-6f8bfe93f241"
   },
   "outputs": [
    {
     "data": {
      "text/html": [
       "<div>\n",
       "<style scoped>\n",
       "    .dataframe tbody tr th:only-of-type {\n",
       "        vertical-align: middle;\n",
       "    }\n",
       "\n",
       "    .dataframe tbody tr th {\n",
       "        vertical-align: top;\n",
       "    }\n",
       "\n",
       "    .dataframe thead th {\n",
       "        text-align: right;\n",
       "    }\n",
       "</style>\n",
       "<table border=\"1\" class=\"dataframe\">\n",
       "  <thead>\n",
       "    <tr style=\"text-align: right;\">\n",
       "      <th></th>\n",
       "      <th>platform</th>\n",
       "      <th>query</th>\n",
       "      <th>suggestions</th>\n",
       "    </tr>\n",
       "  </thead>\n",
       "  <tbody>\n",
       "    <tr>\n",
       "      <th>0</th>\n",
       "      <td>Amazon</td>\n",
       "      <td>vehicle toys</td>\n",
       "      <td>[vehicle toys, vehicle toys for boys 3-5 years...</td>\n",
       "    </tr>\n",
       "    <tr>\n",
       "      <th>1</th>\n",
       "      <td>Amazon</td>\n",
       "      <td>sport</td>\n",
       "      <td>[sports bras for women, sports bra, sports gif...</td>\n",
       "    </tr>\n",
       "    <tr>\n",
       "      <th>2</th>\n",
       "      <td>Amazon</td>\n",
       "      <td>military toys</td>\n",
       "      <td>[military toys, military toys for boys age 8-1...</td>\n",
       "    </tr>\n",
       "    <tr>\n",
       "      <th>3</th>\n",
       "      <td>Amazon</td>\n",
       "      <td>race cars</td>\n",
       "      <td>[race cars, race cars for kids ages 3-5, race ...</td>\n",
       "    </tr>\n",
       "    <tr>\n",
       "      <th>4</th>\n",
       "      <td>Amazon</td>\n",
       "      <td>outer space toys</td>\n",
       "      <td>[outer space toys, outer space toys for kids 5...</td>\n",
       "    </tr>\n",
       "    <tr>\n",
       "      <th>...</th>\n",
       "      <td>...</td>\n",
       "      <td>...</td>\n",
       "      <td>...</td>\n",
       "    </tr>\n",
       "    <tr>\n",
       "      <th>128</th>\n",
       "      <td>Amazon</td>\n",
       "      <td>playhouses</td>\n",
       "      <td>[playhouses, playhouses for kids outdoor, play...</td>\n",
       "    </tr>\n",
       "    <tr>\n",
       "      <th>129</th>\n",
       "      <td>Amazon</td>\n",
       "      <td>princess sword</td>\n",
       "      <td>[princess sword, princess sword and shield, pr...</td>\n",
       "    </tr>\n",
       "    <tr>\n",
       "      <th>130</th>\n",
       "      <td>Amazon</td>\n",
       "      <td>doctors kit</td>\n",
       "      <td>[doctors kit, doctors kit for 3 year old, doct...</td>\n",
       "    </tr>\n",
       "    <tr>\n",
       "      <th>131</th>\n",
       "      <td>Amazon</td>\n",
       "      <td>skin care kit</td>\n",
       "      <td>[skin care kit, skin care kit for teen girls, ...</td>\n",
       "    </tr>\n",
       "    <tr>\n",
       "      <th>132</th>\n",
       "      <td>Amazon</td>\n",
       "      <td>barbie furniture set</td>\n",
       "      <td>[barbie furniture sets, barbie furniture sets ...</td>\n",
       "    </tr>\n",
       "  </tbody>\n",
       "</table>\n",
       "<p>133 rows × 3 columns</p>\n",
       "</div>"
      ],
      "text/plain": [
       "    platform                 query  \\\n",
       "0     Amazon          vehicle toys   \n",
       "1     Amazon                 sport   \n",
       "2     Amazon         military toys   \n",
       "3     Amazon             race cars   \n",
       "4     Amazon      outer space toys   \n",
       "..       ...                   ...   \n",
       "128   Amazon            playhouses   \n",
       "129   Amazon        princess sword   \n",
       "130   Amazon           doctors kit   \n",
       "131   Amazon         skin care kit   \n",
       "132   Amazon  barbie furniture set   \n",
       "\n",
       "                                           suggestions  \n",
       "0    [vehicle toys, vehicle toys for boys 3-5 years...  \n",
       "1    [sports bras for women, sports bra, sports gif...  \n",
       "2    [military toys, military toys for boys age 8-1...  \n",
       "3    [race cars, race cars for kids ages 3-5, race ...  \n",
       "4    [outer space toys, outer space toys for kids 5...  \n",
       "..                                                 ...  \n",
       "128  [playhouses, playhouses for kids outdoor, play...  \n",
       "129  [princess sword, princess sword and shield, pr...  \n",
       "130  [doctors kit, doctors kit for 3 year old, doct...  \n",
       "131  [skin care kit, skin care kit for teen girls, ...  \n",
       "132  [barbie furniture sets, barbie furniture sets ...  \n",
       "\n",
       "[133 rows x 3 columns]"
      ]
     },
     "execution_count": 31,
     "metadata": {},
     "output_type": "execute_result"
    }
   ],
   "source": [
    "df = df.append(data, True)\n",
    "df"
   ]
  },
  {
   "cell_type": "code",
   "execution_count": 32,
   "metadata": {
    "id": "lwr2RjjFrK7R"
   },
   "outputs": [],
   "source": [
    "df.to_csv('az_uk_query_suggestions.csv', index = False)"
   ]
  },
  {
   "cell_type": "code",
   "execution_count": null,
   "metadata": {},
   "outputs": [],
   "source": []
  }
 ],
 "metadata": {
  "colab": {
   "provenance": []
  },
  "kernelspec": {
   "display_name": "Python 3 (ipykernel)",
   "language": "python",
   "name": "python3"
  },
  "language_info": {
   "codemirror_mode": {
    "name": "ipython",
    "version": 3
   },
   "file_extension": ".py",
   "mimetype": "text/x-python",
   "name": "python",
   "nbconvert_exporter": "python",
   "pygments_lexer": "ipython3",
   "version": "3.9.13"
  }
 },
 "nbformat": 4,
 "nbformat_minor": 4
}
