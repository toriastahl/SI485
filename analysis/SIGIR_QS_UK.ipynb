{
 "cells": [
  {
   "cell_type": "code",
   "execution_count": 1,
   "metadata": {},
   "outputs": [],
   "source": [
    "import pandas as pd\n",
    "import numpy as np\n",
    "import matplotlib.pyplot as plt"
   ]
  },
  {
   "cell_type": "code",
   "execution_count": 2,
   "metadata": {},
   "outputs": [],
   "source": [
    "original_stereo = pd.read_csv('../predoc_info/predoc_toys_w_gender_label.csv')\n",
    "original_items = original_stereo['item'].unique()"
   ]
  },
  {
   "cell_type": "code",
   "execution_count": 3,
   "metadata": {},
   "outputs": [
    {
     "data": {
      "text/html": [
       "<div>\n",
       "<style scoped>\n",
       "    .dataframe tbody tr th:only-of-type {\n",
       "        vertical-align: middle;\n",
       "    }\n",
       "\n",
       "    .dataframe tbody tr th {\n",
       "        vertical-align: top;\n",
       "    }\n",
       "\n",
       "    .dataframe thead th {\n",
       "        text-align: right;\n",
       "    }\n",
       "</style>\n",
       "<table border=\"1\" class=\"dataframe\">\n",
       "  <thead>\n",
       "    <tr style=\"text-align: right;\">\n",
       "      <th></th>\n",
       "      <th>Gender</th>\n",
       "      <th>item</th>\n",
       "    </tr>\n",
       "  </thead>\n",
       "  <tbody>\n",
       "    <tr>\n",
       "      <th>0</th>\n",
       "      <td>BOY</td>\n",
       "      <td>vehicle toys</td>\n",
       "    </tr>\n",
       "    <tr>\n",
       "      <th>1</th>\n",
       "      <td>BOY</td>\n",
       "      <td>sport</td>\n",
       "    </tr>\n",
       "    <tr>\n",
       "      <th>2</th>\n",
       "      <td>BOY</td>\n",
       "      <td>military toys</td>\n",
       "    </tr>\n",
       "    <tr>\n",
       "      <th>3</th>\n",
       "      <td>BOY</td>\n",
       "      <td>race cars</td>\n",
       "    </tr>\n",
       "    <tr>\n",
       "      <th>4</th>\n",
       "      <td>BOY</td>\n",
       "      <td>outer space toys</td>\n",
       "    </tr>\n",
       "    <tr>\n",
       "      <th>...</th>\n",
       "      <td>...</td>\n",
       "      <td>...</td>\n",
       "    </tr>\n",
       "    <tr>\n",
       "      <th>170</th>\n",
       "      <td>NEUTRAL</td>\n",
       "      <td>scooter</td>\n",
       "    </tr>\n",
       "    <tr>\n",
       "      <th>171</th>\n",
       "      <td>NEUTRAL</td>\n",
       "      <td>drum set</td>\n",
       "    </tr>\n",
       "    <tr>\n",
       "      <th>172</th>\n",
       "      <td>NEUTRAL</td>\n",
       "      <td>puzzles</td>\n",
       "    </tr>\n",
       "    <tr>\n",
       "      <th>173</th>\n",
       "      <td>NEUTRAL</td>\n",
       "      <td>board games</td>\n",
       "    </tr>\n",
       "    <tr>\n",
       "      <th>174</th>\n",
       "      <td>NEUTRAL</td>\n",
       "      <td>rock painting</td>\n",
       "    </tr>\n",
       "  </tbody>\n",
       "</table>\n",
       "<p>175 rows × 2 columns</p>\n",
       "</div>"
      ],
      "text/plain": [
       "      Gender              item\n",
       "0        BOY      vehicle toys\n",
       "1        BOY             sport\n",
       "2        BOY     military toys\n",
       "3        BOY         race cars\n",
       "4        BOY  outer space toys\n",
       "..       ...               ...\n",
       "170  NEUTRAL           scooter\n",
       "171  NEUTRAL          drum set\n",
       "172  NEUTRAL           puzzles\n",
       "173  NEUTRAL       board games\n",
       "174  NEUTRAL     rock painting\n",
       "\n",
       "[175 rows x 2 columns]"
      ]
     },
     "execution_count": 3,
     "metadata": {},
     "output_type": "execute_result"
    }
   ],
   "source": [
    "original_stereo"
   ]
  },
  {
   "cell_type": "code",
   "execution_count": 4,
   "metadata": {},
   "outputs": [
    {
     "data": {
      "text/html": [
       "<div>\n",
       "<style scoped>\n",
       "    .dataframe tbody tr th:only-of-type {\n",
       "        vertical-align: middle;\n",
       "    }\n",
       "\n",
       "    .dataframe tbody tr th {\n",
       "        vertical-align: top;\n",
       "    }\n",
       "\n",
       "    .dataframe thead th {\n",
       "        text-align: right;\n",
       "    }\n",
       "</style>\n",
       "<table border=\"1\" class=\"dataframe\">\n",
       "  <thead>\n",
       "    <tr style=\"text-align: right;\">\n",
       "      <th></th>\n",
       "      <th>platform</th>\n",
       "      <th>item</th>\n",
       "      <th>suggestions</th>\n",
       "    </tr>\n",
       "  </thead>\n",
       "  <tbody>\n",
       "    <tr>\n",
       "      <th>0</th>\n",
       "      <td>Amazon_UK</td>\n",
       "      <td>vehicle toys</td>\n",
       "      <td>['vehicle toys for toddlers 1-3', 'vehicle toy...</td>\n",
       "    </tr>\n",
       "    <tr>\n",
       "      <th>1</th>\n",
       "      <td>Amazon_UK</td>\n",
       "      <td>sport</td>\n",
       "      <td>['sport formula 99', 'sport formula 99 vitamin...</td>\n",
       "    </tr>\n",
       "    <tr>\n",
       "      <th>2</th>\n",
       "      <td>Amazon_UK</td>\n",
       "      <td>military toys</td>\n",
       "      <td>['military toys for boys age 8-12', 'military ...</td>\n",
       "    </tr>\n",
       "    <tr>\n",
       "      <th>3</th>\n",
       "      <td>Amazon_UK</td>\n",
       "      <td>race cars</td>\n",
       "      <td>['race cars for kids ages 3-5', 'race cars for...</td>\n",
       "    </tr>\n",
       "    <tr>\n",
       "      <th>4</th>\n",
       "      <td>Amazon_UK</td>\n",
       "      <td>outer space toys</td>\n",
       "      <td>['outer space toys for kids 5-7', 'outer space...</td>\n",
       "    </tr>\n",
       "    <tr>\n",
       "      <th>...</th>\n",
       "      <td>...</td>\n",
       "      <td>...</td>\n",
       "      <td>...</td>\n",
       "    </tr>\n",
       "    <tr>\n",
       "      <th>161</th>\n",
       "      <td>Argos</td>\n",
       "      <td>scooter</td>\n",
       "      <td>['scooter for adults', 'scooter for', 'lego ic...</td>\n",
       "    </tr>\n",
       "    <tr>\n",
       "      <th>162</th>\n",
       "      <td>Argos</td>\n",
       "      <td>drum set</td>\n",
       "      <td>[]</td>\n",
       "    </tr>\n",
       "    <tr>\n",
       "      <th>163</th>\n",
       "      <td>Argos</td>\n",
       "      <td>puzzles</td>\n",
       "      <td>[]</td>\n",
       "    </tr>\n",
       "    <tr>\n",
       "      <th>164</th>\n",
       "      <td>Argos</td>\n",
       "      <td>board games</td>\n",
       "      <td>['board game for kids', 'family board game for...</td>\n",
       "    </tr>\n",
       "    <tr>\n",
       "      <th>165</th>\n",
       "      <td>Argos</td>\n",
       "      <td>rock painting</td>\n",
       "      <td>[]</td>\n",
       "    </tr>\n",
       "  </tbody>\n",
       "</table>\n",
       "<p>332 rows × 3 columns</p>\n",
       "</div>"
      ],
      "text/plain": [
       "      platform              item  \\\n",
       "0    Amazon_UK      vehicle toys   \n",
       "1    Amazon_UK             sport   \n",
       "2    Amazon_UK     military toys   \n",
       "3    Amazon_UK         race cars   \n",
       "4    Amazon_UK  outer space toys   \n",
       "..         ...               ...   \n",
       "161      Argos           scooter   \n",
       "162      Argos          drum set   \n",
       "163      Argos           puzzles   \n",
       "164      Argos       board games   \n",
       "165      Argos     rock painting   \n",
       "\n",
       "                                           suggestions  \n",
       "0    ['vehicle toys for toddlers 1-3', 'vehicle toy...  \n",
       "1    ['sport formula 99', 'sport formula 99 vitamin...  \n",
       "2    ['military toys for boys age 8-12', 'military ...  \n",
       "3    ['race cars for kids ages 3-5', 'race cars for...  \n",
       "4    ['outer space toys for kids 5-7', 'outer space...  \n",
       "..                                                 ...  \n",
       "161  ['scooter for adults', 'scooter for', 'lego ic...  \n",
       "162                                                 []  \n",
       "163                                                 []  \n",
       "164  ['board game for kids', 'family board game for...  \n",
       "165                                                 []  \n",
       "\n",
       "[332 rows x 3 columns]"
      ]
     },
     "execution_count": 4,
     "metadata": {},
     "output_type": "execute_result"
    }
   ],
   "source": [
    "azuk = pd.read_csv('../az_uk_query_suggestions.csv')\n",
    "argos = pd.read_csv('../argos_query_suggestions.csv')\n",
    "df = pd.concat([azuk, argos])\n",
    "df"
   ]
  },
  {
   "cell_type": "code",
   "execution_count": 5,
   "metadata": {},
   "outputs": [
    {
     "data": {
      "text/html": [
       "<div>\n",
       "<style scoped>\n",
       "    .dataframe tbody tr th:only-of-type {\n",
       "        vertical-align: middle;\n",
       "    }\n",
       "\n",
       "    .dataframe tbody tr th {\n",
       "        vertical-align: top;\n",
       "    }\n",
       "\n",
       "    .dataframe thead th {\n",
       "        text-align: right;\n",
       "    }\n",
       "</style>\n",
       "<table border=\"1\" class=\"dataframe\">\n",
       "  <thead>\n",
       "    <tr style=\"text-align: right;\">\n",
       "      <th></th>\n",
       "      <th>BOY</th>\n",
       "      <th>GIRL</th>\n",
       "      <th>NEUTRAL</th>\n",
       "    </tr>\n",
       "  </thead>\n",
       "  <tbody>\n",
       "    <tr>\n",
       "      <th>0</th>\n",
       "      <td>vehicle toys</td>\n",
       "      <td>doll</td>\n",
       "      <td>toy animals</td>\n",
       "    </tr>\n",
       "    <tr>\n",
       "      <th>1</th>\n",
       "      <td>sport</td>\n",
       "      <td>domestic toys</td>\n",
       "      <td>books</td>\n",
       "    </tr>\n",
       "    <tr>\n",
       "      <th>2</th>\n",
       "      <td>military toys</td>\n",
       "      <td>educational art</td>\n",
       "      <td>educational teaching</td>\n",
       "    </tr>\n",
       "    <tr>\n",
       "      <th>3</th>\n",
       "      <td>race cars</td>\n",
       "      <td>clothes</td>\n",
       "      <td>musical games</td>\n",
       "    </tr>\n",
       "    <tr>\n",
       "      <th>4</th>\n",
       "      <td>outer space toys</td>\n",
       "      <td>dollhouses</td>\n",
       "      <td>games</td>\n",
       "    </tr>\n",
       "    <tr>\n",
       "      <th>...</th>\n",
       "      <td>...</td>\n",
       "      <td>...</td>\n",
       "      <td>...</td>\n",
       "    </tr>\n",
       "    <tr>\n",
       "      <th>67</th>\n",
       "      <td>toy rocket</td>\n",
       "      <td>barbie furniture set</td>\n",
       "      <td>NaN</td>\n",
       "    </tr>\n",
       "    <tr>\n",
       "      <th>68</th>\n",
       "      <td>soccer ball</td>\n",
       "      <td>NaN</td>\n",
       "      <td>NaN</td>\n",
       "    </tr>\n",
       "    <tr>\n",
       "      <th>69</th>\n",
       "      <td>blue ipad</td>\n",
       "      <td>pink ipad</td>\n",
       "      <td>NaN</td>\n",
       "    </tr>\n",
       "    <tr>\n",
       "      <th>70</th>\n",
       "      <td>toy robots</td>\n",
       "      <td>NaN</td>\n",
       "      <td>NaN</td>\n",
       "    </tr>\n",
       "    <tr>\n",
       "      <th>71</th>\n",
       "      <td>toy drones</td>\n",
       "      <td>NaN</td>\n",
       "      <td>NaN</td>\n",
       "    </tr>\n",
       "  </tbody>\n",
       "</table>\n",
       "<p>72 rows × 3 columns</p>\n",
       "</div>"
      ],
      "text/plain": [
       "                 BOY                  GIRL               NEUTRAL\n",
       "0       vehicle toys                  doll           toy animals\n",
       "1              sport         domestic toys                 books\n",
       "2      military toys       educational art  educational teaching\n",
       "3          race cars               clothes         musical games\n",
       "4   outer space toys            dollhouses                 games\n",
       "..               ...                   ...                   ...\n",
       "67        toy rocket  barbie furniture set                   NaN\n",
       "68       soccer ball                   NaN                   NaN\n",
       "69         blue ipad             pink ipad                   NaN\n",
       "70        toy robots                   NaN                   NaN\n",
       "71        toy drones                   NaN                   NaN\n",
       "\n",
       "[72 rows x 3 columns]"
      ]
     },
     "execution_count": 5,
     "metadata": {},
     "output_type": "execute_result"
    }
   ],
   "source": [
    "stereo_toys = pd.read_csv('../predoc_info/predoc_stereotyped_items.csv', delimiter =',')\n",
    "stereo_toys"
   ]
  },
  {
   "cell_type": "code",
   "execution_count": 6,
   "metadata": {},
   "outputs": [
    {
     "data": {
      "text/plain": [
       "{'baby dolls', 'barbie', 'playhouses', 'soldier toys', 'toy vehicles'}"
      ]
     },
     "execution_count": 6,
     "metadata": {},
     "output_type": "execute_result"
    }
   ],
   "source": [
    "set(df['item'].unique()).difference(set(original_stereo['item'].unique()))"
   ]
  },
  {
   "cell_type": "code",
   "execution_count": 7,
   "metadata": {},
   "outputs": [
    {
     "data": {
      "text/plain": [
       "166"
      ]
     },
     "execution_count": 7,
     "metadata": {},
     "output_type": "execute_result"
    }
   ],
   "source": [
    "total = df['item'].nunique()\n",
    "total"
   ]
  },
  {
   "cell_type": "code",
   "execution_count": 8,
   "metadata": {},
   "outputs": [],
   "source": [
    "#df.to_csv('query_sugg_all_plat.csv', index=False)"
   ]
  },
  {
   "cell_type": "code",
   "execution_count": 9,
   "metadata": {},
   "outputs": [],
   "source": [
    "def gender_association_measure(suggestions):\n",
    "    gender = {'girl':0, 'boy': 0}\n",
    "    if len(suggestions)<=2:\n",
    "        return \"no suggestion\"\n",
    "    suggestion_list = suggestions.split(',')\n",
    "    for suggestion in suggestion_list:\n",
    "        if 'girl' in suggestion:\n",
    "                gender['girl'] += 1\n",
    "        if 'boy' in suggestion:\n",
    "            gender['boy'] += 1\n",
    "    return gender"
   ]
  },
  {
   "cell_type": "code",
   "execution_count": 10,
   "metadata": {},
   "outputs": [
    {
     "data": {
      "text/html": [
       "<div>\n",
       "<style scoped>\n",
       "    .dataframe tbody tr th:only-of-type {\n",
       "        vertical-align: middle;\n",
       "    }\n",
       "\n",
       "    .dataframe tbody tr th {\n",
       "        vertical-align: top;\n",
       "    }\n",
       "\n",
       "    .dataframe thead th {\n",
       "        text-align: right;\n",
       "    }\n",
       "</style>\n",
       "<table border=\"1\" class=\"dataframe\">\n",
       "  <thead>\n",
       "    <tr style=\"text-align: right;\">\n",
       "      <th></th>\n",
       "      <th>platform</th>\n",
       "      <th>item</th>\n",
       "      <th>suggestions</th>\n",
       "      <th>gender_association</th>\n",
       "    </tr>\n",
       "  </thead>\n",
       "  <tbody>\n",
       "    <tr>\n",
       "      <th>0</th>\n",
       "      <td>Amazon_UK</td>\n",
       "      <td>vehicle toys</td>\n",
       "      <td>['vehicle toys for toddlers 1-3', 'vehicle toy...</td>\n",
       "      <td>{'girl': 0, 'boy': 5}</td>\n",
       "    </tr>\n",
       "    <tr>\n",
       "      <th>1</th>\n",
       "      <td>Amazon_UK</td>\n",
       "      <td>sport</td>\n",
       "      <td>['sport formula 99', 'sport formula 99 vitamin...</td>\n",
       "      <td>{'girl': 0, 'boy': 0}</td>\n",
       "    </tr>\n",
       "    <tr>\n",
       "      <th>2</th>\n",
       "      <td>Amazon_UK</td>\n",
       "      <td>military toys</td>\n",
       "      <td>['military toys for boys age 8-12', 'military ...</td>\n",
       "      <td>{'girl': 0, 'boy': 7}</td>\n",
       "    </tr>\n",
       "    <tr>\n",
       "      <th>3</th>\n",
       "      <td>Amazon_UK</td>\n",
       "      <td>race cars</td>\n",
       "      <td>['race cars for kids ages 3-5', 'race cars for...</td>\n",
       "      <td>{'girl': 1, 'boy': 3}</td>\n",
       "    </tr>\n",
       "    <tr>\n",
       "      <th>4</th>\n",
       "      <td>Amazon_UK</td>\n",
       "      <td>outer space toys</td>\n",
       "      <td>['outer space toys for kids 5-7', 'outer space...</td>\n",
       "      <td>{'girl': 0, 'boy': 0}</td>\n",
       "    </tr>\n",
       "    <tr>\n",
       "      <th>...</th>\n",
       "      <td>...</td>\n",
       "      <td>...</td>\n",
       "      <td>...</td>\n",
       "      <td>...</td>\n",
       "    </tr>\n",
       "    <tr>\n",
       "      <th>161</th>\n",
       "      <td>Argos</td>\n",
       "      <td>scooter</td>\n",
       "      <td>['scooter for adults', 'scooter for', 'lego ic...</td>\n",
       "      <td>{'girl': 0, 'boy': 0}</td>\n",
       "    </tr>\n",
       "    <tr>\n",
       "      <th>162</th>\n",
       "      <td>Argos</td>\n",
       "      <td>drum set</td>\n",
       "      <td>[]</td>\n",
       "      <td>no suggestion</td>\n",
       "    </tr>\n",
       "    <tr>\n",
       "      <th>163</th>\n",
       "      <td>Argos</td>\n",
       "      <td>puzzles</td>\n",
       "      <td>[]</td>\n",
       "      <td>no suggestion</td>\n",
       "    </tr>\n",
       "    <tr>\n",
       "      <th>164</th>\n",
       "      <td>Argos</td>\n",
       "      <td>board games</td>\n",
       "      <td>['board game for kids', 'family board game for...</td>\n",
       "      <td>{'girl': 0, 'boy': 0}</td>\n",
       "    </tr>\n",
       "    <tr>\n",
       "      <th>165</th>\n",
       "      <td>Argos</td>\n",
       "      <td>rock painting</td>\n",
       "      <td>[]</td>\n",
       "      <td>no suggestion</td>\n",
       "    </tr>\n",
       "  </tbody>\n",
       "</table>\n",
       "<p>332 rows × 4 columns</p>\n",
       "</div>"
      ],
      "text/plain": [
       "      platform              item  \\\n",
       "0    Amazon_UK      vehicle toys   \n",
       "1    Amazon_UK             sport   \n",
       "2    Amazon_UK     military toys   \n",
       "3    Amazon_UK         race cars   \n",
       "4    Amazon_UK  outer space toys   \n",
       "..         ...               ...   \n",
       "161      Argos           scooter   \n",
       "162      Argos          drum set   \n",
       "163      Argos           puzzles   \n",
       "164      Argos       board games   \n",
       "165      Argos     rock painting   \n",
       "\n",
       "                                           suggestions     gender_association  \n",
       "0    ['vehicle toys for toddlers 1-3', 'vehicle toy...  {'girl': 0, 'boy': 5}  \n",
       "1    ['sport formula 99', 'sport formula 99 vitamin...  {'girl': 0, 'boy': 0}  \n",
       "2    ['military toys for boys age 8-12', 'military ...  {'girl': 0, 'boy': 7}  \n",
       "3    ['race cars for kids ages 3-5', 'race cars for...  {'girl': 1, 'boy': 3}  \n",
       "4    ['outer space toys for kids 5-7', 'outer space...  {'girl': 0, 'boy': 0}  \n",
       "..                                                 ...                    ...  \n",
       "161  ['scooter for adults', 'scooter for', 'lego ic...  {'girl': 0, 'boy': 0}  \n",
       "162                                                 []          no suggestion  \n",
       "163                                                 []          no suggestion  \n",
       "164  ['board game for kids', 'family board game for...  {'girl': 0, 'boy': 0}  \n",
       "165                                                 []          no suggestion  \n",
       "\n",
       "[332 rows x 4 columns]"
      ]
     },
     "execution_count": 10,
     "metadata": {},
     "output_type": "execute_result"
    }
   ],
   "source": [
    "df['gender_association'] = df['suggestions'].apply(lambda x: gender_association_measure(x))\n",
    "df"
   ]
  },
  {
   "cell_type": "code",
   "execution_count": 11,
   "metadata": {},
   "outputs": [],
   "source": [
    "def gender_annotate(gender_assoc_dict):\n",
    "    try:\n",
    "        if gender_assoc_dict['girl'] > gender_assoc_dict['boy']:\n",
    "            return 'girl'\n",
    "        elif gender_assoc_dict['girl'] == gender_assoc_dict['boy']:\n",
    "            return 'neutral'\n",
    "        else:\n",
    "            return 'boy'\n",
    "    except:\n",
    "        return"
   ]
  },
  {
   "cell_type": "code",
   "execution_count": 12,
   "metadata": {},
   "outputs": [
    {
     "data": {
      "text/html": [
       "<div>\n",
       "<style scoped>\n",
       "    .dataframe tbody tr th:only-of-type {\n",
       "        vertical-align: middle;\n",
       "    }\n",
       "\n",
       "    .dataframe tbody tr th {\n",
       "        vertical-align: top;\n",
       "    }\n",
       "\n",
       "    .dataframe thead th {\n",
       "        text-align: right;\n",
       "    }\n",
       "</style>\n",
       "<table border=\"1\" class=\"dataframe\">\n",
       "  <thead>\n",
       "    <tr style=\"text-align: right;\">\n",
       "      <th></th>\n",
       "      <th>platform</th>\n",
       "      <th>item</th>\n",
       "      <th>suggestions</th>\n",
       "      <th>gender_association</th>\n",
       "      <th>gender</th>\n",
       "    </tr>\n",
       "  </thead>\n",
       "  <tbody>\n",
       "    <tr>\n",
       "      <th>0</th>\n",
       "      <td>Amazon_UK</td>\n",
       "      <td>vehicle toys</td>\n",
       "      <td>['vehicle toys for toddlers 1-3', 'vehicle toy...</td>\n",
       "      <td>{'girl': 0, 'boy': 5}</td>\n",
       "      <td>boy</td>\n",
       "    </tr>\n",
       "    <tr>\n",
       "      <th>1</th>\n",
       "      <td>Amazon_UK</td>\n",
       "      <td>sport</td>\n",
       "      <td>['sport formula 99', 'sport formula 99 vitamin...</td>\n",
       "      <td>{'girl': 0, 'boy': 0}</td>\n",
       "      <td>neutral</td>\n",
       "    </tr>\n",
       "    <tr>\n",
       "      <th>2</th>\n",
       "      <td>Amazon_UK</td>\n",
       "      <td>military toys</td>\n",
       "      <td>['military toys for boys age 8-12', 'military ...</td>\n",
       "      <td>{'girl': 0, 'boy': 7}</td>\n",
       "      <td>boy</td>\n",
       "    </tr>\n",
       "    <tr>\n",
       "      <th>3</th>\n",
       "      <td>Amazon_UK</td>\n",
       "      <td>race cars</td>\n",
       "      <td>['race cars for kids ages 3-5', 'race cars for...</td>\n",
       "      <td>{'girl': 1, 'boy': 3}</td>\n",
       "      <td>boy</td>\n",
       "    </tr>\n",
       "    <tr>\n",
       "      <th>4</th>\n",
       "      <td>Amazon_UK</td>\n",
       "      <td>outer space toys</td>\n",
       "      <td>['outer space toys for kids 5-7', 'outer space...</td>\n",
       "      <td>{'girl': 0, 'boy': 0}</td>\n",
       "      <td>neutral</td>\n",
       "    </tr>\n",
       "    <tr>\n",
       "      <th>...</th>\n",
       "      <td>...</td>\n",
       "      <td>...</td>\n",
       "      <td>...</td>\n",
       "      <td>...</td>\n",
       "      <td>...</td>\n",
       "    </tr>\n",
       "    <tr>\n",
       "      <th>161</th>\n",
       "      <td>Argos</td>\n",
       "      <td>scooter</td>\n",
       "      <td>['scooter for adults', 'scooter for', 'lego ic...</td>\n",
       "      <td>{'girl': 0, 'boy': 0}</td>\n",
       "      <td>neutral</td>\n",
       "    </tr>\n",
       "    <tr>\n",
       "      <th>162</th>\n",
       "      <td>Argos</td>\n",
       "      <td>drum set</td>\n",
       "      <td>[]</td>\n",
       "      <td>no suggestion</td>\n",
       "      <td>None</td>\n",
       "    </tr>\n",
       "    <tr>\n",
       "      <th>163</th>\n",
       "      <td>Argos</td>\n",
       "      <td>puzzles</td>\n",
       "      <td>[]</td>\n",
       "      <td>no suggestion</td>\n",
       "      <td>None</td>\n",
       "    </tr>\n",
       "    <tr>\n",
       "      <th>164</th>\n",
       "      <td>Argos</td>\n",
       "      <td>board games</td>\n",
       "      <td>['board game for kids', 'family board game for...</td>\n",
       "      <td>{'girl': 0, 'boy': 0}</td>\n",
       "      <td>neutral</td>\n",
       "    </tr>\n",
       "    <tr>\n",
       "      <th>165</th>\n",
       "      <td>Argos</td>\n",
       "      <td>rock painting</td>\n",
       "      <td>[]</td>\n",
       "      <td>no suggestion</td>\n",
       "      <td>None</td>\n",
       "    </tr>\n",
       "  </tbody>\n",
       "</table>\n",
       "<p>332 rows × 5 columns</p>\n",
       "</div>"
      ],
      "text/plain": [
       "      platform              item  \\\n",
       "0    Amazon_UK      vehicle toys   \n",
       "1    Amazon_UK             sport   \n",
       "2    Amazon_UK     military toys   \n",
       "3    Amazon_UK         race cars   \n",
       "4    Amazon_UK  outer space toys   \n",
       "..         ...               ...   \n",
       "161      Argos           scooter   \n",
       "162      Argos          drum set   \n",
       "163      Argos           puzzles   \n",
       "164      Argos       board games   \n",
       "165      Argos     rock painting   \n",
       "\n",
       "                                           suggestions     gender_association  \\\n",
       "0    ['vehicle toys for toddlers 1-3', 'vehicle toy...  {'girl': 0, 'boy': 5}   \n",
       "1    ['sport formula 99', 'sport formula 99 vitamin...  {'girl': 0, 'boy': 0}   \n",
       "2    ['military toys for boys age 8-12', 'military ...  {'girl': 0, 'boy': 7}   \n",
       "3    ['race cars for kids ages 3-5', 'race cars for...  {'girl': 1, 'boy': 3}   \n",
       "4    ['outer space toys for kids 5-7', 'outer space...  {'girl': 0, 'boy': 0}   \n",
       "..                                                 ...                    ...   \n",
       "161  ['scooter for adults', 'scooter for', 'lego ic...  {'girl': 0, 'boy': 0}   \n",
       "162                                                 []          no suggestion   \n",
       "163                                                 []          no suggestion   \n",
       "164  ['board game for kids', 'family board game for...  {'girl': 0, 'boy': 0}   \n",
       "165                                                 []          no suggestion   \n",
       "\n",
       "      gender  \n",
       "0        boy  \n",
       "1    neutral  \n",
       "2        boy  \n",
       "3        boy  \n",
       "4    neutral  \n",
       "..       ...  \n",
       "161  neutral  \n",
       "162     None  \n",
       "163     None  \n",
       "164  neutral  \n",
       "165     None  \n",
       "\n",
       "[332 rows x 5 columns]"
      ]
     },
     "execution_count": 12,
     "metadata": {},
     "output_type": "execute_result"
    }
   ],
   "source": [
    "df['gender'] = df['gender_association'].apply(lambda x: gender_annotate(x))\n",
    "df"
   ]
  },
  {
   "cell_type": "code",
   "execution_count": 13,
   "metadata": {},
   "outputs": [
    {
     "data": {
      "text/html": [
       "<div>\n",
       "<style scoped>\n",
       "    .dataframe tbody tr th:only-of-type {\n",
       "        vertical-align: middle;\n",
       "    }\n",
       "\n",
       "    .dataframe tbody tr th {\n",
       "        vertical-align: top;\n",
       "    }\n",
       "\n",
       "    .dataframe thead th {\n",
       "        text-align: right;\n",
       "    }\n",
       "</style>\n",
       "<table border=\"1\" class=\"dataframe\">\n",
       "  <thead>\n",
       "    <tr style=\"text-align: right;\">\n",
       "      <th></th>\n",
       "      <th>platform</th>\n",
       "      <th>item</th>\n",
       "      <th>suggestions</th>\n",
       "      <th>gender_association</th>\n",
       "      <th>gender</th>\n",
       "    </tr>\n",
       "  </thead>\n",
       "  <tbody>\n",
       "    <tr>\n",
       "      <th>7</th>\n",
       "      <td>Amazon_UK</td>\n",
       "      <td>doll-humanoid</td>\n",
       "      <td>[]</td>\n",
       "      <td>no suggestion</td>\n",
       "      <td>None</td>\n",
       "    </tr>\n",
       "    <tr>\n",
       "      <th>15</th>\n",
       "      <td>Amazon_UK</td>\n",
       "      <td>bug collection set</td>\n",
       "      <td>[]</td>\n",
       "      <td>no suggestion</td>\n",
       "      <td>None</td>\n",
       "    </tr>\n",
       "    <tr>\n",
       "      <th>19</th>\n",
       "      <td>Amazon_UK</td>\n",
       "      <td>volcano creator</td>\n",
       "      <td>[]</td>\n",
       "      <td>no suggestion</td>\n",
       "      <td>None</td>\n",
       "    </tr>\n",
       "    <tr>\n",
       "      <th>26</th>\n",
       "      <td>Amazon_UK</td>\n",
       "      <td>police station toy</td>\n",
       "      <td>[]</td>\n",
       "      <td>no suggestion</td>\n",
       "      <td>None</td>\n",
       "    </tr>\n",
       "    <tr>\n",
       "      <th>29</th>\n",
       "      <td>Amazon_UK</td>\n",
       "      <td>dragonballz</td>\n",
       "      <td>[]</td>\n",
       "      <td>no suggestion</td>\n",
       "      <td>None</td>\n",
       "    </tr>\n",
       "    <tr>\n",
       "      <th>...</th>\n",
       "      <td>...</td>\n",
       "      <td>...</td>\n",
       "      <td>...</td>\n",
       "      <td>...</td>\n",
       "      <td>...</td>\n",
       "    </tr>\n",
       "    <tr>\n",
       "      <th>158</th>\n",
       "      <td>Argos</td>\n",
       "      <td>wood blocks</td>\n",
       "      <td>[]</td>\n",
       "      <td>no suggestion</td>\n",
       "      <td>None</td>\n",
       "    </tr>\n",
       "    <tr>\n",
       "      <th>159</th>\n",
       "      <td>Argos</td>\n",
       "      <td>harry potter books</td>\n",
       "      <td>[]</td>\n",
       "      <td>no suggestion</td>\n",
       "      <td>None</td>\n",
       "    </tr>\n",
       "    <tr>\n",
       "      <th>162</th>\n",
       "      <td>Argos</td>\n",
       "      <td>drum set</td>\n",
       "      <td>[]</td>\n",
       "      <td>no suggestion</td>\n",
       "      <td>None</td>\n",
       "    </tr>\n",
       "    <tr>\n",
       "      <th>163</th>\n",
       "      <td>Argos</td>\n",
       "      <td>puzzles</td>\n",
       "      <td>[]</td>\n",
       "      <td>no suggestion</td>\n",
       "      <td>None</td>\n",
       "    </tr>\n",
       "    <tr>\n",
       "      <th>165</th>\n",
       "      <td>Argos</td>\n",
       "      <td>rock painting</td>\n",
       "      <td>[]</td>\n",
       "      <td>no suggestion</td>\n",
       "      <td>None</td>\n",
       "    </tr>\n",
       "  </tbody>\n",
       "</table>\n",
       "<p>162 rows × 5 columns</p>\n",
       "</div>"
      ],
      "text/plain": [
       "      platform                item suggestions gender_association gender\n",
       "7    Amazon_UK       doll-humanoid          []      no suggestion   None\n",
       "15   Amazon_UK  bug collection set          []      no suggestion   None\n",
       "19   Amazon_UK     volcano creator          []      no suggestion   None\n",
       "26   Amazon_UK  police station toy          []      no suggestion   None\n",
       "29   Amazon_UK         dragonballz          []      no suggestion   None\n",
       "..         ...                 ...         ...                ...    ...\n",
       "158      Argos         wood blocks          []      no suggestion   None\n",
       "159      Argos  harry potter books          []      no suggestion   None\n",
       "162      Argos            drum set          []      no suggestion   None\n",
       "163      Argos             puzzles          []      no suggestion   None\n",
       "165      Argos       rock painting          []      no suggestion   None\n",
       "\n",
       "[162 rows x 5 columns]"
      ]
     },
     "execution_count": 13,
     "metadata": {},
     "output_type": "execute_result"
    }
   ],
   "source": [
    "#queries with no gender association\n",
    "df[df['gender'].isna()]"
   ]
  },
  {
   "cell_type": "code",
   "execution_count": 14,
   "metadata": {},
   "outputs": [],
   "source": [
    "df.dropna(inplace = True)"
   ]
  },
  {
   "cell_type": "code",
   "execution_count": 15,
   "metadata": {},
   "outputs": [],
   "source": [
    "#az_rand_num = az_rand.replace({'gender':{'boy':1, 'neutral':0, 'girl':-1}, 'Gender':{'BOY':1, 'NEUTRAL':0, 'GIRL':-1}})"
   ]
  },
  {
   "cell_type": "markdown",
   "metadata": {},
   "source": [
    "### Match with actual list"
   ]
  },
  {
   "cell_type": "markdown",
   "metadata": {},
   "source": [
    "## sys generated label"
   ]
  },
  {
   "cell_type": "code",
   "execution_count": 16,
   "metadata": {},
   "outputs": [
    {
     "data": {
      "text/plain": [
       "gender\n",
       "boy        38\n",
       "girl       51\n",
       "neutral    81\n",
       "Name: item, dtype: int64"
      ]
     },
     "execution_count": 16,
     "metadata": {},
     "output_type": "execute_result"
    }
   ],
   "source": [
    "df.groupby('gender')['item'].count()"
   ]
  },
  {
   "cell_type": "code",
   "execution_count": 17,
   "metadata": {},
   "outputs": [],
   "source": [
    "rand_df = df[['platform', 'item','gender']]\n",
    "rand_df = rand_df.reset_index(drop=True)"
   ]
  },
  {
   "cell_type": "code",
   "execution_count": 18,
   "metadata": {},
   "outputs": [
    {
     "data": {
      "text/plain": [
       "gender\n",
       "boy        38\n",
       "girl       51\n",
       "neutral    81\n",
       "Name: item, dtype: int64"
      ]
     },
     "execution_count": 18,
     "metadata": {},
     "output_type": "execute_result"
    }
   ],
   "source": [
    "rand_df.groupby('gender')['item'].count()"
   ]
  },
  {
   "cell_type": "code",
   "execution_count": 19,
   "metadata": {},
   "outputs": [
    {
     "data": {
      "text/plain": [
       "platform   gender \n",
       "Amazon_UK  boy        [vehicle toys, military toys, race cars, actio...\n",
       "           girl       [castle tent, dinosaur toy, sully costume, wwe...\n",
       "           neutral    [sport, outer space toys, depots, machines, gi...\n",
       "Argos      neutral    [sport, gears, helicopter, car toys, lego toys...\n",
       "Name: item, dtype: object"
      ]
     },
     "execution_count": 19,
     "metadata": {},
     "output_type": "execute_result"
    }
   ],
   "source": [
    "generated_list = rand_df.groupby(['platform', 'gender'])['item'].apply(list)\n",
    "generated_list"
   ]
  },
  {
   "cell_type": "code",
   "execution_count": 20,
   "metadata": {},
   "outputs": [
    {
     "data": {
      "text/html": [
       "<div>\n",
       "<style scoped>\n",
       "    .dataframe tbody tr th:only-of-type {\n",
       "        vertical-align: middle;\n",
       "    }\n",
       "\n",
       "    .dataframe tbody tr th {\n",
       "        vertical-align: top;\n",
       "    }\n",
       "\n",
       "    .dataframe thead th {\n",
       "        text-align: right;\n",
       "    }\n",
       "</style>\n",
       "<table border=\"1\" class=\"dataframe\">\n",
       "  <thead>\n",
       "    <tr style=\"text-align: right;\">\n",
       "      <th></th>\n",
       "      <th>platform</th>\n",
       "      <th>gender</th>\n",
       "      <th>item</th>\n",
       "    </tr>\n",
       "  </thead>\n",
       "  <tbody>\n",
       "    <tr>\n",
       "      <th>0</th>\n",
       "      <td>Amazon_UK</td>\n",
       "      <td>boy</td>\n",
       "      <td>[vehicle toys, military toys, race cars, actio...</td>\n",
       "    </tr>\n",
       "    <tr>\n",
       "      <th>1</th>\n",
       "      <td>Amazon_UK</td>\n",
       "      <td>girl</td>\n",
       "      <td>[castle tent, dinosaur toy, sully costume, wwe...</td>\n",
       "    </tr>\n",
       "    <tr>\n",
       "      <th>2</th>\n",
       "      <td>Amazon_UK</td>\n",
       "      <td>neutral</td>\n",
       "      <td>[sport, outer space toys, depots, machines, gi...</td>\n",
       "    </tr>\n",
       "    <tr>\n",
       "      <th>3</th>\n",
       "      <td>Argos</td>\n",
       "      <td>neutral</td>\n",
       "      <td>[sport, gears, helicopter, car toys, lego toys...</td>\n",
       "    </tr>\n",
       "  </tbody>\n",
       "</table>\n",
       "</div>"
      ],
      "text/plain": [
       "    platform   gender                                               item\n",
       "0  Amazon_UK      boy  [vehicle toys, military toys, race cars, actio...\n",
       "1  Amazon_UK     girl  [castle tent, dinosaur toy, sully costume, wwe...\n",
       "2  Amazon_UK  neutral  [sport, outer space toys, depots, machines, gi...\n",
       "3      Argos  neutral  [sport, gears, helicopter, car toys, lego toys..."
      ]
     },
     "execution_count": 20,
     "metadata": {},
     "output_type": "execute_result"
    }
   ],
   "source": [
    "list_item = generated_list.to_frame().reset_index()\n",
    "list_item"
   ]
  },
  {
   "cell_type": "code",
   "execution_count": 21,
   "metadata": {},
   "outputs": [],
   "source": [
    "def match(row, gender_col, original_df):\n",
    "    if row[gender_col] == 'boy':\n",
    "        toys = list(original_df['BOY'].values)\n",
    "    elif row[gender_col] == 'girl':\n",
    "        toys = list(original_df['GIRL'].values)\n",
    "    else:\n",
    "        return\n",
    "    union = len(row['item'])+len(toys)\n",
    "    matched_items = set(row['item']).intersection(set(toys))\n",
    "    return round(len(matched_items)/union,2)"
   ]
  },
  {
   "cell_type": "code",
   "execution_count": 22,
   "metadata": {},
   "outputs": [
    {
     "data": {
      "text/html": [
       "<div>\n",
       "<style scoped>\n",
       "    .dataframe tbody tr th:only-of-type {\n",
       "        vertical-align: middle;\n",
       "    }\n",
       "\n",
       "    .dataframe tbody tr th {\n",
       "        vertical-align: top;\n",
       "    }\n",
       "\n",
       "    .dataframe thead th {\n",
       "        text-align: right;\n",
       "    }\n",
       "</style>\n",
       "<table border=\"1\" class=\"dataframe\">\n",
       "  <thead>\n",
       "    <tr style=\"text-align: right;\">\n",
       "      <th></th>\n",
       "      <th>platform</th>\n",
       "      <th>gender</th>\n",
       "      <th>item</th>\n",
       "      <th>count_match</th>\n",
       "    </tr>\n",
       "  </thead>\n",
       "  <tbody>\n",
       "    <tr>\n",
       "      <th>0</th>\n",
       "      <td>Amazon_UK</td>\n",
       "      <td>boy</td>\n",
       "      <td>[vehicle toys, military toys, race cars, actio...</td>\n",
       "      <td>0.26</td>\n",
       "    </tr>\n",
       "    <tr>\n",
       "      <th>1</th>\n",
       "      <td>Amazon_UK</td>\n",
       "      <td>girl</td>\n",
       "      <td>[castle tent, dinosaur toy, sully costume, wwe...</td>\n",
       "      <td>0.34</td>\n",
       "    </tr>\n",
       "    <tr>\n",
       "      <th>2</th>\n",
       "      <td>Amazon_UK</td>\n",
       "      <td>neutral</td>\n",
       "      <td>[sport, outer space toys, depots, machines, gi...</td>\n",
       "      <td>NaN</td>\n",
       "    </tr>\n",
       "    <tr>\n",
       "      <th>3</th>\n",
       "      <td>Argos</td>\n",
       "      <td>neutral</td>\n",
       "      <td>[sport, gears, helicopter, car toys, lego toys...</td>\n",
       "      <td>NaN</td>\n",
       "    </tr>\n",
       "  </tbody>\n",
       "</table>\n",
       "</div>"
      ],
      "text/plain": [
       "    platform   gender                                               item  \\\n",
       "0  Amazon_UK      boy  [vehicle toys, military toys, race cars, actio...   \n",
       "1  Amazon_UK     girl  [castle tent, dinosaur toy, sully costume, wwe...   \n",
       "2  Amazon_UK  neutral  [sport, outer space toys, depots, machines, gi...   \n",
       "3      Argos  neutral  [sport, gears, helicopter, car toys, lego toys...   \n",
       "\n",
       "   count_match  \n",
       "0         0.26  \n",
       "1         0.34  \n",
       "2          NaN  \n",
       "3          NaN  "
      ]
     },
     "execution_count": 22,
     "metadata": {},
     "output_type": "execute_result"
    }
   ],
   "source": [
    "list_item['count_match'] = list_item.apply(lambda x: match(x, 'gender',stereo_toys), axis = 1)\n",
    "#list_df['frac_match'] = list_df['count_match']/list_df['total_item']\n",
    "list_item"
   ]
  },
  {
   "cell_type": "markdown",
   "metadata": {},
   "source": [
    "## Randomize"
   ]
  },
  {
   "cell_type": "code",
   "execution_count": 23,
   "metadata": {},
   "outputs": [],
   "source": [
    "def permutation(r_df, iteration, stereo_toys):\n",
    "    #for i in range(10000):\n",
    "    sys_label = r_df['gender'].values\n",
    "    np.random.shuffle(sys_label)\n",
    "    r_df['rand_gender'] = sys_label\n",
    "    generated_list = r_df.groupby(['rand_gender'])['item'].apply(list)\n",
    "    list_df = generated_list.to_frame().reset_index()\n",
    "    list_df['jaccard_sim'] = list_df.apply(lambda x: match(x, 'rand_gender',stereo_toys), axis = 1)\n",
    "    list_df['iteration'] = iteration\n",
    "    list_df.drop(columns=['item'], inplace=True)\n",
    "    list_df.dropna(inplace=True)\n",
    "    return list_df"
   ]
  },
  {
   "cell_type": "code",
   "execution_count": 24,
   "metadata": {},
   "outputs": [
    {
     "data": {
      "text/plain": [
       "0      Amazon_UK\n",
       "1      Amazon_UK\n",
       "2      Amazon_UK\n",
       "3      Amazon_UK\n",
       "4      Amazon_UK\n",
       "         ...    \n",
       "165        Argos\n",
       "166        Argos\n",
       "167        Argos\n",
       "168        Argos\n",
       "169        Argos\n",
       "Name: platform, Length: 170, dtype: object"
      ]
     },
     "execution_count": 24,
     "metadata": {},
     "output_type": "execute_result"
    }
   ],
   "source": [
    "rand_df['platform']"
   ]
  },
  {
   "cell_type": "code",
   "execution_count": 25,
   "metadata": {},
   "outputs": [],
   "source": [
    "import warnings\n",
    "warnings.filterwarnings('ignore')\n",
    "\n",
    "result_pval = pd.DataFrame()\n",
    "for i in range(100000):\n",
    "    result = rand_df.groupby('platform')\n",
    "    result = result.apply(lambda x: permutation(x, i, stereo_toys))\n",
    "    result = result.reset_index('platform')\n",
    "    result_pval = result_pval.append(result, ignore_index = True)"
   ]
  },
  {
   "cell_type": "code",
   "execution_count": 26,
   "metadata": {},
   "outputs": [
    {
     "data": {
      "text/html": [
       "<div>\n",
       "<style scoped>\n",
       "    .dataframe tbody tr th:only-of-type {\n",
       "        vertical-align: middle;\n",
       "    }\n",
       "\n",
       "    .dataframe tbody tr th {\n",
       "        vertical-align: top;\n",
       "    }\n",
       "\n",
       "    .dataframe thead th {\n",
       "        text-align: right;\n",
       "    }\n",
       "</style>\n",
       "<table border=\"1\" class=\"dataframe\">\n",
       "  <thead>\n",
       "    <tr style=\"text-align: right;\">\n",
       "      <th></th>\n",
       "      <th>platform</th>\n",
       "      <th>rand_gender</th>\n",
       "      <th>jaccard_sim</th>\n",
       "      <th>iteration</th>\n",
       "    </tr>\n",
       "  </thead>\n",
       "  <tbody>\n",
       "    <tr>\n",
       "      <th>0</th>\n",
       "      <td>Amazon_UK</td>\n",
       "      <td>boy</td>\n",
       "      <td>0.15</td>\n",
       "      <td>0</td>\n",
       "    </tr>\n",
       "    <tr>\n",
       "      <th>1</th>\n",
       "      <td>Amazon_UK</td>\n",
       "      <td>girl</td>\n",
       "      <td>0.18</td>\n",
       "      <td>0</td>\n",
       "    </tr>\n",
       "    <tr>\n",
       "      <th>2</th>\n",
       "      <td>Amazon_UK</td>\n",
       "      <td>boy</td>\n",
       "      <td>0.16</td>\n",
       "      <td>1</td>\n",
       "    </tr>\n",
       "    <tr>\n",
       "      <th>3</th>\n",
       "      <td>Amazon_UK</td>\n",
       "      <td>girl</td>\n",
       "      <td>0.14</td>\n",
       "      <td>1</td>\n",
       "    </tr>\n",
       "    <tr>\n",
       "      <th>4</th>\n",
       "      <td>Amazon_UK</td>\n",
       "      <td>boy</td>\n",
       "      <td>0.14</td>\n",
       "      <td>2</td>\n",
       "    </tr>\n",
       "    <tr>\n",
       "      <th>...</th>\n",
       "      <td>...</td>\n",
       "      <td>...</td>\n",
       "      <td>...</td>\n",
       "      <td>...</td>\n",
       "    </tr>\n",
       "    <tr>\n",
       "      <th>199995</th>\n",
       "      <td>Amazon_UK</td>\n",
       "      <td>girl</td>\n",
       "      <td>0.18</td>\n",
       "      <td>99997</td>\n",
       "    </tr>\n",
       "    <tr>\n",
       "      <th>199996</th>\n",
       "      <td>Amazon_UK</td>\n",
       "      <td>boy</td>\n",
       "      <td>0.15</td>\n",
       "      <td>99998</td>\n",
       "    </tr>\n",
       "    <tr>\n",
       "      <th>199997</th>\n",
       "      <td>Amazon_UK</td>\n",
       "      <td>girl</td>\n",
       "      <td>0.15</td>\n",
       "      <td>99998</td>\n",
       "    </tr>\n",
       "    <tr>\n",
       "      <th>199998</th>\n",
       "      <td>Amazon_UK</td>\n",
       "      <td>boy</td>\n",
       "      <td>0.18</td>\n",
       "      <td>99999</td>\n",
       "    </tr>\n",
       "    <tr>\n",
       "      <th>199999</th>\n",
       "      <td>Amazon_UK</td>\n",
       "      <td>girl</td>\n",
       "      <td>0.18</td>\n",
       "      <td>99999</td>\n",
       "    </tr>\n",
       "  </tbody>\n",
       "</table>\n",
       "<p>200000 rows × 4 columns</p>\n",
       "</div>"
      ],
      "text/plain": [
       "         platform rand_gender  jaccard_sim  iteration\n",
       "0       Amazon_UK         boy         0.15          0\n",
       "1       Amazon_UK        girl         0.18          0\n",
       "2       Amazon_UK         boy         0.16          1\n",
       "3       Amazon_UK        girl         0.14          1\n",
       "4       Amazon_UK         boy         0.14          2\n",
       "...           ...         ...          ...        ...\n",
       "199995  Amazon_UK        girl         0.18      99997\n",
       "199996  Amazon_UK         boy         0.15      99998\n",
       "199997  Amazon_UK        girl         0.15      99998\n",
       "199998  Amazon_UK         boy         0.18      99999\n",
       "199999  Amazon_UK        girl         0.18      99999\n",
       "\n",
       "[200000 rows x 4 columns]"
      ]
     },
     "execution_count": 26,
     "metadata": {},
     "output_type": "execute_result"
    }
   ],
   "source": [
    "result_pval"
   ]
  },
  {
   "cell_type": "code",
   "execution_count": 27,
   "metadata": {},
   "outputs": [
    {
     "data": {
      "text/html": [
       "<div>\n",
       "<style scoped>\n",
       "    .dataframe tbody tr th:only-of-type {\n",
       "        vertical-align: middle;\n",
       "    }\n",
       "\n",
       "    .dataframe tbody tr th {\n",
       "        vertical-align: top;\n",
       "    }\n",
       "\n",
       "    .dataframe thead th {\n",
       "        text-align: right;\n",
       "    }\n",
       "</style>\n",
       "<table border=\"1\" class=\"dataframe\">\n",
       "  <thead>\n",
       "    <tr style=\"text-align: right;\">\n",
       "      <th></th>\n",
       "      <th>platform</th>\n",
       "      <th>rand_gender</th>\n",
       "      <th>jaccard_sim</th>\n",
       "      <th>iteration</th>\n",
       "    </tr>\n",
       "  </thead>\n",
       "  <tbody>\n",
       "    <tr>\n",
       "      <th>0</th>\n",
       "      <td>Amazon_UK</td>\n",
       "      <td>boy</td>\n",
       "      <td>0.05</td>\n",
       "      <td>6</td>\n",
       "    </tr>\n",
       "    <tr>\n",
       "      <th>1</th>\n",
       "      <td>Amazon_UK</td>\n",
       "      <td>boy</td>\n",
       "      <td>0.06</td>\n",
       "      <td>40</td>\n",
       "    </tr>\n",
       "    <tr>\n",
       "      <th>2</th>\n",
       "      <td>Amazon_UK</td>\n",
       "      <td>boy</td>\n",
       "      <td>0.07</td>\n",
       "      <td>146</td>\n",
       "    </tr>\n",
       "    <tr>\n",
       "      <th>3</th>\n",
       "      <td>Amazon_UK</td>\n",
       "      <td>boy</td>\n",
       "      <td>0.08</td>\n",
       "      <td>436</td>\n",
       "    </tr>\n",
       "    <tr>\n",
       "      <th>4</th>\n",
       "      <td>Amazon_UK</td>\n",
       "      <td>boy</td>\n",
       "      <td>0.09</td>\n",
       "      <td>1161</td>\n",
       "    </tr>\n",
       "    <tr>\n",
       "      <th>5</th>\n",
       "      <td>Amazon_UK</td>\n",
       "      <td>boy</td>\n",
       "      <td>0.10</td>\n",
       "      <td>2655</td>\n",
       "    </tr>\n",
       "    <tr>\n",
       "      <th>6</th>\n",
       "      <td>Amazon_UK</td>\n",
       "      <td>boy</td>\n",
       "      <td>0.11</td>\n",
       "      <td>5064</td>\n",
       "    </tr>\n",
       "    <tr>\n",
       "      <th>7</th>\n",
       "      <td>Amazon_UK</td>\n",
       "      <td>boy</td>\n",
       "      <td>0.12</td>\n",
       "      <td>8120</td>\n",
       "    </tr>\n",
       "    <tr>\n",
       "      <th>8</th>\n",
       "      <td>Amazon_UK</td>\n",
       "      <td>boy</td>\n",
       "      <td>0.13</td>\n",
       "      <td>11735</td>\n",
       "    </tr>\n",
       "    <tr>\n",
       "      <th>9</th>\n",
       "      <td>Amazon_UK</td>\n",
       "      <td>boy</td>\n",
       "      <td>0.14</td>\n",
       "      <td>14375</td>\n",
       "    </tr>\n",
       "    <tr>\n",
       "      <th>10</th>\n",
       "      <td>Amazon_UK</td>\n",
       "      <td>boy</td>\n",
       "      <td>0.15</td>\n",
       "      <td>28541</td>\n",
       "    </tr>\n",
       "    <tr>\n",
       "      <th>11</th>\n",
       "      <td>Amazon_UK</td>\n",
       "      <td>boy</td>\n",
       "      <td>0.16</td>\n",
       "      <td>11031</td>\n",
       "    </tr>\n",
       "    <tr>\n",
       "      <th>12</th>\n",
       "      <td>Amazon_UK</td>\n",
       "      <td>boy</td>\n",
       "      <td>0.17</td>\n",
       "      <td>7787</td>\n",
       "    </tr>\n",
       "    <tr>\n",
       "      <th>13</th>\n",
       "      <td>Amazon_UK</td>\n",
       "      <td>boy</td>\n",
       "      <td>0.18</td>\n",
       "      <td>4614</td>\n",
       "    </tr>\n",
       "    <tr>\n",
       "      <th>14</th>\n",
       "      <td>Amazon_UK</td>\n",
       "      <td>boy</td>\n",
       "      <td>0.19</td>\n",
       "      <td>2508</td>\n",
       "    </tr>\n",
       "    <tr>\n",
       "      <th>15</th>\n",
       "      <td>Amazon_UK</td>\n",
       "      <td>boy</td>\n",
       "      <td>0.20</td>\n",
       "      <td>1111</td>\n",
       "    </tr>\n",
       "    <tr>\n",
       "      <th>16</th>\n",
       "      <td>Amazon_UK</td>\n",
       "      <td>boy</td>\n",
       "      <td>0.21</td>\n",
       "      <td>452</td>\n",
       "    </tr>\n",
       "    <tr>\n",
       "      <th>17</th>\n",
       "      <td>Amazon_UK</td>\n",
       "      <td>boy</td>\n",
       "      <td>0.22</td>\n",
       "      <td>151</td>\n",
       "    </tr>\n",
       "    <tr>\n",
       "      <th>18</th>\n",
       "      <td>Amazon_UK</td>\n",
       "      <td>boy</td>\n",
       "      <td>0.23</td>\n",
       "      <td>44</td>\n",
       "    </tr>\n",
       "    <tr>\n",
       "      <th>19</th>\n",
       "      <td>Amazon_UK</td>\n",
       "      <td>boy</td>\n",
       "      <td>0.24</td>\n",
       "      <td>18</td>\n",
       "    </tr>\n",
       "    <tr>\n",
       "      <th>20</th>\n",
       "      <td>Amazon_UK</td>\n",
       "      <td>boy</td>\n",
       "      <td>0.25</td>\n",
       "      <td>4</td>\n",
       "    </tr>\n",
       "    <tr>\n",
       "      <th>21</th>\n",
       "      <td>Amazon_UK</td>\n",
       "      <td>boy</td>\n",
       "      <td>0.26</td>\n",
       "      <td>1</td>\n",
       "    </tr>\n",
       "    <tr>\n",
       "      <th>22</th>\n",
       "      <td>Amazon_UK</td>\n",
       "      <td>girl</td>\n",
       "      <td>0.06</td>\n",
       "      <td>1</td>\n",
       "    </tr>\n",
       "    <tr>\n",
       "      <th>23</th>\n",
       "      <td>Amazon_UK</td>\n",
       "      <td>girl</td>\n",
       "      <td>0.07</td>\n",
       "      <td>8</td>\n",
       "    </tr>\n",
       "    <tr>\n",
       "      <th>24</th>\n",
       "      <td>Amazon_UK</td>\n",
       "      <td>girl</td>\n",
       "      <td>0.08</td>\n",
       "      <td>19</td>\n",
       "    </tr>\n",
       "    <tr>\n",
       "      <th>25</th>\n",
       "      <td>Amazon_UK</td>\n",
       "      <td>girl</td>\n",
       "      <td>0.09</td>\n",
       "      <td>128</td>\n",
       "    </tr>\n",
       "    <tr>\n",
       "      <th>26</th>\n",
       "      <td>Amazon_UK</td>\n",
       "      <td>girl</td>\n",
       "      <td>0.10</td>\n",
       "      <td>297</td>\n",
       "    </tr>\n",
       "    <tr>\n",
       "      <th>27</th>\n",
       "      <td>Amazon_UK</td>\n",
       "      <td>girl</td>\n",
       "      <td>0.11</td>\n",
       "      <td>2766</td>\n",
       "    </tr>\n",
       "    <tr>\n",
       "      <th>28</th>\n",
       "      <td>Amazon_UK</td>\n",
       "      <td>girl</td>\n",
       "      <td>0.12</td>\n",
       "      <td>3567</td>\n",
       "    </tr>\n",
       "    <tr>\n",
       "      <th>29</th>\n",
       "      <td>Amazon_UK</td>\n",
       "      <td>girl</td>\n",
       "      <td>0.13</td>\n",
       "      <td>5998</td>\n",
       "    </tr>\n",
       "    <tr>\n",
       "      <th>30</th>\n",
       "      <td>Amazon_UK</td>\n",
       "      <td>girl</td>\n",
       "      <td>0.14</td>\n",
       "      <td>8994</td>\n",
       "    </tr>\n",
       "    <tr>\n",
       "      <th>31</th>\n",
       "      <td>Amazon_UK</td>\n",
       "      <td>girl</td>\n",
       "      <td>0.15</td>\n",
       "      <td>25255</td>\n",
       "    </tr>\n",
       "    <tr>\n",
       "      <th>32</th>\n",
       "      <td>Amazon_UK</td>\n",
       "      <td>girl</td>\n",
       "      <td>0.16</td>\n",
       "      <td>13941</td>\n",
       "    </tr>\n",
       "    <tr>\n",
       "      <th>33</th>\n",
       "      <td>Amazon_UK</td>\n",
       "      <td>girl</td>\n",
       "      <td>0.17</td>\n",
       "      <td>12508</td>\n",
       "    </tr>\n",
       "    <tr>\n",
       "      <th>34</th>\n",
       "      <td>Amazon_UK</td>\n",
       "      <td>girl</td>\n",
       "      <td>0.18</td>\n",
       "      <td>9988</td>\n",
       "    </tr>\n",
       "    <tr>\n",
       "      <th>35</th>\n",
       "      <td>Amazon_UK</td>\n",
       "      <td>girl</td>\n",
       "      <td>0.19</td>\n",
       "      <td>7182</td>\n",
       "    </tr>\n",
       "    <tr>\n",
       "      <th>36</th>\n",
       "      <td>Amazon_UK</td>\n",
       "      <td>girl</td>\n",
       "      <td>0.20</td>\n",
       "      <td>7155</td>\n",
       "    </tr>\n",
       "    <tr>\n",
       "      <th>37</th>\n",
       "      <td>Amazon_UK</td>\n",
       "      <td>girl</td>\n",
       "      <td>0.21</td>\n",
       "      <td>1306</td>\n",
       "    </tr>\n",
       "    <tr>\n",
       "      <th>38</th>\n",
       "      <td>Amazon_UK</td>\n",
       "      <td>girl</td>\n",
       "      <td>0.22</td>\n",
       "      <td>566</td>\n",
       "    </tr>\n",
       "    <tr>\n",
       "      <th>39</th>\n",
       "      <td>Amazon_UK</td>\n",
       "      <td>girl</td>\n",
       "      <td>0.23</td>\n",
       "      <td>220</td>\n",
       "    </tr>\n",
       "    <tr>\n",
       "      <th>40</th>\n",
       "      <td>Amazon_UK</td>\n",
       "      <td>girl</td>\n",
       "      <td>0.24</td>\n",
       "      <td>99</td>\n",
       "    </tr>\n",
       "    <tr>\n",
       "      <th>41</th>\n",
       "      <td>Amazon_UK</td>\n",
       "      <td>girl</td>\n",
       "      <td>0.25</td>\n",
       "      <td>1</td>\n",
       "    </tr>\n",
       "    <tr>\n",
       "      <th>42</th>\n",
       "      <td>Amazon_UK</td>\n",
       "      <td>girl</td>\n",
       "      <td>0.26</td>\n",
       "      <td>1</td>\n",
       "    </tr>\n",
       "  </tbody>\n",
       "</table>\n",
       "</div>"
      ],
      "text/plain": [
       "     platform rand_gender  jaccard_sim  iteration\n",
       "0   Amazon_UK         boy         0.05          6\n",
       "1   Amazon_UK         boy         0.06         40\n",
       "2   Amazon_UK         boy         0.07        146\n",
       "3   Amazon_UK         boy         0.08        436\n",
       "4   Amazon_UK         boy         0.09       1161\n",
       "5   Amazon_UK         boy         0.10       2655\n",
       "6   Amazon_UK         boy         0.11       5064\n",
       "7   Amazon_UK         boy         0.12       8120\n",
       "8   Amazon_UK         boy         0.13      11735\n",
       "9   Amazon_UK         boy         0.14      14375\n",
       "10  Amazon_UK         boy         0.15      28541\n",
       "11  Amazon_UK         boy         0.16      11031\n",
       "12  Amazon_UK         boy         0.17       7787\n",
       "13  Amazon_UK         boy         0.18       4614\n",
       "14  Amazon_UK         boy         0.19       2508\n",
       "15  Amazon_UK         boy         0.20       1111\n",
       "16  Amazon_UK         boy         0.21        452\n",
       "17  Amazon_UK         boy         0.22        151\n",
       "18  Amazon_UK         boy         0.23         44\n",
       "19  Amazon_UK         boy         0.24         18\n",
       "20  Amazon_UK         boy         0.25          4\n",
       "21  Amazon_UK         boy         0.26          1\n",
       "22  Amazon_UK        girl         0.06          1\n",
       "23  Amazon_UK        girl         0.07          8\n",
       "24  Amazon_UK        girl         0.08         19\n",
       "25  Amazon_UK        girl         0.09        128\n",
       "26  Amazon_UK        girl         0.10        297\n",
       "27  Amazon_UK        girl         0.11       2766\n",
       "28  Amazon_UK        girl         0.12       3567\n",
       "29  Amazon_UK        girl         0.13       5998\n",
       "30  Amazon_UK        girl         0.14       8994\n",
       "31  Amazon_UK        girl         0.15      25255\n",
       "32  Amazon_UK        girl         0.16      13941\n",
       "33  Amazon_UK        girl         0.17      12508\n",
       "34  Amazon_UK        girl         0.18       9988\n",
       "35  Amazon_UK        girl         0.19       7182\n",
       "36  Amazon_UK        girl         0.20       7155\n",
       "37  Amazon_UK        girl         0.21       1306\n",
       "38  Amazon_UK        girl         0.22        566\n",
       "39  Amazon_UK        girl         0.23        220\n",
       "40  Amazon_UK        girl         0.24         99\n",
       "41  Amazon_UK        girl         0.25          1\n",
       "42  Amazon_UK        girl         0.26          1"
      ]
     },
     "execution_count": 27,
     "metadata": {},
     "output_type": "execute_result"
    }
   ],
   "source": [
    "plot_pval = result_pval.groupby(['platform', 'rand_gender', 'jaccard_sim'])['iteration'].count()\n",
    "plot_pval = plot_pval.reset_index()\n",
    "plot_pval"
   ]
  },
  {
   "cell_type": "code",
   "execution_count": 28,
   "metadata": {},
   "outputs": [],
   "source": [
    "def p_val_calc(sys_sim, random_sim, niteration, col_gender):\n",
    "    gender = sys_sim['gender'].values[0]\n",
    "    if gender == 'neutral':\n",
    "        return\n",
    "    platform = sys_sim['platform'].values[0]\n",
    "    original_sim = sys_sim['count_match'].values[0]\n",
    "    #print(sys_sim)\n",
    "    random_plat_sim = random_sim[(random_sim[col_gender]==gender) & (random_sim['platform']==platform)]\n",
    "    random_plat_sim = random_plat_sim[random_plat_sim['jaccard_sim']>=original_sim]\n",
    "    #print(random_plat_sim)\n",
    "    total = random_plat_sim['iteration'].sum()\n",
    "    frac = total/niteration\n",
    "    return frac"
   ]
  },
  {
   "cell_type": "code",
   "execution_count": 29,
   "metadata": {},
   "outputs": [
    {
     "ename": "TypeError",
     "evalue": "p_val_calc() missing 1 required positional argument: 'col_gender'",
     "output_type": "error",
     "traceback": [
      "\u001b[0;31m---------------------------------------------------------------------------\u001b[0m",
      "\u001b[0;31mTypeError\u001b[0m                                 Traceback (most recent call last)",
      "File \u001b[0;32m~/anaconda3/lib/python3.9/site-packages/pandas/core/groupby/groupby.py:1423\u001b[0m, in \u001b[0;36mGroupBy.apply\u001b[0;34m(self, func, *args, **kwargs)\u001b[0m\n\u001b[1;32m   1422\u001b[0m \u001b[38;5;28;01mtry\u001b[39;00m:\n\u001b[0;32m-> 1423\u001b[0m     result \u001b[38;5;241m=\u001b[39m \u001b[38;5;28;43mself\u001b[39;49m\u001b[38;5;241;43m.\u001b[39;49m\u001b[43m_python_apply_general\u001b[49m\u001b[43m(\u001b[49m\u001b[43mf\u001b[49m\u001b[43m,\u001b[49m\u001b[43m \u001b[49m\u001b[38;5;28;43mself\u001b[39;49m\u001b[38;5;241;43m.\u001b[39;49m\u001b[43m_selected_obj\u001b[49m\u001b[43m)\u001b[49m\n\u001b[1;32m   1424\u001b[0m \u001b[38;5;28;01mexcept\u001b[39;00m \u001b[38;5;167;01mTypeError\u001b[39;00m:\n\u001b[1;32m   1425\u001b[0m     \u001b[38;5;66;03m# gh-20949\u001b[39;00m\n\u001b[1;32m   1426\u001b[0m     \u001b[38;5;66;03m# try again, with .apply acting as a filtering\u001b[39;00m\n\u001b[0;32m   (...)\u001b[0m\n\u001b[1;32m   1430\u001b[0m     \u001b[38;5;66;03m# fails on *some* columns, e.g. a numeric operation\u001b[39;00m\n\u001b[1;32m   1431\u001b[0m     \u001b[38;5;66;03m# on a string grouper column\u001b[39;00m\n",
      "File \u001b[0;32m~/anaconda3/lib/python3.9/site-packages/pandas/core/groupby/groupby.py:1464\u001b[0m, in \u001b[0;36mGroupBy._python_apply_general\u001b[0;34m(self, f, data, not_indexed_same)\u001b[0m\n\u001b[1;32m   1445\u001b[0m \u001b[38;5;124;03m\"\"\"\u001b[39;00m\n\u001b[1;32m   1446\u001b[0m \u001b[38;5;124;03mApply function f in python space\u001b[39;00m\n\u001b[1;32m   1447\u001b[0m \n\u001b[0;32m   (...)\u001b[0m\n\u001b[1;32m   1462\u001b[0m \u001b[38;5;124;03m    data after applying f\u001b[39;00m\n\u001b[1;32m   1463\u001b[0m \u001b[38;5;124;03m\"\"\"\u001b[39;00m\n\u001b[0;32m-> 1464\u001b[0m values, mutated \u001b[38;5;241m=\u001b[39m \u001b[38;5;28;43mself\u001b[39;49m\u001b[38;5;241;43m.\u001b[39;49m\u001b[43mgrouper\u001b[49m\u001b[38;5;241;43m.\u001b[39;49m\u001b[43mapply\u001b[49m\u001b[43m(\u001b[49m\u001b[43mf\u001b[49m\u001b[43m,\u001b[49m\u001b[43m \u001b[49m\u001b[43mdata\u001b[49m\u001b[43m,\u001b[49m\u001b[43m \u001b[49m\u001b[38;5;28;43mself\u001b[39;49m\u001b[38;5;241;43m.\u001b[39;49m\u001b[43maxis\u001b[49m\u001b[43m)\u001b[49m\n\u001b[1;32m   1466\u001b[0m \u001b[38;5;28;01mif\u001b[39;00m not_indexed_same \u001b[38;5;129;01mis\u001b[39;00m \u001b[38;5;28;01mNone\u001b[39;00m:\n",
      "File \u001b[0;32m~/anaconda3/lib/python3.9/site-packages/pandas/core/groupby/ops.py:761\u001b[0m, in \u001b[0;36mBaseGrouper.apply\u001b[0;34m(self, f, data, axis)\u001b[0m\n\u001b[1;32m    760\u001b[0m group_axes \u001b[38;5;241m=\u001b[39m group\u001b[38;5;241m.\u001b[39maxes\n\u001b[0;32m--> 761\u001b[0m res \u001b[38;5;241m=\u001b[39m \u001b[43mf\u001b[49m\u001b[43m(\u001b[49m\u001b[43mgroup\u001b[49m\u001b[43m)\u001b[49m\n\u001b[1;32m    762\u001b[0m \u001b[38;5;28;01mif\u001b[39;00m \u001b[38;5;129;01mnot\u001b[39;00m mutated \u001b[38;5;129;01mand\u001b[39;00m \u001b[38;5;129;01mnot\u001b[39;00m _is_indexed_like(res, group_axes, axis):\n",
      "Input \u001b[0;32mIn [29]\u001b[0m, in \u001b[0;36m<lambda>\u001b[0;34m(x)\u001b[0m\n\u001b[0;32m----> 1\u001b[0m p_val \u001b[38;5;241m=\u001b[39m list_item\u001b[38;5;241m.\u001b[39mgroupby([\u001b[38;5;124m'\u001b[39m\u001b[38;5;124mplatform\u001b[39m\u001b[38;5;124m'\u001b[39m,\u001b[38;5;124m'\u001b[39m\u001b[38;5;124mgender\u001b[39m\u001b[38;5;124m'\u001b[39m])\u001b[38;5;241m.\u001b[39mapply(\u001b[38;5;28;01mlambda\u001b[39;00m x: \u001b[43mp_val_calc\u001b[49m\u001b[43m(\u001b[49m\u001b[43mx\u001b[49m\u001b[43m,\u001b[49m\u001b[43m \u001b[49m\u001b[43mplot_pval\u001b[49m\u001b[43m,\u001b[49m\u001b[43m \u001b[49m\u001b[38;5;241;43m100000\u001b[39;49m\u001b[43m)\u001b[49m)\n\u001b[1;32m      2\u001b[0m p_val \u001b[38;5;241m=\u001b[39m p_val\u001b[38;5;241m.\u001b[39mreset_index()\n",
      "\u001b[0;31mTypeError\u001b[0m: p_val_calc() missing 1 required positional argument: 'col_gender'",
      "\nDuring handling of the above exception, another exception occurred:\n",
      "\u001b[0;31mTypeError\u001b[0m                                 Traceback (most recent call last)",
      "Input \u001b[0;32mIn [29]\u001b[0m, in \u001b[0;36m<cell line: 1>\u001b[0;34m()\u001b[0m\n\u001b[0;32m----> 1\u001b[0m p_val \u001b[38;5;241m=\u001b[39m \u001b[43mlist_item\u001b[49m\u001b[38;5;241;43m.\u001b[39;49m\u001b[43mgroupby\u001b[49m\u001b[43m(\u001b[49m\u001b[43m[\u001b[49m\u001b[38;5;124;43m'\u001b[39;49m\u001b[38;5;124;43mplatform\u001b[39;49m\u001b[38;5;124;43m'\u001b[39;49m\u001b[43m,\u001b[49m\u001b[38;5;124;43m'\u001b[39;49m\u001b[38;5;124;43mgender\u001b[39;49m\u001b[38;5;124;43m'\u001b[39;49m\u001b[43m]\u001b[49m\u001b[43m)\u001b[49m\u001b[38;5;241;43m.\u001b[39;49m\u001b[43mapply\u001b[49m\u001b[43m(\u001b[49m\u001b[38;5;28;43;01mlambda\u001b[39;49;00m\u001b[43m \u001b[49m\u001b[43mx\u001b[49m\u001b[43m:\u001b[49m\u001b[43m \u001b[49m\u001b[43mp_val_calc\u001b[49m\u001b[43m(\u001b[49m\u001b[43mx\u001b[49m\u001b[43m,\u001b[49m\u001b[43m \u001b[49m\u001b[43mplot_pval\u001b[49m\u001b[43m,\u001b[49m\u001b[43m \u001b[49m\u001b[38;5;241;43m100000\u001b[39;49m\u001b[43m)\u001b[49m\u001b[43m)\u001b[49m\n\u001b[1;32m      2\u001b[0m p_val \u001b[38;5;241m=\u001b[39m p_val\u001b[38;5;241m.\u001b[39mreset_index()\n\u001b[1;32m      3\u001b[0m p_val\u001b[38;5;241m.\u001b[39mdropna(inplace\u001b[38;5;241m=\u001b[39m\u001b[38;5;28;01mTrue\u001b[39;00m)\n",
      "File \u001b[0;32m~/anaconda3/lib/python3.9/site-packages/pandas/core/groupby/groupby.py:1434\u001b[0m, in \u001b[0;36mGroupBy.apply\u001b[0;34m(self, func, *args, **kwargs)\u001b[0m\n\u001b[1;32m   1424\u001b[0m     \u001b[38;5;28;01mexcept\u001b[39;00m \u001b[38;5;167;01mTypeError\u001b[39;00m:\n\u001b[1;32m   1425\u001b[0m         \u001b[38;5;66;03m# gh-20949\u001b[39;00m\n\u001b[1;32m   1426\u001b[0m         \u001b[38;5;66;03m# try again, with .apply acting as a filtering\u001b[39;00m\n\u001b[0;32m   (...)\u001b[0m\n\u001b[1;32m   1430\u001b[0m         \u001b[38;5;66;03m# fails on *some* columns, e.g. a numeric operation\u001b[39;00m\n\u001b[1;32m   1431\u001b[0m         \u001b[38;5;66;03m# on a string grouper column\u001b[39;00m\n\u001b[1;32m   1433\u001b[0m         \u001b[38;5;28;01mwith\u001b[39;00m \u001b[38;5;28mself\u001b[39m\u001b[38;5;241m.\u001b[39m_group_selection_context():\n\u001b[0;32m-> 1434\u001b[0m             \u001b[38;5;28;01mreturn\u001b[39;00m \u001b[38;5;28;43mself\u001b[39;49m\u001b[38;5;241;43m.\u001b[39;49m\u001b[43m_python_apply_general\u001b[49m\u001b[43m(\u001b[49m\u001b[43mf\u001b[49m\u001b[43m,\u001b[49m\u001b[43m \u001b[49m\u001b[38;5;28;43mself\u001b[39;49m\u001b[38;5;241;43m.\u001b[39;49m\u001b[43m_selected_obj\u001b[49m\u001b[43m)\u001b[49m\n\u001b[1;32m   1436\u001b[0m \u001b[38;5;28;01mreturn\u001b[39;00m result\n",
      "File \u001b[0;32m~/anaconda3/lib/python3.9/site-packages/pandas/core/groupby/groupby.py:1464\u001b[0m, in \u001b[0;36mGroupBy._python_apply_general\u001b[0;34m(self, f, data, not_indexed_same)\u001b[0m\n\u001b[1;32m   1438\u001b[0m \u001b[38;5;129m@final\u001b[39m\n\u001b[1;32m   1439\u001b[0m \u001b[38;5;28;01mdef\u001b[39;00m \u001b[38;5;21m_python_apply_general\u001b[39m(\n\u001b[1;32m   1440\u001b[0m     \u001b[38;5;28mself\u001b[39m,\n\u001b[0;32m   (...)\u001b[0m\n\u001b[1;32m   1443\u001b[0m     not_indexed_same: \u001b[38;5;28mbool\u001b[39m \u001b[38;5;241m|\u001b[39m \u001b[38;5;28;01mNone\u001b[39;00m \u001b[38;5;241m=\u001b[39m \u001b[38;5;28;01mNone\u001b[39;00m,\n\u001b[1;32m   1444\u001b[0m ) \u001b[38;5;241m-\u001b[39m\u001b[38;5;241m>\u001b[39m DataFrame \u001b[38;5;241m|\u001b[39m Series:\n\u001b[1;32m   1445\u001b[0m     \u001b[38;5;124;03m\"\"\"\u001b[39;00m\n\u001b[1;32m   1446\u001b[0m \u001b[38;5;124;03m    Apply function f in python space\u001b[39;00m\n\u001b[1;32m   1447\u001b[0m \n\u001b[0;32m   (...)\u001b[0m\n\u001b[1;32m   1462\u001b[0m \u001b[38;5;124;03m        data after applying f\u001b[39;00m\n\u001b[1;32m   1463\u001b[0m \u001b[38;5;124;03m    \"\"\"\u001b[39;00m\n\u001b[0;32m-> 1464\u001b[0m     values, mutated \u001b[38;5;241m=\u001b[39m \u001b[38;5;28;43mself\u001b[39;49m\u001b[38;5;241;43m.\u001b[39;49m\u001b[43mgrouper\u001b[49m\u001b[38;5;241;43m.\u001b[39;49m\u001b[43mapply\u001b[49m\u001b[43m(\u001b[49m\u001b[43mf\u001b[49m\u001b[43m,\u001b[49m\u001b[43m \u001b[49m\u001b[43mdata\u001b[49m\u001b[43m,\u001b[49m\u001b[43m \u001b[49m\u001b[38;5;28;43mself\u001b[39;49m\u001b[38;5;241;43m.\u001b[39;49m\u001b[43maxis\u001b[49m\u001b[43m)\u001b[49m\n\u001b[1;32m   1466\u001b[0m     \u001b[38;5;28;01mif\u001b[39;00m not_indexed_same \u001b[38;5;129;01mis\u001b[39;00m \u001b[38;5;28;01mNone\u001b[39;00m:\n\u001b[1;32m   1467\u001b[0m         not_indexed_same \u001b[38;5;241m=\u001b[39m mutated \u001b[38;5;129;01mor\u001b[39;00m \u001b[38;5;28mself\u001b[39m\u001b[38;5;241m.\u001b[39mmutated\n",
      "File \u001b[0;32m~/anaconda3/lib/python3.9/site-packages/pandas/core/groupby/ops.py:761\u001b[0m, in \u001b[0;36mBaseGrouper.apply\u001b[0;34m(self, f, data, axis)\u001b[0m\n\u001b[1;32m    759\u001b[0m \u001b[38;5;66;03m# group might be modified\u001b[39;00m\n\u001b[1;32m    760\u001b[0m group_axes \u001b[38;5;241m=\u001b[39m group\u001b[38;5;241m.\u001b[39maxes\n\u001b[0;32m--> 761\u001b[0m res \u001b[38;5;241m=\u001b[39m \u001b[43mf\u001b[49m\u001b[43m(\u001b[49m\u001b[43mgroup\u001b[49m\u001b[43m)\u001b[49m\n\u001b[1;32m    762\u001b[0m \u001b[38;5;28;01mif\u001b[39;00m \u001b[38;5;129;01mnot\u001b[39;00m mutated \u001b[38;5;129;01mand\u001b[39;00m \u001b[38;5;129;01mnot\u001b[39;00m _is_indexed_like(res, group_axes, axis):\n\u001b[1;32m    763\u001b[0m     mutated \u001b[38;5;241m=\u001b[39m \u001b[38;5;28;01mTrue\u001b[39;00m\n",
      "Input \u001b[0;32mIn [29]\u001b[0m, in \u001b[0;36m<lambda>\u001b[0;34m(x)\u001b[0m\n\u001b[0;32m----> 1\u001b[0m p_val \u001b[38;5;241m=\u001b[39m list_item\u001b[38;5;241m.\u001b[39mgroupby([\u001b[38;5;124m'\u001b[39m\u001b[38;5;124mplatform\u001b[39m\u001b[38;5;124m'\u001b[39m,\u001b[38;5;124m'\u001b[39m\u001b[38;5;124mgender\u001b[39m\u001b[38;5;124m'\u001b[39m])\u001b[38;5;241m.\u001b[39mapply(\u001b[38;5;28;01mlambda\u001b[39;00m x: \u001b[43mp_val_calc\u001b[49m\u001b[43m(\u001b[49m\u001b[43mx\u001b[49m\u001b[43m,\u001b[49m\u001b[43m \u001b[49m\u001b[43mplot_pval\u001b[49m\u001b[43m,\u001b[49m\u001b[43m \u001b[49m\u001b[38;5;241;43m100000\u001b[39;49m\u001b[43m)\u001b[49m)\n\u001b[1;32m      2\u001b[0m p_val \u001b[38;5;241m=\u001b[39m p_val\u001b[38;5;241m.\u001b[39mreset_index()\n\u001b[1;32m      3\u001b[0m p_val\u001b[38;5;241m.\u001b[39mdropna(inplace\u001b[38;5;241m=\u001b[39m\u001b[38;5;28;01mTrue\u001b[39;00m)\n",
      "\u001b[0;31mTypeError\u001b[0m: p_val_calc() missing 1 required positional argument: 'col_gender'"
     ]
    }
   ],
   "source": [
    "p_val = list_item.groupby(['platform','gender']).apply(lambda x: p_val_calc(x, plot_pval, 100000))\n",
    "p_val = p_val.reset_index()\n",
    "p_val.dropna(inplace=True)\n",
    "p_val"
   ]
  },
  {
   "cell_type": "code",
   "execution_count": null,
   "metadata": {},
   "outputs": [],
   "source": [
    "import matplotlib.pyplot as plt\n",
    "az = plot_pval[(plot_pval['platform']=='Amazon') & (plot_pval['rand_gender']=='boy')]\n",
    "az.plot.bar(x='jaccard_sim', y='iteration')"
   ]
  },
  {
   "cell_type": "code",
   "execution_count": null,
   "metadata": {},
   "outputs": [],
   "source": [
    "list_item.dropna()"
   ]
  },
  {
   "cell_type": "code",
   "execution_count": null,
   "metadata": {},
   "outputs": [],
   "source": [
    "df"
   ]
  },
  {
   "cell_type": "markdown",
   "metadata": {},
   "source": [
    "## Randomize platforms"
   ]
  },
  {
   "cell_type": "code",
   "execution_count": null,
   "metadata": {},
   "outputs": [],
   "source": [
    "rand_plat_df = df[['platform', 'item', 'gender']].reset_index(drop=True)\n",
    "rand_plat_df"
   ]
  },
  {
   "cell_type": "code",
   "execution_count": null,
   "metadata": {},
   "outputs": [],
   "source": [
    "import random\n",
    "def swap(row):\n",
    "    coin = random.randint(0, 1)\n",
    "    if coin == 0:\n",
    "        return row\n",
    "    else:\n",
    "        idx = pd.Index(row.index).values\n",
    "        b, c = row.loc[idx[0]]['gender'], row.loc[idx[1]]['gender']\n",
    "        temp = row.loc[idx[0]]['gender']\n",
    "        row.loc[idx[0]]['gender'] = c\n",
    "        row.loc[idx[1]]['gender'] = temp\n",
    "    return row"
   ]
  },
  {
   "cell_type": "code",
   "execution_count": null,
   "metadata": {},
   "outputs": [],
   "source": [
    "def rand_plat(r_df, iteration, stereo_toys):\n",
    "    #for i in range(10000):\n",
    "    #sys_label = r_df['gender'].values\n",
    "    #np.random.shuffle(sys_label)\n",
    "    #r_df['rand_gender'] = sys_label\n",
    "    generated_list = r_df.groupby(['gender'])['item'].apply(list)\n",
    "    list_df = generated_list.to_frame().reset_index()\n",
    "    list_df['jaccard_sim'] = list_df.apply(lambda x: match(x, 'gender',stereo_toys), axis = 1)\n",
    "    list_df['iteration'] = iteration\n",
    "    list_df.drop(columns=['item'], inplace=True)\n",
    "    list_df.dropna(inplace=True)\n",
    "    return list_df"
   ]
  },
  {
   "cell_type": "code",
   "execution_count": null,
   "metadata": {},
   "outputs": [],
   "source": [
    "rand_result_pval = pd.DataFrame()\n",
    "for i in range(100000):\n",
    "    rand_df = rand_plat_df.groupby('item').apply(lambda x: swap(x))\n",
    "    rand_df.dropna(inplace=True)\n",
    "    rand_result = rand_df.groupby('platform').apply(lambda x: rand_plat(x, i, stereo_toys))\n",
    "    rand_result = rand_result.reset_index('platform')\n",
    "    rand_result_pval = rand_result_pval.append(rand_result, ignore_index = True)"
   ]
  },
  {
   "cell_type": "code",
   "execution_count": null,
   "metadata": {},
   "outputs": [],
   "source": [
    "#rand_result_pval.to_csv('rand_plat.csv', index = False)\n",
    "rand_result_pval = pd.read_csv('rand_plat.csv')\n",
    "rand_result_pval"
   ]
  },
  {
   "cell_type": "code",
   "execution_count": null,
   "metadata": {},
   "outputs": [],
   "source": [
    "def difference(row):\n",
    "    val = abs(row['jaccard_sim'].diff().values[1])\n",
    "    return round(val,2)"
   ]
  },
  {
   "cell_type": "code",
   "execution_count": null,
   "metadata": {},
   "outputs": [],
   "source": [
    "diff_pa_val = rand_result_pval.groupby(['gender','iteration']).apply(lambda x: difference(x))\n",
    "diff_pa_val = diff_pa_val.reset_index()\n",
    "diff_pa_val"
   ]
  },
  {
   "cell_type": "code",
   "execution_count": null,
   "metadata": {},
   "outputs": [],
   "source": [
    "rand_plot_pval = diff_pa_val.groupby(['gender', 0])['iteration'].count()\n",
    "rand_plot_pval = rand_plot_pval.reset_index()\n",
    "rand_plot_pval"
   ]
  },
  {
   "cell_type": "code",
   "execution_count": null,
   "metadata": {},
   "outputs": [],
   "source": [
    "list_item"
   ]
  },
  {
   "cell_type": "code",
   "execution_count": null,
   "metadata": {},
   "outputs": [],
   "source": [
    "def rand_p_val_calc(sys_sim, random_sim, niteration, col_gender):\n",
    "    gender = sys_sim['gender'].values[0]\n",
    "    if gender == 'neutral':\n",
    "        return\n",
    "    platform = sys_sim['platform'].values[0]\n",
    "    original_diff = abs(sys_sim['count_match'].diff().values[1])\n",
    "    #print(sys_sim)\n",
    "    random_plat_sim = random_sim[random_sim[col_gender]==gender]\n",
    "    random_plat_sim = random_plat_sim[random_plat_sim[0]>=original_diff]\n",
    "    #print(random_plat_sim)\n",
    "    total = random_plat_sim['iteration'].sum()\n",
    "    frac = total/niteration\n",
    "    return frac"
   ]
  },
  {
   "cell_type": "code",
   "execution_count": null,
   "metadata": {},
   "outputs": [],
   "source": [
    "rand_p_val = list_item.groupby(['gender']).apply(lambda x: rand_p_val_calc(x, rand_plot_pval, 100000, 'gender'))\n",
    "rand_p_val = rand_p_val.reset_index()\n",
    "rand_p_val.dropna(inplace=True)\n",
    "rand_p_val"
   ]
  },
  {
   "cell_type": "code",
   "execution_count": null,
   "metadata": {},
   "outputs": [],
   "source": [
    "import matplotlib.pyplot as plt\n",
    "az = rand_plot_pval[(rand_plot_pval['platform']=='Target') & (rand_plot_pval['gender']=='girl')]\n",
    "az.plot.bar(x='jaccard_sim', y='iteration')"
   ]
  },
  {
   "cell_type": "markdown",
   "metadata": {},
   "source": [
    "### item gender for each item"
   ]
  },
  {
   "cell_type": "code",
   "execution_count": null,
   "metadata": {},
   "outputs": [],
   "source": [
    "df"
   ]
  },
  {
   "cell_type": "code",
   "execution_count": null,
   "metadata": {},
   "outputs": [],
   "source": [
    "new_df = df[['platform', 'item', 'gender_association']]"
   ]
  },
  {
   "cell_type": "code",
   "execution_count": null,
   "metadata": {},
   "outputs": [],
   "source": [
    "new_df = pd.concat([new_df.drop(['gender_association'], axis=1), new_df['gender_association'].apply(pd.Series)], axis=1)"
   ]
  },
  {
   "cell_type": "code",
   "execution_count": null,
   "metadata": {},
   "outputs": [],
   "source": [
    "#new_df.drop(columns=[0], inplace = True)\n",
    "#new_df = new_df.dropna()\n",
    "#new_df"
   ]
  },
  {
   "cell_type": "raw",
   "metadata": {},
   "source": [
    "new_df['total'] = new_df['boy']+new_df['girl']\n",
    "avg = new_df.groupby(['item'])['total'].mean()\n",
    "avg"
   ]
  },
  {
   "cell_type": "code",
   "execution_count": null,
   "metadata": {},
   "outputs": [],
   "source": [
    "g = new_df.groupby(['item'])['boy'].mean()\n",
    "g = g.reset_index()\n",
    "g"
   ]
  },
  {
   "cell_type": "code",
   "execution_count": null,
   "metadata": {},
   "outputs": [],
   "source": [
    "g['girl'] = new_df.groupby(['item'])['girl'].mean().values\n",
    "g"
   ]
  },
  {
   "cell_type": "code",
   "execution_count": null,
   "metadata": {},
   "outputs": [],
   "source": [
    "g['diff'] = g['boy']-g['girl']\n",
    "g"
   ]
  },
  {
   "cell_type": "code",
   "execution_count": null,
   "metadata": {
    "scrolled": true
   },
   "outputs": [],
   "source": [
    "s = g.sort_values('diff', ascending=False).head(40)\n",
    "s"
   ]
  },
  {
   "cell_type": "code",
   "execution_count": null,
   "metadata": {},
   "outputs": [],
   "source": [
    "test_df = stereo_toys.T\n",
    "test_df['item'] = test_df.values.tolist()\n",
    "new_df = test_df[['item']]\n",
    "new_df.reset_index(inplace=True)\n",
    "new_df.rename(columns={'index':'gender'},inplace=True)\n",
    "#new_df = new_df.explode('item')\n",
    "#new_df"
   ]
  },
  {
   "cell_type": "code",
   "execution_count": null,
   "metadata": {},
   "outputs": [],
   "source": [
    "def gender_score(row):\n",
    "    if row == 'BOY':\n",
    "        return 1\n",
    "    elif row == 'GIRL':\n",
    "        return -1\n",
    "    else:\n",
    "        return 0"
   ]
  },
  {
   "cell_type": "code",
   "execution_count": null,
   "metadata": {},
   "outputs": [],
   "source": [
    "new_df = new_df.explode('item')\n",
    "new_df['gender_score'] = new_df['gender'].apply(lambda x: gender_score(x))\n",
    "new_df"
   ]
  },
  {
   "cell_type": "code",
   "execution_count": null,
   "metadata": {},
   "outputs": [],
   "source": [
    "merged_df = pd.merge(g[['item', 'diff', 'boy', 'girl']], new_df[['item', 'gender_score']], how = 'outer', on ='item')\n",
    "merged_df.drop_duplicates(keep='last', inplace=True)\n",
    "merged_df"
   ]
  },
  {
   "cell_type": "code",
   "execution_count": null,
   "metadata": {},
   "outputs": [],
   "source": [
    "merged_df.sort_values(by='diff', ascending=True).head(45)"
   ]
  },
  {
   "cell_type": "code",
   "execution_count": null,
   "metadata": {},
   "outputs": [],
   "source": [
    "#merged_df.isna().sum()"
   ]
  },
  {
   "cell_type": "code",
   "execution_count": null,
   "metadata": {},
   "outputs": [],
   "source": [
    "#split_df = pd.concat([merged_df.drop(['score'], axis=1), merged_df['score'].apply(pd.Series)], axis=1)"
   ]
  },
  {
   "cell_type": "code",
   "execution_count": null,
   "metadata": {},
   "outputs": [],
   "source": [
    "def addcolor(a):\n",
    "\n",
    "    if a== 1:\n",
    "        return 'green'\n",
    "    elif a== 0: \n",
    "        return 'black'\n",
    "    elif a==-1: \n",
    "        return'orange'\n",
    "def addsign(a):\n",
    "\n",
    "    if a== 1:\n",
    "        return 'x'\n",
    "    elif a== 0: \n",
    "        return '+'\n",
    "    elif a== -1: \n",
    "        return'o'\n",
    "    #return a\n",
    "\n",
    "merged_df['color'] = merged_df['gender_score'].apply(lambda x: addcolor(x))\n",
    "merged_df['sign'] = merged_df['gender_score'].apply(lambda x: addsign(x))\n",
    "#print(merged_df)\n",
    "#val = 0. # this is the value where you want the data to appear on the y-axis.\n",
    "x = list(merged_df['boy'].values)\n",
    "#y = np.zeros_like(x)+val\n",
    "y = list(merged_df['girl'].values)\n",
    "col = list(merged_df['color'].values)\n",
    "mark = list(merged_df['sign'].values)\n",
    "n = list(merged_df['item'].values)\n",
    "#fig, ax = plt.subplots()\n",
    "\n",
    "for i, val in enumerate(n):\n",
    "    x1 = x[i]    \n",
    "    y1 = y[i]\n",
    "    c1 = col[i]\n",
    "    m = mark[i]\n",
    "    plt.scatter(x1, y1, marker='x', c=c1)\n",
    "\n",
    "#ticks = [-1, 0, 1]\n",
    "#labels = ['GIRL', 'NEUTRAL', 'BOY']\n",
    "#plt.yticks(ticks, labels)\n",
    "#ticks = [min(x), 0, max(x)]\n",
    "#plt.xticks(ticks, labels)\n",
    "xpoints = ypoints = plt.xlim()\n",
    "#plt.legend(loc='upper left', numpoints=1, ncol=3, fontsize=8, bbox_to_anchor=(0, 0))\n",
    "#plt.show()\n",
    "plt.plot(xpoints, ypoints, color='k', lw=1, scalex=False, scaley=False)\n",
    "\n",
    "\n",
    "#plt.show()\n",
    "plt.xlabel(\"Similarity with Boy-Targeted Query\")\n",
    "plt.ylabel(\"Similarity with Girl-Targeted Query\")\n",
    "\n",
    "plt.savefig('SIGIR_gender_asso_scatter.pdf')\n",
    "\n",
    "#plt.scatter(x, y, marker = merged_df['sign'].values, c=merged_df['color'])"
   ]
  },
  {
   "cell_type": "code",
   "execution_count": null,
   "metadata": {},
   "outputs": [],
   "source": [
    "import matplotlib.pyplot as plt\n",
    "from numpy.random import random\n",
    "\n",
    "colors = ['black', 'orange', 'green',]\n",
    "\n",
    "lo = plt.scatter(random(10), random(10), marker='x', color=colors[0])\n",
    "ll = plt.scatter(random(10), random(10), marker='x', color=colors[1])\n",
    "l  = plt.scatter(random(10), random(10), marker='x', color=colors[2])\n",
    "\n",
    "\n",
    "plt.legend((lo, ll, l,),\n",
    "           ('Neutral', 'Girl', 'Boy'),\n",
    "           scatterpoints=1,\n",
    "           loc='best',\n",
    "           ncol=3,\n",
    "           fontsize=10, bbox_to_anchor=(1.1, 1.05))\n",
    "#ax.legend()\n",
    "\n",
    "plt.show()"
   ]
  },
  {
   "cell_type": "code",
   "execution_count": null,
   "metadata": {},
   "outputs": [],
   "source": [
    "boy = list(g[g['diff']>0]['item'].values)\n",
    "r_boy = list(stereo_toys['BOY'].values)\n",
    "inter = len(set(boy).intersection(set(r_boy)))\n",
    "recall_boy = inter/len(r_boy)\n",
    "recall_boy"
   ]
  },
  {
   "cell_type": "code",
   "execution_count": null,
   "metadata": {},
   "outputs": [],
   "source": [
    "girl = list(g[g['diff']<0]['item'].values)\n",
    "r_girl = list(stereo_toys['GIRL'].values)\n",
    "inter = len(set(girl).intersection(set(r_girl)))\n",
    "recall_girl = inter/len(r_girl)\n",
    "recall_girl"
   ]
  },
  {
   "cell_type": "code",
   "execution_count": null,
   "metadata": {},
   "outputs": [],
   "source": [
    "g.sort_values(by=['diff'], ascending= False)[60:70]"
   ]
  },
  {
   "cell_type": "raw",
   "metadata": {},
   "source": [
    "def count_gender(row):\n",
    "    gender = {'girl':0, 'boy':0}\n",
    "    for r in row:\n",
    "        try:\n",
    "            gender['girl']+=r['girl']\n",
    "            gender['boy']+=r['boy']\n",
    "        except:\n",
    "            pass\n",
    "        \n",
    "    return gender"
   ]
  },
  {
   "cell_type": "code",
   "execution_count": null,
   "metadata": {},
   "outputs": [],
   "source": [
    "#g.sort_values(['girl', 'boy'], ascending=[True, False]).head(30)"
   ]
  },
  {
   "cell_type": "raw",
   "metadata": {},
   "source": [
    "total = df.groupby('item')['gender_association'].apply(lambda x: count_gender(x))\n",
    "total = total.reset_index()\n",
    "total"
   ]
  },
  {
   "cell_type": "code",
   "execution_count": null,
   "metadata": {},
   "outputs": [],
   "source": [
    "gender_count = df.groupby(['item', 'gender'])['platform'].count()\n",
    "gender_count = gender_count.reset_index()\n",
    "gender = gender_count.loc[gender_count.groupby('item')['platform'].idxmax()]\n",
    "gender"
   ]
  },
  {
   "cell_type": "code",
   "execution_count": null,
   "metadata": {},
   "outputs": [],
   "source": [
    "gender_list = gender.groupby('gender')['item'].apply(list)\n",
    "gender_list"
   ]
  },
  {
   "cell_type": "code",
   "execution_count": null,
   "metadata": {},
   "outputs": [],
   "source": [
    "gender_list['neutral']"
   ]
  },
  {
   "cell_type": "code",
   "execution_count": null,
   "metadata": {},
   "outputs": [],
   "source": [
    "gender_list['girl']"
   ]
  },
  {
   "cell_type": "code",
   "execution_count": null,
   "metadata": {},
   "outputs": [],
   "source": [
    "gender_list['neutral']"
   ]
  },
  {
   "cell_type": "markdown",
   "metadata": {},
   "source": [
    "### book for gender"
   ]
  },
  {
   "cell_type": "markdown",
   "metadata": {},
   "source": [
    "## charts"
   ]
  },
  {
   "cell_type": "code",
   "execution_count": null,
   "metadata": {},
   "outputs": [],
   "source": [
    "gender_attach = df[['platform', 'item', 'gender_association']]\n",
    "gender_attach"
   ]
  },
  {
   "cell_type": "code",
   "execution_count": null,
   "metadata": {},
   "outputs": [],
   "source": [
    "def gender_asso_count(row):\n",
    "    try:\n",
    "        if row['girl'] == 0 and row['boy'] == 0:\n",
    "            return 'no gender'\n",
    "        else:\n",
    "            return 'gendered'\n",
    "    except:\n",
    "        return None"
   ]
  },
  {
   "cell_type": "code",
   "execution_count": null,
   "metadata": {},
   "outputs": [],
   "source": [
    "gender_attach['rate'] = gender_attach['gender_association'].apply(lambda x: gender_asso_count(x))\n",
    "gender_attach"
   ]
  },
  {
   "cell_type": "code",
   "execution_count": null,
   "metadata": {},
   "outputs": [],
   "source": [
    "gender_attach = gender_attach.dropna()\n",
    "gender_attach_count = gender_attach.groupby(['platform', 'rate'])['item'].count()\n",
    "gender_attach_count = gender_attach_count.rename(\"count\")\n",
    "gender_attach_count = gender_attach_count.reset_index()\n",
    "gender_attach_count"
   ]
  },
  {
   "cell_type": "code",
   "execution_count": null,
   "metadata": {},
   "outputs": [],
   "source": [
    "#frac = gender_attach_count.groupby(['platform']).agg({'count': 'sum'})\n",
    "# Change: groupby state_office and divide by sum\n",
    "gender_attach_count['count'] = gender_attach_count.groupby(['platform'])['count'].apply(lambda x:100 * x / total)#float(x.sum()))\n",
    "gender_attach_count"
   ]
  },
  {
   "cell_type": "code",
   "execution_count": null,
   "metadata": {},
   "outputs": [],
   "source": [
    "table1 = pd.pivot_table(gender_attach_count, values='count', index=['platform'],columns=['rate'])\n",
    "table1 = table1.reset_index()"
   ]
  },
  {
   "cell_type": "code",
   "execution_count": null,
   "metadata": {},
   "outputs": [],
   "source": [
    "#table = pd.pivot_table(platform_gender_count, values='count', index=['platform'],columns=['gender'])\n",
    "#table=table.reset_index()"
   ]
  },
  {
   "cell_type": "code",
   "execution_count": null,
   "metadata": {},
   "outputs": [],
   "source": [
    "ax3 = table1.plot(x='platform', kind='bar', stacked=False, title='Gender association with items per platform')\n",
    "#ax.figure.savefig('gender_platform.pdf')"
   ]
  },
  {
   "cell_type": "code",
   "execution_count": null,
   "metadata": {},
   "outputs": [],
   "source": [
    "platform_gender_count = df.groupby(['platform', 'gender'])['item'].count()\n",
    "platform_gender_count = platform_gender_count.rename(\"count\")\n",
    "platform_gender_count = platform_gender_count.reset_index()\n",
    "platform_gender_count"
   ]
  },
  {
   "cell_type": "raw",
   "metadata": {},
   "source": [
    "import matplotlib.pyplot as plt\n",
    "import numpy as np\n",
    "  \n",
    "# create data\n",
    "x = platform_gender_count['platform'].unique()\n",
    "y1 = platform_gender_count.loc[platform_gender_count['gender']=='neutral']['count']\n",
    "y2 = platform_gender_count.loc[platform_gender_count['gender']=='girl']['count']\n",
    "y3 = platform_gender_count.loc[platform_gender_count['gender']=='boy']['count']\n",
    "print(y3)\n",
    "# plot bars in stack manner\n",
    "plt.bar(x, y1, color='r')\n",
    "plt.bar(x, y2, bottom=y1, color='b')\n",
    "plt.bar(x, y3, bottom=y1+y2, color='y')\n",
    "plt.xlabel(\"Teams\")\n",
    "plt.ylabel(\"Score\")\n",
    "plt.legend(platform_gender_count['gender'].unique())\n",
    "plt.title(\"Scores by Teams in 4 Rounds\")\n",
    "plt.show()"
   ]
  },
  {
   "cell_type": "code",
   "execution_count": null,
   "metadata": {},
   "outputs": [],
   "source": [
    "platform_gender_count.groupby('platform')['count'].sum()"
   ]
  },
  {
   "cell_type": "code",
   "execution_count": null,
   "metadata": {},
   "outputs": [],
   "source": [
    "table = pd.pivot_table(platform_gender_count, values='count', index=['platform'],columns=['gender'])\n",
    "table=table.reset_index()"
   ]
  },
  {
   "cell_type": "code",
   "execution_count": null,
   "metadata": {},
   "outputs": [],
   "source": [
    "table"
   ]
  },
  {
   "cell_type": "code",
   "execution_count": null,
   "metadata": {},
   "outputs": [],
   "source": [
    "import seaborn as sns\n",
    "ax = sns.barplot(x=\"platform\", y=\"count\", hue=\"gender\", data=platform_gender_count)\n",
    "ax.set(xlabel=None)\n",
    "ax.set(ylabel=None)\n",
    "ax.tick_params(axis='both', which='major', labelsize=12)\n",
    "ax.legend(fontsize=10)\n",
    "ax.figure.savefig('SIGIR_gender_platform.pdf')"
   ]
  },
  {
   "cell_type": "code",
   "execution_count": null,
   "metadata": {},
   "outputs": [],
   "source": [
    "ax = table.plot(x='platform', kind='bar', stacked=False, title='Gender association with items per platform')\n",
    "ax.set_xticklabels(table['platform'])\n",
    "ax.figure.savefig('SIGIR_gender_platform.pdf')"
   ]
  },
  {
   "cell_type": "code",
   "execution_count": null,
   "metadata": {},
   "outputs": [],
   "source": [
    "list_table = pd.pivot_table(list_item, values='count_match', index=['platform'],columns=['gender'])\n",
    "list_table = list_table.reset_index()\n",
    "list_table"
   ]
  },
  {
   "cell_type": "code",
   "execution_count": null,
   "metadata": {},
   "outputs": [],
   "source": [
    "plt_list_item = list_item.dropna()"
   ]
  },
  {
   "cell_type": "code",
   "execution_count": null,
   "metadata": {},
   "outputs": [],
   "source": [
    "import seaborn as sns\n",
    "ax = sns.barplot(x=\"platform\", y=\"count_match\", hue=\"gender\", data=plt_list_item)\n",
    "ax.set(xlabel=None)\n",
    "ax.set(ylabel=\"Similarity Score\")\n",
    "ax.tick_params(axis='both', which='major', labelsize=12)\n",
    "ax.legend(fontsize=10)\n",
    "for container in :\n",
    "    ax.bar_label(container)\n",
    "#ax.figure.savefig('SIGIR_gender_count.pdf')"
   ]
  },
  {
   "cell_type": "code",
   "execution_count": null,
   "metadata": {},
   "outputs": [],
   "source": [
    "ax1 = list_table.plot(x='platform', kind='bar', stacked=False, title='Gender association match per platform')\n",
    "ax1.figure.savefig('SIGIR_gender_count.pdf')"
   ]
  }
 ],
 "metadata": {
  "kernelspec": {
   "display_name": "Python 3 (ipykernel)",
   "language": "python",
   "name": "python3"
  },
  "language_info": {
   "codemirror_mode": {
    "name": "ipython",
    "version": 3
   },
   "file_extension": ".py",
   "mimetype": "text/x-python",
   "name": "python",
   "nbconvert_exporter": "python",
   "pygments_lexer": "ipython3",
   "version": "3.9.12"
  }
 },
 "nbformat": 4,
 "nbformat_minor": 4
}
