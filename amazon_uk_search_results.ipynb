{
 "cells": [
  {
   "cell_type": "code",
   "execution_count": 1,
   "metadata": {
    "colab": {
     "base_uri": "https://localhost:8080/",
     "height": 350
    },
    "executionInfo": {
     "elapsed": 191,
     "status": "error",
     "timestamp": 1674156531501,
     "user": {
      "displayName": "Kate Gould",
      "userId": "05910585260938437266"
     },
     "user_tz": 300
    },
    "id": "lXyKHDCHdxlo",
    "outputId": "c78d48e7-67d6-4526-8e4d-914e9f90546f"
   },
   "outputs": [],
   "source": [
    "#imports\n",
    "import requests\n",
    "import json\n",
    "from fake_useragent import UserAgent\n",
    "import pandas as pd\n",
    "import numpy as np\n",
    "#selenium imports\n",
    "from selenium import webdriver\n",
    "from webdriver_manager.chrome import ChromeDriverManager\n",
    "from selenium.common.exceptions import NoSuchElementException\n",
    "from selectorlib import Extractor\n",
    "import requests\n",
    "import json\n",
    "import time\n",
    "\n",
    "from selenium.webdriver.support.ui import WebDriverWait\n",
    "from selenium.webdriver.common.by import By\n",
    "from selenium.webdriver.support import expected_conditions as EC"
   ]
  },
  {
   "cell_type": "code",
   "execution_count": 3,
   "metadata": {},
   "outputs": [],
   "source": [
    "#pip install selectorlib"
   ]
  },
  {
   "cell_type": "markdown",
   "metadata": {
    "id": "ch6SsKf9dxls"
   },
   "source": [
    "## Loading pre-documented gender stereotyped items"
   ]
  },
  {
   "cell_type": "code",
   "execution_count": 5,
   "metadata": {
    "id": "jejLaA7xdxlu",
    "outputId": "c362e0de-7740-4dc3-b6ac-8a1382e61bbe"
   },
   "outputs": [
    {
     "data": {
      "text/html": [
       "<div>\n",
       "<style scoped>\n",
       "    .dataframe tbody tr th:only-of-type {\n",
       "        vertical-align: middle;\n",
       "    }\n",
       "\n",
       "    .dataframe tbody tr th {\n",
       "        vertical-align: top;\n",
       "    }\n",
       "\n",
       "    .dataframe thead th {\n",
       "        text-align: right;\n",
       "    }\n",
       "</style>\n",
       "<table border=\"1\" class=\"dataframe\">\n",
       "  <thead>\n",
       "    <tr style=\"text-align: right;\">\n",
       "      <th></th>\n",
       "      <th>BOY</th>\n",
       "      <th>GIRL</th>\n",
       "      <th>NEUTRAL</th>\n",
       "    </tr>\n",
       "  </thead>\n",
       "  <tbody>\n",
       "    <tr>\n",
       "      <th>0</th>\n",
       "      <td>vehicle toys</td>\n",
       "      <td>doll</td>\n",
       "      <td>toy animals</td>\n",
       "    </tr>\n",
       "    <tr>\n",
       "      <th>1</th>\n",
       "      <td>sport</td>\n",
       "      <td>domestic toys</td>\n",
       "      <td>books</td>\n",
       "    </tr>\n",
       "    <tr>\n",
       "      <th>2</th>\n",
       "      <td>military toys</td>\n",
       "      <td>educational art</td>\n",
       "      <td>educational teaching</td>\n",
       "    </tr>\n",
       "    <tr>\n",
       "      <th>3</th>\n",
       "      <td>race cars</td>\n",
       "      <td>clothes</td>\n",
       "      <td>musical games</td>\n",
       "    </tr>\n",
       "    <tr>\n",
       "      <th>4</th>\n",
       "      <td>outer space toys</td>\n",
       "      <td>dollhouses</td>\n",
       "      <td>games</td>\n",
       "    </tr>\n",
       "    <tr>\n",
       "      <th>...</th>\n",
       "      <td>...</td>\n",
       "      <td>...</td>\n",
       "      <td>...</td>\n",
       "    </tr>\n",
       "    <tr>\n",
       "      <th>67</th>\n",
       "      <td>toy rocket</td>\n",
       "      <td>barbie furniture set</td>\n",
       "      <td>NaN</td>\n",
       "    </tr>\n",
       "    <tr>\n",
       "      <th>68</th>\n",
       "      <td>soccer ball</td>\n",
       "      <td>NaN</td>\n",
       "      <td>NaN</td>\n",
       "    </tr>\n",
       "    <tr>\n",
       "      <th>69</th>\n",
       "      <td>blue ipad</td>\n",
       "      <td>pink ipad</td>\n",
       "      <td>NaN</td>\n",
       "    </tr>\n",
       "    <tr>\n",
       "      <th>70</th>\n",
       "      <td>toy robots</td>\n",
       "      <td>NaN</td>\n",
       "      <td>NaN</td>\n",
       "    </tr>\n",
       "    <tr>\n",
       "      <th>71</th>\n",
       "      <td>toy drones</td>\n",
       "      <td>NaN</td>\n",
       "      <td>NaN</td>\n",
       "    </tr>\n",
       "  </tbody>\n",
       "</table>\n",
       "<p>72 rows × 3 columns</p>\n",
       "</div>"
      ],
      "text/plain": [
       "                 BOY                  GIRL               NEUTRAL\n",
       "0       vehicle toys                  doll           toy animals\n",
       "1              sport         domestic toys                 books\n",
       "2      military toys       educational art  educational teaching\n",
       "3          race cars               clothes         musical games\n",
       "4   outer space toys            dollhouses                 games\n",
       "..               ...                   ...                   ...\n",
       "67        toy rocket  barbie furniture set                   NaN\n",
       "68       soccer ball                   NaN                   NaN\n",
       "69         blue ipad             pink ipad                   NaN\n",
       "70        toy robots                   NaN                   NaN\n",
       "71        toy drones                   NaN                   NaN\n",
       "\n",
       "[72 rows x 3 columns]"
      ]
     },
     "execution_count": 5,
     "metadata": {},
     "output_type": "execute_result"
    }
   ],
   "source": [
    "stereo_toys = pd.read_csv('~/Desktop/485/Data/predoc_stereotyped_items.csv', delimiter =',')\n",
    "stereo_toys"
   ]
  },
  {
   "cell_type": "code",
   "execution_count": 6,
   "metadata": {
    "id": "HftiubXCdxlv"
   },
   "outputs": [],
   "source": [
    "with open('all_items.txt') as f:\n",
    "    all_items = f.read().splitlines()"
   ]
  },
  {
   "cell_type": "code",
   "execution_count": 7,
   "metadata": {
    "id": "pIKTdxwEdxlv",
    "outputId": "d63e4841-cdce-4f2c-a986-1693b29dd1ba"
   },
   "outputs": [
    {
     "data": {
      "text/plain": [
       "166"
      ]
     },
     "execution_count": 7,
     "metadata": {},
     "output_type": "execute_result"
    }
   ],
   "source": [
    "len(all_items)"
   ]
  },
  {
   "cell_type": "code",
   "execution_count": 8,
   "metadata": {},
   "outputs": [
    {
     "name": "stdout",
     "output_type": "stream",
     "text": [
      "['vehicle toys', 'sport', 'military toys', 'race cars', 'outer space toys', 'depots', 'machines', 'doll-humanoid', 'action figures', 'gi joe action figure', 'spiderman', 'guitar', 'castle tent', 'microscope', 'monster trucks', 'bug collection set', 'barn', 'grill', 'dinosaur toy', 'volcano creator', 'pokemon cards', 'space station toys', 'basketball hoop', 'gears', 'train set', 'lincoln logs', 'police station toy', 'airport toy', 'police officer gear', 'dragonballz', 'superhero costumes', 'helicopter', 'racetrack', 'remote control car', 'football', 'hockey stick', 'sword toy', 'miniature guns', 'truck set', 'remote control helicopter', 'sully costume', 'woody valentine', 'spiderman costume', 'batman costume', 'ninja costume', 'wwe action figure', 'action figure', 'toy gun', 'construction games', 'war toys', 'toy vehicles', 'educational material', 'nerf guns', 'construction toys', 'car toys', 'video games', 'building blocks', 'dinosaur toys', 'lego cars', 'lego toys', 'computer games', 'spaceship lego', 'firefighter gear', 'soldier toys', 'space station', 'science project kit', 'toy rocket', 'soccer ball', 'blue ipad', 'toy robots', 'toy drones', 'doll', 'domestic toys', 'educational art', 'clothes', 'dollhouses', 'clothing accessories', 'doll accessories', 'furnishing', 'ballerina costume', 'barbie costume', 'barbie jeep', 'play makeup', 'bratz doll', 'jewelry', 'my little pony', 'tea set', 'vanity set', 'princess costume', 'baby dolls', 'beads', 'dollhouse', 'easy bake oven', 'baby doll stroller', 'sewing machine', 'pink ice skates', 'ken doll', 'toy kitchen', 'broom', 'beanie baby bear', 'toy vacuum cleaner', 'veterinarian kit', 'kitchen set', 'stuffed animals', 'plush toys', 'unicorn', 'sparkly toys', 'disney doll', 'baking kit', 'painting kit', 'dora doll', 'power ranger valentine', 'dorothy costume', 'minnie mouse', 'monster high doll', 'monster high costume', 'barbie', 'baby doll', 'fashion doll', 'tiara', 'craft toys', 'beauty products', 'tea party set', 'pink doll', 'cupcake maker', 'makeup kit', 'fashion dolls', 'crochet kit', 'playhouses', 'princess sword', 'doctors kit', 'skin care kit', 'barbie furniture set', 'pink ipad', 'toy animals', 'books', 'educational teaching', 'musical games', 'games', 'live animals', 'candy land', 'winnie the pooh', 'karaoke machine', 'elmo', 'gardening tools', 'crayons', 'doctor kit', 'tricycle', 'play-doh', 'leappad', 'trampoline', 'swingset', 'mr potato head', 'spongebob square pants', 'math flash card', 'wagon', 'bus', 'tree house', 'wood blocks', 'harry potter books', 'legos', 'scooter', 'drum set', 'puzzles', 'board games', 'rock painting']\n"
     ]
    }
   ],
   "source": [
    "print(all_items)"
   ]
  },
  {
   "cell_type": "code",
   "execution_count": 9,
   "metadata": {
    "id": "8YTS9MbOdxlw",
    "outputId": "9aa63b45-8f12-482f-a7cb-f1619fe81f00"
   },
   "outputs": [
    {
     "data": {
      "text/plain": [
       "['legos', 'scooter', 'drum set', 'puzzles', 'board games', 'rock painting']"
      ]
     },
     "execution_count": 9,
     "metadata": {},
     "output_type": "execute_result"
    }
   ],
   "source": [
    "trial = all_items[160:]\n",
    "trial"
   ]
  },
  {
   "cell_type": "code",
   "execution_count": 10,
   "metadata": {
    "id": "o1nRqCB-dxlw"
   },
   "outputs": [],
   "source": [
    "generic = ['toys', 'books', 'learning material', 'games', 'sports']"
   ]
  },
  {
   "cell_type": "code",
   "execution_count": 11,
   "metadata": {
    "id": "vPdT-vxTdxlx"
   },
   "outputs": [],
   "source": [
    "gender = ['boys', 'girls', 'neutral']"
   ]
  },
  {
   "cell_type": "markdown",
   "metadata": {
    "id": "3o9NXUz1dxlx"
   },
   "source": [
    "## Search"
   ]
  },
  {
   "cell_type": "markdown",
   "metadata": {
    "id": "1txJMd8Rdxlx"
   },
   "source": [
    "### Getting asin of the retrieved products"
   ]
  },
  {
   "cell_type": "code",
   "execution_count": 12,
   "metadata": {},
   "outputs": [],
   "source": [
    "def asin(driver):\n",
    "    asin_list = []\n",
    "    for index in range(1,10):\n",
    "        asins = driver.find_elements(\"xpath\",\"//div[@data-asin]\")\n",
    "        for asin in asins:\n",
    "            #print(asin)\n",
    "            asin_list.append(asin.get_attribute('data-asin'))\n",
    "    return asin_list"
   ]
  },
  {
   "cell_type": "markdown",
   "metadata": {
    "id": "SnD91zlhdxly"
   },
   "source": [
    "### get information (title) of retirved products"
   ]
  },
  {
   "cell_type": "code",
   "execution_count": 13,
   "metadata": {},
   "outputs": [],
   "source": [
    "from selenium.webdriver.common.by import By\n",
    "def item_info(driver):\n",
    "    item = []\n",
    "    elem = driver.find_elements(By.CSS_SELECTOR,'h2')\n",
    "    for i in elem:\n",
    "        item.append(i.text)\n",
    "    return item"
   ]
  },
  {
   "cell_type": "markdown",
   "metadata": {
    "id": "MtHOFAmBdxly"
   },
   "source": [
    "### Getting product link of the retrievd products\n",
    "don't need this code block"
   ]
  },
  {
   "cell_type": "code",
   "execution_count": 14,
   "metadata": {},
   "outputs": [],
   "source": [
    "def item_link(driver):\n",
    "    href = []\n",
    "    links = driver.find_elements('xpath',\"//h2//a[@href]\")\n",
    "    for link in links:\n",
    "        href.append(link.get_attribute('href'))\n",
    "    return href"
   ]
  },
  {
   "cell_type": "markdown",
   "metadata": {
    "id": "ksetNpOgdxlz"
   },
   "source": [
    "### Running queries for both boy and girls and neutral (kids)"
   ]
  },
  {
   "cell_type": "code",
   "execution_count": 15,
   "metadata": {
    "id": "K-L14To5dxlz"
   },
   "outputs": [],
   "source": [
    "def search(item, who):\n",
    "    if who == 'neutral':\n",
    "        query = item + ' for '+'kids'\n",
    "    else:\n",
    "        query = item + ' for '+who\n",
    "    driver.get(f'https://www.amazon.co.uk/s?k={query}&ref=nb_sb_noss')\n",
    "    list_asin = asin(driver)\n",
    "    item_list = item_info(driver)\n",
    "    item_page = item_link(driver)\n",
    "    return (list_asin, item_list), item_page"
   ]
  },
  {
   "cell_type": "raw",
   "metadata": {
    "id": "JLLwAhKhdxlz"
   },
   "source": [
    "import time\n",
    "import warnings\n",
    "driver = webdriver.Chrome(ChromeDriverManager().install())\n",
    "search_result = {}\n",
    "for i in generic:\n",
    "    gender_dict = {}\n",
    "    for g in gender:\n",
    "        gender_dict[g] = search(i, g)\n",
    "        driver.implicitly_wait(5)\n",
    "    search_result[i] = gender_dict\n",
    "    time.sleep(1.5)\n",
    "driver.close()"
   ]
  },
  {
   "cell_type": "code",
   "execution_count": 16,
   "metadata": {
    "id": "7MwtzxcLdxlz"
   },
   "outputs": [],
   "source": [
    "import pandas as pd\n",
    "columns1 = ['gender', 'query', 'result']\n",
    "qr = pd.DataFrame(columns = columns1)\n",
    "columns2 = ['gender', 'query', 'href']\n",
    "qr_link = pd.DataFrame(columns = columns2)\n",
    "#qr_link"
   ]
  },
  {
   "cell_type": "code",
   "execution_count": 17,
   "metadata": {
    "id": "WROER6hKdxlz",
    "outputId": "1cda0246-4563-443a-cfad-81c517f11a2b"
   },
   "outputs": [
    {
     "data": {
      "text/plain": [
       "['legos', 'scooter', 'drum set', 'puzzles', 'board games', 'rock painting']"
      ]
     },
     "execution_count": 17,
     "metadata": {},
     "output_type": "execute_result"
    }
   ],
   "source": [
    "trial"
   ]
  },
  {
   "cell_type": "code",
   "execution_count": 18,
   "metadata": {
    "id": "er9ucAWWdxlz",
    "outputId": "2b5fb14c-968c-4ff9-c113-8b48bb8c48ba"
   },
   "outputs": [
    {
     "data": {
      "text/plain": [
       "6"
      ]
     },
     "execution_count": 18,
     "metadata": {},
     "output_type": "execute_result"
    }
   ],
   "source": [
    "len(trial)"
   ]
  },
  {
   "cell_type": "markdown",
   "metadata": {
    "id": "dzePLZ-Ydxl0"
   },
   "source": [
    "## running queries in a loop"
   ]
  },
  {
   "cell_type": "code",
   "execution_count": 19,
   "metadata": {
    "id": "If9zHbjHdxl0",
    "outputId": "432189e1-1cca-4914-9993-99fc35689041"
   },
   "outputs": [
    {
     "name": "stderr",
     "output_type": "stream",
     "text": [
      "[WDM] - Downloading: 100%|█████████████████| 8.72M/8.72M [00:00<00:00, 24.7MB/s]\n"
     ]
    }
   ],
   "source": [
    "import time\n",
    "import warnings\n",
    "warnings.filterwarnings('ignore')\n",
    "driver = webdriver.Chrome(ChromeDriverManager().install())\n",
    "data1 = []\n",
    "data2 = []\n",
    "item = ''\n",
    "for item in trial:\n",
    "    for g in gender:\n",
    "        result, link = search(item, g)\n",
    "        values1 = [g, item, result]\n",
    "        values2 = [g, item, link]\n",
    "        zipped1 = zip(columns1, values1)\n",
    "        zipped2 = zip(columns2, values2)\n",
    "        a_dictionary1 = dict(zipped1)\n",
    "        a_dictionary2 = dict(zipped2)\n",
    "        #print(a_dictionary)\n",
    "        time.sleep(1.5)\n",
    "        data1.append(a_dictionary1)\n",
    "        data2.append(a_dictionary2)\n",
    "driver.close()"
   ]
  },
  {
   "cell_type": "code",
   "execution_count": 20,
   "metadata": {
    "id": "xknpaGxQdxl0",
    "outputId": "5e4934da-b725-4978-d3e1-4e497784ff34"
   },
   "outputs": [
    {
     "data": {
      "text/html": [
       "<div>\n",
       "<style scoped>\n",
       "    .dataframe tbody tr th:only-of-type {\n",
       "        vertical-align: middle;\n",
       "    }\n",
       "\n",
       "    .dataframe tbody tr th {\n",
       "        vertical-align: top;\n",
       "    }\n",
       "\n",
       "    .dataframe thead th {\n",
       "        text-align: right;\n",
       "    }\n",
       "</style>\n",
       "<table border=\"1\" class=\"dataframe\">\n",
       "  <thead>\n",
       "    <tr style=\"text-align: right;\">\n",
       "      <th></th>\n",
       "      <th>gender</th>\n",
       "      <th>query</th>\n",
       "      <th>result</th>\n",
       "    </tr>\n",
       "  </thead>\n",
       "  <tbody>\n",
       "    <tr>\n",
       "      <th>0</th>\n",
       "      <td>boys</td>\n",
       "      <td>legos</td>\n",
       "      <td>([, B01EJVG3RE, B09MFNBV8G, B07FP6ZWN3, B09P35...</td>\n",
       "    </tr>\n",
       "    <tr>\n",
       "      <th>1</th>\n",
       "      <td>girls</td>\n",
       "      <td>legos</td>\n",
       "      <td>([, B09FM7NFY7, B09CKW15Z7, B07W5QGW6X, B097BF...</td>\n",
       "    </tr>\n",
       "    <tr>\n",
       "      <th>2</th>\n",
       "      <td>neutral</td>\n",
       "      <td>legos</td>\n",
       "      <td>([, B09CQGHFYM, B09QFYP88B, B09QFQFY8D, B087C5...</td>\n",
       "    </tr>\n",
       "    <tr>\n",
       "      <th>3</th>\n",
       "      <td>boys</td>\n",
       "      <td>scooter</td>\n",
       "      <td>([, B08BR2726L, B08GS7NYLF, B09CDPCSHK, B07X9X...</td>\n",
       "    </tr>\n",
       "    <tr>\n",
       "      <th>4</th>\n",
       "      <td>girls</td>\n",
       "      <td>scooter</td>\n",
       "      <td>([, B099S4DTXW, B09MFD6ZJY, B0744KB3LK, B08XMD...</td>\n",
       "    </tr>\n",
       "    <tr>\n",
       "      <th>5</th>\n",
       "      <td>neutral</td>\n",
       "      <td>scooter</td>\n",
       "      <td>([, B08Z6WX2XC, B09MFD6ZJY, B07RMY4DCM, B095LM...</td>\n",
       "    </tr>\n",
       "    <tr>\n",
       "      <th>6</th>\n",
       "      <td>boys</td>\n",
       "      <td>drum set</td>\n",
       "      <td>([, B0B5MKSZ1R, B08M9W9PKH, B09MDGDG41, B09MRL...</td>\n",
       "    </tr>\n",
       "    <tr>\n",
       "      <th>7</th>\n",
       "      <td>girls</td>\n",
       "      <td>drum set</td>\n",
       "      <td>([, B0B5MKSZ1R, B08M9W9PKH, B09PTSTQW8, B0BJ26...</td>\n",
       "    </tr>\n",
       "    <tr>\n",
       "      <th>8</th>\n",
       "      <td>neutral</td>\n",
       "      <td>drum set</td>\n",
       "      <td>([, B0B5MKSZ1R, B07W5VMD1N, B0B48S9KCP, B0B4V3...</td>\n",
       "    </tr>\n",
       "    <tr>\n",
       "      <th>9</th>\n",
       "      <td>boys</td>\n",
       "      <td>puzzles</td>\n",
       "      <td>([, B07WRFX7MF, B0B8MTDMZ5, B09574FD1T, B096YD...</td>\n",
       "    </tr>\n",
       "    <tr>\n",
       "      <th>10</th>\n",
       "      <td>girls</td>\n",
       "      <td>puzzles</td>\n",
       "      <td>([, B07WRFX7MF, B09DCM9FZ5, B07RFCX4SJ, B07DW8...</td>\n",
       "    </tr>\n",
       "    <tr>\n",
       "      <th>11</th>\n",
       "      <td>neutral</td>\n",
       "      <td>puzzles</td>\n",
       "      <td>([, 1739173406, B0B7588GCT, B09QSMLHHB, B07CPQ...</td>\n",
       "    </tr>\n",
       "    <tr>\n",
       "      <th>12</th>\n",
       "      <td>boys</td>\n",
       "      <td>board games</td>\n",
       "      <td>([, B0871GQSHT, B08RZ8RKRB, B09QMF7M56, B0B3F3...</td>\n",
       "    </tr>\n",
       "    <tr>\n",
       "      <th>13</th>\n",
       "      <td>girls</td>\n",
       "      <td>board games</td>\n",
       "      <td>([, B0BG35HXNC, B07T1WB4F8, B0822K53TG, B078S8...</td>\n",
       "    </tr>\n",
       "    <tr>\n",
       "      <th>14</th>\n",
       "      <td>neutral</td>\n",
       "      <td>board games</td>\n",
       "      <td>([, B0BG35HXNC, B0822K53TG, B08L4QV6ZH, B09X1P...</td>\n",
       "    </tr>\n",
       "    <tr>\n",
       "      <th>15</th>\n",
       "      <td>boys</td>\n",
       "      <td>rock painting</td>\n",
       "      <td>([, B08XQ1R4LT, B07Z2R7S5P, B087PW5YNC, B09KRM...</td>\n",
       "    </tr>\n",
       "    <tr>\n",
       "      <th>16</th>\n",
       "      <td>girls</td>\n",
       "      <td>rock painting</td>\n",
       "      <td>([, B08XQ1R4LT, B07Z2R7S5P, B087PW5YNC, B09KRM...</td>\n",
       "    </tr>\n",
       "    <tr>\n",
       "      <th>17</th>\n",
       "      <td>neutral</td>\n",
       "      <td>rock painting</td>\n",
       "      <td>([, B08XQ1R4LT, B0B4DTLBB5, B07Z2R7S5P, B087PW...</td>\n",
       "    </tr>\n",
       "  </tbody>\n",
       "</table>\n",
       "</div>"
      ],
      "text/plain": [
       "     gender          query                                             result\n",
       "0      boys          legos  ([, B01EJVG3RE, B09MFNBV8G, B07FP6ZWN3, B09P35...\n",
       "1     girls          legos  ([, B09FM7NFY7, B09CKW15Z7, B07W5QGW6X, B097BF...\n",
       "2   neutral          legos  ([, B09CQGHFYM, B09QFYP88B, B09QFQFY8D, B087C5...\n",
       "3      boys        scooter  ([, B08BR2726L, B08GS7NYLF, B09CDPCSHK, B07X9X...\n",
       "4     girls        scooter  ([, B099S4DTXW, B09MFD6ZJY, B0744KB3LK, B08XMD...\n",
       "5   neutral        scooter  ([, B08Z6WX2XC, B09MFD6ZJY, B07RMY4DCM, B095LM...\n",
       "6      boys       drum set  ([, B0B5MKSZ1R, B08M9W9PKH, B09MDGDG41, B09MRL...\n",
       "7     girls       drum set  ([, B0B5MKSZ1R, B08M9W9PKH, B09PTSTQW8, B0BJ26...\n",
       "8   neutral       drum set  ([, B0B5MKSZ1R, B07W5VMD1N, B0B48S9KCP, B0B4V3...\n",
       "9      boys        puzzles  ([, B07WRFX7MF, B0B8MTDMZ5, B09574FD1T, B096YD...\n",
       "10    girls        puzzles  ([, B07WRFX7MF, B09DCM9FZ5, B07RFCX4SJ, B07DW8...\n",
       "11  neutral        puzzles  ([, 1739173406, B0B7588GCT, B09QSMLHHB, B07CPQ...\n",
       "12     boys    board games  ([, B0871GQSHT, B08RZ8RKRB, B09QMF7M56, B0B3F3...\n",
       "13    girls    board games  ([, B0BG35HXNC, B07T1WB4F8, B0822K53TG, B078S8...\n",
       "14  neutral    board games  ([, B0BG35HXNC, B0822K53TG, B08L4QV6ZH, B09X1P...\n",
       "15     boys  rock painting  ([, B08XQ1R4LT, B07Z2R7S5P, B087PW5YNC, B09KRM...\n",
       "16    girls  rock painting  ([, B08XQ1R4LT, B07Z2R7S5P, B087PW5YNC, B09KRM...\n",
       "17  neutral  rock painting  ([, B08XQ1R4LT, B0B4DTLBB5, B07Z2R7S5P, B087PW..."
      ]
     },
     "execution_count": 20,
     "metadata": {},
     "output_type": "execute_result"
    }
   ],
   "source": [
    "qr = qr.append(data1, True)\n",
    "qr"
   ]
  },
  {
   "cell_type": "code",
   "execution_count": 21,
   "metadata": {
    "id": "hnN72pssdxl0",
    "outputId": "5bf8c296-6ecd-454e-e509-b2ac9590c172"
   },
   "outputs": [
    {
     "data": {
      "text/html": [
       "<div>\n",
       "<style scoped>\n",
       "    .dataframe tbody tr th:only-of-type {\n",
       "        vertical-align: middle;\n",
       "    }\n",
       "\n",
       "    .dataframe tbody tr th {\n",
       "        vertical-align: top;\n",
       "    }\n",
       "\n",
       "    .dataframe thead th {\n",
       "        text-align: right;\n",
       "    }\n",
       "</style>\n",
       "<table border=\"1\" class=\"dataframe\">\n",
       "  <thead>\n",
       "    <tr style=\"text-align: right;\">\n",
       "      <th></th>\n",
       "      <th>gender</th>\n",
       "      <th>query</th>\n",
       "      <th>href</th>\n",
       "    </tr>\n",
       "  </thead>\n",
       "  <tbody>\n",
       "    <tr>\n",
       "      <th>0</th>\n",
       "      <td>boys</td>\n",
       "      <td>legos</td>\n",
       "      <td>[https://www.amazon.co.uk/sspa/click?ie=UTF8&amp;s...</td>\n",
       "    </tr>\n",
       "    <tr>\n",
       "      <th>1</th>\n",
       "      <td>girls</td>\n",
       "      <td>legos</td>\n",
       "      <td>[https://www.amazon.co.uk/sspa/click?ie=UTF8&amp;s...</td>\n",
       "    </tr>\n",
       "    <tr>\n",
       "      <th>2</th>\n",
       "      <td>neutral</td>\n",
       "      <td>legos</td>\n",
       "      <td>[https://www.amazon.co.uk/sspa/click?ie=UTF8&amp;s...</td>\n",
       "    </tr>\n",
       "    <tr>\n",
       "      <th>3</th>\n",
       "      <td>boys</td>\n",
       "      <td>scooter</td>\n",
       "      <td>[https://www.amazon.co.uk/sspa/click?ie=UTF8&amp;s...</td>\n",
       "    </tr>\n",
       "    <tr>\n",
       "      <th>4</th>\n",
       "      <td>girls</td>\n",
       "      <td>scooter</td>\n",
       "      <td>[https://www.amazon.co.uk/sspa/click?ie=UTF8&amp;s...</td>\n",
       "    </tr>\n",
       "    <tr>\n",
       "      <th>5</th>\n",
       "      <td>neutral</td>\n",
       "      <td>scooter</td>\n",
       "      <td>[https://www.amazon.co.uk/sspa/click?ie=UTF8&amp;s...</td>\n",
       "    </tr>\n",
       "    <tr>\n",
       "      <th>6</th>\n",
       "      <td>boys</td>\n",
       "      <td>drum set</td>\n",
       "      <td>[https://www.amazon.co.uk/sspa/click?ie=UTF8&amp;s...</td>\n",
       "    </tr>\n",
       "    <tr>\n",
       "      <th>7</th>\n",
       "      <td>girls</td>\n",
       "      <td>drum set</td>\n",
       "      <td>[https://www.amazon.co.uk/sspa/click?ie=UTF8&amp;s...</td>\n",
       "    </tr>\n",
       "    <tr>\n",
       "      <th>8</th>\n",
       "      <td>neutral</td>\n",
       "      <td>drum set</td>\n",
       "      <td>[https://www.amazon.co.uk/sspa/click?ie=UTF8&amp;s...</td>\n",
       "    </tr>\n",
       "    <tr>\n",
       "      <th>9</th>\n",
       "      <td>boys</td>\n",
       "      <td>puzzles</td>\n",
       "      <td>[https://www.amazon.co.uk/sspa/click?ie=UTF8&amp;s...</td>\n",
       "    </tr>\n",
       "    <tr>\n",
       "      <th>10</th>\n",
       "      <td>girls</td>\n",
       "      <td>puzzles</td>\n",
       "      <td>[https://www.amazon.co.uk/sspa/click?ie=UTF8&amp;s...</td>\n",
       "    </tr>\n",
       "    <tr>\n",
       "      <th>11</th>\n",
       "      <td>neutral</td>\n",
       "      <td>puzzles</td>\n",
       "      <td>[https://www.amazon.co.uk/sspa/click?ie=UTF8&amp;s...</td>\n",
       "    </tr>\n",
       "    <tr>\n",
       "      <th>12</th>\n",
       "      <td>boys</td>\n",
       "      <td>board games</td>\n",
       "      <td>[https://www.amazon.co.uk/sspa/click?ie=UTF8&amp;s...</td>\n",
       "    </tr>\n",
       "    <tr>\n",
       "      <th>13</th>\n",
       "      <td>girls</td>\n",
       "      <td>board games</td>\n",
       "      <td>[https://www.amazon.co.uk/sspa/click?ie=UTF8&amp;s...</td>\n",
       "    </tr>\n",
       "    <tr>\n",
       "      <th>14</th>\n",
       "      <td>neutral</td>\n",
       "      <td>board games</td>\n",
       "      <td>[https://www.amazon.co.uk/sspa/click?ie=UTF8&amp;s...</td>\n",
       "    </tr>\n",
       "    <tr>\n",
       "      <th>15</th>\n",
       "      <td>boys</td>\n",
       "      <td>rock painting</td>\n",
       "      <td>[https://www.amazon.co.uk/sspa/click?ie=UTF8&amp;s...</td>\n",
       "    </tr>\n",
       "    <tr>\n",
       "      <th>16</th>\n",
       "      <td>girls</td>\n",
       "      <td>rock painting</td>\n",
       "      <td>[https://www.amazon.co.uk/sspa/click?ie=UTF8&amp;s...</td>\n",
       "    </tr>\n",
       "    <tr>\n",
       "      <th>17</th>\n",
       "      <td>neutral</td>\n",
       "      <td>rock painting</td>\n",
       "      <td>[https://www.amazon.co.uk/sspa/click?ie=UTF8&amp;s...</td>\n",
       "    </tr>\n",
       "  </tbody>\n",
       "</table>\n",
       "</div>"
      ],
      "text/plain": [
       "     gender          query                                               href\n",
       "0      boys          legos  [https://www.amazon.co.uk/sspa/click?ie=UTF8&s...\n",
       "1     girls          legos  [https://www.amazon.co.uk/sspa/click?ie=UTF8&s...\n",
       "2   neutral          legos  [https://www.amazon.co.uk/sspa/click?ie=UTF8&s...\n",
       "3      boys        scooter  [https://www.amazon.co.uk/sspa/click?ie=UTF8&s...\n",
       "4     girls        scooter  [https://www.amazon.co.uk/sspa/click?ie=UTF8&s...\n",
       "5   neutral        scooter  [https://www.amazon.co.uk/sspa/click?ie=UTF8&s...\n",
       "6      boys       drum set  [https://www.amazon.co.uk/sspa/click?ie=UTF8&s...\n",
       "7     girls       drum set  [https://www.amazon.co.uk/sspa/click?ie=UTF8&s...\n",
       "8   neutral       drum set  [https://www.amazon.co.uk/sspa/click?ie=UTF8&s...\n",
       "9      boys        puzzles  [https://www.amazon.co.uk/sspa/click?ie=UTF8&s...\n",
       "10    girls        puzzles  [https://www.amazon.co.uk/sspa/click?ie=UTF8&s...\n",
       "11  neutral        puzzles  [https://www.amazon.co.uk/sspa/click?ie=UTF8&s...\n",
       "12     boys    board games  [https://www.amazon.co.uk/sspa/click?ie=UTF8&s...\n",
       "13    girls    board games  [https://www.amazon.co.uk/sspa/click?ie=UTF8&s...\n",
       "14  neutral    board games  [https://www.amazon.co.uk/sspa/click?ie=UTF8&s...\n",
       "15     boys  rock painting  [https://www.amazon.co.uk/sspa/click?ie=UTF8&s...\n",
       "16    girls  rock painting  [https://www.amazon.co.uk/sspa/click?ie=UTF8&s...\n",
       "17  neutral  rock painting  [https://www.amazon.co.uk/sspa/click?ie=UTF8&s..."
      ]
     },
     "execution_count": 21,
     "metadata": {},
     "output_type": "execute_result"
    }
   ],
   "source": [
    "qr_link = qr_link.append(data2, True)\n",
    "qr_link"
   ]
  },
  {
   "cell_type": "code",
   "execution_count": 22,
   "metadata": {},
   "outputs": [],
   "source": [
    "first20 = pd.DataFrame()"
   ]
  },
  {
   "cell_type": "code",
   "execution_count": 23,
   "metadata": {
    "id": "WZYGG-ASdxl0"
   },
   "outputs": [],
   "source": [
    "first20 = first20.append(qr, ignore_index =True)"
   ]
  },
  {
   "cell_type": "code",
   "execution_count": 25,
   "metadata": {
    "id": "NzS1c4pgdxl1",
    "outputId": "c69b4da9-5174-4aa4-b208-aa38be129cda"
   },
   "outputs": [
    {
     "data": {
      "text/html": [
       "<div>\n",
       "<style scoped>\n",
       "    .dataframe tbody tr th:only-of-type {\n",
       "        vertical-align: middle;\n",
       "    }\n",
       "\n",
       "    .dataframe tbody tr th {\n",
       "        vertical-align: top;\n",
       "    }\n",
       "\n",
       "    .dataframe thead th {\n",
       "        text-align: right;\n",
       "    }\n",
       "</style>\n",
       "<table border=\"1\" class=\"dataframe\">\n",
       "  <thead>\n",
       "    <tr style=\"text-align: right;\">\n",
       "      <th></th>\n",
       "      <th>gender</th>\n",
       "      <th>query</th>\n",
       "      <th>result</th>\n",
       "    </tr>\n",
       "  </thead>\n",
       "  <tbody>\n",
       "    <tr>\n",
       "      <th>0</th>\n",
       "      <td>boys</td>\n",
       "      <td>legos</td>\n",
       "      <td>([, B01EJVG3RE, B09MFNBV8G, B07FP6ZWN3, B09P35...</td>\n",
       "    </tr>\n",
       "    <tr>\n",
       "      <th>1</th>\n",
       "      <td>girls</td>\n",
       "      <td>legos</td>\n",
       "      <td>([, B09FM7NFY7, B09CKW15Z7, B07W5QGW6X, B097BF...</td>\n",
       "    </tr>\n",
       "    <tr>\n",
       "      <th>2</th>\n",
       "      <td>neutral</td>\n",
       "      <td>legos</td>\n",
       "      <td>([, B09CQGHFYM, B09QFYP88B, B09QFQFY8D, B087C5...</td>\n",
       "    </tr>\n",
       "    <tr>\n",
       "      <th>3</th>\n",
       "      <td>boys</td>\n",
       "      <td>scooter</td>\n",
       "      <td>([, B08BR2726L, B08GS7NYLF, B09CDPCSHK, B07X9X...</td>\n",
       "    </tr>\n",
       "    <tr>\n",
       "      <th>4</th>\n",
       "      <td>girls</td>\n",
       "      <td>scooter</td>\n",
       "      <td>([, B099S4DTXW, B09MFD6ZJY, B0744KB3LK, B08XMD...</td>\n",
       "    </tr>\n",
       "    <tr>\n",
       "      <th>5</th>\n",
       "      <td>neutral</td>\n",
       "      <td>scooter</td>\n",
       "      <td>([, B08Z6WX2XC, B09MFD6ZJY, B07RMY4DCM, B095LM...</td>\n",
       "    </tr>\n",
       "    <tr>\n",
       "      <th>6</th>\n",
       "      <td>boys</td>\n",
       "      <td>drum set</td>\n",
       "      <td>([, B0B5MKSZ1R, B08M9W9PKH, B09MDGDG41, B09MRL...</td>\n",
       "    </tr>\n",
       "    <tr>\n",
       "      <th>7</th>\n",
       "      <td>girls</td>\n",
       "      <td>drum set</td>\n",
       "      <td>([, B0B5MKSZ1R, B08M9W9PKH, B09PTSTQW8, B0BJ26...</td>\n",
       "    </tr>\n",
       "    <tr>\n",
       "      <th>8</th>\n",
       "      <td>neutral</td>\n",
       "      <td>drum set</td>\n",
       "      <td>([, B0B5MKSZ1R, B07W5VMD1N, B0B48S9KCP, B0B4V3...</td>\n",
       "    </tr>\n",
       "    <tr>\n",
       "      <th>9</th>\n",
       "      <td>boys</td>\n",
       "      <td>puzzles</td>\n",
       "      <td>([, B07WRFX7MF, B0B8MTDMZ5, B09574FD1T, B096YD...</td>\n",
       "    </tr>\n",
       "    <tr>\n",
       "      <th>10</th>\n",
       "      <td>girls</td>\n",
       "      <td>puzzles</td>\n",
       "      <td>([, B07WRFX7MF, B09DCM9FZ5, B07RFCX4SJ, B07DW8...</td>\n",
       "    </tr>\n",
       "    <tr>\n",
       "      <th>11</th>\n",
       "      <td>neutral</td>\n",
       "      <td>puzzles</td>\n",
       "      <td>([, 1739173406, B0B7588GCT, B09QSMLHHB, B07CPQ...</td>\n",
       "    </tr>\n",
       "    <tr>\n",
       "      <th>12</th>\n",
       "      <td>boys</td>\n",
       "      <td>board games</td>\n",
       "      <td>([, B0871GQSHT, B08RZ8RKRB, B09QMF7M56, B0B3F3...</td>\n",
       "    </tr>\n",
       "    <tr>\n",
       "      <th>13</th>\n",
       "      <td>girls</td>\n",
       "      <td>board games</td>\n",
       "      <td>([, B0BG35HXNC, B07T1WB4F8, B0822K53TG, B078S8...</td>\n",
       "    </tr>\n",
       "    <tr>\n",
       "      <th>14</th>\n",
       "      <td>neutral</td>\n",
       "      <td>board games</td>\n",
       "      <td>([, B0BG35HXNC, B0822K53TG, B08L4QV6ZH, B09X1P...</td>\n",
       "    </tr>\n",
       "    <tr>\n",
       "      <th>15</th>\n",
       "      <td>boys</td>\n",
       "      <td>rock painting</td>\n",
       "      <td>([, B08XQ1R4LT, B07Z2R7S5P, B087PW5YNC, B09KRM...</td>\n",
       "    </tr>\n",
       "    <tr>\n",
       "      <th>16</th>\n",
       "      <td>girls</td>\n",
       "      <td>rock painting</td>\n",
       "      <td>([, B08XQ1R4LT, B07Z2R7S5P, B087PW5YNC, B09KRM...</td>\n",
       "    </tr>\n",
       "    <tr>\n",
       "      <th>17</th>\n",
       "      <td>neutral</td>\n",
       "      <td>rock painting</td>\n",
       "      <td>([, B08XQ1R4LT, B0B4DTLBB5, B07Z2R7S5P, B087PW...</td>\n",
       "    </tr>\n",
       "  </tbody>\n",
       "</table>\n",
       "</div>"
      ],
      "text/plain": [
       "     gender          query                                             result\n",
       "0      boys          legos  ([, B01EJVG3RE, B09MFNBV8G, B07FP6ZWN3, B09P35...\n",
       "1     girls          legos  ([, B09FM7NFY7, B09CKW15Z7, B07W5QGW6X, B097BF...\n",
       "2   neutral          legos  ([, B09CQGHFYM, B09QFYP88B, B09QFQFY8D, B087C5...\n",
       "3      boys        scooter  ([, B08BR2726L, B08GS7NYLF, B09CDPCSHK, B07X9X...\n",
       "4     girls        scooter  ([, B099S4DTXW, B09MFD6ZJY, B0744KB3LK, B08XMD...\n",
       "5   neutral        scooter  ([, B08Z6WX2XC, B09MFD6ZJY, B07RMY4DCM, B095LM...\n",
       "6      boys       drum set  ([, B0B5MKSZ1R, B08M9W9PKH, B09MDGDG41, B09MRL...\n",
       "7     girls       drum set  ([, B0B5MKSZ1R, B08M9W9PKH, B09PTSTQW8, B0BJ26...\n",
       "8   neutral       drum set  ([, B0B5MKSZ1R, B07W5VMD1N, B0B48S9KCP, B0B4V3...\n",
       "9      boys        puzzles  ([, B07WRFX7MF, B0B8MTDMZ5, B09574FD1T, B096YD...\n",
       "10    girls        puzzles  ([, B07WRFX7MF, B09DCM9FZ5, B07RFCX4SJ, B07DW8...\n",
       "11  neutral        puzzles  ([, 1739173406, B0B7588GCT, B09QSMLHHB, B07CPQ...\n",
       "12     boys    board games  ([, B0871GQSHT, B08RZ8RKRB, B09QMF7M56, B0B3F3...\n",
       "13    girls    board games  ([, B0BG35HXNC, B07T1WB4F8, B0822K53TG, B078S8...\n",
       "14  neutral    board games  ([, B0BG35HXNC, B0822K53TG, B08L4QV6ZH, B09X1P...\n",
       "15     boys  rock painting  ([, B08XQ1R4LT, B07Z2R7S5P, B087PW5YNC, B09KRM...\n",
       "16    girls  rock painting  ([, B08XQ1R4LT, B07Z2R7S5P, B087PW5YNC, B09KRM...\n",
       "17  neutral  rock painting  ([, B08XQ1R4LT, B0B4DTLBB5, B07Z2R7S5P, B087PW..."
      ]
     },
     "execution_count": 25,
     "metadata": {},
     "output_type": "execute_result"
    }
   ],
   "source": [
    "first20"
   ]
  },
  {
   "cell_type": "code",
   "execution_count": 27,
   "metadata": {
    "id": "2Dq3wxpGdxl1",
    "outputId": "8f025a40-8c28-40ae-a0b0-a4bdc5b9f9cd"
   },
   "outputs": [
    {
     "data": {
      "text/plain": [
       "67"
      ]
     },
     "execution_count": 27,
     "metadata": {},
     "output_type": "execute_result"
    }
   ],
   "source": [
    "len(first20.loc[0]['result'][1])"
   ]
  },
  {
   "cell_type": "code",
   "execution_count": 28,
   "metadata": {
    "id": "QEeFAHiIdxl1"
   },
   "outputs": [
    {
     "data": {
      "text/html": [
       "<div>\n",
       "<style scoped>\n",
       "    .dataframe tbody tr th:only-of-type {\n",
       "        vertical-align: middle;\n",
       "    }\n",
       "\n",
       "    .dataframe tbody tr th {\n",
       "        vertical-align: top;\n",
       "    }\n",
       "\n",
       "    .dataframe thead th {\n",
       "        text-align: right;\n",
       "    }\n",
       "</style>\n",
       "<table border=\"1\" class=\"dataframe\">\n",
       "  <thead>\n",
       "    <tr style=\"text-align: right;\">\n",
       "      <th></th>\n",
       "      <th>gender</th>\n",
       "      <th>query</th>\n",
       "      <th>result</th>\n",
       "    </tr>\n",
       "  </thead>\n",
       "  <tbody>\n",
       "    <tr>\n",
       "      <th>0</th>\n",
       "      <td>boys</td>\n",
       "      <td>NaN</td>\n",
       "      <td>(['', 'B09FT5P8RK', 'B079SXW3WD', 'B08T6NCLW7'...</td>\n",
       "    </tr>\n",
       "    <tr>\n",
       "      <th>1</th>\n",
       "      <td>girls</td>\n",
       "      <td>NaN</td>\n",
       "      <td>(['', 'B0BC2DHXCY', 'B07YFGX53N', 'B07MQ1GVFB'...</td>\n",
       "    </tr>\n",
       "    <tr>\n",
       "      <th>2</th>\n",
       "      <td>neutral</td>\n",
       "      <td>NaN</td>\n",
       "      <td>(['', '', 'B08F71TW93', 'B07752FRTL', 'B079SXW...</td>\n",
       "    </tr>\n",
       "    <tr>\n",
       "      <th>3</th>\n",
       "      <td>boys</td>\n",
       "      <td>legos</td>\n",
       "      <td>(['', 'B097BFPNCJ', 'B07W6Q952Z', 'B07FP6ZWN3'...</td>\n",
       "    </tr>\n",
       "    <tr>\n",
       "      <th>4</th>\n",
       "      <td>girls</td>\n",
       "      <td>legos</td>\n",
       "      <td>(['', 'B09QFQFY8D', 'B0BLCVCJ5M', 'B09LLT66QQ'...</td>\n",
       "    </tr>\n",
       "    <tr>\n",
       "      <th>...</th>\n",
       "      <td>...</td>\n",
       "      <td>...</td>\n",
       "      <td>...</td>\n",
       "    </tr>\n",
       "    <tr>\n",
       "      <th>58</th>\n",
       "      <td>girls</td>\n",
       "      <td>board games</td>\n",
       "      <td>(['', 'B09S3ZX32K', 'B086XJTLRY', 'B0BKH84MR1'...</td>\n",
       "    </tr>\n",
       "    <tr>\n",
       "      <th>59</th>\n",
       "      <td>neutral</td>\n",
       "      <td>board games</td>\n",
       "      <td>(['', 'B09S3ZX32K', 'B09X1P468K', 'B078S8D27R'...</td>\n",
       "    </tr>\n",
       "    <tr>\n",
       "      <th>60</th>\n",
       "      <td>boys</td>\n",
       "      <td>rock painting</td>\n",
       "      <td>(['', 'B08XQ1R4LT', 'B08XK67TRQ', 'B08RDCZWC7'...</td>\n",
       "    </tr>\n",
       "    <tr>\n",
       "      <th>61</th>\n",
       "      <td>girls</td>\n",
       "      <td>rock painting</td>\n",
       "      <td>(['', 'B08XQ1R4LT', 'B0B2HSPDRC', 'B0B4NWCJ3J'...</td>\n",
       "    </tr>\n",
       "    <tr>\n",
       "      <th>62</th>\n",
       "      <td>neutral</td>\n",
       "      <td>rock painting</td>\n",
       "      <td>(['', 'B08XQ1R4LT', 'B0B2HSPDRC', 'B08XK67TRQ'...</td>\n",
       "    </tr>\n",
       "  </tbody>\n",
       "</table>\n",
       "<p>63 rows × 3 columns</p>\n",
       "</div>"
      ],
      "text/plain": [
       "     gender          query                                             result\n",
       "0      boys            NaN  (['', 'B09FT5P8RK', 'B079SXW3WD', 'B08T6NCLW7'...\n",
       "1     girls            NaN  (['', 'B0BC2DHXCY', 'B07YFGX53N', 'B07MQ1GVFB'...\n",
       "2   neutral            NaN  (['', '', 'B08F71TW93', 'B07752FRTL', 'B079SXW...\n",
       "3      boys          legos  (['', 'B097BFPNCJ', 'B07W6Q952Z', 'B07FP6ZWN3'...\n",
       "4     girls          legos  (['', 'B09QFQFY8D', 'B0BLCVCJ5M', 'B09LLT66QQ'...\n",
       "..      ...            ...                                                ...\n",
       "58    girls    board games  (['', 'B09S3ZX32K', 'B086XJTLRY', 'B0BKH84MR1'...\n",
       "59  neutral    board games  (['', 'B09S3ZX32K', 'B09X1P468K', 'B078S8D27R'...\n",
       "60     boys  rock painting  (['', 'B08XQ1R4LT', 'B08XK67TRQ', 'B08RDCZWC7'...\n",
       "61    girls  rock painting  (['', 'B08XQ1R4LT', 'B0B2HSPDRC', 'B0B4NWCJ3J'...\n",
       "62  neutral  rock painting  (['', 'B08XQ1R4LT', 'B0B2HSPDRC', 'B08XK67TRQ'...\n",
       "\n",
       "[63 rows x 3 columns]"
      ]
     },
     "execution_count": 28,
     "metadata": {},
     "output_type": "execute_result"
    }
   ],
   "source": [
    "first20 = pd.read_csv('item_results.csv')\n",
    "first20"
   ]
  },
  {
   "cell_type": "code",
   "execution_count": 29,
   "metadata": {
    "id": "m18BwyApdxl1"
   },
   "outputs": [],
   "source": [
    "first20.to_csv('item_results.csv', index = False)"
   ]
  },
  {
   "cell_type": "raw",
   "metadata": {
    "id": "7yQfWuY0dxl2"
   },
   "source": [
    "df = pd.DataFrame.from_dict(search_result).T.reset_index()\n",
    "df.rename(columns={'index':'item'}, inplace = True)\n",
    "df"
   ]
  },
  {
   "cell_type": "code",
   "execution_count": 30,
   "metadata": {
    "id": "s7GF7LPBdxl2",
    "outputId": "0a81b4ba-8eec-401a-ed59-b6890cae3aaa"
   },
   "outputs": [
    {
     "data": {
      "text/plain": [
       "str"
      ]
     },
     "execution_count": 30,
     "metadata": {},
     "output_type": "execute_result"
    }
   ],
   "source": [
    "type(first20.loc[0]['result'])"
   ]
  }
 ],
 "metadata": {
  "colab": {
   "provenance": []
  },
  "kernelspec": {
   "display_name": "Python 3 (ipykernel)",
   "language": "python",
   "name": "python3"
  },
  "language_info": {
   "codemirror_mode": {
    "name": "ipython",
    "version": 3
   },
   "file_extension": ".py",
   "mimetype": "text/x-python",
   "name": "python",
   "nbconvert_exporter": "python",
   "pygments_lexer": "ipython3",
   "version": "3.9.13"
  }
 },
 "nbformat": 4,
 "nbformat_minor": 4
}
