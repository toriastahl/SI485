{
 "cells": [
  {
   "cell_type": "code",
   "execution_count": 1,
   "metadata": {
    "executionInfo": {
     "elapsed": 4,
     "status": "ok",
     "timestamp": 1673551987533,
     "user": {
      "displayName": "Kate Gould",
      "userId": "05910585260938437266"
     },
     "user_tz": 300
    },
    "id": "65gQ9veZrK5Z"
   },
   "outputs": [],
   "source": [
    "import pandas as pd\n",
    "import numpy as np\n",
    "\n",
    "import requests\n",
    "import json\n",
    "from fake_useragent import UserAgent\n",
    "\n",
    "import time\n",
    "import warnings"
   ]
  },
  {
   "cell_type": "code",
   "execution_count": 2,
   "metadata": {
    "executionInfo": {
     "elapsed": 272,
     "status": "ok",
     "timestamp": 1673551991229,
     "user": {
      "displayName": "Kate Gould",
      "userId": "05910585260938437266"
     },
     "user_tz": 300
    },
    "id": "nWb2_I70rK5l"
   },
   "outputs": [],
   "source": [
    "ua = UserAgent()\n",
    "headers = {\"user-agent\": ua.chrome}"
   ]
  },
  {
   "cell_type": "markdown",
   "metadata": {
    "id": "69nkD2oRrK5o"
   },
   "source": [
    "### Loading list of toys"
   ]
  },
  {
   "cell_type": "code",
   "execution_count": 3,
   "metadata": {
    "colab": {
     "base_uri": "https://localhost:8080/",
     "height": 188
    },
    "executionInfo": {
     "elapsed": 7,
     "status": "error",
     "timestamp": 1673551996475,
     "user": {
      "displayName": "Kate Gould",
      "userId": "05910585260938437266"
     },
     "user_tz": 300
    },
    "id": "jUPwZ4dkrK6V",
    "outputId": "cef9c600-3886-468e-beec-c59156a8e06f"
   },
   "outputs": [],
   "source": [
    "with open('../predoc_info/all_items.txt') as f:\n",
    "    contents = f.read().splitlines()"
   ]
  },
  {
   "cell_type": "markdown",
   "metadata": {
    "id": "T9caSoUsrK6Z"
   },
   "source": [
    "## Loading pre-documented gender stereotyped toys"
   ]
  },
  {
   "cell_type": "code",
   "execution_count": 4,
   "metadata": {
    "id": "c78_SFFxrK6a",
    "outputId": "77e37d16-614a-42d6-ba31-e9d5ce3f4ea8"
   },
   "outputs": [
    {
     "data": {
      "text/html": [
       "<div>\n",
       "<style scoped>\n",
       "    .dataframe tbody tr th:only-of-type {\n",
       "        vertical-align: middle;\n",
       "    }\n",
       "\n",
       "    .dataframe tbody tr th {\n",
       "        vertical-align: top;\n",
       "    }\n",
       "\n",
       "    .dataframe thead th {\n",
       "        text-align: right;\n",
       "    }\n",
       "</style>\n",
       "<table border=\"1\" class=\"dataframe\">\n",
       "  <thead>\n",
       "    <tr style=\"text-align: right;\">\n",
       "      <th></th>\n",
       "      <th>BOY</th>\n",
       "      <th>GIRL</th>\n",
       "      <th>NEUTRAL</th>\n",
       "    </tr>\n",
       "  </thead>\n",
       "  <tbody>\n",
       "    <tr>\n",
       "      <th>0</th>\n",
       "      <td>vehicle toys</td>\n",
       "      <td>doll</td>\n",
       "      <td>toy animals</td>\n",
       "    </tr>\n",
       "    <tr>\n",
       "      <th>1</th>\n",
       "      <td>sport</td>\n",
       "      <td>domestic toys</td>\n",
       "      <td>books</td>\n",
       "    </tr>\n",
       "    <tr>\n",
       "      <th>2</th>\n",
       "      <td>military toys</td>\n",
       "      <td>educational art</td>\n",
       "      <td>educational teaching</td>\n",
       "    </tr>\n",
       "    <tr>\n",
       "      <th>3</th>\n",
       "      <td>race cars</td>\n",
       "      <td>clothes</td>\n",
       "      <td>musical games</td>\n",
       "    </tr>\n",
       "    <tr>\n",
       "      <th>4</th>\n",
       "      <td>outer space toys</td>\n",
       "      <td>dollhouses</td>\n",
       "      <td>games</td>\n",
       "    </tr>\n",
       "    <tr>\n",
       "      <th>...</th>\n",
       "      <td>...</td>\n",
       "      <td>...</td>\n",
       "      <td>...</td>\n",
       "    </tr>\n",
       "    <tr>\n",
       "      <th>67</th>\n",
       "      <td>toy rocket</td>\n",
       "      <td>barbie furniture set</td>\n",
       "      <td>NaN</td>\n",
       "    </tr>\n",
       "    <tr>\n",
       "      <th>68</th>\n",
       "      <td>soccer ball</td>\n",
       "      <td>NaN</td>\n",
       "      <td>NaN</td>\n",
       "    </tr>\n",
       "    <tr>\n",
       "      <th>69</th>\n",
       "      <td>blue ipad</td>\n",
       "      <td>pink ipad</td>\n",
       "      <td>NaN</td>\n",
       "    </tr>\n",
       "    <tr>\n",
       "      <th>70</th>\n",
       "      <td>toy robots</td>\n",
       "      <td>NaN</td>\n",
       "      <td>NaN</td>\n",
       "    </tr>\n",
       "    <tr>\n",
       "      <th>71</th>\n",
       "      <td>toy drones</td>\n",
       "      <td>NaN</td>\n",
       "      <td>NaN</td>\n",
       "    </tr>\n",
       "  </tbody>\n",
       "</table>\n",
       "<p>72 rows × 3 columns</p>\n",
       "</div>"
      ],
      "text/plain": [
       "                 BOY                  GIRL               NEUTRAL\n",
       "0       vehicle toys                  doll           toy animals\n",
       "1              sport         domestic toys                 books\n",
       "2      military toys       educational art  educational teaching\n",
       "3          race cars               clothes         musical games\n",
       "4   outer space toys            dollhouses                 games\n",
       "..               ...                   ...                   ...\n",
       "67        toy rocket  barbie furniture set                   NaN\n",
       "68       soccer ball                   NaN                   NaN\n",
       "69         blue ipad             pink ipad                   NaN\n",
       "70        toy robots                   NaN                   NaN\n",
       "71        toy drones                   NaN                   NaN\n",
       "\n",
       "[72 rows x 3 columns]"
      ]
     },
     "execution_count": 4,
     "metadata": {},
     "output_type": "execute_result"
    }
   ],
   "source": [
    "stereo_toys = pd.read_csv('../predoc_info/predoc_stereotyped_items.csv', delimiter =',')\n",
    "stereo_toys"
   ]
  },
  {
   "cell_type": "markdown",
   "metadata": {
    "id": "Rpk2koDnrK6f"
   },
   "source": [
    "### Dataset stats"
   ]
  },
  {
   "cell_type": "code",
   "execution_count": 5,
   "metadata": {
    "id": "Bfh7xZoNrK6g",
    "outputId": "67005328-29fa-4c9e-aa01-3b7ffe091369"
   },
   "outputs": [
    {
     "name": "stdout",
     "output_type": "stream",
     "text": [
      "stereotypical boy toys:  71  stereotypical girl toys:  63  stereotypically gender neutral toys:  32\n"
     ]
    }
   ],
   "source": [
    "boy_toys = stereo_toys['BOY'].dropna().unique().tolist()\n",
    "girl_toys = stereo_toys['GIRL'].dropna().unique().tolist()\n",
    "neutral_toys = stereo_toys['NEUTRAL'].dropna().unique().tolist()\n",
    "\n",
    "print(\"stereotypical boy toys: \", len(boy_toys), \n",
    "      \" stereotypical girl toys: \", len(girl_toys), \n",
    "      \" stereotypically gender neutral toys: \", len(neutral_toys))"
   ]
  },
  {
   "cell_type": "markdown",
   "metadata": {
    "id": "b-bXbFnIrK6k"
   },
   "source": [
    "## Preparing the data for query"
   ]
  },
  {
   "cell_type": "markdown",
   "metadata": {
    "id": "E89T78gbrK6l"
   },
   "source": [
    "### Adding \"for\""
   ]
  },
  {
   "cell_type": "code",
   "execution_count": 6,
   "metadata": {
    "id": "vheiNobHrK6n",
    "outputId": "7a611450-c57f-4b4a-8e42-2f8102b8e22e"
   },
   "outputs": [
    {
     "data": {
      "text/plain": [
       "[('vehicle toys', 'vehicle toys for'),\n",
       " ('sport', 'sport for'),\n",
       " ('military toys', 'military toys for'),\n",
       " ('race cars', 'race cars for'),\n",
       " ('outer space toys', 'outer space toys for')]"
      ]
     },
     "execution_count": 6,
     "metadata": {},
     "output_type": "execute_result"
    }
   ],
   "source": [
    "search_terms = []\n",
    "for x in contents:\n",
    "    search_terms.append((x, x+' for'))\n",
    "search_terms[:5]"
   ]
  },
  {
   "cell_type": "markdown",
   "metadata": {
    "id": "2cUiROYyrK6p"
   },
   "source": [
    "### Defining scraping functions"
   ]
  },
  {
   "cell_type": "code",
   "execution_count": 7,
   "metadata": {
    "id": "TeQHIWsTrK6y"
   },
   "outputs": [],
   "source": [
    "def amazon_scrape(query):\n",
    "    url = f\"https://completion.amazon.com/api/2017/suggestions?session-id=131-6901588-5783061&customer-id=A373R49950VTB6&request-id=72HVV86S4JC3AK898B3X&page-type=Gateway&lop=en_gb&site-variant=desktop&client-info=amazon-search-ui&mid=ATVPDKIKX0DER&alias=aps&ks=undefined&prefix={query}&event=onFocusWithSearchTerm&limit=11&b2b=0&fresh=0&fb=1&suggestion-type=KEYWORD&suggestion-type=WIDGET&_=1637596795610\"\n",
    "    response = requests.get(url, headers=headers, verify=False).json()\n",
    "    return response"
   ]
  },
  {
   "cell_type": "code",
   "execution_count": 8,
   "metadata": {
    "id": "QzDAuYeBrK7E"
   },
   "outputs": [],
   "source": [
    "def amazon_auto(item):\n",
    "    res = amazon_scrape(item)\n",
    "    suggestions = res['suggestions']\n",
    "    results = []\n",
    "    for s in suggestions:\n",
    "        results.append(s['value'])\n",
    "    return results"
   ]
  },
  {
   "cell_type": "markdown",
   "metadata": {
    "id": "3qu9oCwkrK7I"
   },
   "source": [
    "## Run queries"
   ]
  },
  {
   "cell_type": "code",
   "execution_count": 9,
   "metadata": {
    "id": "4Mw6WgLGrK7J",
    "outputId": "b972fe58-255b-42ca-be1f-f008224bcad1"
   },
   "outputs": [],
   "source": [
    "columns = ['platform', 'item', 'suggestions']\n",
    "df = pd.DataFrame(columns = columns)"
   ]
  },
  {
   "cell_type": "code",
   "execution_count": 10,
   "metadata": {
    "id": "qS0hQVGWrK7N"
   },
   "outputs": [],
   "source": [
    "warnings.filterwarnings('ignore')\n",
    "platforms = ['Amazon_UK']\n",
    "data = []\n",
    "for item, q in search_terms:\n",
    "    for platform in platforms:\n",
    "        result = amazon_auto(q) \n",
    "        values = [platform, item, result]\n",
    "        zipped = zip(columns, values)\n",
    "        a_dictionary = dict(zipped)\n",
    "        #print(a_dictionary)\n",
    "        time.sleep(1.5)\n",
    "        data.append(a_dictionary)"
   ]
  },
  {
   "cell_type": "code",
   "execution_count": 11,
   "metadata": {
    "id": "HePm6xn-rK7P",
    "outputId": "4ad8c767-8b50-4003-9d6a-dad8b28decb0"
   },
   "outputs": [
    {
     "data": {
      "text/plain": [
       "{'platform': 'Amazon_UK',\n",
       " 'item': 'vehicle toys',\n",
       " 'suggestions': ['vehicle toys for toddlers 1-3',\n",
       "  'vehicle toys for 1 year old',\n",
       "  'vehicle toys for toddlers',\n",
       "  'vehicle toys for 2 year old',\n",
       "  'vehicle toys for boys 5-8',\n",
       "  'vehicle toys for boys 3-5 years old',\n",
       "  'vehicle toys for 4 year old boys',\n",
       "  'vehicle toys for kids',\n",
       "  'vehicle toys for boys',\n",
       "  'vehicle toys for 3 year old boys']}"
      ]
     },
     "execution_count": 11,
     "metadata": {},
     "output_type": "execute_result"
    }
   ],
   "source": [
    "data[0]"
   ]
  },
  {
   "cell_type": "code",
   "execution_count": 12,
   "metadata": {
    "id": "YI6nkF5FrK7Q",
    "outputId": "bd6200da-c5ed-4094-bb5b-6f8bfe93f241"
   },
   "outputs": [
    {
     "data": {
      "text/html": [
       "<div>\n",
       "<style scoped>\n",
       "    .dataframe tbody tr th:only-of-type {\n",
       "        vertical-align: middle;\n",
       "    }\n",
       "\n",
       "    .dataframe tbody tr th {\n",
       "        vertical-align: top;\n",
       "    }\n",
       "\n",
       "    .dataframe thead th {\n",
       "        text-align: right;\n",
       "    }\n",
       "</style>\n",
       "<table border=\"1\" class=\"dataframe\">\n",
       "  <thead>\n",
       "    <tr style=\"text-align: right;\">\n",
       "      <th></th>\n",
       "      <th>platform</th>\n",
       "      <th>item</th>\n",
       "      <th>suggestions</th>\n",
       "    </tr>\n",
       "  </thead>\n",
       "  <tbody>\n",
       "    <tr>\n",
       "      <th>0</th>\n",
       "      <td>Amazon_UK</td>\n",
       "      <td>vehicle toys</td>\n",
       "      <td>[vehicle toys for toddlers 1-3, vehicle toys f...</td>\n",
       "    </tr>\n",
       "    <tr>\n",
       "      <th>1</th>\n",
       "      <td>Amazon_UK</td>\n",
       "      <td>sport</td>\n",
       "      <td>[sport formula 99, sport formula 99 vitamin po...</td>\n",
       "    </tr>\n",
       "    <tr>\n",
       "      <th>2</th>\n",
       "      <td>Amazon_UK</td>\n",
       "      <td>military toys</td>\n",
       "      <td>[military toys for boys age 8-12, military toy...</td>\n",
       "    </tr>\n",
       "    <tr>\n",
       "      <th>3</th>\n",
       "      <td>Amazon_UK</td>\n",
       "      <td>race cars</td>\n",
       "      <td>[race cars for kids ages 3-5, race cars for bo...</td>\n",
       "    </tr>\n",
       "    <tr>\n",
       "      <th>4</th>\n",
       "      <td>Amazon_UK</td>\n",
       "      <td>outer space toys</td>\n",
       "      <td>[outer space toys for kids 5-7, outer space to...</td>\n",
       "    </tr>\n",
       "    <tr>\n",
       "      <th>...</th>\n",
       "      <td>...</td>\n",
       "      <td>...</td>\n",
       "      <td>...</td>\n",
       "    </tr>\n",
       "    <tr>\n",
       "      <th>161</th>\n",
       "      <td>Amazon_UK</td>\n",
       "      <td>scooter</td>\n",
       "      <td>[scooter for kids ages 6-12, scooter for kids ...</td>\n",
       "    </tr>\n",
       "    <tr>\n",
       "      <th>162</th>\n",
       "      <td>Amazon_UK</td>\n",
       "      <td>drum set</td>\n",
       "      <td>[drum set for toddlers 1-3, drum set for kids ...</td>\n",
       "    </tr>\n",
       "    <tr>\n",
       "      <th>163</th>\n",
       "      <td>Amazon_UK</td>\n",
       "      <td>puzzles</td>\n",
       "      <td>[puzzles for kids ages 3-5, puzzles for adults...</td>\n",
       "    </tr>\n",
       "    <tr>\n",
       "      <th>164</th>\n",
       "      <td>Amazon_UK</td>\n",
       "      <td>board games</td>\n",
       "      <td>[board games for adults, board games for kids ...</td>\n",
       "    </tr>\n",
       "    <tr>\n",
       "      <th>165</th>\n",
       "      <td>Amazon_UK</td>\n",
       "      <td>rock painting</td>\n",
       "      <td>[rock painting for kids, rock painting for adu...</td>\n",
       "    </tr>\n",
       "  </tbody>\n",
       "</table>\n",
       "<p>166 rows × 3 columns</p>\n",
       "</div>"
      ],
      "text/plain": [
       "      platform              item  \\\n",
       "0    Amazon_UK      vehicle toys   \n",
       "1    Amazon_UK             sport   \n",
       "2    Amazon_UK     military toys   \n",
       "3    Amazon_UK         race cars   \n",
       "4    Amazon_UK  outer space toys   \n",
       "..         ...               ...   \n",
       "161  Amazon_UK           scooter   \n",
       "162  Amazon_UK          drum set   \n",
       "163  Amazon_UK           puzzles   \n",
       "164  Amazon_UK       board games   \n",
       "165  Amazon_UK     rock painting   \n",
       "\n",
       "                                           suggestions  \n",
       "0    [vehicle toys for toddlers 1-3, vehicle toys f...  \n",
       "1    [sport formula 99, sport formula 99 vitamin po...  \n",
       "2    [military toys for boys age 8-12, military toy...  \n",
       "3    [race cars for kids ages 3-5, race cars for bo...  \n",
       "4    [outer space toys for kids 5-7, outer space to...  \n",
       "..                                                 ...  \n",
       "161  [scooter for kids ages 6-12, scooter for kids ...  \n",
       "162  [drum set for toddlers 1-3, drum set for kids ...  \n",
       "163  [puzzles for kids ages 3-5, puzzles for adults...  \n",
       "164  [board games for adults, board games for kids ...  \n",
       "165  [rock painting for kids, rock painting for adu...  \n",
       "\n",
       "[166 rows x 3 columns]"
      ]
     },
     "execution_count": 12,
     "metadata": {},
     "output_type": "execute_result"
    }
   ],
   "source": [
    "#put data into a dataframe with the platform, query, and scraped suggestions\n",
    "df = df.append(data, True)\n",
    "df"
   ]
  },
  {
   "cell_type": "code",
   "execution_count": 13,
   "metadata": {
    "id": "lwr2RjjFrK7R"
   },
   "outputs": [],
   "source": [
    "df.to_csv('az_uk_query_suggestions.csv', index = False)"
   ]
  }
 ],
 "metadata": {
  "colab": {
   "provenance": []
  },
  "kernelspec": {
   "display_name": "Python 3 (ipykernel)",
   "language": "python",
   "name": "python3"
  },
  "language_info": {
   "codemirror_mode": {
    "name": "ipython",
    "version": 3
   },
   "file_extension": ".py",
   "mimetype": "text/x-python",
   "name": "python",
   "nbconvert_exporter": "python",
   "pygments_lexer": "ipython3",
   "version": "3.9.12"
  }
 },
 "nbformat": 4,
 "nbformat_minor": 4
}
