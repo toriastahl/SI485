{
 "cells": [
  {
   "cell_type": "markdown",
   "metadata": {},
   "source": [
    "# Amazon UK Search Results"
   ]
  },
  {
   "cell_type": "markdown",
   "metadata": {},
   "source": [
    "All the necessary imports to run this notebook. Ensure selenium has been installed in an external notebook before running this one."
   ]
  },
  {
   "cell_type": "code",
   "execution_count": 1,
   "metadata": {
    "colab": {
     "base_uri": "https://localhost:8080/",
     "height": 350
    },
    "executionInfo": {
     "elapsed": 191,
     "status": "error",
     "timestamp": 1674156531501,
     "user": {
      "displayName": "Kate Gould",
      "userId": "05910585260938437266"
     },
     "user_tz": 300
    },
    "id": "lXyKHDCHdxlo",
    "outputId": "c78d48e7-67d6-4526-8e4d-914e9f90546f"
   },
   "outputs": [],
   "source": [
    "#imports\n",
    "import requests\n",
    "import json\n",
    "from fake_useragent import UserAgent\n",
    "import pandas as pd\n",
    "import numpy as np\n",
    "#selenium imports\n",
    "from selenium import webdriver\n",
    "from webdriver_manager.chrome import ChromeDriverManager\n",
    "from selenium.common.exceptions import NoSuchElementException\n",
    "from selectorlib import Extractor\n",
    "import requests\n",
    "import json\n",
    "import time\n",
    "\n",
    "from selenium.webdriver.support.ui import WebDriverWait\n",
    "from selenium.webdriver.common.by import By\n",
    "from selenium.webdriver.support import expected_conditions as EC"
   ]
  },
  {
   "cell_type": "code",
   "execution_count": 2,
   "metadata": {},
   "outputs": [],
   "source": [
    "#pip install selectorlib"
   ]
  },
  {
   "cell_type": "markdown",
   "metadata": {
    "id": "ch6SsKf9dxls"
   },
   "source": [
    "## Loading pre-documented gender stereotyped items"
   ]
  },
  {
   "cell_type": "markdown",
   "metadata": {},
   "source": [
    "Load in predoc_stereotyped_items.csv. Should return 72 rows."
   ]
  },
  {
   "cell_type": "code",
   "execution_count": 3,
   "metadata": {
    "id": "jejLaA7xdxlu",
    "outputId": "c362e0de-7740-4dc3-b6ac-8a1382e61bbe"
   },
   "outputs": [
    {
     "data": {
      "text/html": [
       "<div>\n",
       "<style scoped>\n",
       "    .dataframe tbody tr th:only-of-type {\n",
       "        vertical-align: middle;\n",
       "    }\n",
       "\n",
       "    .dataframe tbody tr th {\n",
       "        vertical-align: top;\n",
       "    }\n",
       "\n",
       "    .dataframe thead th {\n",
       "        text-align: right;\n",
       "    }\n",
       "</style>\n",
       "<table border=\"1\" class=\"dataframe\">\n",
       "  <thead>\n",
       "    <tr style=\"text-align: right;\">\n",
       "      <th></th>\n",
       "      <th>BOY</th>\n",
       "      <th>GIRL</th>\n",
       "      <th>NEUTRAL</th>\n",
       "    </tr>\n",
       "  </thead>\n",
       "  <tbody>\n",
       "    <tr>\n",
       "      <th>0</th>\n",
       "      <td>vehicle toys</td>\n",
       "      <td>doll</td>\n",
       "      <td>toy animals</td>\n",
       "    </tr>\n",
       "    <tr>\n",
       "      <th>1</th>\n",
       "      <td>sport</td>\n",
       "      <td>domestic toys</td>\n",
       "      <td>books</td>\n",
       "    </tr>\n",
       "    <tr>\n",
       "      <th>2</th>\n",
       "      <td>military toys</td>\n",
       "      <td>educational art</td>\n",
       "      <td>educational teaching</td>\n",
       "    </tr>\n",
       "    <tr>\n",
       "      <th>3</th>\n",
       "      <td>race cars</td>\n",
       "      <td>clothes</td>\n",
       "      <td>musical games</td>\n",
       "    </tr>\n",
       "    <tr>\n",
       "      <th>4</th>\n",
       "      <td>outer space toys</td>\n",
       "      <td>dollhouses</td>\n",
       "      <td>games</td>\n",
       "    </tr>\n",
       "    <tr>\n",
       "      <th>...</th>\n",
       "      <td>...</td>\n",
       "      <td>...</td>\n",
       "      <td>...</td>\n",
       "    </tr>\n",
       "    <tr>\n",
       "      <th>67</th>\n",
       "      <td>toy rocket</td>\n",
       "      <td>barbie furniture set</td>\n",
       "      <td>NaN</td>\n",
       "    </tr>\n",
       "    <tr>\n",
       "      <th>68</th>\n",
       "      <td>soccer ball</td>\n",
       "      <td>NaN</td>\n",
       "      <td>NaN</td>\n",
       "    </tr>\n",
       "    <tr>\n",
       "      <th>69</th>\n",
       "      <td>blue ipad</td>\n",
       "      <td>pink ipad</td>\n",
       "      <td>NaN</td>\n",
       "    </tr>\n",
       "    <tr>\n",
       "      <th>70</th>\n",
       "      <td>toy robots</td>\n",
       "      <td>NaN</td>\n",
       "      <td>NaN</td>\n",
       "    </tr>\n",
       "    <tr>\n",
       "      <th>71</th>\n",
       "      <td>toy drones</td>\n",
       "      <td>NaN</td>\n",
       "      <td>NaN</td>\n",
       "    </tr>\n",
       "  </tbody>\n",
       "</table>\n",
       "<p>72 rows × 3 columns</p>\n",
       "</div>"
      ],
      "text/plain": [
       "                 BOY                  GIRL               NEUTRAL\n",
       "0       vehicle toys                  doll           toy animals\n",
       "1              sport         domestic toys                 books\n",
       "2      military toys       educational art  educational teaching\n",
       "3          race cars               clothes         musical games\n",
       "4   outer space toys            dollhouses                 games\n",
       "..               ...                   ...                   ...\n",
       "67        toy rocket  barbie furniture set                   NaN\n",
       "68       soccer ball                   NaN                   NaN\n",
       "69         blue ipad             pink ipad                   NaN\n",
       "70        toy robots                   NaN                   NaN\n",
       "71        toy drones                   NaN                   NaN\n",
       "\n",
       "[72 rows x 3 columns]"
      ]
     },
     "execution_count": 3,
     "metadata": {},
     "output_type": "execute_result"
    }
   ],
   "source": [
    "stereo_toys = pd.read_csv('~/Desktop/485/Data/predoc_stereotyped_items.csv', delimiter =',')\n",
    "stereo_toys"
   ]
  },
  {
   "cell_type": "markdown",
   "metadata": {},
   "source": [
    "### read in all_items.txt"
   ]
  },
  {
   "cell_type": "code",
   "execution_count": 4,
   "metadata": {
    "id": "HftiubXCdxlv"
   },
   "outputs": [],
   "source": [
    "with open('all_items.txt') as f:\n",
    "    all_items = f.read().splitlines()"
   ]
  },
  {
   "cell_type": "code",
   "execution_count": 5,
   "metadata": {
    "id": "pIKTdxwEdxlv",
    "outputId": "d63e4841-cdce-4f2c-a986-1693b29dd1ba"
   },
   "outputs": [
    {
     "data": {
      "text/plain": [
       "166"
      ]
     },
     "execution_count": 5,
     "metadata": {},
     "output_type": "execute_result"
    }
   ],
   "source": [
    "len(all_items)"
   ]
  },
  {
   "cell_type": "code",
   "execution_count": 6,
   "metadata": {},
   "outputs": [
    {
     "name": "stdout",
     "output_type": "stream",
     "text": [
      "['vehicle toys', 'sport', 'military toys', 'race cars', 'outer space toys', 'depots', 'machines', 'doll-humanoid', 'action figures', 'gi joe action figure', 'spiderman', 'guitar', 'castle tent', 'microscope', 'monster trucks', 'bug collection set', 'barn', 'grill', 'dinosaur toy', 'volcano creator', 'pokemon cards', 'space station toys', 'basketball hoop', 'gears', 'train set', 'lincoln logs', 'police station toy', 'airport toy', 'police officer gear', 'dragonballz', 'superhero costumes', 'helicopter', 'racetrack', 'remote control car', 'football', 'hockey stick', 'sword toy', 'miniature guns', 'truck set', 'remote control helicopter', 'sully costume', 'woody valentine', 'spiderman costume', 'batman costume', 'ninja costume', 'wwe action figure', 'action figure', 'toy gun', 'construction games', 'war toys', 'toy vehicles', 'educational material', 'nerf guns', 'construction toys', 'car toys', 'video games', 'building blocks', 'dinosaur toys', 'lego cars', 'lego toys', 'computer games', 'spaceship lego', 'firefighter gear', 'soldier toys', 'space station', 'science project kit', 'toy rocket', 'soccer ball', 'blue ipad', 'toy robots', 'toy drones', 'doll', 'domestic toys', 'educational art', 'clothes', 'dollhouses', 'clothing accessories', 'doll accessories', 'furnishing', 'ballerina costume', 'barbie costume', 'barbie jeep', 'play makeup', 'bratz doll', 'jewelry', 'my little pony', 'tea set', 'vanity set', 'princess costume', 'baby dolls', 'beads', 'dollhouse', 'easy bake oven', 'baby doll stroller', 'sewing machine', 'pink ice skates', 'ken doll', 'toy kitchen', 'broom', 'beanie baby bear', 'toy vacuum cleaner', 'veterinarian kit', 'kitchen set', 'stuffed animals', 'plush toys', 'unicorn', 'sparkly toys', 'disney doll', 'baking kit', 'painting kit', 'dora doll', 'power ranger valentine', 'dorothy costume', 'minnie mouse', 'monster high doll', 'monster high costume', 'barbie', 'baby doll', 'fashion doll', 'tiara', 'craft toys', 'beauty products', 'tea party set', 'pink doll', 'cupcake maker', 'makeup kit', 'fashion dolls', 'crochet kit', 'playhouses', 'princess sword', 'doctors kit', 'skin care kit', 'barbie furniture set', 'pink ipad', 'toy animals', 'books', 'educational teaching', 'musical games', 'games', 'live animals', 'candy land', 'winnie the pooh', 'karaoke machine', 'elmo', 'gardening tools', 'crayons', 'doctor kit', 'tricycle', 'play-doh', 'leappad', 'trampoline', 'swingset', 'mr potato head', 'spongebob square pants', 'math flash card', 'wagon', 'bus', 'tree house', 'wood blocks', 'harry potter books', 'legos', 'scooter', 'drum set', 'puzzles', 'board games', 'rock painting']\n"
     ]
    }
   ],
   "source": [
    "print(all_items)"
   ]
  },
  {
   "cell_type": "markdown",
   "metadata": {},
   "source": [
    "### create a trial list of all_items"
   ]
  },
  {
   "cell_type": "code",
   "execution_count": 7,
   "metadata": {
    "id": "8YTS9MbOdxlw",
    "outputId": "9aa63b45-8f12-482f-a7cb-f1619fe81f00"
   },
   "outputs": [
    {
     "data": {
      "text/plain": [
       "['legos', 'scooter', 'drum set', 'puzzles', 'board games', 'rock painting']"
      ]
     },
     "execution_count": 7,
     "metadata": {},
     "output_type": "execute_result"
    }
   ],
   "source": [
    "trial = all_items[160:]\n",
    "trial"
   ]
  },
  {
   "cell_type": "code",
   "execution_count": 8,
   "metadata": {
    "id": "o1nRqCB-dxlw"
   },
   "outputs": [],
   "source": [
    "generic = ['toys', 'books', 'learning material', 'games', 'sports']"
   ]
  },
  {
   "cell_type": "code",
   "execution_count": 9,
   "metadata": {
    "id": "vPdT-vxTdxlx"
   },
   "outputs": [],
   "source": [
    "gender = ['boys', 'girls', 'neutral']"
   ]
  },
  {
   "cell_type": "markdown",
   "metadata": {
    "id": "3o9NXUz1dxlx"
   },
   "source": [
    "## Scraping Data From Search Results"
   ]
  },
  {
   "cell_type": "markdown",
   "metadata": {
    "id": "1txJMd8Rdxlx"
   },
   "source": [
    "### Getting asin of the retrieved products"
   ]
  },
  {
   "cell_type": "markdown",
   "metadata": {},
   "source": [
    "ensure xpath is correct"
   ]
  },
  {
   "cell_type": "code",
   "execution_count": 10,
   "metadata": {},
   "outputs": [],
   "source": [
    "def asin(driver):\n",
    "    asin_list = []\n",
    "    for index in range(1,10):\n",
    "        asins = driver.find_elements(\"xpath\",\"//div[@data-asin]\")\n",
    "        for asin in asins:\n",
    "            #print(asin)\n",
    "            asin_list.append(asin.get_attribute('data-asin'))\n",
    "    return asin_list"
   ]
  },
  {
   "cell_type": "markdown",
   "metadata": {
    "id": "SnD91zlhdxly"
   },
   "source": [
    "### get information (title) of retirved products"
   ]
  },
  {
   "cell_type": "code",
   "execution_count": 11,
   "metadata": {},
   "outputs": [],
   "source": [
    "from selenium.webdriver.common.by import By\n",
    "def item_info(driver):\n",
    "    item = []\n",
    "    elem = driver.find_elements(By.CSS_SELECTOR,'h2')\n",
    "    for i in elem:\n",
    "        item.append(i.text)\n",
    "    return item"
   ]
  },
  {
   "cell_type": "markdown",
   "metadata": {
    "id": "MtHOFAmBdxly"
   },
   "source": [
    "### Getting product link of the retrievd products\n",
    "We did not use this codeblock since we had the asin to use to compare products. Depending on the e-commerce site link might be necessary."
   ]
  },
  {
   "cell_type": "code",
   "execution_count": 12,
   "metadata": {},
   "outputs": [],
   "source": [
    "def item_link(driver):\n",
    "    href = []\n",
    "    links = driver.find_elements('xpath',\"//h2//a[@href]\")\n",
    "    for link in links:\n",
    "        href.append(link.get_attribute('href'))\n",
    "    return href"
   ]
  },
  {
   "cell_type": "markdown",
   "metadata": {
    "id": "ksetNpOgdxlz"
   },
   "source": [
    "### Running queries for both boy and girls and neutral (kids)"
   ]
  },
  {
   "cell_type": "code",
   "execution_count": 13,
   "metadata": {
    "id": "K-L14To5dxlz"
   },
   "outputs": [],
   "source": [
    "def search(item, who):\n",
    "    if who == 'neutral':\n",
    "        query = item + ' for '+'kids'\n",
    "    else:\n",
    "        query = item + ' for '+who\n",
    "    driver.get(f'https://www.amazon.co.uk/s?k={query}&ref=nb_sb_noss')\n",
    "    list_asin = asin(driver)\n",
    "    item_list = item_info(driver)\n",
    "    item_page = item_link(driver)\n",
    "    return (list_asin, item_list), item_page"
   ]
  },
  {
   "cell_type": "raw",
   "metadata": {
    "id": "JLLwAhKhdxlz"
   },
   "source": [
    "import time\n",
    "import warnings\n",
    "driver = webdriver.Chrome(ChromeDriverManager().install())\n",
    "search_result = {}\n",
    "for i in generic:\n",
    "    gender_dict = {}\n",
    "    for g in gender:\n",
    "        gender_dict[g] = search(i, g)\n",
    "        driver.implicitly_wait(5)\n",
    "    search_result[i] = gender_dict\n",
    "    time.sleep(1.5)\n",
    "driver.close()"
   ]
  },
  {
   "cell_type": "markdown",
   "metadata": {},
   "source": [
    "### create DataFrame to load scraped data into\n",
    "Since we did not use item_link above we do not need the columns2 dataframe."
   ]
  },
  {
   "cell_type": "code",
   "execution_count": 16,
   "metadata": {
    "id": "7MwtzxcLdxlz"
   },
   "outputs": [],
   "source": [
    "columns1 = ['gender', 'query', 'result']\n",
    "qr = pd.DataFrame(columns = columns1)\n",
    "columns2 = ['gender', 'query', 'href']\n",
    "qr_link = pd.DataFrame(columns = columns2)\n",
    "#qr_link"
   ]
  },
  {
   "cell_type": "markdown",
   "metadata": {
    "id": "dzePLZ-Ydxl0"
   },
   "source": [
    "## running queries in a loop"
   ]
  },
  {
   "cell_type": "markdown",
   "metadata": {},
   "source": [
    "Below is code to run with a trial set of 6 items to ensure your code runs before running to code with all_itmes with contains 160 items."
   ]
  },
  {
   "cell_type": "code",
   "execution_count": 17,
   "metadata": {
    "id": "If9zHbjHdxl0",
    "outputId": "432189e1-1cca-4914-9993-99fc35689041"
   },
   "outputs": [],
   "source": [
    "#trial run\n",
    "import time\n",
    "import warnings\n",
    "warnings.filterwarnings('ignore')\n",
    "driver = webdriver.Chrome(ChromeDriverManager().install())\n",
    "data1 = []\n",
    "data2 = []\n",
    "item = ''\n",
    "for item in trial:\n",
    "    for g in gender:\n",
    "        result, link = search(item, g)\n",
    "        values1 = [g, item, result]\n",
    "        values2 = [g, item, link]\n",
    "        zipped1 = zip(columns1, values1)\n",
    "        zipped2 = zip(columns2, values2)\n",
    "        a_dictionary1 = dict(zipped1)\n",
    "        a_dictionary2 = dict(zipped2)\n",
    "        #print(a_dictionary)\n",
    "        time.sleep(1.5)\n",
    "        data1.append(a_dictionary1)\n",
    "        data2.append(a_dictionary2)\n",
    "driver.close()"
   ]
  },
  {
   "cell_type": "markdown",
   "metadata": {},
   "source": [
    "Run this code block with all items once the trial code blocks runs successfully. This will take some time."
   ]
  },
  {
   "cell_type": "code",
   "execution_count": 33,
   "metadata": {
    "id": "If9zHbjHdxl0",
    "outputId": "432189e1-1cca-4914-9993-99fc35689041"
   },
   "outputs": [
    {
     "ename": "KeyboardInterrupt",
     "evalue": "",
     "output_type": "error",
     "traceback": [
      "\u001b[0;31m---------------------------------------------------------------------------\u001b[0m",
      "\u001b[0;31mKeyboardInterrupt\u001b[0m                         Traceback (most recent call last)",
      "\u001b[0;32m/var/folders/9w/vqfwdxs928zd_nxgj09rs2pw0000gn/T/ipykernel_19586/951668553.py\u001b[0m in \u001b[0;36m<module>\u001b[0;34m\u001b[0m\n\u001b[1;32m      9\u001b[0m \u001b[0;32mfor\u001b[0m \u001b[0mitem\u001b[0m \u001b[0;32min\u001b[0m \u001b[0mall_items\u001b[0m\u001b[0;34m:\u001b[0m\u001b[0;34m\u001b[0m\u001b[0;34m\u001b[0m\u001b[0m\n\u001b[1;32m     10\u001b[0m     \u001b[0;32mfor\u001b[0m \u001b[0mg\u001b[0m \u001b[0;32min\u001b[0m \u001b[0mgender\u001b[0m\u001b[0;34m:\u001b[0m\u001b[0;34m\u001b[0m\u001b[0;34m\u001b[0m\u001b[0m\n\u001b[0;32m---> 11\u001b[0;31m         \u001b[0mresult\u001b[0m\u001b[0;34m,\u001b[0m \u001b[0mlink\u001b[0m \u001b[0;34m=\u001b[0m \u001b[0msearch\u001b[0m\u001b[0;34m(\u001b[0m\u001b[0mitem\u001b[0m\u001b[0;34m,\u001b[0m \u001b[0mg\u001b[0m\u001b[0;34m)\u001b[0m\u001b[0;34m\u001b[0m\u001b[0;34m\u001b[0m\u001b[0m\n\u001b[0m\u001b[1;32m     12\u001b[0m         \u001b[0mvalues1\u001b[0m \u001b[0;34m=\u001b[0m \u001b[0;34m[\u001b[0m\u001b[0mg\u001b[0m\u001b[0;34m,\u001b[0m \u001b[0mitem\u001b[0m\u001b[0;34m,\u001b[0m \u001b[0mresult\u001b[0m\u001b[0;34m]\u001b[0m\u001b[0;34m\u001b[0m\u001b[0;34m\u001b[0m\u001b[0m\n\u001b[1;32m     13\u001b[0m         \u001b[0mvalues2\u001b[0m \u001b[0;34m=\u001b[0m \u001b[0;34m[\u001b[0m\u001b[0mg\u001b[0m\u001b[0;34m,\u001b[0m \u001b[0mitem\u001b[0m\u001b[0;34m,\u001b[0m \u001b[0mlink\u001b[0m\u001b[0;34m]\u001b[0m\u001b[0;34m\u001b[0m\u001b[0;34m\u001b[0m\u001b[0m\n",
      "\u001b[0;32m/var/folders/9w/vqfwdxs928zd_nxgj09rs2pw0000gn/T/ipykernel_19586/2807810216.py\u001b[0m in \u001b[0;36msearch\u001b[0;34m(item, who)\u001b[0m\n\u001b[1;32m      4\u001b[0m     \u001b[0;32melse\u001b[0m\u001b[0;34m:\u001b[0m\u001b[0;34m\u001b[0m\u001b[0;34m\u001b[0m\u001b[0m\n\u001b[1;32m      5\u001b[0m         \u001b[0mquery\u001b[0m \u001b[0;34m=\u001b[0m \u001b[0mitem\u001b[0m \u001b[0;34m+\u001b[0m \u001b[0;34m' for '\u001b[0m\u001b[0;34m+\u001b[0m\u001b[0mwho\u001b[0m\u001b[0;34m\u001b[0m\u001b[0;34m\u001b[0m\u001b[0m\n\u001b[0;32m----> 6\u001b[0;31m     \u001b[0mdriver\u001b[0m\u001b[0;34m.\u001b[0m\u001b[0mget\u001b[0m\u001b[0;34m(\u001b[0m\u001b[0;34mf'https://www.argos.co.uk/search/{query}/?clickOrigin=searchbar:home:term:{query}'\u001b[0m\u001b[0;34m)\u001b[0m\u001b[0;34m\u001b[0m\u001b[0;34m\u001b[0m\u001b[0m\n\u001b[0m\u001b[1;32m      7\u001b[0m     \u001b[0mlist_asin\u001b[0m \u001b[0;34m=\u001b[0m \u001b[0masin\u001b[0m\u001b[0;34m(\u001b[0m\u001b[0mdriver\u001b[0m\u001b[0;34m)\u001b[0m\u001b[0;34m\u001b[0m\u001b[0;34m\u001b[0m\u001b[0m\n\u001b[1;32m      8\u001b[0m     \u001b[0mitem_list\u001b[0m \u001b[0;34m=\u001b[0m \u001b[0mitem_info\u001b[0m\u001b[0;34m(\u001b[0m\u001b[0mdriver\u001b[0m\u001b[0;34m)\u001b[0m\u001b[0;34m\u001b[0m\u001b[0;34m\u001b[0m\u001b[0m\n",
      "\u001b[0;32m~/opt/anaconda3/lib/python3.9/site-packages/selenium/webdriver/remote/webdriver.py\u001b[0m in \u001b[0;36mget\u001b[0;34m(self, url)\u001b[0m\n\u001b[1;32m    453\u001b[0m         \u001b[0mLoads\u001b[0m \u001b[0ma\u001b[0m \u001b[0mweb\u001b[0m \u001b[0mpage\u001b[0m \u001b[0;32min\u001b[0m \u001b[0mthe\u001b[0m \u001b[0mcurrent\u001b[0m \u001b[0mbrowser\u001b[0m \u001b[0msession\u001b[0m\u001b[0;34m.\u001b[0m\u001b[0;34m\u001b[0m\u001b[0;34m\u001b[0m\u001b[0m\n\u001b[1;32m    454\u001b[0m         \"\"\"\n\u001b[0;32m--> 455\u001b[0;31m         \u001b[0mself\u001b[0m\u001b[0;34m.\u001b[0m\u001b[0mexecute\u001b[0m\u001b[0;34m(\u001b[0m\u001b[0mCommand\u001b[0m\u001b[0;34m.\u001b[0m\u001b[0mGET\u001b[0m\u001b[0;34m,\u001b[0m \u001b[0;34m{\u001b[0m\u001b[0;34m\"url\"\u001b[0m\u001b[0;34m:\u001b[0m \u001b[0murl\u001b[0m\u001b[0;34m}\u001b[0m\u001b[0;34m)\u001b[0m\u001b[0;34m\u001b[0m\u001b[0;34m\u001b[0m\u001b[0m\n\u001b[0m\u001b[1;32m    456\u001b[0m \u001b[0;34m\u001b[0m\u001b[0m\n\u001b[1;32m    457\u001b[0m     \u001b[0;34m@\u001b[0m\u001b[0mproperty\u001b[0m\u001b[0;34m\u001b[0m\u001b[0;34m\u001b[0m\u001b[0m\n",
      "\u001b[0;32m~/opt/anaconda3/lib/python3.9/site-packages/selenium/webdriver/remote/webdriver.py\u001b[0m in \u001b[0;36mexecute\u001b[0;34m(self, driver_command, params)\u001b[0m\n\u001b[1;32m    440\u001b[0m                 \u001b[0mparams\u001b[0m\u001b[0;34m[\u001b[0m\u001b[0;34m\"sessionId\"\u001b[0m\u001b[0;34m]\u001b[0m \u001b[0;34m=\u001b[0m \u001b[0mself\u001b[0m\u001b[0;34m.\u001b[0m\u001b[0msession_id\u001b[0m\u001b[0;34m\u001b[0m\u001b[0;34m\u001b[0m\u001b[0m\n\u001b[1;32m    441\u001b[0m \u001b[0;34m\u001b[0m\u001b[0m\n\u001b[0;32m--> 442\u001b[0;31m         \u001b[0mresponse\u001b[0m \u001b[0;34m=\u001b[0m \u001b[0mself\u001b[0m\u001b[0;34m.\u001b[0m\u001b[0mcommand_executor\u001b[0m\u001b[0;34m.\u001b[0m\u001b[0mexecute\u001b[0m\u001b[0;34m(\u001b[0m\u001b[0mdriver_command\u001b[0m\u001b[0;34m,\u001b[0m \u001b[0mparams\u001b[0m\u001b[0;34m)\u001b[0m\u001b[0;34m\u001b[0m\u001b[0;34m\u001b[0m\u001b[0m\n\u001b[0m\u001b[1;32m    443\u001b[0m         \u001b[0;32mif\u001b[0m \u001b[0mresponse\u001b[0m\u001b[0;34m:\u001b[0m\u001b[0;34m\u001b[0m\u001b[0;34m\u001b[0m\u001b[0m\n\u001b[1;32m    444\u001b[0m             \u001b[0mself\u001b[0m\u001b[0;34m.\u001b[0m\u001b[0merror_handler\u001b[0m\u001b[0;34m.\u001b[0m\u001b[0mcheck_response\u001b[0m\u001b[0;34m(\u001b[0m\u001b[0mresponse\u001b[0m\u001b[0;34m)\u001b[0m\u001b[0;34m\u001b[0m\u001b[0;34m\u001b[0m\u001b[0m\n",
      "\u001b[0;32m~/opt/anaconda3/lib/python3.9/site-packages/selenium/webdriver/remote/remote_connection.py\u001b[0m in \u001b[0;36mexecute\u001b[0;34m(self, command, params)\u001b[0m\n\u001b[1;32m    292\u001b[0m         \u001b[0mdata\u001b[0m \u001b[0;34m=\u001b[0m \u001b[0mutils\u001b[0m\u001b[0;34m.\u001b[0m\u001b[0mdump_json\u001b[0m\u001b[0;34m(\u001b[0m\u001b[0mparams\u001b[0m\u001b[0;34m)\u001b[0m\u001b[0;34m\u001b[0m\u001b[0;34m\u001b[0m\u001b[0m\n\u001b[1;32m    293\u001b[0m         \u001b[0murl\u001b[0m \u001b[0;34m=\u001b[0m \u001b[0;34mf\"{self._url}{path}\"\u001b[0m\u001b[0;34m\u001b[0m\u001b[0;34m\u001b[0m\u001b[0m\n\u001b[0;32m--> 294\u001b[0;31m         \u001b[0;32mreturn\u001b[0m \u001b[0mself\u001b[0m\u001b[0;34m.\u001b[0m\u001b[0m_request\u001b[0m\u001b[0;34m(\u001b[0m\u001b[0mcommand_info\u001b[0m\u001b[0;34m[\u001b[0m\u001b[0;36m0\u001b[0m\u001b[0;34m]\u001b[0m\u001b[0;34m,\u001b[0m \u001b[0murl\u001b[0m\u001b[0;34m,\u001b[0m \u001b[0mbody\u001b[0m\u001b[0;34m=\u001b[0m\u001b[0mdata\u001b[0m\u001b[0;34m)\u001b[0m\u001b[0;34m\u001b[0m\u001b[0;34m\u001b[0m\u001b[0m\n\u001b[0m\u001b[1;32m    295\u001b[0m \u001b[0;34m\u001b[0m\u001b[0m\n\u001b[1;32m    296\u001b[0m     \u001b[0;32mdef\u001b[0m \u001b[0m_request\u001b[0m\u001b[0;34m(\u001b[0m\u001b[0mself\u001b[0m\u001b[0;34m,\u001b[0m \u001b[0mmethod\u001b[0m\u001b[0;34m,\u001b[0m \u001b[0murl\u001b[0m\u001b[0;34m,\u001b[0m \u001b[0mbody\u001b[0m\u001b[0;34m=\u001b[0m\u001b[0;32mNone\u001b[0m\u001b[0;34m)\u001b[0m\u001b[0;34m:\u001b[0m\u001b[0;34m\u001b[0m\u001b[0;34m\u001b[0m\u001b[0m\n",
      "\u001b[0;32m~/opt/anaconda3/lib/python3.9/site-packages/selenium/webdriver/remote/remote_connection.py\u001b[0m in \u001b[0;36m_request\u001b[0;34m(self, method, url, body)\u001b[0m\n\u001b[1;32m    314\u001b[0m \u001b[0;34m\u001b[0m\u001b[0m\n\u001b[1;32m    315\u001b[0m         \u001b[0;32mif\u001b[0m \u001b[0mself\u001b[0m\u001b[0;34m.\u001b[0m\u001b[0mkeep_alive\u001b[0m\u001b[0;34m:\u001b[0m\u001b[0;34m\u001b[0m\u001b[0;34m\u001b[0m\u001b[0m\n\u001b[0;32m--> 316\u001b[0;31m             \u001b[0mresponse\u001b[0m \u001b[0;34m=\u001b[0m \u001b[0mself\u001b[0m\u001b[0;34m.\u001b[0m\u001b[0m_conn\u001b[0m\u001b[0;34m.\u001b[0m\u001b[0mrequest\u001b[0m\u001b[0;34m(\u001b[0m\u001b[0mmethod\u001b[0m\u001b[0;34m,\u001b[0m \u001b[0murl\u001b[0m\u001b[0;34m,\u001b[0m \u001b[0mbody\u001b[0m\u001b[0;34m=\u001b[0m\u001b[0mbody\u001b[0m\u001b[0;34m,\u001b[0m \u001b[0mheaders\u001b[0m\u001b[0;34m=\u001b[0m\u001b[0mheaders\u001b[0m\u001b[0;34m)\u001b[0m\u001b[0;34m\u001b[0m\u001b[0;34m\u001b[0m\u001b[0m\n\u001b[0m\u001b[1;32m    317\u001b[0m             \u001b[0mstatuscode\u001b[0m \u001b[0;34m=\u001b[0m \u001b[0mresponse\u001b[0m\u001b[0;34m.\u001b[0m\u001b[0mstatus\u001b[0m\u001b[0;34m\u001b[0m\u001b[0;34m\u001b[0m\u001b[0m\n\u001b[1;32m    318\u001b[0m         \u001b[0;32melse\u001b[0m\u001b[0;34m:\u001b[0m\u001b[0;34m\u001b[0m\u001b[0;34m\u001b[0m\u001b[0m\n",
      "\u001b[0;32m~/opt/anaconda3/lib/python3.9/site-packages/urllib3/request.py\u001b[0m in \u001b[0;36mrequest\u001b[0;34m(self, method, url, fields, headers, **urlopen_kw)\u001b[0m\n\u001b[1;32m     76\u001b[0m             )\n\u001b[1;32m     77\u001b[0m         \u001b[0;32melse\u001b[0m\u001b[0;34m:\u001b[0m\u001b[0;34m\u001b[0m\u001b[0;34m\u001b[0m\u001b[0m\n\u001b[0;32m---> 78\u001b[0;31m             return self.request_encode_body(\n\u001b[0m\u001b[1;32m     79\u001b[0m                 \u001b[0mmethod\u001b[0m\u001b[0;34m,\u001b[0m \u001b[0murl\u001b[0m\u001b[0;34m,\u001b[0m \u001b[0mfields\u001b[0m\u001b[0;34m=\u001b[0m\u001b[0mfields\u001b[0m\u001b[0;34m,\u001b[0m \u001b[0mheaders\u001b[0m\u001b[0;34m=\u001b[0m\u001b[0mheaders\u001b[0m\u001b[0;34m,\u001b[0m \u001b[0;34m**\u001b[0m\u001b[0murlopen_kw\u001b[0m\u001b[0;34m\u001b[0m\u001b[0;34m\u001b[0m\u001b[0m\n\u001b[1;32m     80\u001b[0m             )\n",
      "\u001b[0;32m~/opt/anaconda3/lib/python3.9/site-packages/urllib3/request.py\u001b[0m in \u001b[0;36mrequest_encode_body\u001b[0;34m(self, method, url, fields, headers, encode_multipart, multipart_boundary, **urlopen_kw)\u001b[0m\n\u001b[1;32m    168\u001b[0m         \u001b[0mextra_kw\u001b[0m\u001b[0;34m.\u001b[0m\u001b[0mupdate\u001b[0m\u001b[0;34m(\u001b[0m\u001b[0murlopen_kw\u001b[0m\u001b[0;34m)\u001b[0m\u001b[0;34m\u001b[0m\u001b[0;34m\u001b[0m\u001b[0m\n\u001b[1;32m    169\u001b[0m \u001b[0;34m\u001b[0m\u001b[0m\n\u001b[0;32m--> 170\u001b[0;31m         \u001b[0;32mreturn\u001b[0m \u001b[0mself\u001b[0m\u001b[0;34m.\u001b[0m\u001b[0murlopen\u001b[0m\u001b[0;34m(\u001b[0m\u001b[0mmethod\u001b[0m\u001b[0;34m,\u001b[0m \u001b[0murl\u001b[0m\u001b[0;34m,\u001b[0m \u001b[0;34m**\u001b[0m\u001b[0mextra_kw\u001b[0m\u001b[0;34m)\u001b[0m\u001b[0;34m\u001b[0m\u001b[0;34m\u001b[0m\u001b[0m\n\u001b[0m",
      "\u001b[0;32m~/opt/anaconda3/lib/python3.9/site-packages/urllib3/poolmanager.py\u001b[0m in \u001b[0;36murlopen\u001b[0;34m(self, method, url, redirect, **kw)\u001b[0m\n\u001b[1;32m    374\u001b[0m             \u001b[0mresponse\u001b[0m \u001b[0;34m=\u001b[0m \u001b[0mconn\u001b[0m\u001b[0;34m.\u001b[0m\u001b[0murlopen\u001b[0m\u001b[0;34m(\u001b[0m\u001b[0mmethod\u001b[0m\u001b[0;34m,\u001b[0m \u001b[0murl\u001b[0m\u001b[0;34m,\u001b[0m \u001b[0;34m**\u001b[0m\u001b[0mkw\u001b[0m\u001b[0;34m)\u001b[0m\u001b[0;34m\u001b[0m\u001b[0;34m\u001b[0m\u001b[0m\n\u001b[1;32m    375\u001b[0m         \u001b[0;32melse\u001b[0m\u001b[0;34m:\u001b[0m\u001b[0;34m\u001b[0m\u001b[0;34m\u001b[0m\u001b[0m\n\u001b[0;32m--> 376\u001b[0;31m             \u001b[0mresponse\u001b[0m \u001b[0;34m=\u001b[0m \u001b[0mconn\u001b[0m\u001b[0;34m.\u001b[0m\u001b[0murlopen\u001b[0m\u001b[0;34m(\u001b[0m\u001b[0mmethod\u001b[0m\u001b[0;34m,\u001b[0m \u001b[0mu\u001b[0m\u001b[0;34m.\u001b[0m\u001b[0mrequest_uri\u001b[0m\u001b[0;34m,\u001b[0m \u001b[0;34m**\u001b[0m\u001b[0mkw\u001b[0m\u001b[0;34m)\u001b[0m\u001b[0;34m\u001b[0m\u001b[0;34m\u001b[0m\u001b[0m\n\u001b[0m\u001b[1;32m    377\u001b[0m \u001b[0;34m\u001b[0m\u001b[0m\n\u001b[1;32m    378\u001b[0m         \u001b[0mredirect_location\u001b[0m \u001b[0;34m=\u001b[0m \u001b[0mredirect\u001b[0m \u001b[0;32mand\u001b[0m \u001b[0mresponse\u001b[0m\u001b[0;34m.\u001b[0m\u001b[0mget_redirect_location\u001b[0m\u001b[0;34m(\u001b[0m\u001b[0;34m)\u001b[0m\u001b[0;34m\u001b[0m\u001b[0;34m\u001b[0m\u001b[0m\n",
      "\u001b[0;32m~/opt/anaconda3/lib/python3.9/site-packages/urllib3/connectionpool.py\u001b[0m in \u001b[0;36murlopen\u001b[0;34m(self, method, url, body, headers, retries, redirect, assert_same_host, timeout, pool_timeout, release_conn, chunked, body_pos, **response_kw)\u001b[0m\n\u001b[1;32m    701\u001b[0m \u001b[0;34m\u001b[0m\u001b[0m\n\u001b[1;32m    702\u001b[0m             \u001b[0;31m# Make the request on the httplib connection object.\u001b[0m\u001b[0;34m\u001b[0m\u001b[0;34m\u001b[0m\u001b[0m\n\u001b[0;32m--> 703\u001b[0;31m             httplib_response = self._make_request(\n\u001b[0m\u001b[1;32m    704\u001b[0m                 \u001b[0mconn\u001b[0m\u001b[0;34m,\u001b[0m\u001b[0;34m\u001b[0m\u001b[0;34m\u001b[0m\u001b[0m\n\u001b[1;32m    705\u001b[0m                 \u001b[0mmethod\u001b[0m\u001b[0;34m,\u001b[0m\u001b[0;34m\u001b[0m\u001b[0;34m\u001b[0m\u001b[0m\n",
      "\u001b[0;32m~/opt/anaconda3/lib/python3.9/site-packages/urllib3/connectionpool.py\u001b[0m in \u001b[0;36m_make_request\u001b[0;34m(self, conn, method, url, timeout, chunked, **httplib_request_kw)\u001b[0m\n\u001b[1;32m    447\u001b[0m                     \u001b[0;31m# Python 3 (including for exceptions like SystemExit).\u001b[0m\u001b[0;34m\u001b[0m\u001b[0;34m\u001b[0m\u001b[0m\n\u001b[1;32m    448\u001b[0m                     \u001b[0;31m# Otherwise it looks like a bug in the code.\u001b[0m\u001b[0;34m\u001b[0m\u001b[0;34m\u001b[0m\u001b[0m\n\u001b[0;32m--> 449\u001b[0;31m                     \u001b[0msix\u001b[0m\u001b[0;34m.\u001b[0m\u001b[0mraise_from\u001b[0m\u001b[0;34m(\u001b[0m\u001b[0me\u001b[0m\u001b[0;34m,\u001b[0m \u001b[0;32mNone\u001b[0m\u001b[0;34m)\u001b[0m\u001b[0;34m\u001b[0m\u001b[0;34m\u001b[0m\u001b[0m\n\u001b[0m\u001b[1;32m    450\u001b[0m         \u001b[0;32mexcept\u001b[0m \u001b[0;34m(\u001b[0m\u001b[0mSocketTimeout\u001b[0m\u001b[0;34m,\u001b[0m \u001b[0mBaseSSLError\u001b[0m\u001b[0;34m,\u001b[0m \u001b[0mSocketError\u001b[0m\u001b[0;34m)\u001b[0m \u001b[0;32mas\u001b[0m \u001b[0me\u001b[0m\u001b[0;34m:\u001b[0m\u001b[0;34m\u001b[0m\u001b[0;34m\u001b[0m\u001b[0m\n\u001b[1;32m    451\u001b[0m             \u001b[0mself\u001b[0m\u001b[0;34m.\u001b[0m\u001b[0m_raise_timeout\u001b[0m\u001b[0;34m(\u001b[0m\u001b[0merr\u001b[0m\u001b[0;34m=\u001b[0m\u001b[0me\u001b[0m\u001b[0;34m,\u001b[0m \u001b[0murl\u001b[0m\u001b[0;34m=\u001b[0m\u001b[0murl\u001b[0m\u001b[0;34m,\u001b[0m \u001b[0mtimeout_value\u001b[0m\u001b[0;34m=\u001b[0m\u001b[0mread_timeout\u001b[0m\u001b[0;34m)\u001b[0m\u001b[0;34m\u001b[0m\u001b[0;34m\u001b[0m\u001b[0m\n",
      "\u001b[0;32m~/opt/anaconda3/lib/python3.9/site-packages/urllib3/packages/six.py\u001b[0m in \u001b[0;36mraise_from\u001b[0;34m(value, from_value)\u001b[0m\n",
      "\u001b[0;32m~/opt/anaconda3/lib/python3.9/site-packages/urllib3/connectionpool.py\u001b[0m in \u001b[0;36m_make_request\u001b[0;34m(self, conn, method, url, timeout, chunked, **httplib_request_kw)\u001b[0m\n\u001b[1;32m    442\u001b[0m                 \u001b[0;31m# Python 3\u001b[0m\u001b[0;34m\u001b[0m\u001b[0;34m\u001b[0m\u001b[0m\n\u001b[1;32m    443\u001b[0m                 \u001b[0;32mtry\u001b[0m\u001b[0;34m:\u001b[0m\u001b[0;34m\u001b[0m\u001b[0;34m\u001b[0m\u001b[0m\n\u001b[0;32m--> 444\u001b[0;31m                     \u001b[0mhttplib_response\u001b[0m \u001b[0;34m=\u001b[0m \u001b[0mconn\u001b[0m\u001b[0;34m.\u001b[0m\u001b[0mgetresponse\u001b[0m\u001b[0;34m(\u001b[0m\u001b[0;34m)\u001b[0m\u001b[0;34m\u001b[0m\u001b[0;34m\u001b[0m\u001b[0m\n\u001b[0m\u001b[1;32m    445\u001b[0m                 \u001b[0;32mexcept\u001b[0m \u001b[0mBaseException\u001b[0m \u001b[0;32mas\u001b[0m \u001b[0me\u001b[0m\u001b[0;34m:\u001b[0m\u001b[0;34m\u001b[0m\u001b[0;34m\u001b[0m\u001b[0m\n\u001b[1;32m    446\u001b[0m                     \u001b[0;31m# Remove the TypeError from the exception chain in\u001b[0m\u001b[0;34m\u001b[0m\u001b[0;34m\u001b[0m\u001b[0m\n",
      "\u001b[0;32m~/opt/anaconda3/lib/python3.9/http/client.py\u001b[0m in \u001b[0;36mgetresponse\u001b[0;34m(self)\u001b[0m\n\u001b[1;32m   1375\u001b[0m         \u001b[0;32mtry\u001b[0m\u001b[0;34m:\u001b[0m\u001b[0;34m\u001b[0m\u001b[0;34m\u001b[0m\u001b[0m\n\u001b[1;32m   1376\u001b[0m             \u001b[0;32mtry\u001b[0m\u001b[0;34m:\u001b[0m\u001b[0;34m\u001b[0m\u001b[0;34m\u001b[0m\u001b[0m\n\u001b[0;32m-> 1377\u001b[0;31m                 \u001b[0mresponse\u001b[0m\u001b[0;34m.\u001b[0m\u001b[0mbegin\u001b[0m\u001b[0;34m(\u001b[0m\u001b[0;34m)\u001b[0m\u001b[0;34m\u001b[0m\u001b[0;34m\u001b[0m\u001b[0m\n\u001b[0m\u001b[1;32m   1378\u001b[0m             \u001b[0;32mexcept\u001b[0m \u001b[0mConnectionError\u001b[0m\u001b[0;34m:\u001b[0m\u001b[0;34m\u001b[0m\u001b[0;34m\u001b[0m\u001b[0m\n\u001b[1;32m   1379\u001b[0m                 \u001b[0mself\u001b[0m\u001b[0;34m.\u001b[0m\u001b[0mclose\u001b[0m\u001b[0;34m(\u001b[0m\u001b[0;34m)\u001b[0m\u001b[0;34m\u001b[0m\u001b[0;34m\u001b[0m\u001b[0m\n",
      "\u001b[0;32m~/opt/anaconda3/lib/python3.9/http/client.py\u001b[0m in \u001b[0;36mbegin\u001b[0;34m(self)\u001b[0m\n\u001b[1;32m    318\u001b[0m         \u001b[0;31m# read until we get a non-100 response\u001b[0m\u001b[0;34m\u001b[0m\u001b[0;34m\u001b[0m\u001b[0m\n\u001b[1;32m    319\u001b[0m         \u001b[0;32mwhile\u001b[0m \u001b[0;32mTrue\u001b[0m\u001b[0;34m:\u001b[0m\u001b[0;34m\u001b[0m\u001b[0;34m\u001b[0m\u001b[0m\n\u001b[0;32m--> 320\u001b[0;31m             \u001b[0mversion\u001b[0m\u001b[0;34m,\u001b[0m \u001b[0mstatus\u001b[0m\u001b[0;34m,\u001b[0m \u001b[0mreason\u001b[0m \u001b[0;34m=\u001b[0m \u001b[0mself\u001b[0m\u001b[0;34m.\u001b[0m\u001b[0m_read_status\u001b[0m\u001b[0;34m(\u001b[0m\u001b[0;34m)\u001b[0m\u001b[0;34m\u001b[0m\u001b[0;34m\u001b[0m\u001b[0m\n\u001b[0m\u001b[1;32m    321\u001b[0m             \u001b[0;32mif\u001b[0m \u001b[0mstatus\u001b[0m \u001b[0;34m!=\u001b[0m \u001b[0mCONTINUE\u001b[0m\u001b[0;34m:\u001b[0m\u001b[0;34m\u001b[0m\u001b[0;34m\u001b[0m\u001b[0m\n\u001b[1;32m    322\u001b[0m                 \u001b[0;32mbreak\u001b[0m\u001b[0;34m\u001b[0m\u001b[0;34m\u001b[0m\u001b[0m\n",
      "\u001b[0;32m~/opt/anaconda3/lib/python3.9/http/client.py\u001b[0m in \u001b[0;36m_read_status\u001b[0;34m(self)\u001b[0m\n\u001b[1;32m    279\u001b[0m \u001b[0;34m\u001b[0m\u001b[0m\n\u001b[1;32m    280\u001b[0m     \u001b[0;32mdef\u001b[0m \u001b[0m_read_status\u001b[0m\u001b[0;34m(\u001b[0m\u001b[0mself\u001b[0m\u001b[0;34m)\u001b[0m\u001b[0;34m:\u001b[0m\u001b[0;34m\u001b[0m\u001b[0;34m\u001b[0m\u001b[0m\n\u001b[0;32m--> 281\u001b[0;31m         \u001b[0mline\u001b[0m \u001b[0;34m=\u001b[0m \u001b[0mstr\u001b[0m\u001b[0;34m(\u001b[0m\u001b[0mself\u001b[0m\u001b[0;34m.\u001b[0m\u001b[0mfp\u001b[0m\u001b[0;34m.\u001b[0m\u001b[0mreadline\u001b[0m\u001b[0;34m(\u001b[0m\u001b[0m_MAXLINE\u001b[0m \u001b[0;34m+\u001b[0m \u001b[0;36m1\u001b[0m\u001b[0;34m)\u001b[0m\u001b[0;34m,\u001b[0m \u001b[0;34m\"iso-8859-1\"\u001b[0m\u001b[0;34m)\u001b[0m\u001b[0;34m\u001b[0m\u001b[0;34m\u001b[0m\u001b[0m\n\u001b[0m\u001b[1;32m    282\u001b[0m         \u001b[0;32mif\u001b[0m \u001b[0mlen\u001b[0m\u001b[0;34m(\u001b[0m\u001b[0mline\u001b[0m\u001b[0;34m)\u001b[0m \u001b[0;34m>\u001b[0m \u001b[0m_MAXLINE\u001b[0m\u001b[0;34m:\u001b[0m\u001b[0;34m\u001b[0m\u001b[0;34m\u001b[0m\u001b[0m\n\u001b[1;32m    283\u001b[0m             \u001b[0;32mraise\u001b[0m \u001b[0mLineTooLong\u001b[0m\u001b[0;34m(\u001b[0m\u001b[0;34m\"status line\"\u001b[0m\u001b[0;34m)\u001b[0m\u001b[0;34m\u001b[0m\u001b[0;34m\u001b[0m\u001b[0m\n",
      "\u001b[0;32m~/opt/anaconda3/lib/python3.9/socket.py\u001b[0m in \u001b[0;36mreadinto\u001b[0;34m(self, b)\u001b[0m\n\u001b[1;32m    702\u001b[0m         \u001b[0;32mwhile\u001b[0m \u001b[0;32mTrue\u001b[0m\u001b[0;34m:\u001b[0m\u001b[0;34m\u001b[0m\u001b[0;34m\u001b[0m\u001b[0m\n\u001b[1;32m    703\u001b[0m             \u001b[0;32mtry\u001b[0m\u001b[0;34m:\u001b[0m\u001b[0;34m\u001b[0m\u001b[0;34m\u001b[0m\u001b[0m\n\u001b[0;32m--> 704\u001b[0;31m                 \u001b[0;32mreturn\u001b[0m \u001b[0mself\u001b[0m\u001b[0;34m.\u001b[0m\u001b[0m_sock\u001b[0m\u001b[0;34m.\u001b[0m\u001b[0mrecv_into\u001b[0m\u001b[0;34m(\u001b[0m\u001b[0mb\u001b[0m\u001b[0;34m)\u001b[0m\u001b[0;34m\u001b[0m\u001b[0;34m\u001b[0m\u001b[0m\n\u001b[0m\u001b[1;32m    705\u001b[0m             \u001b[0;32mexcept\u001b[0m \u001b[0mtimeout\u001b[0m\u001b[0;34m:\u001b[0m\u001b[0;34m\u001b[0m\u001b[0;34m\u001b[0m\u001b[0m\n\u001b[1;32m    706\u001b[0m                 \u001b[0mself\u001b[0m\u001b[0;34m.\u001b[0m\u001b[0m_timeout_occurred\u001b[0m \u001b[0;34m=\u001b[0m \u001b[0;32mTrue\u001b[0m\u001b[0;34m\u001b[0m\u001b[0;34m\u001b[0m\u001b[0m\n",
      "\u001b[0;31mKeyboardInterrupt\u001b[0m: "
     ]
    }
   ],
   "source": [
    "#all_items run\n",
    "import time\n",
    "import warnings\n",
    "warnings.filterwarnings('ignore')\n",
    "driver = webdriver.Chrome(ChromeDriverManager().install())\n",
    "data1 = []\n",
    "data2 = []\n",
    "item = ''\n",
    "for item in all_items:\n",
    "    for g in gender:\n",
    "        result, link = search(item, g)\n",
    "        values1 = [g, item, result]\n",
    "        values2 = [g, item, link]\n",
    "        zipped1 = zip(columns1, values1)\n",
    "        zipped2 = zip(columns2, values2)\n",
    "        a_dictionary1 = dict(zipped1)\n",
    "        a_dictionary2 = dict(zipped2)\n",
    "        #print(a_dictionary)\n",
    "        time.sleep(1.5)\n",
    "        data1.append(a_dictionary1)\n",
    "        data2.append(a_dictionary2)\n",
    "driver.close()"
   ]
  },
  {
   "cell_type": "code",
   "execution_count": 18,
   "metadata": {
    "id": "xknpaGxQdxl0",
    "outputId": "5e4934da-b725-4978-d3e1-4e497784ff34"
   },
   "outputs": [
    {
     "data": {
      "text/html": [
       "<div>\n",
       "<style scoped>\n",
       "    .dataframe tbody tr th:only-of-type {\n",
       "        vertical-align: middle;\n",
       "    }\n",
       "\n",
       "    .dataframe tbody tr th {\n",
       "        vertical-align: top;\n",
       "    }\n",
       "\n",
       "    .dataframe thead th {\n",
       "        text-align: right;\n",
       "    }\n",
       "</style>\n",
       "<table border=\"1\" class=\"dataframe\">\n",
       "  <thead>\n",
       "    <tr style=\"text-align: right;\">\n",
       "      <th></th>\n",
       "      <th>gender</th>\n",
       "      <th>query</th>\n",
       "      <th>result</th>\n",
       "    </tr>\n",
       "  </thead>\n",
       "  <tbody>\n",
       "    <tr>\n",
       "      <th>0</th>\n",
       "      <td>boys</td>\n",
       "      <td>legos</td>\n",
       "      <td>([, B09FM7NFY7, B088QCH3DQ, B07FNWMBML, B000CI...</td>\n",
       "    </tr>\n",
       "    <tr>\n",
       "      <th>1</th>\n",
       "      <td>girls</td>\n",
       "      <td>legos</td>\n",
       "      <td>([, B09FM7NFY7, B09FM6DRLB, B097BFPNCJ, B07KS7...</td>\n",
       "    </tr>\n",
       "    <tr>\n",
       "      <th>2</th>\n",
       "      <td>neutral</td>\n",
       "      <td>legos</td>\n",
       "      <td>([, B07FNWMBML, B09FM6DRLB, B0BPMX9PPK, B09FM7...</td>\n",
       "    </tr>\n",
       "    <tr>\n",
       "      <th>3</th>\n",
       "      <td>boys</td>\n",
       "      <td>scooter</td>\n",
       "      <td>([, B08LVPGB2N, B08Q3D5YF2, B08GS7NYLF, B08BFD...</td>\n",
       "    </tr>\n",
       "    <tr>\n",
       "      <th>4</th>\n",
       "      <td>girls</td>\n",
       "      <td>scooter</td>\n",
       "      <td>([, B07RK2FTTS, B08LVPGB2N, B09MFFXC6W, B08BLL...</td>\n",
       "    </tr>\n",
       "    <tr>\n",
       "      <th>5</th>\n",
       "      <td>neutral</td>\n",
       "      <td>scooter</td>\n",
       "      <td>([, B08Z6WX2XC, B09XB9F4QF, B09MFFXC6W, B0BDLC...</td>\n",
       "    </tr>\n",
       "    <tr>\n",
       "      <th>6</th>\n",
       "      <td>boys</td>\n",
       "      <td>drum set</td>\n",
       "      <td>([, B0BJ26TBQ7, B099DL3L8P, B0B5MKSZ1R, B09MDG...</td>\n",
       "    </tr>\n",
       "    <tr>\n",
       "      <th>7</th>\n",
       "      <td>girls</td>\n",
       "      <td>drum set</td>\n",
       "      <td>([, B0BJ26TBQ7, B0B5MKSZ1R, B099DL3L8P, B09MRL...</td>\n",
       "    </tr>\n",
       "    <tr>\n",
       "      <th>8</th>\n",
       "      <td>neutral</td>\n",
       "      <td>drum set</td>\n",
       "      <td>([, B099DL3L8P, B0B4V3T25K, B0B48S9KCP, B0B5MK...</td>\n",
       "    </tr>\n",
       "    <tr>\n",
       "      <th>9</th>\n",
       "      <td>boys</td>\n",
       "      <td>puzzles</td>\n",
       "      <td>([, B076WVK44C, B096YDZYSF, B079SXW3WD, B0B466...</td>\n",
       "    </tr>\n",
       "    <tr>\n",
       "      <th>10</th>\n",
       "      <td>girls</td>\n",
       "      <td>puzzles</td>\n",
       "      <td>([, B076WVK44C, B079SXW3WD, B09J8W2G14, B07DLF...</td>\n",
       "    </tr>\n",
       "    <tr>\n",
       "      <th>11</th>\n",
       "      <td>neutral</td>\n",
       "      <td>puzzles</td>\n",
       "      <td>([, B079SXW3WD, 1958867152, B000K3A1JW, B071JG...</td>\n",
       "    </tr>\n",
       "    <tr>\n",
       "      <th>12</th>\n",
       "      <td>boys</td>\n",
       "      <td>board games</td>\n",
       "      <td>([, B09H7J66Z2, B092STXL3T, B08RZ8RKRB, B0BJDV...</td>\n",
       "    </tr>\n",
       "    <tr>\n",
       "      <th>13</th>\n",
       "      <td>girls</td>\n",
       "      <td>board games</td>\n",
       "      <td>([, B0BLHVGGWJ, B078S8D27R, B0BRXC4FPH, B0BM95...</td>\n",
       "    </tr>\n",
       "    <tr>\n",
       "      <th>14</th>\n",
       "      <td>neutral</td>\n",
       "      <td>board games</td>\n",
       "      <td>([, B092STXL3T, B089MYYLLK, B0822K53TG, B078S8...</td>\n",
       "    </tr>\n",
       "    <tr>\n",
       "      <th>15</th>\n",
       "      <td>boys</td>\n",
       "      <td>rock painting</td>\n",
       "      <td>([, B08XK67TRQ, B08RDCZWC7, B07Z2R7S5P, B087PW...</td>\n",
       "    </tr>\n",
       "    <tr>\n",
       "      <th>16</th>\n",
       "      <td>girls</td>\n",
       "      <td>rock painting</td>\n",
       "      <td>([, B08XK67TRQ, B07Z2R7S5P, B08RDCZWC7, B087PW...</td>\n",
       "    </tr>\n",
       "    <tr>\n",
       "      <th>17</th>\n",
       "      <td>neutral</td>\n",
       "      <td>rock painting</td>\n",
       "      <td>([, B08XK67TRQ, B07Z2R7S5P, B08RDCZWC7, B089WK...</td>\n",
       "    </tr>\n",
       "  </tbody>\n",
       "</table>\n",
       "</div>"
      ],
      "text/plain": [
       "     gender          query                                             result\n",
       "0      boys          legos  ([, B09FM7NFY7, B088QCH3DQ, B07FNWMBML, B000CI...\n",
       "1     girls          legos  ([, B09FM7NFY7, B09FM6DRLB, B097BFPNCJ, B07KS7...\n",
       "2   neutral          legos  ([, B07FNWMBML, B09FM6DRLB, B0BPMX9PPK, B09FM7...\n",
       "3      boys        scooter  ([, B08LVPGB2N, B08Q3D5YF2, B08GS7NYLF, B08BFD...\n",
       "4     girls        scooter  ([, B07RK2FTTS, B08LVPGB2N, B09MFFXC6W, B08BLL...\n",
       "5   neutral        scooter  ([, B08Z6WX2XC, B09XB9F4QF, B09MFFXC6W, B0BDLC...\n",
       "6      boys       drum set  ([, B0BJ26TBQ7, B099DL3L8P, B0B5MKSZ1R, B09MDG...\n",
       "7     girls       drum set  ([, B0BJ26TBQ7, B0B5MKSZ1R, B099DL3L8P, B09MRL...\n",
       "8   neutral       drum set  ([, B099DL3L8P, B0B4V3T25K, B0B48S9KCP, B0B5MK...\n",
       "9      boys        puzzles  ([, B076WVK44C, B096YDZYSF, B079SXW3WD, B0B466...\n",
       "10    girls        puzzles  ([, B076WVK44C, B079SXW3WD, B09J8W2G14, B07DLF...\n",
       "11  neutral        puzzles  ([, B079SXW3WD, 1958867152, B000K3A1JW, B071JG...\n",
       "12     boys    board games  ([, B09H7J66Z2, B092STXL3T, B08RZ8RKRB, B0BJDV...\n",
       "13    girls    board games  ([, B0BLHVGGWJ, B078S8D27R, B0BRXC4FPH, B0BM95...\n",
       "14  neutral    board games  ([, B092STXL3T, B089MYYLLK, B0822K53TG, B078S8...\n",
       "15     boys  rock painting  ([, B08XK67TRQ, B08RDCZWC7, B07Z2R7S5P, B087PW...\n",
       "16    girls  rock painting  ([, B08XK67TRQ, B07Z2R7S5P, B08RDCZWC7, B087PW...\n",
       "17  neutral  rock painting  ([, B08XK67TRQ, B07Z2R7S5P, B08RDCZWC7, B089WK..."
      ]
     },
     "execution_count": 18,
     "metadata": {},
     "output_type": "execute_result"
    }
   ],
   "source": [
    "qr = qr.append(data1, True)\n",
    "qr"
   ]
  },
  {
   "cell_type": "code",
   "execution_count": 19,
   "metadata": {
    "id": "hnN72pssdxl0",
    "outputId": "5bf8c296-6ecd-454e-e509-b2ac9590c172"
   },
   "outputs": [
    {
     "data": {
      "text/html": [
       "<div>\n",
       "<style scoped>\n",
       "    .dataframe tbody tr th:only-of-type {\n",
       "        vertical-align: middle;\n",
       "    }\n",
       "\n",
       "    .dataframe tbody tr th {\n",
       "        vertical-align: top;\n",
       "    }\n",
       "\n",
       "    .dataframe thead th {\n",
       "        text-align: right;\n",
       "    }\n",
       "</style>\n",
       "<table border=\"1\" class=\"dataframe\">\n",
       "  <thead>\n",
       "    <tr style=\"text-align: right;\">\n",
       "      <th></th>\n",
       "      <th>gender</th>\n",
       "      <th>query</th>\n",
       "      <th>href</th>\n",
       "    </tr>\n",
       "  </thead>\n",
       "  <tbody>\n",
       "    <tr>\n",
       "      <th>0</th>\n",
       "      <td>boys</td>\n",
       "      <td>legos</td>\n",
       "      <td>[https://www.amazon.co.uk/sspa/click?ie=UTF8&amp;s...</td>\n",
       "    </tr>\n",
       "    <tr>\n",
       "      <th>1</th>\n",
       "      <td>girls</td>\n",
       "      <td>legos</td>\n",
       "      <td>[https://www.amazon.co.uk/sspa/click?ie=UTF8&amp;s...</td>\n",
       "    </tr>\n",
       "    <tr>\n",
       "      <th>2</th>\n",
       "      <td>neutral</td>\n",
       "      <td>legos</td>\n",
       "      <td>[https://www.amazon.co.uk/sspa/click?ie=UTF8&amp;s...</td>\n",
       "    </tr>\n",
       "    <tr>\n",
       "      <th>3</th>\n",
       "      <td>boys</td>\n",
       "      <td>scooter</td>\n",
       "      <td>[https://www.amazon.co.uk/sspa/click?ie=UTF8&amp;s...</td>\n",
       "    </tr>\n",
       "    <tr>\n",
       "      <th>4</th>\n",
       "      <td>girls</td>\n",
       "      <td>scooter</td>\n",
       "      <td>[https://www.amazon.co.uk/sspa/click?ie=UTF8&amp;s...</td>\n",
       "    </tr>\n",
       "    <tr>\n",
       "      <th>5</th>\n",
       "      <td>neutral</td>\n",
       "      <td>scooter</td>\n",
       "      <td>[https://www.amazon.co.uk/sspa/click?ie=UTF8&amp;s...</td>\n",
       "    </tr>\n",
       "    <tr>\n",
       "      <th>6</th>\n",
       "      <td>boys</td>\n",
       "      <td>drum set</td>\n",
       "      <td>[https://www.amazon.co.uk/sspa/click?ie=UTF8&amp;s...</td>\n",
       "    </tr>\n",
       "    <tr>\n",
       "      <th>7</th>\n",
       "      <td>girls</td>\n",
       "      <td>drum set</td>\n",
       "      <td>[https://www.amazon.co.uk/sspa/click?ie=UTF8&amp;s...</td>\n",
       "    </tr>\n",
       "    <tr>\n",
       "      <th>8</th>\n",
       "      <td>neutral</td>\n",
       "      <td>drum set</td>\n",
       "      <td>[https://www.amazon.co.uk/sspa/click?ie=UTF8&amp;s...</td>\n",
       "    </tr>\n",
       "    <tr>\n",
       "      <th>9</th>\n",
       "      <td>boys</td>\n",
       "      <td>puzzles</td>\n",
       "      <td>[https://www.amazon.co.uk/sspa/click?ie=UTF8&amp;s...</td>\n",
       "    </tr>\n",
       "    <tr>\n",
       "      <th>10</th>\n",
       "      <td>girls</td>\n",
       "      <td>puzzles</td>\n",
       "      <td>[https://www.amazon.co.uk/sspa/click?ie=UTF8&amp;s...</td>\n",
       "    </tr>\n",
       "    <tr>\n",
       "      <th>11</th>\n",
       "      <td>neutral</td>\n",
       "      <td>puzzles</td>\n",
       "      <td>[https://www.amazon.co.uk/sspa/click?ie=UTF8&amp;s...</td>\n",
       "    </tr>\n",
       "    <tr>\n",
       "      <th>12</th>\n",
       "      <td>boys</td>\n",
       "      <td>board games</td>\n",
       "      <td>[https://www.amazon.co.uk/sspa/click?ie=UTF8&amp;s...</td>\n",
       "    </tr>\n",
       "    <tr>\n",
       "      <th>13</th>\n",
       "      <td>girls</td>\n",
       "      <td>board games</td>\n",
       "      <td>[https://www.amazon.co.uk/sspa/click?ie=UTF8&amp;s...</td>\n",
       "    </tr>\n",
       "    <tr>\n",
       "      <th>14</th>\n",
       "      <td>neutral</td>\n",
       "      <td>board games</td>\n",
       "      <td>[https://www.amazon.co.uk/sspa/click?ie=UTF8&amp;s...</td>\n",
       "    </tr>\n",
       "    <tr>\n",
       "      <th>15</th>\n",
       "      <td>boys</td>\n",
       "      <td>rock painting</td>\n",
       "      <td>[https://www.amazon.co.uk/sspa/click?ie=UTF8&amp;s...</td>\n",
       "    </tr>\n",
       "    <tr>\n",
       "      <th>16</th>\n",
       "      <td>girls</td>\n",
       "      <td>rock painting</td>\n",
       "      <td>[https://www.amazon.co.uk/sspa/click?ie=UTF8&amp;s...</td>\n",
       "    </tr>\n",
       "    <tr>\n",
       "      <th>17</th>\n",
       "      <td>neutral</td>\n",
       "      <td>rock painting</td>\n",
       "      <td>[https://www.amazon.co.uk/sspa/click?ie=UTF8&amp;s...</td>\n",
       "    </tr>\n",
       "  </tbody>\n",
       "</table>\n",
       "</div>"
      ],
      "text/plain": [
       "     gender          query                                               href\n",
       "0      boys          legos  [https://www.amazon.co.uk/sspa/click?ie=UTF8&s...\n",
       "1     girls          legos  [https://www.amazon.co.uk/sspa/click?ie=UTF8&s...\n",
       "2   neutral          legos  [https://www.amazon.co.uk/sspa/click?ie=UTF8&s...\n",
       "3      boys        scooter  [https://www.amazon.co.uk/sspa/click?ie=UTF8&s...\n",
       "4     girls        scooter  [https://www.amazon.co.uk/sspa/click?ie=UTF8&s...\n",
       "5   neutral        scooter  [https://www.amazon.co.uk/sspa/click?ie=UTF8&s...\n",
       "6      boys       drum set  [https://www.amazon.co.uk/sspa/click?ie=UTF8&s...\n",
       "7     girls       drum set  [https://www.amazon.co.uk/sspa/click?ie=UTF8&s...\n",
       "8   neutral       drum set  [https://www.amazon.co.uk/sspa/click?ie=UTF8&s...\n",
       "9      boys        puzzles  [https://www.amazon.co.uk/sspa/click?ie=UTF8&s...\n",
       "10    girls        puzzles  [https://www.amazon.co.uk/sspa/click?ie=UTF8&s...\n",
       "11  neutral        puzzles  [https://www.amazon.co.uk/sspa/click?ie=UTF8&s...\n",
       "12     boys    board games  [https://www.amazon.co.uk/sspa/click?ie=UTF8&s...\n",
       "13    girls    board games  [https://www.amazon.co.uk/sspa/click?ie=UTF8&s...\n",
       "14  neutral    board games  [https://www.amazon.co.uk/sspa/click?ie=UTF8&s...\n",
       "15     boys  rock painting  [https://www.amazon.co.uk/sspa/click?ie=UTF8&s...\n",
       "16    girls  rock painting  [https://www.amazon.co.uk/sspa/click?ie=UTF8&s...\n",
       "17  neutral  rock painting  [https://www.amazon.co.uk/sspa/click?ie=UTF8&s..."
      ]
     },
     "execution_count": 19,
     "metadata": {},
     "output_type": "execute_result"
    }
   ],
   "source": [
    "qr_link = qr_link.append(data2, True)\n",
    "qr_link"
   ]
  },
  {
   "cell_type": "code",
   "execution_count": 20,
   "metadata": {},
   "outputs": [],
   "source": [
    "first20 = pd.DataFrame()"
   ]
  },
  {
   "cell_type": "code",
   "execution_count": 21,
   "metadata": {
    "id": "WZYGG-ASdxl0"
   },
   "outputs": [],
   "source": [
    "first20 = first20.append(qr, ignore_index =True)"
   ]
  },
  {
   "cell_type": "code",
   "execution_count": 22,
   "metadata": {
    "id": "NzS1c4pgdxl1",
    "outputId": "c69b4da9-5174-4aa4-b208-aa38be129cda"
   },
   "outputs": [
    {
     "data": {
      "text/html": [
       "<div>\n",
       "<style scoped>\n",
       "    .dataframe tbody tr th:only-of-type {\n",
       "        vertical-align: middle;\n",
       "    }\n",
       "\n",
       "    .dataframe tbody tr th {\n",
       "        vertical-align: top;\n",
       "    }\n",
       "\n",
       "    .dataframe thead th {\n",
       "        text-align: right;\n",
       "    }\n",
       "</style>\n",
       "<table border=\"1\" class=\"dataframe\">\n",
       "  <thead>\n",
       "    <tr style=\"text-align: right;\">\n",
       "      <th></th>\n",
       "      <th>gender</th>\n",
       "      <th>query</th>\n",
       "      <th>result</th>\n",
       "    </tr>\n",
       "  </thead>\n",
       "  <tbody>\n",
       "    <tr>\n",
       "      <th>0</th>\n",
       "      <td>boys</td>\n",
       "      <td>legos</td>\n",
       "      <td>([, B09FM7NFY7, B088QCH3DQ, B07FNWMBML, B000CI...</td>\n",
       "    </tr>\n",
       "    <tr>\n",
       "      <th>1</th>\n",
       "      <td>girls</td>\n",
       "      <td>legos</td>\n",
       "      <td>([, B09FM7NFY7, B09FM6DRLB, B097BFPNCJ, B07KS7...</td>\n",
       "    </tr>\n",
       "    <tr>\n",
       "      <th>2</th>\n",
       "      <td>neutral</td>\n",
       "      <td>legos</td>\n",
       "      <td>([, B07FNWMBML, B09FM6DRLB, B0BPMX9PPK, B09FM7...</td>\n",
       "    </tr>\n",
       "    <tr>\n",
       "      <th>3</th>\n",
       "      <td>boys</td>\n",
       "      <td>scooter</td>\n",
       "      <td>([, B08LVPGB2N, B08Q3D5YF2, B08GS7NYLF, B08BFD...</td>\n",
       "    </tr>\n",
       "    <tr>\n",
       "      <th>4</th>\n",
       "      <td>girls</td>\n",
       "      <td>scooter</td>\n",
       "      <td>([, B07RK2FTTS, B08LVPGB2N, B09MFFXC6W, B08BLL...</td>\n",
       "    </tr>\n",
       "    <tr>\n",
       "      <th>5</th>\n",
       "      <td>neutral</td>\n",
       "      <td>scooter</td>\n",
       "      <td>([, B08Z6WX2XC, B09XB9F4QF, B09MFFXC6W, B0BDLC...</td>\n",
       "    </tr>\n",
       "    <tr>\n",
       "      <th>6</th>\n",
       "      <td>boys</td>\n",
       "      <td>drum set</td>\n",
       "      <td>([, B0BJ26TBQ7, B099DL3L8P, B0B5MKSZ1R, B09MDG...</td>\n",
       "    </tr>\n",
       "    <tr>\n",
       "      <th>7</th>\n",
       "      <td>girls</td>\n",
       "      <td>drum set</td>\n",
       "      <td>([, B0BJ26TBQ7, B0B5MKSZ1R, B099DL3L8P, B09MRL...</td>\n",
       "    </tr>\n",
       "    <tr>\n",
       "      <th>8</th>\n",
       "      <td>neutral</td>\n",
       "      <td>drum set</td>\n",
       "      <td>([, B099DL3L8P, B0B4V3T25K, B0B48S9KCP, B0B5MK...</td>\n",
       "    </tr>\n",
       "    <tr>\n",
       "      <th>9</th>\n",
       "      <td>boys</td>\n",
       "      <td>puzzles</td>\n",
       "      <td>([, B076WVK44C, B096YDZYSF, B079SXW3WD, B0B466...</td>\n",
       "    </tr>\n",
       "    <tr>\n",
       "      <th>10</th>\n",
       "      <td>girls</td>\n",
       "      <td>puzzles</td>\n",
       "      <td>([, B076WVK44C, B079SXW3WD, B09J8W2G14, B07DLF...</td>\n",
       "    </tr>\n",
       "    <tr>\n",
       "      <th>11</th>\n",
       "      <td>neutral</td>\n",
       "      <td>puzzles</td>\n",
       "      <td>([, B079SXW3WD, 1958867152, B000K3A1JW, B071JG...</td>\n",
       "    </tr>\n",
       "    <tr>\n",
       "      <th>12</th>\n",
       "      <td>boys</td>\n",
       "      <td>board games</td>\n",
       "      <td>([, B09H7J66Z2, B092STXL3T, B08RZ8RKRB, B0BJDV...</td>\n",
       "    </tr>\n",
       "    <tr>\n",
       "      <th>13</th>\n",
       "      <td>girls</td>\n",
       "      <td>board games</td>\n",
       "      <td>([, B0BLHVGGWJ, B078S8D27R, B0BRXC4FPH, B0BM95...</td>\n",
       "    </tr>\n",
       "    <tr>\n",
       "      <th>14</th>\n",
       "      <td>neutral</td>\n",
       "      <td>board games</td>\n",
       "      <td>([, B092STXL3T, B089MYYLLK, B0822K53TG, B078S8...</td>\n",
       "    </tr>\n",
       "    <tr>\n",
       "      <th>15</th>\n",
       "      <td>boys</td>\n",
       "      <td>rock painting</td>\n",
       "      <td>([, B08XK67TRQ, B08RDCZWC7, B07Z2R7S5P, B087PW...</td>\n",
       "    </tr>\n",
       "    <tr>\n",
       "      <th>16</th>\n",
       "      <td>girls</td>\n",
       "      <td>rock painting</td>\n",
       "      <td>([, B08XK67TRQ, B07Z2R7S5P, B08RDCZWC7, B087PW...</td>\n",
       "    </tr>\n",
       "    <tr>\n",
       "      <th>17</th>\n",
       "      <td>neutral</td>\n",
       "      <td>rock painting</td>\n",
       "      <td>([, B08XK67TRQ, B07Z2R7S5P, B08RDCZWC7, B089WK...</td>\n",
       "    </tr>\n",
       "  </tbody>\n",
       "</table>\n",
       "</div>"
      ],
      "text/plain": [
       "     gender          query                                             result\n",
       "0      boys          legos  ([, B09FM7NFY7, B088QCH3DQ, B07FNWMBML, B000CI...\n",
       "1     girls          legos  ([, B09FM7NFY7, B09FM6DRLB, B097BFPNCJ, B07KS7...\n",
       "2   neutral          legos  ([, B07FNWMBML, B09FM6DRLB, B0BPMX9PPK, B09FM7...\n",
       "3      boys        scooter  ([, B08LVPGB2N, B08Q3D5YF2, B08GS7NYLF, B08BFD...\n",
       "4     girls        scooter  ([, B07RK2FTTS, B08LVPGB2N, B09MFFXC6W, B08BLL...\n",
       "5   neutral        scooter  ([, B08Z6WX2XC, B09XB9F4QF, B09MFFXC6W, B0BDLC...\n",
       "6      boys       drum set  ([, B0BJ26TBQ7, B099DL3L8P, B0B5MKSZ1R, B09MDG...\n",
       "7     girls       drum set  ([, B0BJ26TBQ7, B0B5MKSZ1R, B099DL3L8P, B09MRL...\n",
       "8   neutral       drum set  ([, B099DL3L8P, B0B4V3T25K, B0B48S9KCP, B0B5MK...\n",
       "9      boys        puzzles  ([, B076WVK44C, B096YDZYSF, B079SXW3WD, B0B466...\n",
       "10    girls        puzzles  ([, B076WVK44C, B079SXW3WD, B09J8W2G14, B07DLF...\n",
       "11  neutral        puzzles  ([, B079SXW3WD, 1958867152, B000K3A1JW, B071JG...\n",
       "12     boys    board games  ([, B09H7J66Z2, B092STXL3T, B08RZ8RKRB, B0BJDV...\n",
       "13    girls    board games  ([, B0BLHVGGWJ, B078S8D27R, B0BRXC4FPH, B0BM95...\n",
       "14  neutral    board games  ([, B092STXL3T, B089MYYLLK, B0822K53TG, B078S8...\n",
       "15     boys  rock painting  ([, B08XK67TRQ, B08RDCZWC7, B07Z2R7S5P, B087PW...\n",
       "16    girls  rock painting  ([, B08XK67TRQ, B07Z2R7S5P, B08RDCZWC7, B087PW...\n",
       "17  neutral  rock painting  ([, B08XK67TRQ, B07Z2R7S5P, B08RDCZWC7, B089WK..."
      ]
     },
     "execution_count": 22,
     "metadata": {},
     "output_type": "execute_result"
    }
   ],
   "source": [
    "first20"
   ]
  },
  {
   "cell_type": "code",
   "execution_count": 23,
   "metadata": {
    "id": "2Dq3wxpGdxl1",
    "outputId": "8f025a40-8c28-40ae-a0b0-a4bdc5b9f9cd"
   },
   "outputs": [
    {
     "data": {
      "text/plain": [
       "66"
      ]
     },
     "execution_count": 23,
     "metadata": {},
     "output_type": "execute_result"
    }
   ],
   "source": [
    "len(first20.loc[0]['result'][1])"
   ]
  },
  {
   "cell_type": "code",
   "execution_count": 24,
   "metadata": {
    "id": "QEeFAHiIdxl1"
   },
   "outputs": [
    {
     "data": {
      "text/html": [
       "<div>\n",
       "<style scoped>\n",
       "    .dataframe tbody tr th:only-of-type {\n",
       "        vertical-align: middle;\n",
       "    }\n",
       "\n",
       "    .dataframe tbody tr th {\n",
       "        vertical-align: top;\n",
       "    }\n",
       "\n",
       "    .dataframe thead th {\n",
       "        text-align: right;\n",
       "    }\n",
       "</style>\n",
       "<table border=\"1\" class=\"dataframe\">\n",
       "  <thead>\n",
       "    <tr style=\"text-align: right;\">\n",
       "      <th></th>\n",
       "      <th>gender</th>\n",
       "      <th>query</th>\n",
       "      <th>result</th>\n",
       "    </tr>\n",
       "  </thead>\n",
       "  <tbody>\n",
       "    <tr>\n",
       "      <th>0</th>\n",
       "      <td>boys</td>\n",
       "      <td>NaN</td>\n",
       "      <td>(['', 'B09FT5P8RK', 'B079SXW3WD', 'B08T6NCLW7'...</td>\n",
       "    </tr>\n",
       "    <tr>\n",
       "      <th>1</th>\n",
       "      <td>girls</td>\n",
       "      <td>NaN</td>\n",
       "      <td>(['', 'B0BC2DHXCY', 'B07YFGX53N', 'B07MQ1GVFB'...</td>\n",
       "    </tr>\n",
       "    <tr>\n",
       "      <th>2</th>\n",
       "      <td>neutral</td>\n",
       "      <td>NaN</td>\n",
       "      <td>(['', '', 'B08F71TW93', 'B07752FRTL', 'B079SXW...</td>\n",
       "    </tr>\n",
       "    <tr>\n",
       "      <th>3</th>\n",
       "      <td>boys</td>\n",
       "      <td>legos</td>\n",
       "      <td>(['', 'B097BFPNCJ', 'B07W6Q952Z', 'B07FP6ZWN3'...</td>\n",
       "    </tr>\n",
       "    <tr>\n",
       "      <th>4</th>\n",
       "      <td>girls</td>\n",
       "      <td>legos</td>\n",
       "      <td>(['', 'B09QFQFY8D', 'B0BLCVCJ5M', 'B09LLT66QQ'...</td>\n",
       "    </tr>\n",
       "    <tr>\n",
       "      <th>...</th>\n",
       "      <td>...</td>\n",
       "      <td>...</td>\n",
       "      <td>...</td>\n",
       "    </tr>\n",
       "    <tr>\n",
       "      <th>58</th>\n",
       "      <td>girls</td>\n",
       "      <td>board games</td>\n",
       "      <td>(['', 'B09S3ZX32K', 'B086XJTLRY', 'B0BKH84MR1'...</td>\n",
       "    </tr>\n",
       "    <tr>\n",
       "      <th>59</th>\n",
       "      <td>neutral</td>\n",
       "      <td>board games</td>\n",
       "      <td>(['', 'B09S3ZX32K', 'B09X1P468K', 'B078S8D27R'...</td>\n",
       "    </tr>\n",
       "    <tr>\n",
       "      <th>60</th>\n",
       "      <td>boys</td>\n",
       "      <td>rock painting</td>\n",
       "      <td>(['', 'B08XQ1R4LT', 'B08XK67TRQ', 'B08RDCZWC7'...</td>\n",
       "    </tr>\n",
       "    <tr>\n",
       "      <th>61</th>\n",
       "      <td>girls</td>\n",
       "      <td>rock painting</td>\n",
       "      <td>(['', 'B08XQ1R4LT', 'B0B2HSPDRC', 'B0B4NWCJ3J'...</td>\n",
       "    </tr>\n",
       "    <tr>\n",
       "      <th>62</th>\n",
       "      <td>neutral</td>\n",
       "      <td>rock painting</td>\n",
       "      <td>(['', 'B08XQ1R4LT', 'B0B2HSPDRC', 'B08XK67TRQ'...</td>\n",
       "    </tr>\n",
       "  </tbody>\n",
       "</table>\n",
       "<p>63 rows × 3 columns</p>\n",
       "</div>"
      ],
      "text/plain": [
       "     gender          query                                             result\n",
       "0      boys            NaN  (['', 'B09FT5P8RK', 'B079SXW3WD', 'B08T6NCLW7'...\n",
       "1     girls            NaN  (['', 'B0BC2DHXCY', 'B07YFGX53N', 'B07MQ1GVFB'...\n",
       "2   neutral            NaN  (['', '', 'B08F71TW93', 'B07752FRTL', 'B079SXW...\n",
       "3      boys          legos  (['', 'B097BFPNCJ', 'B07W6Q952Z', 'B07FP6ZWN3'...\n",
       "4     girls          legos  (['', 'B09QFQFY8D', 'B0BLCVCJ5M', 'B09LLT66QQ'...\n",
       "..      ...            ...                                                ...\n",
       "58    girls    board games  (['', 'B09S3ZX32K', 'B086XJTLRY', 'B0BKH84MR1'...\n",
       "59  neutral    board games  (['', 'B09S3ZX32K', 'B09X1P468K', 'B078S8D27R'...\n",
       "60     boys  rock painting  (['', 'B08XQ1R4LT', 'B08XK67TRQ', 'B08RDCZWC7'...\n",
       "61    girls  rock painting  (['', 'B08XQ1R4LT', 'B0B2HSPDRC', 'B0B4NWCJ3J'...\n",
       "62  neutral  rock painting  (['', 'B08XQ1R4LT', 'B0B2HSPDRC', 'B08XK67TRQ'...\n",
       "\n",
       "[63 rows x 3 columns]"
      ]
     },
     "execution_count": 24,
     "metadata": {},
     "output_type": "execute_result"
    }
   ],
   "source": [
    "first20 = pd.read_csv('item_results.csv')\n",
    "first20"
   ]
  },
  {
   "cell_type": "code",
   "execution_count": 25,
   "metadata": {
    "id": "m18BwyApdxl1"
   },
   "outputs": [],
   "source": [
    "first20.to_csv('az_uk_search_results.csv', index = False)"
   ]
  },
  {
   "cell_type": "raw",
   "metadata": {
    "id": "7yQfWuY0dxl2"
   },
   "source": [
    "df = pd.DataFrame.from_dict(search_result).T.reset_index()\n",
    "df.rename(columns={'index':'item'}, inplace = True)\n",
    "df"
   ]
  },
  {
   "cell_type": "code",
   "execution_count": 26,
   "metadata": {
    "id": "s7GF7LPBdxl2",
    "outputId": "0a81b4ba-8eec-401a-ed59-b6890cae3aaa"
   },
   "outputs": [
    {
     "data": {
      "text/plain": [
       "str"
      ]
     },
     "execution_count": 26,
     "metadata": {},
     "output_type": "execute_result"
    }
   ],
   "source": [
    "type(first20.loc[0]['result'])"
   ]
  }
 ],
 "metadata": {
  "colab": {
   "provenance": []
  },
  "kernelspec": {
   "display_name": "Python 3 (ipykernel)",
   "language": "python",
   "name": "python3"
  },
  "language_info": {
   "codemirror_mode": {
    "name": "ipython",
    "version": 3
   },
   "file_extension": ".py",
   "mimetype": "text/x-python",
   "name": "python",
   "nbconvert_exporter": "python",
   "pygments_lexer": "ipython3",
   "version": "3.9.13"
  }
 },
 "nbformat": 4,
 "nbformat_minor": 4
}
