{
 "cells": [
  {
   "cell_type": "markdown",
   "metadata": {},
   "source": [
    "# Argos Query Suggestions"
   ]
  },
  {
   "cell_type": "markdown",
   "metadata": {},
   "source": [
    "## Installations"
   ]
  },
  {
   "cell_type": "markdown",
   "metadata": {},
   "source": [
    "Importing all necessary modules to run this notebook. Ensure fake-useragent has been installed prior to running this notebook."
   ]
  },
  {
   "cell_type": "code",
   "execution_count": null,
   "metadata": {
    "executionInfo": {
     "elapsed": 4,
     "status": "ok",
     "timestamp": 1673551987533,
     "user": {
      "displayName": "Kate Gould",
      "userId": "05910585260938437266"
     },
     "user_tz": 300
    },
    "id": "65gQ9veZrK5Z"
   },
   "outputs": [],
   "source": [
    "import pandas as pd\n",
    "import numpy as np\n",
    "import requests\n",
    "import json\n",
    "import time\n",
    "import warnings\n",
    "import matplotlib.pyplot as plt\n",
    "import seaborn"
   ]
  },
  {
   "cell_type": "code",
   "execution_count": null,
   "metadata": {},
   "outputs": [],
   "source": [
    "from fake_useragent import UserAgent"
   ]
  },
  {
   "cell_type": "markdown",
   "metadata": {},
   "source": [
    "## UserAgent"
   ]
  },
  {
   "cell_type": "markdown",
   "metadata": {},
   "source": [
    "Initializing all necessary variables before creating URL for scraping."
   ]
  },
  {
   "cell_type": "code",
   "execution_count": null,
   "metadata": {},
   "outputs": [],
   "source": [
    "ua = UserAgent()\n",
    "headers = {'User-Agent': 'Mozilla/5.0 (Macintosh; Intel Mac OS X 10_15_7) AppleWebKit/537.36 (KHTML, like Gecko) Chrome/109.0.0.0 Safari/537.36'}"
   ]
  },
  {
   "cell_type": "markdown",
   "metadata": {
    "id": "69nkD2oRrK5o"
   },
   "source": [
    "## Loading List of Toys Collected from Previous Research"
   ]
  },
  {
   "cell_type": "markdown",
   "metadata": {},
   "source": [
    "all_items.txt contains a list of strings, where each string represents a toy that will be searched on Amazon UK. This text file contains 166 rows."
   ]
  },
  {
   "cell_type": "code",
   "execution_count": null,
   "metadata": {
    "colab": {
     "base_uri": "https://localhost:8080/",
     "height": 188
    },
    "executionInfo": {
     "elapsed": 7,
     "status": "error",
     "timestamp": 1673551996475,
     "user": {
      "displayName": "Kate Gould",
      "userId": "05910585260938437266"
     },
     "user_tz": 300
    },
    "id": "jUPwZ4dkrK6V",
    "outputId": "cef9c600-3886-468e-beec-c59156a8e06f"
   },
   "outputs": [],
   "source": [
    "with open('../predoc_info/all_items.txt') as f:\n",
    "    contents = f.read().splitlines()"
   ]
  },
  {
   "cell_type": "markdown",
   "metadata": {
    "id": "T9caSoUsrK6Z"
   },
   "source": [
    "## Loading Pre-Documented Gender Stereotyped Toys"
   ]
  },
  {
   "cell_type": "markdown",
   "metadata": {},
   "source": [
    "Taking in predoc_stereotyped_items.csv, a CSV file containing 72 rows."
   ]
  },
  {
   "cell_type": "code",
   "execution_count": null,
   "metadata": {
    "id": "c78_SFFxrK6a",
    "outputId": "77e37d16-614a-42d6-ba31-e9d5ce3f4ea8"
   },
   "outputs": [],
   "source": [
    "stereo_toys = pd.read_csv('../predoc_info/predoc_stereotyped_items.csv', delimiter =',')\n",
    "stereo_toys[:10]"
   ]
  },
  {
   "cell_type": "markdown",
   "metadata": {
    "id": "Rpk2koDnrK6f"
   },
   "source": [
    "## Exploratory Data Analysis"
   ]
  },
  {
   "cell_type": "markdown",
   "metadata": {},
   "source": [
    "### Dataset Statistics"
   ]
  },
  {
   "cell_type": "markdown",
   "metadata": {},
   "source": [
    "Analyzing toys with respect to their pre-documented gender stereotype."
   ]
  },
  {
   "cell_type": "code",
   "execution_count": null,
   "metadata": {
    "id": "Bfh7xZoNrK6g",
    "outputId": "67005328-29fa-4c9e-aa01-3b7ffe091369"
   },
   "outputs": [],
   "source": [
    "boy_toys = stereo_toys['BOY'].dropna().unique().tolist()\n",
    "girl_toys = stereo_toys['GIRL'].dropna().unique().tolist()\n",
    "neutral_toys = stereo_toys['NEUTRAL'].dropna().unique().tolist()\n",
    "\n",
    "print(\"stereotypical boy toys: \", len(boy_toys), \n",
    "      \" stereotypical girl toys: \", len(girl_toys), \n",
    "      \" stereotypically gender neutral toys: \", len(neutral_toys))"
   ]
  },
  {
   "cell_type": "markdown",
   "metadata": {},
   "source": [
    "Visualizing item gender distribution."
   ]
  },
  {
   "cell_type": "code",
   "execution_count": null,
   "metadata": {},
   "outputs": [],
   "source": [
    "data = [len(boy_toys), len(girl_toys), len(neutral_toys)]\n",
    "keys = ['Boys', 'Girls', 'Neutral']\n",
    "  \n",
    "# define Seaborn color palette to use\n",
    "palette_color = seaborn.color_palette('bright')\n",
    "  \n",
    "# plotting data on chart\n",
    "plt.pie(data, labels=keys, colors=palette_color, autopct='%.0f%%')\n",
    "  \n",
    "# displaying chart\n",
    "plt.title('Percentage of Pre-documented Gendered Toys')\n",
    "plt.show()"
   ]
  },
  {
   "cell_type": "markdown",
   "metadata": {},
   "source": [
    "This pie chart visualizes the percentage of toys assigned to genders. Boys have the highest percentage, with girls being second and neutral the last."
   ]
  },
  {
   "cell_type": "markdown",
   "metadata": {
    "id": "b-bXbFnIrK6k"
   },
   "source": [
    "## Preparing the data for query"
   ]
  },
  {
   "cell_type": "markdown",
   "metadata": {
    "id": "E89T78gbrK6l"
   },
   "source": [
    "### Adding \"for\""
   ]
  },
  {
   "cell_type": "markdown",
   "metadata": {},
   "source": [
    "The following code adds \"for\" on to the query."
   ]
  },
  {
   "cell_type": "code",
   "execution_count": null,
   "metadata": {
    "id": "vheiNobHrK6n",
    "outputId": "7a611450-c57f-4b4a-8e42-2f8102b8e22e"
   },
   "outputs": [],
   "source": [
    "search_terms = []\n",
    "for x in contents:\n",
    "    search_terms.append((x, x+' for'))\n",
    "search_terms[:5]"
   ]
  },
  {
   "cell_type": "markdown",
   "metadata": {
    "id": "2cUiROYyrK6p"
   },
   "source": [
    "## Scraping Functions"
   ]
  },
  {
   "cell_type": "markdown",
   "metadata": {
    "id": "ixqQWo4erK6w"
   },
   "source": [
    "### Argos Scrape Function"
   ]
  },
  {
   "cell_type": "markdown",
   "metadata": {},
   "source": [
    "The following functions take the inputted query and place it into the URL. The URL then creates the data that is scraped using argos_auto()."
   ]
  },
  {
   "cell_type": "code",
   "execution_count": null,
   "metadata": {
    "id": "TeQHIWsTrK6y"
   },
   "outputs": [],
   "source": [
    "def argos_scrape(query):\n",
    "    url = f'https://www.argos.co.uk/suggest?term={query}%20f&fuzziness=true&size=5&includeFaq=true'\n",
    "    response = requests.get(url, headers=headers, verify=False).json()\n",
    "    return response"
   ]
  },
  {
   "cell_type": "code",
   "execution_count": null,
   "metadata": {
    "id": "QzDAuYeBrK7E"
   },
   "outputs": [],
   "source": [
    "def argos_auto(item):\n",
    "    res = argos_scrape(item)\n",
    "    suggestions = res['autoSuggest']['keywords']\n",
    "    results = []\n",
    "    for s in suggestions:\n",
    "        results.append(s['value'])\n",
    "    return results"
   ]
  },
  {
   "cell_type": "markdown",
   "metadata": {},
   "source": [
    "## Database Initialization"
   ]
  },
  {
   "cell_type": "markdown",
   "metadata": {},
   "source": [
    "Initializing databases to store scraped data."
   ]
  },
  {
   "cell_type": "code",
   "execution_count": null,
   "metadata": {
    "id": "4Mw6WgLGrK7J",
    "outputId": "b972fe58-255b-42ca-be1f-f008224bcad1"
   },
   "outputs": [],
   "source": [
    "columns = ['platform', 'item', 'suggestions']\n",
    "df = pd.DataFrame(columns = columns)"
   ]
  },
  {
   "cell_type": "markdown",
   "metadata": {
    "id": "3qu9oCwkrK7I"
   },
   "source": [
    "## Running Queries"
   ]
  },
  {
   "cell_type": "markdown",
   "metadata": {},
   "source": [
    "This code is used to scrape all relevant data from the toys included in search_terms. If needed, one can use 'Trial Run' to check if the code is working properly instead of iterating through the entirety of search_terms."
   ]
  },
  {
   "cell_type": "markdown",
   "metadata": {},
   "source": [
    "#### Trial Run"
   ]
  },
  {
   "cell_type": "code",
   "execution_count": null,
   "metadata": {},
   "outputs": [],
   "source": [
    "trial = search_terms[:5]\n",
    "\n",
    "warnings.filterwarnings('ignore')\n",
    "platform = 'Argos'\n",
    "trial_data = []\n",
    "for item, q in trial:\n",
    "    result = argos_auto(q)\n",
    "    values = [platform, item, result]\n",
    "    zipped = zip(columns, values)\n",
    "    a_dictionary = dict(zipped)\n",
    "    time.sleep(1.5)\n",
    "    trial_data.append(a_dictionary)"
   ]
  },
  {
   "cell_type": "code",
   "execution_count": null,
   "metadata": {},
   "outputs": [],
   "source": [
    "trial_data"
   ]
  },
  {
   "cell_type": "markdown",
   "metadata": {},
   "source": [
    "#### Full Run"
   ]
  },
  {
   "cell_type": "code",
   "execution_count": null,
   "metadata": {},
   "outputs": [],
   "source": [
    "warnings.filterwarnings('ignore')\n",
    "platform = 'Argos'\n",
    "data = []\n",
    "for item, q in search_terms:\n",
    "    result = argos_auto(q)\n",
    "    values = [platform, item, result]\n",
    "    zipped = zip(columns, values)\n",
    "    a_dictionary = dict(zipped)\n",
    "    time.sleep(1.5)\n",
    "    data.append(a_dictionary)"
   ]
  },
  {
   "cell_type": "code",
   "execution_count": null,
   "metadata": {
    "id": "HePm6xn-rK7P",
    "outputId": "4ad8c767-8b50-4003-9d6a-dad8b28decb0"
   },
   "outputs": [],
   "source": [
    "data[0]"
   ]
  },
  {
   "cell_type": "markdown",
   "metadata": {},
   "source": [
    "Appending suggestion data to previously initialized dataframe."
   ]
  },
  {
   "cell_type": "code",
   "execution_count": null,
   "metadata": {
    "id": "YI6nkF5FrK7Q",
    "outputId": "bd6200da-c5ed-4094-bb5b-6f8bfe93f241"
   },
   "outputs": [],
   "source": [
    "df = df.append(data, True)\n",
    "df"
   ]
  },
  {
   "cell_type": "markdown",
   "metadata": {},
   "source": [
    "Export data to CSV file."
   ]
  },
  {
   "cell_type": "code",
   "execution_count": null,
   "metadata": {
    "id": "lwr2RjjFrK7R"
   },
   "outputs": [],
   "source": [
    "df.to_csv('argos_query_suggestions.csv', index = False)"
   ]
  }
 ],
 "metadata": {
  "colab": {
   "provenance": []
  },
  "kernelspec": {
   "display_name": "Python 3 (ipykernel)",
   "language": "python",
   "name": "python3"
  },
  "language_info": {
   "codemirror_mode": {
    "name": "ipython",
    "version": 3
   },
   "file_extension": ".py",
   "mimetype": "text/x-python",
   "name": "python",
   "nbconvert_exporter": "python",
   "pygments_lexer": "ipython3",
   "version": "3.10.6"
  }
 },
 "nbformat": 4,
 "nbformat_minor": 4
}
