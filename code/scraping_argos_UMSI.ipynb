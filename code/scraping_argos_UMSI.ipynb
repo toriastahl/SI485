{
 "cells": [
  {
   "cell_type": "markdown",
   "metadata": {},
   "source": [
    "# Argos Query Suggestions\n",
    "This notebook scrapes the query suggestions from Argos."
   ]
  },
  {
   "cell_type": "code",
   "execution_count": 1,
   "metadata": {
    "executionInfo": {
     "elapsed": 4,
     "status": "ok",
     "timestamp": 1673551987533,
     "user": {
      "displayName": "Kate Gould",
      "userId": "05910585260938437266"
     },
     "user_tz": 300
    },
    "id": "65gQ9veZrK5Z"
   },
   "outputs": [],
   "source": [
    "import pandas as pd\n",
    "import numpy as np\n",
    "\n",
    "import requests\n",
    "import json\n",
    "from fake_useragent import UserAgent\n",
    "\n",
    "import time\n",
    "import warnings\n",
    "\n",
    "import matplotlib.pyplot as plt\n",
    "import seaborn"
   ]
  },
  {
   "cell_type": "code",
   "execution_count": 2,
   "metadata": {},
   "outputs": [],
   "source": [
    "ua = UserAgent()\n",
    "headers = {'User-Agent': 'Mozilla/5.0 (Macintosh; Intel Mac OS X 10_15_7) AppleWebKit/537.36 (KHTML, like Gecko) Chrome/109.0.0.0 Safari/537.36'}"
   ]
  },
  {
   "cell_type": "markdown",
   "metadata": {
    "id": "69nkD2oRrK5o"
   },
   "source": [
    "### Loading list of toys\n",
    "all_items.txt is a text file of different toys that will be queried."
   ]
  },
  {
   "cell_type": "code",
   "execution_count": 3,
   "metadata": {
    "colab": {
     "base_uri": "https://localhost:8080/",
     "height": 188
    },
    "executionInfo": {
     "elapsed": 7,
     "status": "error",
     "timestamp": 1673551996475,
     "user": {
      "displayName": "Kate Gould",
      "userId": "05910585260938437266"
     },
     "user_tz": 300
    },
    "id": "jUPwZ4dkrK6V",
    "outputId": "cef9c600-3886-468e-beec-c59156a8e06f"
   },
   "outputs": [],
   "source": [
    "with open('../predoc_info/all_items.txt') as f:\n",
    "    contents = f.read().splitlines()"
   ]
  },
  {
   "cell_type": "markdown",
   "metadata": {
    "id": "T9caSoUsrK6Z"
   },
   "source": [
    "## Loading pre-documented gender stereotyped toys\n",
    "predoc_sterotyped_items.csv is a csv file of the different toys and their pre documented assigned gender stereotypes"
   ]
  },
  {
   "cell_type": "code",
   "execution_count": 4,
   "metadata": {
    "id": "c78_SFFxrK6a",
    "outputId": "77e37d16-614a-42d6-ba31-e9d5ce3f4ea8"
   },
   "outputs": [
    {
     "data": {
      "text/html": [
       "<div>\n",
       "<style scoped>\n",
       "    .dataframe tbody tr th:only-of-type {\n",
       "        vertical-align: middle;\n",
       "    }\n",
       "\n",
       "    .dataframe tbody tr th {\n",
       "        vertical-align: top;\n",
       "    }\n",
       "\n",
       "    .dataframe thead th {\n",
       "        text-align: right;\n",
       "    }\n",
       "</style>\n",
       "<table border=\"1\" class=\"dataframe\">\n",
       "  <thead>\n",
       "    <tr style=\"text-align: right;\">\n",
       "      <th></th>\n",
       "      <th>BOY</th>\n",
       "      <th>GIRL</th>\n",
       "      <th>NEUTRAL</th>\n",
       "    </tr>\n",
       "  </thead>\n",
       "  <tbody>\n",
       "    <tr>\n",
       "      <th>0</th>\n",
       "      <td>vehicle toys</td>\n",
       "      <td>doll</td>\n",
       "      <td>toy animals</td>\n",
       "    </tr>\n",
       "    <tr>\n",
       "      <th>1</th>\n",
       "      <td>sport</td>\n",
       "      <td>domestic toys</td>\n",
       "      <td>books</td>\n",
       "    </tr>\n",
       "    <tr>\n",
       "      <th>2</th>\n",
       "      <td>military toys</td>\n",
       "      <td>educational art</td>\n",
       "      <td>educational teaching</td>\n",
       "    </tr>\n",
       "    <tr>\n",
       "      <th>3</th>\n",
       "      <td>race cars</td>\n",
       "      <td>clothes</td>\n",
       "      <td>musical games</td>\n",
       "    </tr>\n",
       "    <tr>\n",
       "      <th>4</th>\n",
       "      <td>outer space toys</td>\n",
       "      <td>dollhouses</td>\n",
       "      <td>games</td>\n",
       "    </tr>\n",
       "    <tr>\n",
       "      <th>...</th>\n",
       "      <td>...</td>\n",
       "      <td>...</td>\n",
       "      <td>...</td>\n",
       "    </tr>\n",
       "    <tr>\n",
       "      <th>67</th>\n",
       "      <td>toy rocket</td>\n",
       "      <td>barbie furniture set</td>\n",
       "      <td>NaN</td>\n",
       "    </tr>\n",
       "    <tr>\n",
       "      <th>68</th>\n",
       "      <td>soccer ball</td>\n",
       "      <td>NaN</td>\n",
       "      <td>NaN</td>\n",
       "    </tr>\n",
       "    <tr>\n",
       "      <th>69</th>\n",
       "      <td>blue ipad</td>\n",
       "      <td>pink ipad</td>\n",
       "      <td>NaN</td>\n",
       "    </tr>\n",
       "    <tr>\n",
       "      <th>70</th>\n",
       "      <td>toy robots</td>\n",
       "      <td>NaN</td>\n",
       "      <td>NaN</td>\n",
       "    </tr>\n",
       "    <tr>\n",
       "      <th>71</th>\n",
       "      <td>toy drones</td>\n",
       "      <td>NaN</td>\n",
       "      <td>NaN</td>\n",
       "    </tr>\n",
       "  </tbody>\n",
       "</table>\n",
       "<p>72 rows × 3 columns</p>\n",
       "</div>"
      ],
      "text/plain": [
       "                 BOY                  GIRL               NEUTRAL\n",
       "0       vehicle toys                  doll           toy animals\n",
       "1              sport         domestic toys                 books\n",
       "2      military toys       educational art  educational teaching\n",
       "3          race cars               clothes         musical games\n",
       "4   outer space toys            dollhouses                 games\n",
       "..               ...                   ...                   ...\n",
       "67        toy rocket  barbie furniture set                   NaN\n",
       "68       soccer ball                   NaN                   NaN\n",
       "69         blue ipad             pink ipad                   NaN\n",
       "70        toy robots                   NaN                   NaN\n",
       "71        toy drones                   NaN                   NaN\n",
       "\n",
       "[72 rows x 3 columns]"
      ]
     },
     "execution_count": 4,
     "metadata": {},
     "output_type": "execute_result"
    }
   ],
   "source": [
    "stereo_toys = pd.read_csv('../predoc_info/predoc_stereotyped_items.csv', delimiter =',')\n",
    "stereo_toys"
   ]
  },
  {
   "cell_type": "markdown",
   "metadata": {
    "id": "Rpk2koDnrK6f"
   },
   "source": [
    "### Dataset stats"
   ]
  },
  {
   "cell_type": "code",
   "execution_count": 5,
   "metadata": {
    "id": "Bfh7xZoNrK6g",
    "outputId": "67005328-29fa-4c9e-aa01-3b7ffe091369"
   },
   "outputs": [
    {
     "name": "stdout",
     "output_type": "stream",
     "text": [
      "stereotypical boy toys:  71  stereotypical girl toys:  63  stereotypically gender neutral toys:  32\n"
     ]
    }
   ],
   "source": [
    "boy_toys = stereo_toys['BOY'].dropna().unique().tolist()\n",
    "girl_toys = stereo_toys['GIRL'].dropna().unique().tolist()\n",
    "neutral_toys = stereo_toys['NEUTRAL'].dropna().unique().tolist()\n",
    "\n",
    "print(\"stereotypical boy toys: \", len(boy_toys), \n",
    "      \" stereotypical girl toys: \", len(girl_toys), \n",
    "      \" stereotypically gender neutral toys: \", len(neutral_toys))"
   ]
  },
  {
   "cell_type": "code",
   "execution_count": 6,
   "metadata": {},
   "outputs": [
    {
     "data": {
      "image/png": "[encoded data removed]",
      "text/plain": [
       "<Figure size 432x288 with 1 Axes>"
      ]
     },
     "metadata": {},
     "output_type": "display_data"
    }
   ],
   "source": [
    "#visualize item gender distribution\n",
    "data = [len(boy_toys), len(girl_toys), len(neutral_toys)]\n",
    "keys = ['Boys', 'Girls', 'Neutral']\n",
    "  \n",
    "# define Seaborn color palette to use\n",
    "palette_color = seaborn.color_palette('bright')\n",
    "  \n",
    "# plotting data on chart\n",
    "plt.pie(data, labels=keys, colors=palette_color, autopct='%.0f%%')\n",
    "  \n",
    "# displaying chart\n",
    "plt.title('Percentage of Pre-documented Gendered Toys')\n",
    "plt.show()"
   ]
  },
  {
   "cell_type": "markdown",
   "metadata": {},
   "source": [
    "This pie chart visualizes the percentage of toys assigned to genders. Boys have the highest percentage with girls being second and neutral the last."
   ]
  },
  {
   "cell_type": "markdown",
   "metadata": {
    "id": "b-bXbFnIrK6k"
   },
   "source": [
    "## Preparing the data for query"
   ]
  },
  {
   "cell_type": "markdown",
   "metadata": {
    "id": "E89T78gbrK6l"
   },
   "source": [
    "### Adding \"for\""
   ]
  },
  {
   "cell_type": "code",
   "execution_count": 7,
   "metadata": {
    "id": "vheiNobHrK6n",
    "outputId": "7a611450-c57f-4b4a-8e42-2f8102b8e22e"
   },
   "outputs": [
    {
     "data": {
      "text/plain": [
       "[('vehicle toys', 'vehicle toys for'),\n",
       " ('sport', 'sport for'),\n",
       " ('military toys', 'military toys for'),\n",
       " ('race cars', 'race cars for'),\n",
       " ('outer space toys', 'outer space toys for')]"
      ]
     },
     "execution_count": 7,
     "metadata": {},
     "output_type": "execute_result"
    }
   ],
   "source": [
    "search_terms = []\n",
    "for x in contents:\n",
    "    search_terms.append((x, x+' for'))\n",
    "search_terms[:5]"
   ]
  },
  {
   "cell_type": "markdown",
   "metadata": {
    "id": "2cUiROYyrK6p"
   },
   "source": [
    "## Search Engines and E-Com Sites"
   ]
  },
  {
   "cell_type": "markdown",
   "metadata": {
    "id": "ixqQWo4erK6w"
   },
   "source": [
    "### Defining scraping functions"
   ]
  },
  {
   "cell_type": "code",
   "execution_count": 8,
   "metadata": {
    "id": "TeQHIWsTrK6y"
   },
   "outputs": [],
   "source": [
    "def argos_scrape(query):\n",
    "    url = f'https://www.argos.co.uk/suggest?term={query}%20f&fuzziness=true&size=5&includeFaq=true'\n",
    "    response = requests.get(url, headers=headers, verify=False).json()\n",
    "    return response"
   ]
  },
  {
   "cell_type": "code",
   "execution_count": 9,
   "metadata": {
    "id": "QzDAuYeBrK7E"
   },
   "outputs": [],
   "source": [
    "def argos_auto(item):\n",
    "    res = argos_scrape(item)\n",
    "    suggestions = res['autoSuggest']['keywords']\n",
    "    results = []\n",
    "    for s in suggestions:\n",
    "        results.append(s['value'])\n",
    "    return results"
   ]
  },
  {
   "cell_type": "markdown",
   "metadata": {
    "id": "3qu9oCwkrK7I"
   },
   "source": [
    "## Run queries"
   ]
  },
  {
   "cell_type": "code",
   "execution_count": 10,
   "metadata": {
    "id": "4Mw6WgLGrK7J",
    "outputId": "b972fe58-255b-42ca-be1f-f008224bcad1"
   },
   "outputs": [],
   "source": [
    "#create dataframe for results\n",
    "columns = ['platform', 'item', 'suggestions']\n",
    "df = pd.DataFrame(columns = columns)"
   ]
  },
  {
   "cell_type": "markdown",
   "metadata": {},
   "source": [
    "#### Trial Run"
   ]
  },
  {
   "cell_type": "code",
   "execution_count": 11,
   "metadata": {},
   "outputs": [],
   "source": [
    "#run below function with trial list of items before using contents\n",
    "trial = search_terms[:5]\n",
    "\n",
    "# trial run\n",
    "warnings.filterwarnings('ignore')\n",
    "platform = 'Argos'\n",
    "trial_data = []\n",
    "for item, q in trial:\n",
    "    result = argos_auto(q)\n",
    "    values = [platform, item, result]\n",
    "    zipped = zip(columns, values)\n",
    "    a_dictionary = dict(zipped)\n",
    "    #print(a_dictionary)\n",
    "    time.sleep(1.5)\n",
    "    trial_data.append(a_dictionary)"
   ]
  },
  {
   "cell_type": "code",
   "execution_count": 12,
   "metadata": {},
   "outputs": [
    {
     "data": {
      "text/plain": [
       "[{'platform': 'Argos', 'item': 'vehicle toys', 'suggestions': []},\n",
       " {'platform': 'Argos',\n",
       "  'item': 'sport',\n",
       "  'suggestions': ['all sports kit bundle for nintendo switch',\n",
       "   'all sports kit bundle for',\n",
       "   'sports for',\n",
       "   'all sports kit for switch',\n",
       "   'sports kit for nintendo switch']},\n",
       " {'platform': 'Argos', 'item': 'military toys', 'suggestions': []},\n",
       " {'platform': 'Argos', 'item': 'race cars', 'suggestions': []},\n",
       " {'platform': 'Argos', 'item': 'outer space toys', 'suggestions': []}]"
      ]
     },
     "execution_count": 12,
     "metadata": {},
     "output_type": "execute_result"
    }
   ],
   "source": [
    "trial_data"
   ]
  },
  {
   "cell_type": "markdown",
   "metadata": {},
   "source": [
    "#### Full Run"
   ]
  },
  {
   "cell_type": "code",
   "execution_count": 13,
   "metadata": {},
   "outputs": [],
   "source": [
    "#once the trial run is successful run the code with all items\n",
    "warnings.filterwarnings('ignore')\n",
    "platform = 'Argos'\n",
    "data = []\n",
    "for item, q in search_terms:\n",
    "    result = argos_auto(q)\n",
    "    values = [platform, item, result]\n",
    "    zipped = zip(columns, values)\n",
    "    a_dictionary = dict(zipped)\n",
    "    #print(a_dictionary)\n",
    "    time.sleep(1.5)\n",
    "    data.append(a_dictionary)"
   ]
  },
  {
   "cell_type": "code",
   "execution_count": 14,
   "metadata": {
    "id": "HePm6xn-rK7P",
    "outputId": "4ad8c767-8b50-4003-9d6a-dad8b28decb0"
   },
   "outputs": [
    {
     "data": {
      "text/plain": [
       "{'platform': 'Argos', 'item': 'vehicle toys', 'suggestions': []}"
      ]
     },
     "execution_count": 14,
     "metadata": {},
     "output_type": "execute_result"
    }
   ],
   "source": [
    "#look at data that has been extracted\n",
    "data[0]"
   ]
  },
  {
   "cell_type": "code",
   "execution_count": 15,
   "metadata": {
    "id": "YI6nkF5FrK7Q",
    "outputId": "bd6200da-c5ed-4094-bb5b-6f8bfe93f241"
   },
   "outputs": [
    {
     "data": {
      "text/html": [
       "<div>\n",
       "<style scoped>\n",
       "    .dataframe tbody tr th:only-of-type {\n",
       "        vertical-align: middle;\n",
       "    }\n",
       "\n",
       "    .dataframe tbody tr th {\n",
       "        vertical-align: top;\n",
       "    }\n",
       "\n",
       "    .dataframe thead th {\n",
       "        text-align: right;\n",
       "    }\n",
       "</style>\n",
       "<table border=\"1\" class=\"dataframe\">\n",
       "  <thead>\n",
       "    <tr style=\"text-align: right;\">\n",
       "      <th></th>\n",
       "      <th>platform</th>\n",
       "      <th>item</th>\n",
       "      <th>suggestions</th>\n",
       "    </tr>\n",
       "  </thead>\n",
       "  <tbody>\n",
       "    <tr>\n",
       "      <th>0</th>\n",
       "      <td>Argos</td>\n",
       "      <td>vehicle toys</td>\n",
       "      <td>[]</td>\n",
       "    </tr>\n",
       "    <tr>\n",
       "      <th>1</th>\n",
       "      <td>Argos</td>\n",
       "      <td>sport</td>\n",
       "      <td>[all sports kit bundle for nintendo switch, al...</td>\n",
       "    </tr>\n",
       "    <tr>\n",
       "      <th>2</th>\n",
       "      <td>Argos</td>\n",
       "      <td>military toys</td>\n",
       "      <td>[]</td>\n",
       "    </tr>\n",
       "    <tr>\n",
       "      <th>3</th>\n",
       "      <td>Argos</td>\n",
       "      <td>race cars</td>\n",
       "      <td>[]</td>\n",
       "    </tr>\n",
       "    <tr>\n",
       "      <th>4</th>\n",
       "      <td>Argos</td>\n",
       "      <td>outer space toys</td>\n",
       "      <td>[]</td>\n",
       "    </tr>\n",
       "    <tr>\n",
       "      <th>...</th>\n",
       "      <td>...</td>\n",
       "      <td>...</td>\n",
       "      <td>...</td>\n",
       "    </tr>\n",
       "    <tr>\n",
       "      <th>161</th>\n",
       "      <td>Argos</td>\n",
       "      <td>scooter</td>\n",
       "      <td>[scooter for adults, scooter for, lego icons v...</td>\n",
       "    </tr>\n",
       "    <tr>\n",
       "      <th>162</th>\n",
       "      <td>Argos</td>\n",
       "      <td>drum set</td>\n",
       "      <td>[]</td>\n",
       "    </tr>\n",
       "    <tr>\n",
       "      <th>163</th>\n",
       "      <td>Argos</td>\n",
       "      <td>puzzles</td>\n",
       "      <td>[]</td>\n",
       "    </tr>\n",
       "    <tr>\n",
       "      <th>164</th>\n",
       "      <td>Argos</td>\n",
       "      <td>board games</td>\n",
       "      <td>[board game for kids, family board game for ki...</td>\n",
       "    </tr>\n",
       "    <tr>\n",
       "      <th>165</th>\n",
       "      <td>Argos</td>\n",
       "      <td>rock painting</td>\n",
       "      <td>[]</td>\n",
       "    </tr>\n",
       "  </tbody>\n",
       "</table>\n",
       "<p>166 rows × 3 columns</p>\n",
       "</div>"
      ],
      "text/plain": [
       "    platform              item  \\\n",
       "0      Argos      vehicle toys   \n",
       "1      Argos             sport   \n",
       "2      Argos     military toys   \n",
       "3      Argos         race cars   \n",
       "4      Argos  outer space toys   \n",
       "..       ...               ...   \n",
       "161    Argos           scooter   \n",
       "162    Argos          drum set   \n",
       "163    Argos           puzzles   \n",
       "164    Argos       board games   \n",
       "165    Argos     rock painting   \n",
       "\n",
       "                                           suggestions  \n",
       "0                                                   []  \n",
       "1    [all sports kit bundle for nintendo switch, al...  \n",
       "2                                                   []  \n",
       "3                                                   []  \n",
       "4                                                   []  \n",
       "..                                                 ...  \n",
       "161  [scooter for adults, scooter for, lego icons v...  \n",
       "162                                                 []  \n",
       "163                                                 []  \n",
       "164  [board game for kids, family board game for ki...  \n",
       "165                                                 []  \n",
       "\n",
       "[166 rows x 3 columns]"
      ]
     },
     "execution_count": 15,
     "metadata": {},
     "output_type": "execute_result"
    }
   ],
   "source": [
    "#put data into a dataframe with the platform, query, and scraped suggestions\n",
    "df = df.append(data, True)\n",
    "df"
   ]
  },
  {
   "cell_type": "code",
   "execution_count": 16,
   "metadata": {
    "id": "lwr2RjjFrK7R"
   },
   "outputs": [],
   "source": [
    "#export data to a csv file\n",
    "df.to_csv('argos_query_suggestions.csv', index = False)"
   ]
  }
 ],
 "metadata": {
  "colab": {
   "provenance": []
  },
  "kernelspec": {
   "display_name": "Python 3 (ipykernel)",
   "language": "python",
   "name": "python3"
  },
  "language_info": {
   "codemirror_mode": {
    "name": "ipython",
    "version": 3
   },
   "file_extension": ".py",
   "mimetype": "text/x-python",
   "name": "python",
   "nbconvert_exporter": "python",
   "pygments_lexer": "ipython3",
   "version": "3.9.12"
  }
 },
 "nbformat": 4,
 "nbformat_minor": 4
}
