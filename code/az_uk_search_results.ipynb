{
 "cells": [
  {
   "cell_type": "code",
   "execution_count": 8,
   "metadata": {
    "colab": {
     "base_uri": "https://localhost:8080/",
     "height": 350
    },
    "executionInfo": {
     "elapsed": 191,
     "status": "error",
     "timestamp": 1674156531501,
     "user": {
      "displayName": "Kate Gould",
      "userId": "05910585260938437266"
     },
     "user_tz": 300
    },
    "id": "lXyKHDCHdxlo",
    "outputId": "c78d48e7-67d6-4526-8e4d-914e9f90546f"
   },
   "outputs": [],
   "source": [
    "import requests\n",
    "import json\n",
    "from fake_useragent import UserAgent\n",
    "from selenium.webdriver.support.ui import WebDriverWait"
   ]
  },
  {
   "cell_type": "code",
   "execution_count": 9,
   "metadata": {
    "id": "vlS07q9Xdxlr"
   },
   "outputs": [],
   "source": [
    "import pandas as pd\n",
    "import numpy as np"
   ]
  },
  {
   "cell_type": "code",
   "execution_count": 3,
   "metadata": {
    "id": "78OyRqZ7dxls"
   },
   "outputs": [],
   "source": [
    "from selenium import webdriver\n",
    "from webdriver_manager.chrome import ChromeDriverManager\n",
    "from selenium.common.exceptions import NoSuchElementException\n",
    "from selectorlib import Extractor\n",
    "import requests\n",
    "import json\n",
    "import time"
   ]
  },
  {
   "cell_type": "markdown",
   "metadata": {
    "id": "ch6SsKf9dxls"
   },
   "source": [
    "## Loading pre-documented gender stereotyped items"
   ]
  },
  {
   "cell_type": "code",
   "execution_count": 4,
   "metadata": {
    "id": "jejLaA7xdxlu",
    "outputId": "c362e0de-7740-4dc3-b6ac-8a1382e61bbe"
   },
   "outputs": [
    {
     "data": {
      "text/html": [
       "<div>\n",
       "<style scoped>\n",
       "    .dataframe tbody tr th:only-of-type {\n",
       "        vertical-align: middle;\n",
       "    }\n",
       "\n",
       "    .dataframe tbody tr th {\n",
       "        vertical-align: top;\n",
       "    }\n",
       "\n",
       "    .dataframe thead th {\n",
       "        text-align: right;\n",
       "    }\n",
       "</style>\n",
       "<table border=\"1\" class=\"dataframe\">\n",
       "  <thead>\n",
       "    <tr style=\"text-align: right;\">\n",
       "      <th></th>\n",
       "      <th>BOY</th>\n",
       "      <th>GIRL</th>\n",
       "      <th>NEUTRAL</th>\n",
       "    </tr>\n",
       "  </thead>\n",
       "  <tbody>\n",
       "    <tr>\n",
       "      <th>0</th>\n",
       "      <td>vehicle toys</td>\n",
       "      <td>doll</td>\n",
       "      <td>toy animals</td>\n",
       "    </tr>\n",
       "    <tr>\n",
       "      <th>1</th>\n",
       "      <td>sport</td>\n",
       "      <td>domestic toys</td>\n",
       "      <td>books</td>\n",
       "    </tr>\n",
       "    <tr>\n",
       "      <th>2</th>\n",
       "      <td>military toys</td>\n",
       "      <td>educational art</td>\n",
       "      <td>educational teaching</td>\n",
       "    </tr>\n",
       "    <tr>\n",
       "      <th>3</th>\n",
       "      <td>race cars</td>\n",
       "      <td>clothes</td>\n",
       "      <td>musical games</td>\n",
       "    </tr>\n",
       "    <tr>\n",
       "      <th>4</th>\n",
       "      <td>outer space toys</td>\n",
       "      <td>dollhouses</td>\n",
       "      <td>games</td>\n",
       "    </tr>\n",
       "    <tr>\n",
       "      <th>...</th>\n",
       "      <td>...</td>\n",
       "      <td>...</td>\n",
       "      <td>...</td>\n",
       "    </tr>\n",
       "    <tr>\n",
       "      <th>67</th>\n",
       "      <td>toy rocket</td>\n",
       "      <td>barbie furniture set</td>\n",
       "      <td>NaN</td>\n",
       "    </tr>\n",
       "    <tr>\n",
       "      <th>68</th>\n",
       "      <td>soccer ball</td>\n",
       "      <td>NaN</td>\n",
       "      <td>NaN</td>\n",
       "    </tr>\n",
       "    <tr>\n",
       "      <th>69</th>\n",
       "      <td>blue ipad</td>\n",
       "      <td>pink ipad</td>\n",
       "      <td>NaN</td>\n",
       "    </tr>\n",
       "    <tr>\n",
       "      <th>70</th>\n",
       "      <td>toy robots</td>\n",
       "      <td>NaN</td>\n",
       "      <td>NaN</td>\n",
       "    </tr>\n",
       "    <tr>\n",
       "      <th>71</th>\n",
       "      <td>toy drones</td>\n",
       "      <td>NaN</td>\n",
       "      <td>NaN</td>\n",
       "    </tr>\n",
       "  </tbody>\n",
       "</table>\n",
       "<p>72 rows × 3 columns</p>\n",
       "</div>"
      ],
      "text/plain": [
       "                 BOY                  GIRL               NEUTRAL\n",
       "0       vehicle toys                  doll           toy animals\n",
       "1              sport         domestic toys                 books\n",
       "2      military toys       educational art  educational teaching\n",
       "3          race cars               clothes         musical games\n",
       "4   outer space toys            dollhouses                 games\n",
       "..               ...                   ...                   ...\n",
       "67        toy rocket  barbie furniture set                   NaN\n",
       "68       soccer ball                   NaN                   NaN\n",
       "69         blue ipad             pink ipad                   NaN\n",
       "70        toy robots                   NaN                   NaN\n",
       "71        toy drones                   NaN                   NaN\n",
       "\n",
       "[72 rows x 3 columns]"
      ]
     },
     "execution_count": 4,
     "metadata": {},
     "output_type": "execute_result"
    }
   ],
   "source": [
    "stereo_toys = pd.read_csv('~/Desktop/IA CAPSTONE/predoc_stereotyped_items.csv', delimiter =',')\n",
    "stereo_toys"
   ]
  },
  {
   "cell_type": "code",
   "execution_count": 5,
   "metadata": {
    "id": "HftiubXCdxlv"
   },
   "outputs": [],
   "source": [
    "with open('../IA CAPSTONE/all_items.txt') as f:\n",
    "    all_items = f.read().splitlines()"
   ]
  },
  {
   "cell_type": "code",
   "execution_count": 6,
   "metadata": {
    "id": "pIKTdxwEdxlv",
    "outputId": "d63e4841-cdce-4f2c-a986-1693b29dd1ba"
   },
   "outputs": [
    {
     "data": {
      "text/plain": [
       "166"
      ]
     },
     "execution_count": 6,
     "metadata": {},
     "output_type": "execute_result"
    }
   ],
   "source": [
    "len(all_items)"
   ]
  },
  {
   "cell_type": "code",
   "execution_count": 7,
   "metadata": {
    "id": "8YTS9MbOdxlw",
    "outputId": "9aa63b45-8f12-482f-a7cb-f1619fe81f00"
   },
   "outputs": [
    {
     "data": {
      "text/plain": [
       "['legos', 'scooter', 'drum set', 'puzzles', 'board games', 'rock painting']"
      ]
     },
     "execution_count": 7,
     "metadata": {},
     "output_type": "execute_result"
    }
   ],
   "source": [
    "trial = all_items[160:]\n",
    "trial"
   ]
  },
  {
   "cell_type": "code",
   "execution_count": 8,
   "metadata": {
    "id": "o1nRqCB-dxlw"
   },
   "outputs": [],
   "source": [
    "generic = ['toys', 'books', 'learning material', 'games', 'sports']"
   ]
  },
  {
   "cell_type": "code",
   "execution_count": 9,
   "metadata": {
    "id": "vPdT-vxTdxlx"
   },
   "outputs": [],
   "source": [
    "gender = ['boys', 'girls', 'neutral']"
   ]
  },
  {
   "cell_type": "markdown",
   "metadata": {
    "id": "3o9NXUz1dxlx"
   },
   "source": [
    "## Search"
   ]
  },
  {
   "cell_type": "markdown",
   "metadata": {
    "id": "1txJMd8Rdxlx"
   },
   "source": [
    "### Getting asin of the retrieved products"
   ]
  },
  {
   "cell_type": "code",
   "execution_count": 10,
   "metadata": {
    "id": "ptOzCIZCdxly"
   },
   "outputs": [],
   "source": [
    "def asin(driver):\n",
    "    asin_list = []\n",
    "    for index in range(1,10):\n",
    "        asins = driver.find_elements(\"xpath\",\"//div[@data-asin]\")\n",
    "        for asin in asins:\n",
    "            #print(asin)\n",
    "            asin_list.append(asin.get_attribute('data-asin'))\n",
    "    return asin_list"
   ]
  },
  {
   "cell_type": "markdown",
   "metadata": {
    "id": "SnD91zlhdxly"
   },
   "source": [
    "### get information (title) of retirved products"
   ]
  },
  {
   "cell_type": "code",
   "execution_count": 11,
   "metadata": {
    "id": "j9jYVZ43dxly"
   },
   "outputs": [],
   "source": [
    "from selenium.webdriver.common.by import By\n",
    "def item_info(driver):\n",
    "    item = []\n",
    "    elem = driver.find_elements(By.CSS_SELECTOR,'h2')\n",
    "    for i in elem:\n",
    "        item.append(i.text)\n",
    "    return item"
   ]
  },
  {
   "cell_type": "markdown",
   "metadata": {
    "id": "MtHOFAmBdxly"
   },
   "source": [
    "### Getting product link of the retrievd products"
   ]
  },
  {
   "cell_type": "code",
   "execution_count": 12,
   "metadata": {
    "id": "tzSF_sPvdxly"
   },
   "outputs": [],
   "source": [
    "def item_link(driver):\n",
    "    href = []\n",
    "    links = driver.find_elements('xpath',\"//h2//a[@href]\")\n",
    "    for link in links:\n",
    "        href.append(link.get_attribute('href'))\n",
    "    return href"
   ]
  },
  {
   "cell_type": "markdown",
   "metadata": {
    "id": "ksetNpOgdxlz"
   },
   "source": [
    "### Running queries for both boy and girls and neutral (kids)"
   ]
  },
  {
   "cell_type": "code",
   "execution_count": 13,
   "metadata": {
    "id": "K-L14To5dxlz"
   },
   "outputs": [],
   "source": [
    "def search(item, who):\n",
    "    if who == 'neutral':\n",
    "        query = item + ' for '+'kids'\n",
    "    else:\n",
    "        query = item + ' for '+who\n",
    "    driver.get(f'https://www.amazon.co.uk/s?k={query}&ref=nb_sb_noss')\n",
    "    driver.implicitly_wait(10)\n",
    "    list_asin = asin(driver)\n",
    "    item_list = item_info(driver)\n",
    "    item_page = item_link(driver)\n",
    "    return (list_asin, item_list), item_page"
   ]
  },
  {
   "cell_type": "code",
   "execution_count": 14,
   "metadata": {
    "id": "JLLwAhKhdxlz"
   },
   "outputs": [
    {
     "name": "stderr",
     "output_type": "stream",
     "text": [
      "/var/folders/c5/zlstbbh10mngtwbv3lm2f7vw0000gn/T/ipykernel_71312/112412462.py:3: DeprecationWarning: executable_path has been deprecated, please pass in a Service object\n",
      "  driver = webdriver.Chrome(ChromeDriverManager().install())\n"
     ]
    }
   ],
   "source": [
    "import time\n",
    "import warnings\n",
    "driver = webdriver.Chrome(ChromeDriverManager().install())\n",
    "search_result = {}\n",
    "for i in generic:\n",
    "    gender_dict = {}\n",
    "    for g in gender:\n",
    "        gender_dict[g] = search(i, g)\n",
    "        driver.implicitly_wait(5)\n",
    "    search_result[i] = gender_dict\n",
    "    time.sleep(1.5)\n",
    "driver.close()"
   ]
  },
  {
   "cell_type": "code",
   "execution_count": 15,
   "metadata": {
    "id": "7MwtzxcLdxlz"
   },
   "outputs": [],
   "source": [
    "import pandas as pd\n",
    "columns1 = ['gender', 'query', 'result']\n",
    "qr = pd.DataFrame(columns = columns1)\n",
    "columns2 = ['gender', 'query', 'href']\n",
    "qr_link = pd.DataFrame(columns = columns2)\n",
    "#qr_link"
   ]
  },
  {
   "cell_type": "code",
   "execution_count": 16,
   "metadata": {
    "id": "WROER6hKdxlz",
    "outputId": "1cda0246-4563-443a-cfad-81c517f11a2b"
   },
   "outputs": [
    {
     "data": {
      "text/plain": [
       "['legos', 'scooter', 'drum set', 'puzzles', 'board games', 'rock painting']"
      ]
     },
     "execution_count": 16,
     "metadata": {},
     "output_type": "execute_result"
    }
   ],
   "source": [
    "trial"
   ]
  },
  {
   "cell_type": "code",
   "execution_count": 17,
   "metadata": {
    "id": "er9ucAWWdxlz",
    "outputId": "2b5fb14c-968c-4ff9-c113-8b48bb8c48ba"
   },
   "outputs": [
    {
     "data": {
      "text/plain": [
       "6"
      ]
     },
     "execution_count": 17,
     "metadata": {},
     "output_type": "execute_result"
    }
   ],
   "source": [
    "len(trial)"
   ]
  },
  {
   "cell_type": "markdown",
   "metadata": {
    "id": "dzePLZ-Ydxl0"
   },
   "source": [
    "## running queries in a loop"
   ]
  },
  {
   "cell_type": "code",
   "execution_count": null,
   "metadata": {
    "id": "If9zHbjHdxl0",
    "outputId": "432189e1-1cca-4914-9993-99fc35689041"
   },
   "outputs": [],
   "source": [
    "import time\n",
    "import warnings\n",
    "warnings.filterwarnings('ignore')\n",
    "driver = webdriver.Chrome(ChromeDriverManager().install())\n",
    "data1 = []\n",
    "data2 = []\n",
    "item = ''\n",
    "for item in all_items:\n",
    "    for g in gender:\n",
    "        result, link = search(item, g)\n",
    "        values1 = [g, item, result]\n",
    "        values2 = [g, item, link]\n",
    "        zipped1 = zip(columns1, values1)\n",
    "        zipped2 = zip(columns2, values2)\n",
    "        a_dictionary1 = dict(zipped1)\n",
    "        a_dictionary2 = dict(zipped2)\n",
    "        #print(a_dictionary)\n",
    "        time.sleep(1.5)\n",
    "        data1.append(a_dictionary1)\n",
    "        data2.append(a_dictionary2)\n",
    "driver.close()"
   ]
  },
  {
   "cell_type": "code",
   "execution_count": 19,
   "metadata": {
    "id": "xknpaGxQdxl0",
    "outputId": "5e4934da-b725-4978-d3e1-4e497784ff34"
   },
   "outputs": [
    {
     "data": {
      "text/html": [
       "<div>\n",
       "<style scoped>\n",
       "    .dataframe tbody tr th:only-of-type {\n",
       "        vertical-align: middle;\n",
       "    }\n",
       "\n",
       "    .dataframe tbody tr th {\n",
       "        vertical-align: top;\n",
       "    }\n",
       "\n",
       "    .dataframe thead th {\n",
       "        text-align: right;\n",
       "    }\n",
       "</style>\n",
       "<table border=\"1\" class=\"dataframe\">\n",
       "  <thead>\n",
       "    <tr style=\"text-align: right;\">\n",
       "      <th></th>\n",
       "      <th>gender</th>\n",
       "      <th>query</th>\n",
       "      <th>result</th>\n",
       "    </tr>\n",
       "  </thead>\n",
       "  <tbody>\n",
       "    <tr>\n",
       "      <th>0</th>\n",
       "      <td>boys</td>\n",
       "      <td>vehicle toys</td>\n",
       "      <td>([, B09N783Q3T, B09XQXTC74, B07WQTSPGF, B0B426...</td>\n",
       "    </tr>\n",
       "    <tr>\n",
       "      <th>1</th>\n",
       "      <td>girls</td>\n",
       "      <td>vehicle toys</td>\n",
       "      <td>([, B07WQTSPGF, B09XQXTC74, B08ZCRVGHQ, B0759M...</td>\n",
       "    </tr>\n",
       "    <tr>\n",
       "      <th>2</th>\n",
       "      <td>neutral</td>\n",
       "      <td>vehicle toys</td>\n",
       "      <td>([, B09N783Q3T, B09J8BRFSP, B08ZCRVGHQ, B09XQX...</td>\n",
       "    </tr>\n",
       "    <tr>\n",
       "      <th>3</th>\n",
       "      <td>boys</td>\n",
       "      <td>sport</td>\n",
       "      <td>([, B081GW29YC, B00I04FDCI, B09ZKX11BT, B06XFQ...</td>\n",
       "    </tr>\n",
       "    <tr>\n",
       "      <th>4</th>\n",
       "      <td>girls</td>\n",
       "      <td>sport</td>\n",
       "      <td>([, B089W2C2Z8, B01HEZMR6I, B0B8HBZCRL, B0B9WW...</td>\n",
       "    </tr>\n",
       "    <tr>\n",
       "      <th>...</th>\n",
       "      <td>...</td>\n",
       "      <td>...</td>\n",
       "      <td>...</td>\n",
       "    </tr>\n",
       "    <tr>\n",
       "      <th>493</th>\n",
       "      <td>girls</td>\n",
       "      <td>board games</td>\n",
       "      <td>([, B092STXL3T, B09H7J66Z2, B00000JICB, B0BLHW...</td>\n",
       "    </tr>\n",
       "    <tr>\n",
       "      <th>494</th>\n",
       "      <td>neutral</td>\n",
       "      <td>board games</td>\n",
       "      <td>([, B092STXL3T, B07B7KPTQG, B078S8D27R, B078TW...</td>\n",
       "    </tr>\n",
       "    <tr>\n",
       "      <th>495</th>\n",
       "      <td>boys</td>\n",
       "      <td>rock painting</td>\n",
       "      <td>([, B08XK67TRQ, B07Z2R7S5P, B08RDCZWC7, B087PW...</td>\n",
       "    </tr>\n",
       "    <tr>\n",
       "      <th>496</th>\n",
       "      <td>girls</td>\n",
       "      <td>rock painting</td>\n",
       "      <td>([, B08XK67TRQ, B07Z2R7S5P, B08RDCZWC7, B087PW...</td>\n",
       "    </tr>\n",
       "    <tr>\n",
       "      <th>497</th>\n",
       "      <td>neutral</td>\n",
       "      <td>rock painting</td>\n",
       "      <td>([, B08XK67TRQ, B07Z2R7S5P, B08RDCZWC7, B089WK...</td>\n",
       "    </tr>\n",
       "  </tbody>\n",
       "</table>\n",
       "<p>498 rows × 3 columns</p>\n",
       "</div>"
      ],
      "text/plain": [
       "      gender          query                                             result\n",
       "0       boys   vehicle toys  ([, B09N783Q3T, B09XQXTC74, B07WQTSPGF, B0B426...\n",
       "1      girls   vehicle toys  ([, B07WQTSPGF, B09XQXTC74, B08ZCRVGHQ, B0759M...\n",
       "2    neutral   vehicle toys  ([, B09N783Q3T, B09J8BRFSP, B08ZCRVGHQ, B09XQX...\n",
       "3       boys          sport  ([, B081GW29YC, B00I04FDCI, B09ZKX11BT, B06XFQ...\n",
       "4      girls          sport  ([, B089W2C2Z8, B01HEZMR6I, B0B8HBZCRL, B0B9WW...\n",
       "..       ...            ...                                                ...\n",
       "493    girls    board games  ([, B092STXL3T, B09H7J66Z2, B00000JICB, B0BLHW...\n",
       "494  neutral    board games  ([, B092STXL3T, B07B7KPTQG, B078S8D27R, B078TW...\n",
       "495     boys  rock painting  ([, B08XK67TRQ, B07Z2R7S5P, B08RDCZWC7, B087PW...\n",
       "496    girls  rock painting  ([, B08XK67TRQ, B07Z2R7S5P, B08RDCZWC7, B087PW...\n",
       "497  neutral  rock painting  ([, B08XK67TRQ, B07Z2R7S5P, B08RDCZWC7, B089WK...\n",
       "\n",
       "[498 rows x 3 columns]"
      ]
     },
     "execution_count": 19,
     "metadata": {},
     "output_type": "execute_result"
    }
   ],
   "source": [
    "qr = qr.append(data1, True)\n",
    "qr"
   ]
  },
  {
   "cell_type": "code",
   "execution_count": 20,
   "metadata": {
    "id": "hnN72pssdxl0",
    "outputId": "5bf8c296-6ecd-454e-e509-b2ac9590c172",
    "scrolled": true
   },
   "outputs": [
    {
     "data": {
      "text/html": [
       "<div>\n",
       "<style scoped>\n",
       "    .dataframe tbody tr th:only-of-type {\n",
       "        vertical-align: middle;\n",
       "    }\n",
       "\n",
       "    .dataframe tbody tr th {\n",
       "        vertical-align: top;\n",
       "    }\n",
       "\n",
       "    .dataframe thead th {\n",
       "        text-align: right;\n",
       "    }\n",
       "</style>\n",
       "<table border=\"1\" class=\"dataframe\">\n",
       "  <thead>\n",
       "    <tr style=\"text-align: right;\">\n",
       "      <th></th>\n",
       "      <th>gender</th>\n",
       "      <th>query</th>\n",
       "      <th>href</th>\n",
       "    </tr>\n",
       "  </thead>\n",
       "  <tbody>\n",
       "    <tr>\n",
       "      <th>0</th>\n",
       "      <td>boys</td>\n",
       "      <td>vehicle toys</td>\n",
       "      <td>[https://www.amazon.co.uk/sspa/click?ie=UTF8&amp;s...</td>\n",
       "    </tr>\n",
       "    <tr>\n",
       "      <th>1</th>\n",
       "      <td>girls</td>\n",
       "      <td>vehicle toys</td>\n",
       "      <td>[https://www.amazon.co.uk/sspa/click?ie=UTF8&amp;s...</td>\n",
       "    </tr>\n",
       "    <tr>\n",
       "      <th>2</th>\n",
       "      <td>neutral</td>\n",
       "      <td>vehicle toys</td>\n",
       "      <td>[https://www.amazon.co.uk/sspa/click?ie=UTF8&amp;s...</td>\n",
       "    </tr>\n",
       "    <tr>\n",
       "      <th>3</th>\n",
       "      <td>boys</td>\n",
       "      <td>sport</td>\n",
       "      <td>[https://www.amazon.co.uk/sspa/click?ie=UTF8&amp;s...</td>\n",
       "    </tr>\n",
       "    <tr>\n",
       "      <th>4</th>\n",
       "      <td>girls</td>\n",
       "      <td>sport</td>\n",
       "      <td>[https://www.amazon.co.uk/sspa/click?ie=UTF8&amp;s...</td>\n",
       "    </tr>\n",
       "    <tr>\n",
       "      <th>...</th>\n",
       "      <td>...</td>\n",
       "      <td>...</td>\n",
       "      <td>...</td>\n",
       "    </tr>\n",
       "    <tr>\n",
       "      <th>493</th>\n",
       "      <td>girls</td>\n",
       "      <td>board games</td>\n",
       "      <td>[https://www.amazon.co.uk/sspa/click?ie=UTF8&amp;s...</td>\n",
       "    </tr>\n",
       "    <tr>\n",
       "      <th>494</th>\n",
       "      <td>neutral</td>\n",
       "      <td>board games</td>\n",
       "      <td>[https://www.amazon.co.uk/sspa/click?ie=UTF8&amp;s...</td>\n",
       "    </tr>\n",
       "    <tr>\n",
       "      <th>495</th>\n",
       "      <td>boys</td>\n",
       "      <td>rock painting</td>\n",
       "      <td>[https://www.amazon.co.uk/sspa/click?ie=UTF8&amp;s...</td>\n",
       "    </tr>\n",
       "    <tr>\n",
       "      <th>496</th>\n",
       "      <td>girls</td>\n",
       "      <td>rock painting</td>\n",
       "      <td>[https://www.amazon.co.uk/sspa/click?ie=UTF8&amp;s...</td>\n",
       "    </tr>\n",
       "    <tr>\n",
       "      <th>497</th>\n",
       "      <td>neutral</td>\n",
       "      <td>rock painting</td>\n",
       "      <td>[https://www.amazon.co.uk/sspa/click?ie=UTF8&amp;s...</td>\n",
       "    </tr>\n",
       "  </tbody>\n",
       "</table>\n",
       "<p>498 rows × 3 columns</p>\n",
       "</div>"
      ],
      "text/plain": [
       "      gender          query                                               href\n",
       "0       boys   vehicle toys  [https://www.amazon.co.uk/sspa/click?ie=UTF8&s...\n",
       "1      girls   vehicle toys  [https://www.amazon.co.uk/sspa/click?ie=UTF8&s...\n",
       "2    neutral   vehicle toys  [https://www.amazon.co.uk/sspa/click?ie=UTF8&s...\n",
       "3       boys          sport  [https://www.amazon.co.uk/sspa/click?ie=UTF8&s...\n",
       "4      girls          sport  [https://www.amazon.co.uk/sspa/click?ie=UTF8&s...\n",
       "..       ...            ...                                                ...\n",
       "493    girls    board games  [https://www.amazon.co.uk/sspa/click?ie=UTF8&s...\n",
       "494  neutral    board games  [https://www.amazon.co.uk/sspa/click?ie=UTF8&s...\n",
       "495     boys  rock painting  [https://www.amazon.co.uk/sspa/click?ie=UTF8&s...\n",
       "496    girls  rock painting  [https://www.amazon.co.uk/sspa/click?ie=UTF8&s...\n",
       "497  neutral  rock painting  [https://www.amazon.co.uk/sspa/click?ie=UTF8&s...\n",
       "\n",
       "[498 rows x 3 columns]"
      ]
     },
     "execution_count": 20,
     "metadata": {},
     "output_type": "execute_result"
    }
   ],
   "source": [
    "qr_link = qr_link.append(data2, True)\n",
    "qr_link"
   ]
  },
  {
   "cell_type": "code",
   "execution_count": 21,
   "metadata": {},
   "outputs": [],
   "source": [
    "first20 = pd.DataFrame()"
   ]
  },
  {
   "cell_type": "code",
   "execution_count": 22,
   "metadata": {
    "id": "WZYGG-ASdxl0"
   },
   "outputs": [],
   "source": [
    "first20 = first20.append(qr, ignore_index =True)\n",
    "# first20_link = first20_link.append(qr_link, ignore_index =True)"
   ]
  },
  {
   "cell_type": "code",
   "execution_count": 63,
   "metadata": {
    "id": "PHP8Ftvxdxl0",
    "outputId": "a2ddb406-de93-45cc-dbec-554a65a69f07"
   },
   "outputs": [],
   "source": [
    "#i = 0\n",
    "#for x in first20_link['href']:\n",
    "    #print(len(x))\n",
    "   # if len(x) == 0  :\n",
    "    #    print(i)\n",
    "    #    first20_link.loc[i]['href'] = np.nan\n",
    "   # i+=1"
   ]
  },
  {
   "cell_type": "code",
   "execution_count": 64,
   "metadata": {
    "id": "y-Bm2nBkdxl1",
    "outputId": "2a1da8a0-9357-4fe6-a3d1-a63b5c197cc9"
   },
   "outputs": [],
   "source": [
    "# first20_link.isna().sum()"
   ]
  },
  {
   "cell_type": "code",
   "execution_count": 65,
   "metadata": {
    "id": "uCf5Z53Pdxl1"
   },
   "outputs": [],
   "source": [
    "# first20_link.dropna(inplace=True)"
   ]
  },
  {
   "cell_type": "code",
   "execution_count": 66,
   "metadata": {
    "id": "vWFwJ3Qbdxl1"
   },
   "outputs": [],
   "source": [
    "#first20_link.loc[114]"
   ]
  },
  {
   "cell_type": "code",
   "execution_count": 24,
   "metadata": {
    "id": "NzS1c4pgdxl1",
    "outputId": "c69b4da9-5174-4aa4-b208-aa38be129cda"
   },
   "outputs": [
    {
     "data": {
      "text/html": [
       "<div>\n",
       "<style scoped>\n",
       "    .dataframe tbody tr th:only-of-type {\n",
       "        vertical-align: middle;\n",
       "    }\n",
       "\n",
       "    .dataframe tbody tr th {\n",
       "        vertical-align: top;\n",
       "    }\n",
       "\n",
       "    .dataframe thead th {\n",
       "        text-align: right;\n",
       "    }\n",
       "</style>\n",
       "<table border=\"1\" class=\"dataframe\">\n",
       "  <thead>\n",
       "    <tr style=\"text-align: right;\">\n",
       "      <th></th>\n",
       "      <th>gender</th>\n",
       "      <th>query</th>\n",
       "      <th>result</th>\n",
       "    </tr>\n",
       "  </thead>\n",
       "  <tbody>\n",
       "    <tr>\n",
       "      <th>0</th>\n",
       "      <td>boys</td>\n",
       "      <td>vehicle toys</td>\n",
       "      <td>([, B09N783Q3T, B09XQXTC74, B07WQTSPGF, B0B426...</td>\n",
       "    </tr>\n",
       "    <tr>\n",
       "      <th>1</th>\n",
       "      <td>girls</td>\n",
       "      <td>vehicle toys</td>\n",
       "      <td>([, B07WQTSPGF, B09XQXTC74, B08ZCRVGHQ, B0759M...</td>\n",
       "    </tr>\n",
       "    <tr>\n",
       "      <th>2</th>\n",
       "      <td>neutral</td>\n",
       "      <td>vehicle toys</td>\n",
       "      <td>([, B09N783Q3T, B09J8BRFSP, B08ZCRVGHQ, B09XQX...</td>\n",
       "    </tr>\n",
       "    <tr>\n",
       "      <th>3</th>\n",
       "      <td>boys</td>\n",
       "      <td>sport</td>\n",
       "      <td>([, B081GW29YC, B00I04FDCI, B09ZKX11BT, B06XFQ...</td>\n",
       "    </tr>\n",
       "    <tr>\n",
       "      <th>4</th>\n",
       "      <td>girls</td>\n",
       "      <td>sport</td>\n",
       "      <td>([, B089W2C2Z8, B01HEZMR6I, B0B8HBZCRL, B0B9WW...</td>\n",
       "    </tr>\n",
       "    <tr>\n",
       "      <th>...</th>\n",
       "      <td>...</td>\n",
       "      <td>...</td>\n",
       "      <td>...</td>\n",
       "    </tr>\n",
       "    <tr>\n",
       "      <th>493</th>\n",
       "      <td>girls</td>\n",
       "      <td>board games</td>\n",
       "      <td>([, B092STXL3T, B09H7J66Z2, B00000JICB, B0BLHW...</td>\n",
       "    </tr>\n",
       "    <tr>\n",
       "      <th>494</th>\n",
       "      <td>neutral</td>\n",
       "      <td>board games</td>\n",
       "      <td>([, B092STXL3T, B07B7KPTQG, B078S8D27R, B078TW...</td>\n",
       "    </tr>\n",
       "    <tr>\n",
       "      <th>495</th>\n",
       "      <td>boys</td>\n",
       "      <td>rock painting</td>\n",
       "      <td>([, B08XK67TRQ, B07Z2R7S5P, B08RDCZWC7, B087PW...</td>\n",
       "    </tr>\n",
       "    <tr>\n",
       "      <th>496</th>\n",
       "      <td>girls</td>\n",
       "      <td>rock painting</td>\n",
       "      <td>([, B08XK67TRQ, B07Z2R7S5P, B08RDCZWC7, B087PW...</td>\n",
       "    </tr>\n",
       "    <tr>\n",
       "      <th>497</th>\n",
       "      <td>neutral</td>\n",
       "      <td>rock painting</td>\n",
       "      <td>([, B08XK67TRQ, B07Z2R7S5P, B08RDCZWC7, B089WK...</td>\n",
       "    </tr>\n",
       "  </tbody>\n",
       "</table>\n",
       "<p>498 rows × 3 columns</p>\n",
       "</div>"
      ],
      "text/plain": [
       "      gender          query                                             result\n",
       "0       boys   vehicle toys  ([, B09N783Q3T, B09XQXTC74, B07WQTSPGF, B0B426...\n",
       "1      girls   vehicle toys  ([, B07WQTSPGF, B09XQXTC74, B08ZCRVGHQ, B0759M...\n",
       "2    neutral   vehicle toys  ([, B09N783Q3T, B09J8BRFSP, B08ZCRVGHQ, B09XQX...\n",
       "3       boys          sport  ([, B081GW29YC, B00I04FDCI, B09ZKX11BT, B06XFQ...\n",
       "4      girls          sport  ([, B089W2C2Z8, B01HEZMR6I, B0B8HBZCRL, B0B9WW...\n",
       "..       ...            ...                                                ...\n",
       "493    girls    board games  ([, B092STXL3T, B09H7J66Z2, B00000JICB, B0BLHW...\n",
       "494  neutral    board games  ([, B092STXL3T, B07B7KPTQG, B078S8D27R, B078TW...\n",
       "495     boys  rock painting  ([, B08XK67TRQ, B07Z2R7S5P, B08RDCZWC7, B087PW...\n",
       "496    girls  rock painting  ([, B08XK67TRQ, B07Z2R7S5P, B08RDCZWC7, B087PW...\n",
       "497  neutral  rock painting  ([, B08XK67TRQ, B07Z2R7S5P, B08RDCZWC7, B089WK...\n",
       "\n",
       "[498 rows x 3 columns]"
      ]
     },
     "execution_count": 24,
     "metadata": {},
     "output_type": "execute_result"
    }
   ],
   "source": [
    "first20"
   ]
  },
  {
   "cell_type": "code",
   "execution_count": 25,
   "metadata": {
    "id": "aqrTWkMDdxl1",
    "outputId": "0598fb04-792f-48de-8198-4748c9b631ab"
   },
   "outputs": [],
   "source": [
    "# first20_link"
   ]
  },
  {
   "cell_type": "code",
   "execution_count": 26,
   "metadata": {
    "id": "2Dq3wxpGdxl1",
    "outputId": "8f025a40-8c28-40ae-a0b0-a4bdc5b9f9cd"
   },
   "outputs": [
    {
     "data": {
      "text/plain": [
       "66"
      ]
     },
     "execution_count": 26,
     "metadata": {},
     "output_type": "execute_result"
    }
   ],
   "source": [
    "len(first20.loc[0]['result'][1])"
   ]
  },
  {
   "cell_type": "code",
   "execution_count": 27,
   "metadata": {
    "id": "QEeFAHiIdxl1"
   },
   "outputs": [],
   "source": [
    "# first20 = pd.read_csv('item_results.csv')"
   ]
  },
  {
   "cell_type": "code",
   "execution_count": 28,
   "metadata": {
    "id": "m18BwyApdxl1"
   },
   "outputs": [],
   "source": [
    "first20.to_csv('az_uk_search_results.csv', index = False)\n",
    "# first20_link.to_csv('item_links.csv', index = False)"
   ]
  },
  {
   "cell_type": "code",
   "execution_count": 51,
   "metadata": {
    "id": "7yQfWuY0dxl2"
   },
   "outputs": [
    {
     "data": {
      "text/html": [
       "<div>\n",
       "<style scoped>\n",
       "    .dataframe tbody tr th:only-of-type {\n",
       "        vertical-align: middle;\n",
       "    }\n",
       "\n",
       "    .dataframe tbody tr th {\n",
       "        vertical-align: top;\n",
       "    }\n",
       "\n",
       "    .dataframe thead th {\n",
       "        text-align: right;\n",
       "    }\n",
       "</style>\n",
       "<table border=\"1\" class=\"dataframe\">\n",
       "  <thead>\n",
       "    <tr style=\"text-align: right;\">\n",
       "      <th></th>\n",
       "      <th>item</th>\n",
       "      <th>boys</th>\n",
       "      <th>girls</th>\n",
       "      <th>neutral</th>\n",
       "    </tr>\n",
       "  </thead>\n",
       "  <tbody>\n",
       "    <tr>\n",
       "      <th>0</th>\n",
       "      <td>toys</td>\n",
       "      <td>(([, B0B9GL62T7, B0B8HZJZQF, B09X9SX2ZK, B0B42...</td>\n",
       "      <td>(([, B09CPH2Q1V, B085DGS9BN, B0B9BW3QGV, B087D...</td>\n",
       "      <td>(([, B09FT5P8RK, B09NLPL4TM, B09XBQGML5, B0B42...</td>\n",
       "    </tr>\n",
       "    <tr>\n",
       "      <th>1</th>\n",
       "      <td>books</td>\n",
       "      <td>(([, 1653075104, B09MDHH1CF, B0BJHF35GL, B09Y4...</td>\n",
       "      <td>(([, 1953424341, B0BLFSVS1G, B0B3RL89SB, 18485...</td>\n",
       "      <td>(([, B0BCCVT2S3, B0BBXZPG9J, 0241381223, 02415...</td>\n",
       "    </tr>\n",
       "    <tr>\n",
       "      <th>2</th>\n",
       "      <td>learning material</td>\n",
       "      <td>(([, B09N3S4D7N, B0BDCVF2X2, B0BHXQMQZB, B0BHX...</td>\n",
       "      <td>(([, B09N3S4D7N, B09SG8W7VS, B0BHXQMQZB, B0BHX...</td>\n",
       "      <td>(([, B08725XV15, B0B9VJYCZ7, B07M9D92SJ, B07MM...</td>\n",
       "    </tr>\n",
       "    <tr>\n",
       "      <th>3</th>\n",
       "      <td>games</td>\n",
       "      <td>(([, B0B91WFR9W, B07YRGFQHY, B088M5PZG8, B09L5...</td>\n",
       "      <td>(([, B09FTHMRGR, B0B3M432H5, 1687795347, B09MH...</td>\n",
       "      <td>(([, , B076PRWVFG, B09FTHMRGR, B0B91WFR9W, B08...</td>\n",
       "    </tr>\n",
       "    <tr>\n",
       "      <th>4</th>\n",
       "      <td>sports</td>\n",
       "      <td>(([, B09PYX62JJ, B08JZ25FFZ, B0BFF896D6, B08HG...</td>\n",
       "      <td>(([, B0BNVY8N37, B0B2JJMQ9J, B097GZD6WD, B0B4B...</td>\n",
       "      <td>(([, B09VBMYWK8, B093HB43VL, B078ZTYFWY, B09PY...</td>\n",
       "    </tr>\n",
       "  </tbody>\n",
       "</table>\n",
       "</div>"
      ],
      "text/plain": [
       "                item                                               boys  \\\n",
       "0               toys  (([, B0B9GL62T7, B0B8HZJZQF, B09X9SX2ZK, B0B42...   \n",
       "1              books  (([, 1653075104, B09MDHH1CF, B0BJHF35GL, B09Y4...   \n",
       "2  learning material  (([, B09N3S4D7N, B0BDCVF2X2, B0BHXQMQZB, B0BHX...   \n",
       "3              games  (([, B0B91WFR9W, B07YRGFQHY, B088M5PZG8, B09L5...   \n",
       "4             sports  (([, B09PYX62JJ, B08JZ25FFZ, B0BFF896D6, B08HG...   \n",
       "\n",
       "                                               girls  \\\n",
       "0  (([, B09CPH2Q1V, B085DGS9BN, B0B9BW3QGV, B087D...   \n",
       "1  (([, 1953424341, B0BLFSVS1G, B0B3RL89SB, 18485...   \n",
       "2  (([, B09N3S4D7N, B09SG8W7VS, B0BHXQMQZB, B0BHX...   \n",
       "3  (([, B09FTHMRGR, B0B3M432H5, 1687795347, B09MH...   \n",
       "4  (([, B0BNVY8N37, B0B2JJMQ9J, B097GZD6WD, B0B4B...   \n",
       "\n",
       "                                             neutral  \n",
       "0  (([, B09FT5P8RK, B09NLPL4TM, B09XBQGML5, B0B42...  \n",
       "1  (([, B0BCCVT2S3, B0BBXZPG9J, 0241381223, 02415...  \n",
       "2  (([, B08725XV15, B0B9VJYCZ7, B07M9D92SJ, B07MM...  \n",
       "3  (([, , B076PRWVFG, B09FTHMRGR, B0B91WFR9W, B08...  \n",
       "4  (([, B09VBMYWK8, B093HB43VL, B078ZTYFWY, B09PY...  "
      ]
     },
     "execution_count": 51,
     "metadata": {},
     "output_type": "execute_result"
    }
   ],
   "source": [
    "df = pd.DataFrame.from_dict(search_result).T.reset_index()\n",
    "df.rename(columns={'index':'item'}, inplace = True)\n",
    "df"
   ]
  }
 ],
 "metadata": {
  "colab": {
   "provenance": []
  },
  "kernelspec": {
   "display_name": "Python 3 (ipykernel)",
   "language": "python",
   "name": "python3"
  },
  "language_info": {
   "codemirror_mode": {
    "name": "ipython",
    "version": 3
   },
   "file_extension": ".py",
   "mimetype": "text/x-python",
   "name": "python",
   "nbconvert_exporter": "python",
   "pygments_lexer": "ipython3",
   "version": "3.9.12"
  }
 },
 "nbformat": 4,
 "nbformat_minor": 4
}
