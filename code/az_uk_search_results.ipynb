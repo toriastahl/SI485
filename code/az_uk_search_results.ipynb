{
 "cells": [
  {
   "cell_type": "markdown",
   "metadata": {},
   "source": [
    "# Amazon UK Search Results Notebook"
   ]
  },
  {
   "cell_type": "markdown",
   "metadata": {},
   "source": [
    "## Installations"
   ]
  },
  {
   "cell_type": "markdown",
   "metadata": {},
   "source": [
    "Importing all necessary modules to run this notebook. Ensure selenium, selectorlib, and fake-useragent have been installed prior to running this notebook."
   ]
  },
  {
   "cell_type": "code",
   "execution_count": 18,
   "metadata": {
    "colab": {
     "base_uri": "https://localhost:8080/",
     "height": 350
    },
    "executionInfo": {
     "elapsed": 191,
     "status": "error",
     "timestamp": 1674156531501,
     "user": {
      "displayName": "Kate Gould",
      "userId": "05910585260938437266"
     },
     "user_tz": 300
    },
    "id": "lXyKHDCHdxlo",
    "outputId": "c78d48e7-67d6-4526-8e4d-914e9f90546f"
   },
   "outputs": [],
   "source": [
    "import requests\n",
    "import json\n",
    "import time\n",
    "import warnings\n",
    "import numpy as np\n",
    "import pandas as pd"
   ]
  },
  {
   "cell_type": "code",
   "execution_count": 2,
   "metadata": {
    "id": "78OyRqZ7dxls"
   },
   "outputs": [],
   "source": [
    "from selenium import webdriver\n",
    "from webdriver_manager.chrome import ChromeDriverManager\n",
    "from selenium.common.exceptions import NoSuchElementException\n",
    "from selenium.webdriver.common.by import By\n",
    "from selectorlib import Extractor\n",
    "from fake_useragent import UserAgent\n",
    "from selenium.webdriver.support.ui import WebDriverWait"
   ]
  },
  {
   "cell_type": "markdown",
   "metadata": {
    "id": "ch6SsKf9dxls"
   },
   "source": [
    "## Loading Pre-Documented Gender Stereotyped Toys"
   ]
  },
  {
   "cell_type": "markdown",
   "metadata": {},
   "source": [
    "Taking in predoc_stereotyped_items.csv, a CSV file containing 72 rows."
   ]
  },
  {
   "cell_type": "code",
   "execution_count": 27,
   "metadata": {
    "id": "jejLaA7xdxlu",
    "outputId": "c362e0de-7740-4dc3-b6ac-8a1382e61bbe"
   },
   "outputs": [
    {
     "data": {
      "text/html": [
       "<div>\n",
       "<style scoped>\n",
       "    .dataframe tbody tr th:only-of-type {\n",
       "        vertical-align: middle;\n",
       "    }\n",
       "\n",
       "    .dataframe tbody tr th {\n",
       "        vertical-align: top;\n",
       "    }\n",
       "\n",
       "    .dataframe thead th {\n",
       "        text-align: right;\n",
       "    }\n",
       "</style>\n",
       "<table border=\"1\" class=\"dataframe\">\n",
       "  <thead>\n",
       "    <tr style=\"text-align: right;\">\n",
       "      <th></th>\n",
       "      <th>BOY</th>\n",
       "      <th>GIRL</th>\n",
       "      <th>NEUTRAL</th>\n",
       "    </tr>\n",
       "  </thead>\n",
       "  <tbody>\n",
       "    <tr>\n",
       "      <th>0</th>\n",
       "      <td>vehicle toys</td>\n",
       "      <td>doll</td>\n",
       "      <td>toy animals</td>\n",
       "    </tr>\n",
       "    <tr>\n",
       "      <th>1</th>\n",
       "      <td>sport</td>\n",
       "      <td>domestic toys</td>\n",
       "      <td>books</td>\n",
       "    </tr>\n",
       "    <tr>\n",
       "      <th>2</th>\n",
       "      <td>military toys</td>\n",
       "      <td>educational art</td>\n",
       "      <td>educational teaching</td>\n",
       "    </tr>\n",
       "    <tr>\n",
       "      <th>3</th>\n",
       "      <td>race cars</td>\n",
       "      <td>clothes</td>\n",
       "      <td>musical games</td>\n",
       "    </tr>\n",
       "    <tr>\n",
       "      <th>4</th>\n",
       "      <td>outer space toys</td>\n",
       "      <td>dollhouses</td>\n",
       "      <td>games</td>\n",
       "    </tr>\n",
       "    <tr>\n",
       "      <th>5</th>\n",
       "      <td>depots</td>\n",
       "      <td>clothing accessories</td>\n",
       "      <td>live animals</td>\n",
       "    </tr>\n",
       "    <tr>\n",
       "      <th>6</th>\n",
       "      <td>machines</td>\n",
       "      <td>doll accessories</td>\n",
       "      <td>NaN</td>\n",
       "    </tr>\n",
       "    <tr>\n",
       "      <th>7</th>\n",
       "      <td>doll-humanoid</td>\n",
       "      <td>furnishing</td>\n",
       "      <td>NaN</td>\n",
       "    </tr>\n",
       "    <tr>\n",
       "      <th>8</th>\n",
       "      <td>action figures</td>\n",
       "      <td>ballerina costume</td>\n",
       "      <td>candy land</td>\n",
       "    </tr>\n",
       "    <tr>\n",
       "      <th>9</th>\n",
       "      <td>gi joe action figure</td>\n",
       "      <td>barbie costume</td>\n",
       "      <td>winnie the pooh</td>\n",
       "    </tr>\n",
       "  </tbody>\n",
       "</table>\n",
       "</div>"
      ],
      "text/plain": [
       "                    BOY                  GIRL               NEUTRAL\n",
       "0          vehicle toys                  doll           toy animals\n",
       "1                 sport         domestic toys                 books\n",
       "2         military toys       educational art  educational teaching\n",
       "3             race cars               clothes         musical games\n",
       "4      outer space toys            dollhouses                 games\n",
       "5                depots  clothing accessories          live animals\n",
       "6              machines      doll accessories                   NaN\n",
       "7         doll-humanoid            furnishing                   NaN\n",
       "8        action figures     ballerina costume            candy land\n",
       "9  gi joe action figure        barbie costume       winnie the pooh"
      ]
     },
     "execution_count": 27,
     "metadata": {},
     "output_type": "execute_result"
    }
   ],
   "source": [
    "stereo_toys = pd.read_csv('../predoc_info/predoc_stereotyped_items.csv', delimiter =',')\n",
    "stereo_toys[:10]"
   ]
  },
  {
   "cell_type": "code",
   "execution_count": 29,
   "metadata": {},
   "outputs": [
    {
     "data": {
      "text/plain": [
       "72"
      ]
     },
     "execution_count": 29,
     "metadata": {},
     "output_type": "execute_result"
    }
   ],
   "source": [
    "len(stereo_toys)"
   ]
  },
  {
   "cell_type": "markdown",
   "metadata": {},
   "source": [
    "## Loading List of Toys Collected from Previous Research"
   ]
  },
  {
   "cell_type": "markdown",
   "metadata": {},
   "source": [
    "all_items.txt contains a list of strings, where each string represents a toy that will be searched on Amazon UK. This text file contains 166 rows."
   ]
  },
  {
   "cell_type": "code",
   "execution_count": 26,
   "metadata": {
    "id": "HftiubXCdxlv"
   },
   "outputs": [],
   "source": [
    "with open('../predoc_info/all_items.txt') as f:\n",
    "    all_items = f.read().splitlines()"
   ]
  },
  {
   "cell_type": "code",
   "execution_count": 5,
   "metadata": {
    "id": "pIKTdxwEdxlv",
    "outputId": "d63e4841-cdce-4f2c-a986-1693b29dd1ba"
   },
   "outputs": [
    {
     "data": {
      "text/plain": [
       "166"
      ]
     },
     "execution_count": 5,
     "metadata": {},
     "output_type": "execute_result"
    }
   ],
   "source": [
    "len(all_items)"
   ]
  },
  {
   "cell_type": "markdown",
   "metadata": {},
   "source": [
    "## Trial"
   ]
  },
  {
   "cell_type": "markdown",
   "metadata": {},
   "source": [
    "Creating a short list of 6 toys from all_items. Trial is used so the following functions can be tested on a smaller sample rathen than testing on all 166 toys."
   ]
  },
  {
   "cell_type": "code",
   "execution_count": 6,
   "metadata": {
    "id": "8YTS9MbOdxlw",
    "outputId": "9aa63b45-8f12-482f-a7cb-f1619fe81f00"
   },
   "outputs": [
    {
     "data": {
      "text/plain": [
       "['legos', 'scooter', 'drum set', 'puzzles', 'board games', 'rock painting']"
      ]
     },
     "execution_count": 6,
     "metadata": {},
     "output_type": "execute_result"
    }
   ],
   "source": [
    "trial = all_items[160:]\n",
    "trial"
   ]
  },
  {
   "cell_type": "code",
   "execution_count": null,
   "metadata": {},
   "outputs": [],
   "source": [
    "len(trial)"
   ]
  },
  {
   "cell_type": "code",
   "execution_count": 7,
   "metadata": {
    "id": "o1nRqCB-dxlw"
   },
   "outputs": [],
   "source": [
    "generic = ['toys', 'books', 'learning material', 'games', 'sports']"
   ]
  },
  {
   "cell_type": "code",
   "execution_count": 8,
   "metadata": {
    "id": "vPdT-vxTdxlx"
   },
   "outputs": [],
   "source": [
    "gender = ['boys', 'girls', 'neutral']"
   ]
  },
  {
   "cell_type": "markdown",
   "metadata": {
    "id": "3o9NXUz1dxlx"
   },
   "source": [
    "## Scraping Functions"
   ]
  },
  {
   "cell_type": "markdown",
   "metadata": {
    "id": "1txJMd8Rdxlx"
   },
   "source": [
    "### Unique Identifier Function"
   ]
  },
  {
   "cell_type": "markdown",
   "metadata": {},
   "source": [
    "This function is used to scrape the ASIN of each toy."
   ]
  },
  {
   "cell_type": "code",
   "execution_count": 9,
   "metadata": {
    "id": "ptOzCIZCdxly"
   },
   "outputs": [],
   "source": [
    "def asin(driver):\n",
    "    asin_list = []\n",
    "    for index in range(1, 10):\n",
    "        asins = driver.find_elements(\"xpath\", \"//div[@data-asin]\")\n",
    "        for asin in asins:\n",
    "            asin_list.append(asin.get_attribute('data-asin'))\n",
    "    return asin_list"
   ]
  },
  {
   "cell_type": "markdown",
   "metadata": {
    "id": "SnD91zlhdxly"
   },
   "source": [
    "### Product Title Function"
   ]
  },
  {
   "cell_type": "markdown",
   "metadata": {},
   "source": [
    "This function is used to scrape the name of each toy."
   ]
  },
  {
   "cell_type": "code",
   "execution_count": 10,
   "metadata": {
    "id": "j9jYVZ43dxly"
   },
   "outputs": [],
   "source": [
    "def item_info(driver):\n",
    "    item = []\n",
    "    elem = driver.find_elements(By.CSS_SELECTOR, 'h2')\n",
    "    for i in elem:\n",
    "        item.append(i.text)\n",
    "    return item"
   ]
  },
  {
   "cell_type": "markdown",
   "metadata": {
    "id": "MtHOFAmBdxly"
   },
   "source": [
    "### Product Link Function"
   ]
  },
  {
   "cell_type": "markdown",
   "metadata": {},
   "source": [
    "This function is used to scrape the associated links of each toy."
   ]
  },
  {
   "cell_type": "code",
   "execution_count": 11,
   "metadata": {
    "id": "tzSF_sPvdxly"
   },
   "outputs": [],
   "source": [
    "def item_link(driver):\n",
    "    href = []\n",
    "    links = driver.find_elements('xpath', \"//h2//a[@href]\")\n",
    "    for link in links:\n",
    "        href.append(link.get_attribute('href'))\n",
    "    return href"
   ]
  },
  {
   "cell_type": "markdown",
   "metadata": {},
   "source": [
    "### Search Function"
   ]
  },
  {
   "cell_type": "markdown",
   "metadata": {
    "id": "ksetNpOgdxlz"
   },
   "source": [
    "This function calls the above three functions, and runs them on each toy for all three queries (for boys, for girls, for kids)."
   ]
  },
  {
   "cell_type": "code",
   "execution_count": 12,
   "metadata": {
    "id": "K-L14To5dxlz"
   },
   "outputs": [],
   "source": [
    "def search(item, who):\n",
    "    if who == 'neutral':\n",
    "        query = item + ' for ' + 'kids'\n",
    "    else:\n",
    "        query = item + ' for ' + who\n",
    "    driver.get(f'https://www.amazon.co.uk/s?k={query}&ref=nb_sb_noss')\n",
    "    driver.implicitly_wait(10)\n",
    "    list_asin = asin(driver)\n",
    "    item_list = item_info(driver)\n",
    "    item_page = item_link(driver)\n",
    "    return (list_asin, item_list), item_page"
   ]
  },
  {
   "cell_type": "code",
   "execution_count": 14,
   "metadata": {
    "id": "JLLwAhKhdxlz"
   },
   "outputs": [],
   "source": [
    "driver = webdriver.Chrome(ChromeDriverManager().install())\n",
    "search_result = {}\n",
    "for i in generic:\n",
    "    gender_dict = {}\n",
    "    for g in gender:\n",
    "        gender_dict[g] = search(i, g)\n",
    "        driver.implicitly_wait(5)\n",
    "    search_result[i] = gender_dict\n",
    "    time.sleep(1.5)\n",
    "driver.close()"
   ]
  },
  {
   "cell_type": "markdown",
   "metadata": {},
   "source": [
    "## Database Initialization"
   ]
  },
  {
   "cell_type": "markdown",
   "metadata": {},
   "source": [
    "Initializing databases to store scraped data."
   ]
  },
  {
   "cell_type": "code",
   "execution_count": 15,
   "metadata": {
    "id": "7MwtzxcLdxlz"
   },
   "outputs": [],
   "source": [
    "columns1 = ['gender', 'query', 'result']\n",
    "qr = pd.DataFrame(columns = columns1)\n",
    "columns2 = ['gender', 'query', 'href']\n",
    "qr_link = pd.DataFrame(columns = columns2)"
   ]
  },
  {
   "cell_type": "markdown",
   "metadata": {
    "id": "dzePLZ-Ydxl0"
   },
   "source": [
    "## Running Queries for Boys, Girls, and Kids (Neutral)"
   ]
  },
  {
   "cell_type": "markdown",
   "metadata": {},
   "source": [
    "This code is used to scrape all relevant data from the toys included in all_items. As of right now, all_items is used on line 7 in order to run the code through the entire list of toys. Changing all_items with trial on line 7 will faciliate testing as this will run the code on a smaller sample size."
   ]
  },
  {
   "cell_type": "code",
   "execution_count": 21,
   "metadata": {
    "id": "If9zHbjHdxl0",
    "outputId": "432189e1-1cca-4914-9993-99fc35689041"
   },
   "outputs": [],
   "source": [
    "warnings.filterwarnings('ignore')\n",
    "driver = webdriver.Chrome(ChromeDriverManager().install())\n",
    "data1 = []\n",
    "data2 = []\n",
    "item = ''\n",
    "for item in all_items:\n",
    "    for g in gender:\n",
    "        result, link = search(item, g)\n",
    "        values1 = [g, item, result]\n",
    "        values2 = [g, item, link]\n",
    "        zipped1 = zip(columns1, values1)\n",
    "        zipped2 = zip(columns2, values2)\n",
    "        a_dictionary1 = dict(zipped1)\n",
    "        a_dictionary2 = dict(zipped2)\n",
    "        time.sleep(1.5)\n",
    "        data1.append(a_dictionary1)\n",
    "        data2.append(a_dictionary2)\n",
    "driver.close()"
   ]
  },
  {
   "cell_type": "markdown",
   "metadata": {},
   "source": [
    "Appending ASIN data to previously initialized dataframe."
   ]
  },
  {
   "cell_type": "code",
   "execution_count": 22,
   "metadata": {
    "id": "xknpaGxQdxl0",
    "outputId": "5e4934da-b725-4978-d3e1-4e497784ff34"
   },
   "outputs": [
    {
     "data": {
      "text/html": [
       "<div>\n",
       "<style scoped>\n",
       "    .dataframe tbody tr th:only-of-type {\n",
       "        vertical-align: middle;\n",
       "    }\n",
       "\n",
       "    .dataframe tbody tr th {\n",
       "        vertical-align: top;\n",
       "    }\n",
       "\n",
       "    .dataframe thead th {\n",
       "        text-align: right;\n",
       "    }\n",
       "</style>\n",
       "<table border=\"1\" class=\"dataframe\">\n",
       "  <thead>\n",
       "    <tr style=\"text-align: right;\">\n",
       "      <th></th>\n",
       "      <th>gender</th>\n",
       "      <th>query</th>\n",
       "      <th>result</th>\n",
       "    </tr>\n",
       "  </thead>\n",
       "  <tbody>\n",
       "    <tr>\n",
       "      <th>0</th>\n",
       "      <td>boys</td>\n",
       "      <td>legos</td>\n",
       "      <td>([, B0BQDCTRHK, B09WF29MFV, B09WF2RPK1, B09XKM...</td>\n",
       "    </tr>\n",
       "    <tr>\n",
       "      <th>1</th>\n",
       "      <td>girls</td>\n",
       "      <td>legos</td>\n",
       "      <td>([, B09TDGFW5V, B07FSMCLH9, B07Z3FSKST, B0B973...</td>\n",
       "    </tr>\n",
       "    <tr>\n",
       "      <th>2</th>\n",
       "      <td>neutral</td>\n",
       "      <td>legos</td>\n",
       "      <td>([, B0BPYDGWZX, B09FM6DRLB, B081F8VHQ9, B09XWW...</td>\n",
       "    </tr>\n",
       "    <tr>\n",
       "      <th>3</th>\n",
       "      <td>boys</td>\n",
       "      <td>scooter</td>\n",
       "      <td>([, B07X9WF8WM, B075ZQZDDM, B08BR77NKT, B0BJ1H...</td>\n",
       "    </tr>\n",
       "    <tr>\n",
       "      <th>4</th>\n",
       "      <td>girls</td>\n",
       "      <td>scooter</td>\n",
       "      <td>([, B099S4DTXW, B09881ZR77, B08ZN98H3F, B015JT...</td>\n",
       "    </tr>\n",
       "    <tr>\n",
       "      <th>5</th>\n",
       "      <td>neutral</td>\n",
       "      <td>scooter</td>\n",
       "      <td>([, B095LM4Y6R, B08BR2726L, B08K2J3RBC, B0BDLC...</td>\n",
       "    </tr>\n",
       "    <tr>\n",
       "      <th>6</th>\n",
       "      <td>boys</td>\n",
       "      <td>drum set</td>\n",
       "      <td>([, B0B5MKSZ1R, B099DL3L8P, B0852FRRGC, B09MRL...</td>\n",
       "    </tr>\n",
       "    <tr>\n",
       "      <th>7</th>\n",
       "      <td>girls</td>\n",
       "      <td>drum set</td>\n",
       "      <td>([, B0B5MKSZ1R, B099DL3L8P, B0852FRRGC, B09PTS...</td>\n",
       "    </tr>\n",
       "    <tr>\n",
       "      <th>8</th>\n",
       "      <td>neutral</td>\n",
       "      <td>drum set</td>\n",
       "      <td>([, B0B48S9KCP, B0B8HKBSPR, B0B4V3T25K, B0B5MK...</td>\n",
       "    </tr>\n",
       "    <tr>\n",
       "      <th>9</th>\n",
       "      <td>boys</td>\n",
       "      <td>puzzles</td>\n",
       "      <td>([, B08VNF359Z, B08ZNCMJYD, B0BK35FZJC, B08LG7...</td>\n",
       "    </tr>\n",
       "    <tr>\n",
       "      <th>10</th>\n",
       "      <td>girls</td>\n",
       "      <td>puzzles</td>\n",
       "      <td>([, B08ZNCMJYD, B08VNF359Z, B079SXW3WD, B09JLR...</td>\n",
       "    </tr>\n",
       "    <tr>\n",
       "      <th>11</th>\n",
       "      <td>neutral</td>\n",
       "      <td>puzzles</td>\n",
       "      <td>([, 0008597618, 000859760X, 0008597588, B004NS...</td>\n",
       "    </tr>\n",
       "    <tr>\n",
       "      <th>12</th>\n",
       "      <td>boys</td>\n",
       "      <td>board games</td>\n",
       "      <td>([, B07VHDQMM7, B08D9J8JT4, B092STXL3T, B086XK...</td>\n",
       "    </tr>\n",
       "    <tr>\n",
       "      <th>13</th>\n",
       "      <td>girls</td>\n",
       "      <td>board games</td>\n",
       "      <td>([, B086XKJMC7, B08KLGLD4L, B0893GZ591, B078S8...</td>\n",
       "    </tr>\n",
       "    <tr>\n",
       "      <th>14</th>\n",
       "      <td>neutral</td>\n",
       "      <td>board games</td>\n",
       "      <td>([, B09MF4TQ1X, B09QXNBJ2M, B092STXL3T, B086XK...</td>\n",
       "    </tr>\n",
       "    <tr>\n",
       "      <th>15</th>\n",
       "      <td>boys</td>\n",
       "      <td>rock painting</td>\n",
       "      <td>([, B08HD89CX6, B08XK67TRQ, B087PW5YNC, B07KNZ...</td>\n",
       "    </tr>\n",
       "    <tr>\n",
       "      <th>16</th>\n",
       "      <td>girls</td>\n",
       "      <td>rock painting</td>\n",
       "      <td>([, B09YT1N8Y4, B07KNZLBYT, B08XK67TRQ, B08HD8...</td>\n",
       "    </tr>\n",
       "    <tr>\n",
       "      <th>17</th>\n",
       "      <td>neutral</td>\n",
       "      <td>rock painting</td>\n",
       "      <td>([, B09YT1N8Y4, B089R3V8TL, B08XK67TRQ, B0BJ6V...</td>\n",
       "    </tr>\n",
       "  </tbody>\n",
       "</table>\n",
       "</div>"
      ],
      "text/plain": [
       "     gender          query                                             result\n",
       "0      boys          legos  ([, B0BQDCTRHK, B09WF29MFV, B09WF2RPK1, B09XKM...\n",
       "1     girls          legos  ([, B09TDGFW5V, B07FSMCLH9, B07Z3FSKST, B0B973...\n",
       "2   neutral          legos  ([, B0BPYDGWZX, B09FM6DRLB, B081F8VHQ9, B09XWW...\n",
       "3      boys        scooter  ([, B07X9WF8WM, B075ZQZDDM, B08BR77NKT, B0BJ1H...\n",
       "4     girls        scooter  ([, B099S4DTXW, B09881ZR77, B08ZN98H3F, B015JT...\n",
       "5   neutral        scooter  ([, B095LM4Y6R, B08BR2726L, B08K2J3RBC, B0BDLC...\n",
       "6      boys       drum set  ([, B0B5MKSZ1R, B099DL3L8P, B0852FRRGC, B09MRL...\n",
       "7     girls       drum set  ([, B0B5MKSZ1R, B099DL3L8P, B0852FRRGC, B09PTS...\n",
       "8   neutral       drum set  ([, B0B48S9KCP, B0B8HKBSPR, B0B4V3T25K, B0B5MK...\n",
       "9      boys        puzzles  ([, B08VNF359Z, B08ZNCMJYD, B0BK35FZJC, B08LG7...\n",
       "10    girls        puzzles  ([, B08ZNCMJYD, B08VNF359Z, B079SXW3WD, B09JLR...\n",
       "11  neutral        puzzles  ([, 0008597618, 000859760X, 0008597588, B004NS...\n",
       "12     boys    board games  ([, B07VHDQMM7, B08D9J8JT4, B092STXL3T, B086XK...\n",
       "13    girls    board games  ([, B086XKJMC7, B08KLGLD4L, B0893GZ591, B078S8...\n",
       "14  neutral    board games  ([, B09MF4TQ1X, B09QXNBJ2M, B092STXL3T, B086XK...\n",
       "15     boys  rock painting  ([, B08HD89CX6, B08XK67TRQ, B087PW5YNC, B07KNZ...\n",
       "16    girls  rock painting  ([, B09YT1N8Y4, B07KNZLBYT, B08XK67TRQ, B08HD8...\n",
       "17  neutral  rock painting  ([, B09YT1N8Y4, B089R3V8TL, B08XK67TRQ, B0BJ6V..."
      ]
     },
     "execution_count": 22,
     "metadata": {},
     "output_type": "execute_result"
    }
   ],
   "source": [
    "qr = qr.append(data1, True)\n",
    "qr"
   ]
  },
  {
   "cell_type": "markdown",
   "metadata": {},
   "source": [
    "Database of toys and their associated links."
   ]
  },
  {
   "cell_type": "code",
   "execution_count": 23,
   "metadata": {
    "id": "hnN72pssdxl0",
    "outputId": "5bf8c296-6ecd-454e-e509-b2ac9590c172",
    "scrolled": true
   },
   "outputs": [
    {
     "data": {
      "text/html": [
       "<div>\n",
       "<style scoped>\n",
       "    .dataframe tbody tr th:only-of-type {\n",
       "        vertical-align: middle;\n",
       "    }\n",
       "\n",
       "    .dataframe tbody tr th {\n",
       "        vertical-align: top;\n",
       "    }\n",
       "\n",
       "    .dataframe thead th {\n",
       "        text-align: right;\n",
       "    }\n",
       "</style>\n",
       "<table border=\"1\" class=\"dataframe\">\n",
       "  <thead>\n",
       "    <tr style=\"text-align: right;\">\n",
       "      <th></th>\n",
       "      <th>gender</th>\n",
       "      <th>query</th>\n",
       "      <th>href</th>\n",
       "    </tr>\n",
       "  </thead>\n",
       "  <tbody>\n",
       "    <tr>\n",
       "      <th>0</th>\n",
       "      <td>boys</td>\n",
       "      <td>legos</td>\n",
       "      <td>[https://www.amazon.co.uk/sspa/click?ie=UTF8&amp;s...</td>\n",
       "    </tr>\n",
       "    <tr>\n",
       "      <th>1</th>\n",
       "      <td>girls</td>\n",
       "      <td>legos</td>\n",
       "      <td>[https://www.amazon.co.uk/sspa/click?ie=UTF8&amp;s...</td>\n",
       "    </tr>\n",
       "    <tr>\n",
       "      <th>2</th>\n",
       "      <td>neutral</td>\n",
       "      <td>legos</td>\n",
       "      <td>[https://www.amazon.co.uk/sspa/click?ie=UTF8&amp;s...</td>\n",
       "    </tr>\n",
       "    <tr>\n",
       "      <th>3</th>\n",
       "      <td>boys</td>\n",
       "      <td>scooter</td>\n",
       "      <td>[https://www.amazon.co.uk/sspa/click?ie=UTF8&amp;s...</td>\n",
       "    </tr>\n",
       "    <tr>\n",
       "      <th>4</th>\n",
       "      <td>girls</td>\n",
       "      <td>scooter</td>\n",
       "      <td>[https://www.amazon.co.uk/sspa/click?ie=UTF8&amp;s...</td>\n",
       "    </tr>\n",
       "    <tr>\n",
       "      <th>5</th>\n",
       "      <td>neutral</td>\n",
       "      <td>scooter</td>\n",
       "      <td>[https://www.amazon.co.uk/sspa/click?ie=UTF8&amp;s...</td>\n",
       "    </tr>\n",
       "    <tr>\n",
       "      <th>6</th>\n",
       "      <td>boys</td>\n",
       "      <td>drum set</td>\n",
       "      <td>[https://www.amazon.co.uk/sspa/click?ie=UTF8&amp;s...</td>\n",
       "    </tr>\n",
       "    <tr>\n",
       "      <th>7</th>\n",
       "      <td>girls</td>\n",
       "      <td>drum set</td>\n",
       "      <td>[https://www.amazon.co.uk/sspa/click?ie=UTF8&amp;s...</td>\n",
       "    </tr>\n",
       "    <tr>\n",
       "      <th>8</th>\n",
       "      <td>neutral</td>\n",
       "      <td>drum set</td>\n",
       "      <td>[https://www.amazon.co.uk/sspa/click?ie=UTF8&amp;s...</td>\n",
       "    </tr>\n",
       "    <tr>\n",
       "      <th>9</th>\n",
       "      <td>boys</td>\n",
       "      <td>puzzles</td>\n",
       "      <td>[https://www.amazon.co.uk/sspa/click?ie=UTF8&amp;s...</td>\n",
       "    </tr>\n",
       "    <tr>\n",
       "      <th>10</th>\n",
       "      <td>girls</td>\n",
       "      <td>puzzles</td>\n",
       "      <td>[https://www.amazon.co.uk/sspa/click?ie=UTF8&amp;s...</td>\n",
       "    </tr>\n",
       "    <tr>\n",
       "      <th>11</th>\n",
       "      <td>neutral</td>\n",
       "      <td>puzzles</td>\n",
       "      <td>[https://www.amazon.co.uk/sspa/click?ie=UTF8&amp;s...</td>\n",
       "    </tr>\n",
       "    <tr>\n",
       "      <th>12</th>\n",
       "      <td>boys</td>\n",
       "      <td>board games</td>\n",
       "      <td>[https://www.amazon.co.uk/sspa/click?ie=UTF8&amp;s...</td>\n",
       "    </tr>\n",
       "    <tr>\n",
       "      <th>13</th>\n",
       "      <td>girls</td>\n",
       "      <td>board games</td>\n",
       "      <td>[https://www.amazon.co.uk/sspa/click?ie=UTF8&amp;s...</td>\n",
       "    </tr>\n",
       "    <tr>\n",
       "      <th>14</th>\n",
       "      <td>neutral</td>\n",
       "      <td>board games</td>\n",
       "      <td>[https://www.amazon.co.uk/sspa/click?ie=UTF8&amp;s...</td>\n",
       "    </tr>\n",
       "    <tr>\n",
       "      <th>15</th>\n",
       "      <td>boys</td>\n",
       "      <td>rock painting</td>\n",
       "      <td>[https://www.amazon.co.uk/sspa/click?ie=UTF8&amp;s...</td>\n",
       "    </tr>\n",
       "    <tr>\n",
       "      <th>16</th>\n",
       "      <td>girls</td>\n",
       "      <td>rock painting</td>\n",
       "      <td>[https://www.amazon.co.uk/sspa/click?ie=UTF8&amp;s...</td>\n",
       "    </tr>\n",
       "    <tr>\n",
       "      <th>17</th>\n",
       "      <td>neutral</td>\n",
       "      <td>rock painting</td>\n",
       "      <td>[https://www.amazon.co.uk/sspa/click?ie=UTF8&amp;s...</td>\n",
       "    </tr>\n",
       "  </tbody>\n",
       "</table>\n",
       "</div>"
      ],
      "text/plain": [
       "     gender          query                                               href\n",
       "0      boys          legos  [https://www.amazon.co.uk/sspa/click?ie=UTF8&s...\n",
       "1     girls          legos  [https://www.amazon.co.uk/sspa/click?ie=UTF8&s...\n",
       "2   neutral          legos  [https://www.amazon.co.uk/sspa/click?ie=UTF8&s...\n",
       "3      boys        scooter  [https://www.amazon.co.uk/sspa/click?ie=UTF8&s...\n",
       "4     girls        scooter  [https://www.amazon.co.uk/sspa/click?ie=UTF8&s...\n",
       "5   neutral        scooter  [https://www.amazon.co.uk/sspa/click?ie=UTF8&s...\n",
       "6      boys       drum set  [https://www.amazon.co.uk/sspa/click?ie=UTF8&s...\n",
       "7     girls       drum set  [https://www.amazon.co.uk/sspa/click?ie=UTF8&s...\n",
       "8   neutral       drum set  [https://www.amazon.co.uk/sspa/click?ie=UTF8&s...\n",
       "9      boys        puzzles  [https://www.amazon.co.uk/sspa/click?ie=UTF8&s...\n",
       "10    girls        puzzles  [https://www.amazon.co.uk/sspa/click?ie=UTF8&s...\n",
       "11  neutral        puzzles  [https://www.amazon.co.uk/sspa/click?ie=UTF8&s...\n",
       "12     boys    board games  [https://www.amazon.co.uk/sspa/click?ie=UTF8&s...\n",
       "13    girls    board games  [https://www.amazon.co.uk/sspa/click?ie=UTF8&s...\n",
       "14  neutral    board games  [https://www.amazon.co.uk/sspa/click?ie=UTF8&s...\n",
       "15     boys  rock painting  [https://www.amazon.co.uk/sspa/click?ie=UTF8&s...\n",
       "16    girls  rock painting  [https://www.amazon.co.uk/sspa/click?ie=UTF8&s...\n",
       "17  neutral  rock painting  [https://www.amazon.co.uk/sspa/click?ie=UTF8&s..."
      ]
     },
     "execution_count": 23,
     "metadata": {},
     "output_type": "execute_result"
    }
   ],
   "source": [
    "qr_link = qr_link.append(data2, True)\n",
    "qr_link"
   ]
  },
  {
   "cell_type": "markdown",
   "metadata": {},
   "source": [
    "## Converting Data to CSV File"
   ]
  },
  {
   "cell_type": "code",
   "execution_count": 30,
   "metadata": {},
   "outputs": [],
   "source": [
    "az_uk_search_results = pd.DataFrame()"
   ]
  },
  {
   "cell_type": "code",
   "execution_count": 22,
   "metadata": {
    "id": "WZYGG-ASdxl0"
   },
   "outputs": [],
   "source": [
    "az_uk_search_results = az_uk_search_results.append(qr, ignore_index =True)\n",
    "# az_uk_search_results_link = az_uk_search_results_link.append(qr_link, ignore_index =True)"
   ]
  },
  {
   "cell_type": "code",
   "execution_count": 24,
   "metadata": {
    "id": "NzS1c4pgdxl1",
    "outputId": "c69b4da9-5174-4aa4-b208-aa38be129cda"
   },
   "outputs": [
    {
     "data": {
      "text/html": [
       "<div>\n",
       "<style scoped>\n",
       "    .dataframe tbody tr th:only-of-type {\n",
       "        vertical-align: middle;\n",
       "    }\n",
       "\n",
       "    .dataframe tbody tr th {\n",
       "        vertical-align: top;\n",
       "    }\n",
       "\n",
       "    .dataframe thead th {\n",
       "        text-align: right;\n",
       "    }\n",
       "</style>\n",
       "<table border=\"1\" class=\"dataframe\">\n",
       "  <thead>\n",
       "    <tr style=\"text-align: right;\">\n",
       "      <th></th>\n",
       "      <th>gender</th>\n",
       "      <th>query</th>\n",
       "      <th>result</th>\n",
       "    </tr>\n",
       "  </thead>\n",
       "  <tbody>\n",
       "    <tr>\n",
       "      <th>0</th>\n",
       "      <td>boys</td>\n",
       "      <td>vehicle toys</td>\n",
       "      <td>([, B09N783Q3T, B09XQXTC74, B07WQTSPGF, B0B426...</td>\n",
       "    </tr>\n",
       "    <tr>\n",
       "      <th>1</th>\n",
       "      <td>girls</td>\n",
       "      <td>vehicle toys</td>\n",
       "      <td>([, B07WQTSPGF, B09XQXTC74, B08ZCRVGHQ, B0759M...</td>\n",
       "    </tr>\n",
       "    <tr>\n",
       "      <th>2</th>\n",
       "      <td>neutral</td>\n",
       "      <td>vehicle toys</td>\n",
       "      <td>([, B09N783Q3T, B09J8BRFSP, B08ZCRVGHQ, B09XQX...</td>\n",
       "    </tr>\n",
       "    <tr>\n",
       "      <th>3</th>\n",
       "      <td>boys</td>\n",
       "      <td>sport</td>\n",
       "      <td>([, B081GW29YC, B00I04FDCI, B09ZKX11BT, B06XFQ...</td>\n",
       "    </tr>\n",
       "    <tr>\n",
       "      <th>4</th>\n",
       "      <td>girls</td>\n",
       "      <td>sport</td>\n",
       "      <td>([, B089W2C2Z8, B01HEZMR6I, B0B8HBZCRL, B0B9WW...</td>\n",
       "    </tr>\n",
       "    <tr>\n",
       "      <th>...</th>\n",
       "      <td>...</td>\n",
       "      <td>...</td>\n",
       "      <td>...</td>\n",
       "    </tr>\n",
       "    <tr>\n",
       "      <th>493</th>\n",
       "      <td>girls</td>\n",
       "      <td>board games</td>\n",
       "      <td>([, B092STXL3T, B09H7J66Z2, B00000JICB, B0BLHW...</td>\n",
       "    </tr>\n",
       "    <tr>\n",
       "      <th>494</th>\n",
       "      <td>neutral</td>\n",
       "      <td>board games</td>\n",
       "      <td>([, B092STXL3T, B07B7KPTQG, B078S8D27R, B078TW...</td>\n",
       "    </tr>\n",
       "    <tr>\n",
       "      <th>495</th>\n",
       "      <td>boys</td>\n",
       "      <td>rock painting</td>\n",
       "      <td>([, B08XK67TRQ, B07Z2R7S5P, B08RDCZWC7, B087PW...</td>\n",
       "    </tr>\n",
       "    <tr>\n",
       "      <th>496</th>\n",
       "      <td>girls</td>\n",
       "      <td>rock painting</td>\n",
       "      <td>([, B08XK67TRQ, B07Z2R7S5P, B08RDCZWC7, B087PW...</td>\n",
       "    </tr>\n",
       "    <tr>\n",
       "      <th>497</th>\n",
       "      <td>neutral</td>\n",
       "      <td>rock painting</td>\n",
       "      <td>([, B08XK67TRQ, B07Z2R7S5P, B08RDCZWC7, B089WK...</td>\n",
       "    </tr>\n",
       "  </tbody>\n",
       "</table>\n",
       "<p>498 rows × 3 columns</p>\n",
       "</div>"
      ],
      "text/plain": [
       "      gender          query                                             result\n",
       "0       boys   vehicle toys  ([, B09N783Q3T, B09XQXTC74, B07WQTSPGF, B0B426...\n",
       "1      girls   vehicle toys  ([, B07WQTSPGF, B09XQXTC74, B08ZCRVGHQ, B0759M...\n",
       "2    neutral   vehicle toys  ([, B09N783Q3T, B09J8BRFSP, B08ZCRVGHQ, B09XQX...\n",
       "3       boys          sport  ([, B081GW29YC, B00I04FDCI, B09ZKX11BT, B06XFQ...\n",
       "4      girls          sport  ([, B089W2C2Z8, B01HEZMR6I, B0B8HBZCRL, B0B9WW...\n",
       "..       ...            ...                                                ...\n",
       "493    girls    board games  ([, B092STXL3T, B09H7J66Z2, B00000JICB, B0BLHW...\n",
       "494  neutral    board games  ([, B092STXL3T, B07B7KPTQG, B078S8D27R, B078TW...\n",
       "495     boys  rock painting  ([, B08XK67TRQ, B07Z2R7S5P, B08RDCZWC7, B087PW...\n",
       "496    girls  rock painting  ([, B08XK67TRQ, B07Z2R7S5P, B08RDCZWC7, B087PW...\n",
       "497  neutral  rock painting  ([, B08XK67TRQ, B07Z2R7S5P, B08RDCZWC7, B089WK...\n",
       "\n",
       "[498 rows x 3 columns]"
      ]
     },
     "execution_count": 24,
     "metadata": {},
     "output_type": "execute_result"
    }
   ],
   "source": [
    "az_uk_search_results"
   ]
  },
  {
   "cell_type": "code",
   "execution_count": 28,
   "metadata": {
    "id": "m18BwyApdxl1"
   },
   "outputs": [],
   "source": [
    "az_uk_search_results.to_csv('az_uk_search_results.csv', index = False)"
   ]
  },
  {
   "cell_type": "code",
   "execution_count": 51,
   "metadata": {
    "id": "7yQfWuY0dxl2"
   },
   "outputs": [
    {
     "data": {
      "text/html": [
       "<div>\n",
       "<style scoped>\n",
       "    .dataframe tbody tr th:only-of-type {\n",
       "        vertical-align: middle;\n",
       "    }\n",
       "\n",
       "    .dataframe tbody tr th {\n",
       "        vertical-align: top;\n",
       "    }\n",
       "\n",
       "    .dataframe thead th {\n",
       "        text-align: right;\n",
       "    }\n",
       "</style>\n",
       "<table border=\"1\" class=\"dataframe\">\n",
       "  <thead>\n",
       "    <tr style=\"text-align: right;\">\n",
       "      <th></th>\n",
       "      <th>item</th>\n",
       "      <th>boys</th>\n",
       "      <th>girls</th>\n",
       "      <th>neutral</th>\n",
       "    </tr>\n",
       "  </thead>\n",
       "  <tbody>\n",
       "    <tr>\n",
       "      <th>0</th>\n",
       "      <td>toys</td>\n",
       "      <td>(([, B0B9GL62T7, B0B8HZJZQF, B09X9SX2ZK, B0B42...</td>\n",
       "      <td>(([, B09CPH2Q1V, B085DGS9BN, B0B9BW3QGV, B087D...</td>\n",
       "      <td>(([, B09FT5P8RK, B09NLPL4TM, B09XBQGML5, B0B42...</td>\n",
       "    </tr>\n",
       "    <tr>\n",
       "      <th>1</th>\n",
       "      <td>books</td>\n",
       "      <td>(([, 1653075104, B09MDHH1CF, B0BJHF35GL, B09Y4...</td>\n",
       "      <td>(([, 1953424341, B0BLFSVS1G, B0B3RL89SB, 18485...</td>\n",
       "      <td>(([, B0BCCVT2S3, B0BBXZPG9J, 0241381223, 02415...</td>\n",
       "    </tr>\n",
       "    <tr>\n",
       "      <th>2</th>\n",
       "      <td>learning material</td>\n",
       "      <td>(([, B09N3S4D7N, B0BDCVF2X2, B0BHXQMQZB, B0BHX...</td>\n",
       "      <td>(([, B09N3S4D7N, B09SG8W7VS, B0BHXQMQZB, B0BHX...</td>\n",
       "      <td>(([, B08725XV15, B0B9VJYCZ7, B07M9D92SJ, B07MM...</td>\n",
       "    </tr>\n",
       "    <tr>\n",
       "      <th>3</th>\n",
       "      <td>games</td>\n",
       "      <td>(([, B0B91WFR9W, B07YRGFQHY, B088M5PZG8, B09L5...</td>\n",
       "      <td>(([, B09FTHMRGR, B0B3M432H5, 1687795347, B09MH...</td>\n",
       "      <td>(([, , B076PRWVFG, B09FTHMRGR, B0B91WFR9W, B08...</td>\n",
       "    </tr>\n",
       "    <tr>\n",
       "      <th>4</th>\n",
       "      <td>sports</td>\n",
       "      <td>(([, B09PYX62JJ, B08JZ25FFZ, B0BFF896D6, B08HG...</td>\n",
       "      <td>(([, B0BNVY8N37, B0B2JJMQ9J, B097GZD6WD, B0B4B...</td>\n",
       "      <td>(([, B09VBMYWK8, B093HB43VL, B078ZTYFWY, B09PY...</td>\n",
       "    </tr>\n",
       "  </tbody>\n",
       "</table>\n",
       "</div>"
      ],
      "text/plain": [
       "                item                                               boys  \\\n",
       "0               toys  (([, B0B9GL62T7, B0B8HZJZQF, B09X9SX2ZK, B0B42...   \n",
       "1              books  (([, 1653075104, B09MDHH1CF, B0BJHF35GL, B09Y4...   \n",
       "2  learning material  (([, B09N3S4D7N, B0BDCVF2X2, B0BHXQMQZB, B0BHX...   \n",
       "3              games  (([, B0B91WFR9W, B07YRGFQHY, B088M5PZG8, B09L5...   \n",
       "4             sports  (([, B09PYX62JJ, B08JZ25FFZ, B0BFF896D6, B08HG...   \n",
       "\n",
       "                                               girls  \\\n",
       "0  (([, B09CPH2Q1V, B085DGS9BN, B0B9BW3QGV, B087D...   \n",
       "1  (([, 1953424341, B0BLFSVS1G, B0B3RL89SB, 18485...   \n",
       "2  (([, B09N3S4D7N, B09SG8W7VS, B0BHXQMQZB, B0BHX...   \n",
       "3  (([, B09FTHMRGR, B0B3M432H5, 1687795347, B09MH...   \n",
       "4  (([, B0BNVY8N37, B0B2JJMQ9J, B097GZD6WD, B0B4B...   \n",
       "\n",
       "                                             neutral  \n",
       "0  (([, B09FT5P8RK, B09NLPL4TM, B09XBQGML5, B0B42...  \n",
       "1  (([, B0BCCVT2S3, B0BBXZPG9J, 0241381223, 02415...  \n",
       "2  (([, B08725XV15, B0B9VJYCZ7, B07M9D92SJ, B07MM...  \n",
       "3  (([, , B076PRWVFG, B09FTHMRGR, B0B91WFR9W, B08...  \n",
       "4  (([, B09VBMYWK8, B093HB43VL, B078ZTYFWY, B09PY...  "
      ]
     },
     "execution_count": 51,
     "metadata": {},
     "output_type": "execute_result"
    }
   ],
   "source": [
    "df = pd.DataFrame.from_dict(search_result).T.reset_index()\n",
    "df.rename(columns={'index':'item'}, inplace = True)\n",
    "df"
   ]
  }
 ],
 "metadata": {
  "colab": {
   "provenance": []
  },
  "kernelspec": {
   "display_name": "Python 3 (ipykernel)",
   "language": "python",
   "name": "python3"
  },
  "language_info": {
   "codemirror_mode": {
    "name": "ipython",
    "version": 3
   },
   "file_extension": ".py",
   "mimetype": "text/x-python",
   "name": "python",
   "nbconvert_exporter": "python",
   "pygments_lexer": "ipython3",
   "version": "3.10.6"
  }
 },
 "nbformat": 4,
 "nbformat_minor": 4
}
