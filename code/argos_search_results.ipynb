{
 "cells": [
  {
   "cell_type": "markdown",
   "id": "f9a2edd2-bc2e-4e78-9d8f-db14ca30c01d",
   "metadata": {},
   "source": [
    "# Argos Search Results Notebook"
   ]
  },
  {
   "cell_type": "markdown",
   "id": "2f1c5770-5350-4421-a341-439c9d5b79ce",
   "metadata": {},
   "source": [
    "## Installations"
   ]
  },
  {
   "cell_type": "markdown",
   "id": "fb2e622a-fb71-4842-bef4-3960bf52f4a7",
   "metadata": {},
   "source": [
    "Importing all necessary modules to run this notebook. Ensure selenium, selectorlib, and fake-useragent have been installed prior to running this notebook."
   ]
  },
  {
   "cell_type": "code",
   "execution_count": 1,
   "id": "acf5e0c7-0f7d-4f9c-923c-80bd9c6ceb24",
   "metadata": {},
   "outputs": [],
   "source": [
    "import requests\n",
    "import json\n",
    "from fake_useragent import UserAgent"
   ]
  },
  {
   "cell_type": "code",
   "execution_count": 2,
   "id": "5381d322-76c8-4804-a681-6785b6858f79",
   "metadata": {},
   "outputs": [],
   "source": [
    "import pandas as pd\n",
    "import numpy as np"
   ]
  },
  {
   "cell_type": "code",
   "execution_count": 3,
   "id": "d7e4bcaa-8a85-49f0-8334-4c7c3bf3e954",
   "metadata": {},
   "outputs": [],
   "source": [
    "from selenium import webdriver\n",
    "from selenium.webdriver.support.ui import WebDriverWait"
   ]
  },
  {
   "cell_type": "code",
   "execution_count": 4,
   "id": "bd452286-f4a0-409d-9457-620a9382e5b6",
   "metadata": {},
   "outputs": [],
   "source": [
    "from selenium import webdriver\n",
    "from webdriver_manager.chrome import ChromeDriverManager\n",
    "from selenium.common.exceptions import NoSuchElementException\n",
    "from selectorlib import Extractor\n",
    "import time"
   ]
  },
  {
   "cell_type": "markdown",
   "id": "9327f8f2-f3ea-4f8d-b98d-7a176a330a13",
   "metadata": {},
   "source": [
    "## Loading Pre-Documented Gender Stereotyped Toys"
   ]
  },
  {
   "cell_type": "markdown",
   "id": "c0ca50e8-4e76-4bae-8a99-a1f601f5bf55",
   "metadata": {},
   "source": [
    "Taking in predoc_stereotyped_items.csv to use for later analysis. This CSV file contains 72 rows."
   ]
  },
  {
   "cell_type": "code",
   "execution_count": 5,
   "id": "f9621c53-2738-4017-b681-806ca1dbebab",
   "metadata": {},
   "outputs": [
    {
     "data": {
      "text/html": [
       "<div>\n",
       "<style scoped>\n",
       "    .dataframe tbody tr th:only-of-type {\n",
       "        vertical-align: middle;\n",
       "    }\n",
       "\n",
       "    .dataframe tbody tr th {\n",
       "        vertical-align: top;\n",
       "    }\n",
       "\n",
       "    .dataframe thead th {\n",
       "        text-align: right;\n",
       "    }\n",
       "</style>\n",
       "<table border=\"1\" class=\"dataframe\">\n",
       "  <thead>\n",
       "    <tr style=\"text-align: right;\">\n",
       "      <th></th>\n",
       "      <th>BOY</th>\n",
       "      <th>GIRL</th>\n",
       "      <th>NEUTRAL</th>\n",
       "    </tr>\n",
       "  </thead>\n",
       "  <tbody>\n",
       "    <tr>\n",
       "      <th>0</th>\n",
       "      <td>vehicle toys</td>\n",
       "      <td>doll</td>\n",
       "      <td>toy animals</td>\n",
       "    </tr>\n",
       "    <tr>\n",
       "      <th>1</th>\n",
       "      <td>sport</td>\n",
       "      <td>domestic toys</td>\n",
       "      <td>books</td>\n",
       "    </tr>\n",
       "    <tr>\n",
       "      <th>2</th>\n",
       "      <td>military toys</td>\n",
       "      <td>educational art</td>\n",
       "      <td>educational teaching</td>\n",
       "    </tr>\n",
       "    <tr>\n",
       "      <th>3</th>\n",
       "      <td>race cars</td>\n",
       "      <td>clothes</td>\n",
       "      <td>musical games</td>\n",
       "    </tr>\n",
       "    <tr>\n",
       "      <th>4</th>\n",
       "      <td>outer space toys</td>\n",
       "      <td>dollhouses</td>\n",
       "      <td>games</td>\n",
       "    </tr>\n",
       "    <tr>\n",
       "      <th>...</th>\n",
       "      <td>...</td>\n",
       "      <td>...</td>\n",
       "      <td>...</td>\n",
       "    </tr>\n",
       "    <tr>\n",
       "      <th>67</th>\n",
       "      <td>toy rocket</td>\n",
       "      <td>barbie furniture set</td>\n",
       "      <td>NaN</td>\n",
       "    </tr>\n",
       "    <tr>\n",
       "      <th>68</th>\n",
       "      <td>soccer ball</td>\n",
       "      <td>NaN</td>\n",
       "      <td>NaN</td>\n",
       "    </tr>\n",
       "    <tr>\n",
       "      <th>69</th>\n",
       "      <td>blue ipad</td>\n",
       "      <td>pink ipad</td>\n",
       "      <td>NaN</td>\n",
       "    </tr>\n",
       "    <tr>\n",
       "      <th>70</th>\n",
       "      <td>toy robots</td>\n",
       "      <td>NaN</td>\n",
       "      <td>NaN</td>\n",
       "    </tr>\n",
       "    <tr>\n",
       "      <th>71</th>\n",
       "      <td>toy drones</td>\n",
       "      <td>NaN</td>\n",
       "      <td>NaN</td>\n",
       "    </tr>\n",
       "  </tbody>\n",
       "</table>\n",
       "<p>72 rows × 3 columns</p>\n",
       "</div>"
      ],
      "text/plain": [
       "                 BOY                  GIRL               NEUTRAL\n",
       "0       vehicle toys                  doll           toy animals\n",
       "1              sport         domestic toys                 books\n",
       "2      military toys       educational art  educational teaching\n",
       "3          race cars               clothes         musical games\n",
       "4   outer space toys            dollhouses                 games\n",
       "..               ...                   ...                   ...\n",
       "67        toy rocket  barbie furniture set                   NaN\n",
       "68       soccer ball                   NaN                   NaN\n",
       "69         blue ipad             pink ipad                   NaN\n",
       "70        toy robots                   NaN                   NaN\n",
       "71        toy drones                   NaN                   NaN\n",
       "\n",
       "[72 rows x 3 columns]"
      ]
     },
     "execution_count": 5,
     "metadata": {},
     "output_type": "execute_result"
    }
   ],
   "source": [
    "stereo_toys = pd.read_csv('~/Desktop/SI 485/GitHub Repo/predoc_info/predoc_stereotyped_items.csv', delimiter=',')\n",
    "stereo_toys"
   ]
  },
  {
   "cell_type": "markdown",
   "id": "50e100f9-5bb1-436f-b52c-56adb5d64cb8",
   "metadata": {},
   "source": [
    "## Loading List of Toys Collected from Previous Research"
   ]
  },
  {
   "cell_type": "markdown",
   "id": "5ce08f41-a720-452c-80c1-609174821c49",
   "metadata": {},
   "source": [
    "all_items.txt contains a list of strings, where each string represents a toy that will be searched on Argos. This text file contains 166 rows."
   ]
  },
  {
   "cell_type": "code",
   "execution_count": 6,
   "id": "5a886d71-124b-46da-8677-c8ba313422a0",
   "metadata": {},
   "outputs": [],
   "source": [
    "with open('all_items.txt') as f:\n",
    "    all_items = f.read().splitlines()"
   ]
  },
  {
   "cell_type": "code",
   "execution_count": 7,
   "id": "47a4499b-87e5-4ccb-9299-30dc76d9e9a2",
   "metadata": {},
   "outputs": [
    {
     "data": {
      "text/plain": [
       "166"
      ]
     },
     "execution_count": 7,
     "metadata": {},
     "output_type": "execute_result"
    }
   ],
   "source": [
    "len(all_items)"
   ]
  },
  {
   "cell_type": "markdown",
   "id": "8f22efea-9b29-4a2c-92af-6299a33f6044",
   "metadata": {},
   "source": [
    "trial is a list of 6 toys from all_items. trial was used to test if the code works on a small sample of all_items rather than running the full iteration every time."
   ]
  },
  {
   "cell_type": "code",
   "execution_count": 8,
   "id": "abb1e190-5cd9-4f70-a0f2-a590a9f61d17",
   "metadata": {},
   "outputs": [
    {
     "data": {
      "text/plain": [
       "['legos', 'scooter', 'drum set', 'puzzles', 'board games', 'rock painting']"
      ]
     },
     "execution_count": 8,
     "metadata": {},
     "output_type": "execute_result"
    }
   ],
   "source": [
    "trial = all_items[160:]\n",
    "trial"
   ]
  },
  {
   "cell_type": "code",
   "execution_count": 9,
   "id": "94c2a640-2be4-48eb-979b-4f55edb28b3d",
   "metadata": {},
   "outputs": [],
   "source": [
    "generic = ['toys', 'books', 'learning material', 'games', 'sports']"
   ]
  },
  {
   "cell_type": "code",
   "execution_count": 10,
   "id": "c50fc700-daca-4d83-8dc1-3bcdaea8e1fd",
   "metadata": {},
   "outputs": [],
   "source": [
    "gender = ['boys', 'girls', 'neutral']"
   ]
  },
  {
   "cell_type": "markdown",
   "id": "37c5057b-6818-4436-afef-b97102a33cb2",
   "metadata": {},
   "source": [
    "## Search"
   ]
  },
  {
   "cell_type": "markdown",
   "id": "49bfcd28-0a00-42ee-8dde-32c880aa6333",
   "metadata": {},
   "source": [
    "### Collecting EAN of Retrieved Products"
   ]
  },
  {
   "cell_type": "markdown",
   "id": "81ec75fc-ab03-4d78-99cd-15e7d13e9ccf",
   "metadata": {},
   "source": [
    "Made use of inspect element on Argos' webpage to determine the xpath"
   ]
  },
  {
   "cell_type": "code",
   "execution_count": 11,
   "id": "72e33dc4-b079-45fe-8559-d42851f971cb",
   "metadata": {},
   "outputs": [],
   "source": [
    "def asin(driver):\n",
    "    asin_list = []\n",
    "    for index in range(1, 10):\n",
    "        asins = driver.find_elements('xpath','//a[@aria-labelledby]')\n",
    "        for asin in asins:\n",
    "            #time.sleep(0.4)\n",
    "            asin_list.append(asin.get_attribute('aria-labelledby'))\n",
    "    return asin_list"
   ]
  },
  {
   "cell_type": "markdown",
   "id": "32283dbc-6b03-43da-a6f1-195fe90ab917",
   "metadata": {},
   "source": [
    "### Get Title Information of Retrieved Products"
   ]
  },
  {
   "cell_type": "code",
   "execution_count": 12,
   "id": "643bfb87-ef85-4d4c-b21b-db678ec520d6",
   "metadata": {},
   "outputs": [],
   "source": [
    "from selenium.webdriver.common.by import By\n",
    "def item_info(driver):\n",
    "    item = []\n",
    "    elem = driver.find_elements('xpath', \"//a[meta/@itemprop]\")\n",
    "    for i in elem:\n",
    "        #time.sleep(0.4)\n",
    "        item.append(i.text)\n",
    "    return item"
   ]
  },
  {
   "cell_type": "markdown",
   "id": "6d3503fd-2d32-42b5-9e20-4ca71a8b85e4",
   "metadata": {},
   "source": [
    "### Collect Product Link of Retrieved Products"
   ]
  },
  {
   "cell_type": "code",
   "execution_count": 13,
   "id": "123efac1-785c-4690-a19f-e065adf9ed8a",
   "metadata": {},
   "outputs": [],
   "source": [
    "def item_link(driver):\n",
    "    href = []\n",
    "    links = driver.find_elements('xpath', \"//a[@data-test = 'component-product-card-link']\")\n",
    "    for link in links:\n",
    "        #time.sleep(0.4)\n",
    "        href.append(link.get_attribute('href'))\n",
    "    return href"
   ]
  },
  {
   "cell_type": "markdown",
   "id": "ea96a351-fbdd-4230-aaac-f316a93e4e97",
   "metadata": {},
   "source": [
    "## Preparing Search Function"
   ]
  },
  {
   "cell_type": "markdown",
   "id": "b9040b8a-c7c3-4e20-8d48-1e892d61246e",
   "metadata": {},
   "source": [
    "This function is used to scrape all necessary information for each toy in all_items."
   ]
  },
  {
   "cell_type": "code",
   "execution_count": 20,
   "id": "169415c6-51da-46c7-a899-3942b9afada5",
   "metadata": {},
   "outputs": [],
   "source": [
    "def search(item, who):\n",
    "    if who == 'neutral':\n",
    "        query = item + '-for-' + 'kids'\n",
    "    else:\n",
    "        query = item + '-for-' + who\n",
    "    driver.get(f'https://www.argos.co.uk/search/{query}/?clickOrigin=searchbar:home:term:{query}')\n",
    "    time.sleep(15)\n",
    "    list_asin = asin(driver)\n",
    "    item_list = item_info(driver)\n",
    "    item_page = item_link(driver)\n",
    "    return (list_asin, item_list), item_page"
   ]
  },
  {
   "cell_type": "markdown",
   "id": "c2a728d6-ae81-44da-9878-01931a916137",
   "metadata": {},
   "source": [
    "Initializing databases for scraped data."
   ]
  },
  {
   "cell_type": "code",
   "execution_count": 21,
   "id": "91e6f4cd-d647-461e-bdfe-651f124419b2",
   "metadata": {},
   "outputs": [],
   "source": [
    "columns1 = ['gender', 'query', 'result']\n",
    "qr = pd.DataFrame(columns=columns1)\n",
    "columns2 = ['gender', 'query', 'href']\n",
    "qr_link = pd.DataFrame(columns=columns2)"
   ]
  },
  {
   "cell_type": "code",
   "execution_count": 22,
   "id": "c156290f-6b45-4898-b66b-bc2f28628c4c",
   "metadata": {},
   "outputs": [
    {
     "data": {
      "text/plain": [
       "['legos', 'scooter', 'drum set', 'puzzles', 'board games', 'rock painting']"
      ]
     },
     "execution_count": 22,
     "metadata": {},
     "output_type": "execute_result"
    }
   ],
   "source": [
    "trial"
   ]
  },
  {
   "cell_type": "markdown",
   "id": "65bd011c-a94b-4e1f-805e-1bbea2262df2",
   "metadata": {},
   "source": [
    "## Running Queries for Boys, Girls, and Neutral"
   ]
  },
  {
   "cell_type": "markdown",
   "id": "0ca72148-e1c8-47dc-aa5d-4a968a4009a2",
   "metadata": {},
   "source": [
    "This code is used to scrape all data from toys included in all_items. As of right now, trial is used on line 7 in order to run the code on a small sample, but changing this with all_items will run it on all toys."
   ]
  },
  {
   "cell_type": "code",
   "execution_count": 23,
   "id": "77ba24f1-7156-45ae-8dc2-1cb02ef2c21a",
   "metadata": {},
   "outputs": [],
   "source": [
    "import warnings\n",
    "warnings.filterwarnings('ignore')\n",
    "driver = webdriver.Chrome(ChromeDriverManager().install())\n",
    "data1 = []\n",
    "data2 = []\n",
    "item = ''\n",
    "for item in all_items:\n",
    "    for g in gender:\n",
    "        result, link = search(item, g)\n",
    "        values1 = [g, item, result]\n",
    "        values2 = [g, item, link]\n",
    "        zipped1 = zip(columns1, values1)\n",
    "        zipped2 = zip(columns2, values2)\n",
    "        a_dictionary1 = dict(zipped1)\n",
    "        a_dictionary2 = dict(zipped2)\n",
    "        time.sleep(15)\n",
    "        data1.append(a_dictionary1)\n",
    "        data2.append(a_dictionary2)\n",
    "driver.close()"
   ]
  },
  {
   "cell_type": "markdown",
   "id": "db86d6ea-40e9-4215-9f64-70d6bc7ce047",
   "metadata": {},
   "source": [
    "Appending data to previously initialized dataframe."
   ]
  },
  {
   "cell_type": "code",
   "execution_count": 24,
   "id": "f78b49a8-05df-4418-97ca-5de0a494182f",
   "metadata": {},
   "outputs": [
    {
     "data": {
      "text/html": [
       "<div>\n",
       "<style scoped>\n",
       "    .dataframe tbody tr th:only-of-type {\n",
       "        vertical-align: middle;\n",
       "    }\n",
       "\n",
       "    .dataframe tbody tr th {\n",
       "        vertical-align: top;\n",
       "    }\n",
       "\n",
       "    .dataframe thead th {\n",
       "        text-align: right;\n",
       "    }\n",
       "</style>\n",
       "<table border=\"1\" class=\"dataframe\">\n",
       "  <thead>\n",
       "    <tr style=\"text-align: right;\">\n",
       "      <th></th>\n",
       "      <th>gender</th>\n",
       "      <th>query</th>\n",
       "      <th>result</th>\n",
       "    </tr>\n",
       "  </thead>\n",
       "  <tbody>\n",
       "    <tr>\n",
       "      <th>0</th>\n",
       "      <td>boys</td>\n",
       "      <td>vehicle toys</td>\n",
       "      <td>([product-title-1403565, product-title-1403668...</td>\n",
       "    </tr>\n",
       "    <tr>\n",
       "      <th>1</th>\n",
       "      <td>girls</td>\n",
       "      <td>vehicle toys</td>\n",
       "      <td>([product-title-1403565, product-title-1403668...</td>\n",
       "    </tr>\n",
       "    <tr>\n",
       "      <th>2</th>\n",
       "      <td>neutral</td>\n",
       "      <td>vehicle toys</td>\n",
       "      <td>([product-title-1403565, product-title-1403668...</td>\n",
       "    </tr>\n",
       "    <tr>\n",
       "      <th>3</th>\n",
       "      <td>boys</td>\n",
       "      <td>sport</td>\n",
       "      <td>([product-title-7655915, product-title-9506512...</td>\n",
       "    </tr>\n",
       "    <tr>\n",
       "      <th>4</th>\n",
       "      <td>girls</td>\n",
       "      <td>sport</td>\n",
       "      <td>([product-title-8869607, product-title-1353213...</td>\n",
       "    </tr>\n",
       "    <tr>\n",
       "      <th>...</th>\n",
       "      <td>...</td>\n",
       "      <td>...</td>\n",
       "      <td>...</td>\n",
       "    </tr>\n",
       "    <tr>\n",
       "      <th>493</th>\n",
       "      <td>girls</td>\n",
       "      <td>board games</td>\n",
       "      <td>([product-title-3904567, product-title-3907306...</td>\n",
       "    </tr>\n",
       "    <tr>\n",
       "      <th>494</th>\n",
       "      <td>neutral</td>\n",
       "      <td>board games</td>\n",
       "      <td>([product-title-2687421, product-title-9452123...</td>\n",
       "    </tr>\n",
       "    <tr>\n",
       "      <th>495</th>\n",
       "      <td>boys</td>\n",
       "      <td>rock painting</td>\n",
       "      <td>([product-title-9493113, product-title-tuc1414...</td>\n",
       "    </tr>\n",
       "    <tr>\n",
       "      <th>496</th>\n",
       "      <td>girls</td>\n",
       "      <td>rock painting</td>\n",
       "      <td>([product-title-9493113, product-title-9493113...</td>\n",
       "    </tr>\n",
       "    <tr>\n",
       "      <th>497</th>\n",
       "      <td>neutral</td>\n",
       "      <td>rock painting</td>\n",
       "      <td>([product-title-5318838, product-title-9493113...</td>\n",
       "    </tr>\n",
       "  </tbody>\n",
       "</table>\n",
       "<p>498 rows × 3 columns</p>\n",
       "</div>"
      ],
      "text/plain": [
       "      gender          query                                             result\n",
       "0       boys   vehicle toys  ([product-title-1403565, product-title-1403668...\n",
       "1      girls   vehicle toys  ([product-title-1403565, product-title-1403668...\n",
       "2    neutral   vehicle toys  ([product-title-1403565, product-title-1403668...\n",
       "3       boys          sport  ([product-title-7655915, product-title-9506512...\n",
       "4      girls          sport  ([product-title-8869607, product-title-1353213...\n",
       "..       ...            ...                                                ...\n",
       "493    girls    board games  ([product-title-3904567, product-title-3907306...\n",
       "494  neutral    board games  ([product-title-2687421, product-title-9452123...\n",
       "495     boys  rock painting  ([product-title-9493113, product-title-tuc1414...\n",
       "496    girls  rock painting  ([product-title-9493113, product-title-9493113...\n",
       "497  neutral  rock painting  ([product-title-5318838, product-title-9493113...\n",
       "\n",
       "[498 rows x 3 columns]"
      ]
     },
     "execution_count": 24,
     "metadata": {},
     "output_type": "execute_result"
    }
   ],
   "source": [
    "qr = qr.append(data1, True)\n",
    "qr"
   ]
  },
  {
   "cell_type": "code",
   "execution_count": 25,
   "id": "fee16b53-78d4-42f6-ae50-66f4f46f7a7e",
   "metadata": {},
   "outputs": [
    {
     "data": {
      "text/plain": [
       "['product-title-8869607',\n",
       " 'product-title-1353213',\n",
       " 'product-title-8251813',\n",
       " 'product-title-tuc141678763',\n",
       " 'product-title-tuc141503761',\n",
       " 'product-title-tuc141492571',\n",
       " 'product-title-tuc141981990',\n",
       " 'product-title-tuc141974466',\n",
       " 'product-title-tuc141710268',\n",
       " 'product-title-tuc141670825',\n",
       " 'product-title-tuc141317829',\n",
       " 'product-title-tuc141072999',\n",
       " 'product-title-tuc139876963',\n",
       " 'product-title-tuc139876841',\n",
       " 'product-title-tuc140490697',\n",
       " 'product-title-tuc139876576',\n",
       " 'product-title-tuc139875872',\n",
       " 'product-title-tuc141494841',\n",
       " 'product-title-tuc142535924',\n",
       " 'product-title-tuc142533339',\n",
       " 'product-title-tuc142532328',\n",
       " 'product-title-tuc141982159',\n",
       " 'product-title-tuc141946035',\n",
       " 'product-title-tuc141948102',\n",
       " 'product-title-tuc141946051',\n",
       " 'product-title-tuc141948305',\n",
       " 'product-title-tuc141946887',\n",
       " 'product-title-tuc141946799',\n",
       " 'product-title-tuc141946684',\n",
       " 'product-title-tuc141948170',\n",
       " 'product-title-8869607',\n",
       " 'product-title-1353213',\n",
       " 'product-title-8251813',\n",
       " 'product-title-tuc141678763',\n",
       " 'product-title-tuc141503761',\n",
       " 'product-title-tuc141492571',\n",
       " 'product-title-tuc141981990',\n",
       " 'product-title-tuc141974466',\n",
       " 'product-title-tuc141710268',\n",
       " 'product-title-tuc141670825',\n",
       " 'product-title-tuc141317829',\n",
       " 'product-title-tuc141072999',\n",
       " 'product-title-tuc139876963',\n",
       " 'product-title-tuc139876841',\n",
       " 'product-title-tuc140490697',\n",
       " 'product-title-tuc139876576',\n",
       " 'product-title-tuc139875872',\n",
       " 'product-title-tuc141494841',\n",
       " 'product-title-tuc142535924',\n",
       " 'product-title-tuc142533339',\n",
       " 'product-title-tuc142532328',\n",
       " 'product-title-tuc141982159',\n",
       " 'product-title-tuc141946035',\n",
       " 'product-title-tuc141948102',\n",
       " 'product-title-tuc141946051',\n",
       " 'product-title-tuc141948305',\n",
       " 'product-title-tuc141946887',\n",
       " 'product-title-tuc141946799',\n",
       " 'product-title-tuc141946684',\n",
       " 'product-title-tuc141948170',\n",
       " 'product-title-8869607',\n",
       " 'product-title-1353213',\n",
       " 'product-title-8251813',\n",
       " 'product-title-tuc141678763',\n",
       " 'product-title-tuc141503761',\n",
       " 'product-title-tuc141492571',\n",
       " 'product-title-tuc141981990',\n",
       " 'product-title-tuc141974466',\n",
       " 'product-title-tuc141710268',\n",
       " 'product-title-tuc141670825',\n",
       " 'product-title-tuc141317829',\n",
       " 'product-title-tuc141072999',\n",
       " 'product-title-tuc139876963',\n",
       " 'product-title-tuc139876841',\n",
       " 'product-title-tuc140490697',\n",
       " 'product-title-tuc139876576',\n",
       " 'product-title-tuc139875872',\n",
       " 'product-title-tuc141494841',\n",
       " 'product-title-tuc142535924',\n",
       " 'product-title-tuc142533339',\n",
       " 'product-title-tuc142532328',\n",
       " 'product-title-tuc141982159',\n",
       " 'product-title-tuc141946035',\n",
       " 'product-title-tuc141948102',\n",
       " 'product-title-tuc141946051',\n",
       " 'product-title-tuc141948305',\n",
       " 'product-title-tuc141946887',\n",
       " 'product-title-tuc141946799',\n",
       " 'product-title-tuc141946684',\n",
       " 'product-title-tuc141948170',\n",
       " 'product-title-8869607',\n",
       " 'product-title-1353213',\n",
       " 'product-title-8251813',\n",
       " 'product-title-tuc141678763',\n",
       " 'product-title-tuc141503761',\n",
       " 'product-title-tuc141492571',\n",
       " 'product-title-tuc141981990',\n",
       " 'product-title-tuc141974466',\n",
       " 'product-title-tuc141710268',\n",
       " 'product-title-tuc141670825',\n",
       " 'product-title-tuc141317829',\n",
       " 'product-title-tuc141072999',\n",
       " 'product-title-tuc139876963',\n",
       " 'product-title-tuc139876841',\n",
       " 'product-title-tuc140490697',\n",
       " 'product-title-tuc139876576',\n",
       " 'product-title-tuc139875872',\n",
       " 'product-title-tuc141494841',\n",
       " 'product-title-tuc142535924',\n",
       " 'product-title-tuc142533339',\n",
       " 'product-title-tuc142532328',\n",
       " 'product-title-tuc141982159',\n",
       " 'product-title-tuc141946035',\n",
       " 'product-title-tuc141948102',\n",
       " 'product-title-tuc141946051',\n",
       " 'product-title-tuc141948305',\n",
       " 'product-title-tuc141946887',\n",
       " 'product-title-tuc141946799',\n",
       " 'product-title-tuc141946684',\n",
       " 'product-title-tuc141948170',\n",
       " 'product-title-8869607',\n",
       " 'product-title-1353213',\n",
       " 'product-title-8251813',\n",
       " 'product-title-tuc141678763',\n",
       " 'product-title-tuc141503761',\n",
       " 'product-title-tuc141492571',\n",
       " 'product-title-tuc141981990',\n",
       " 'product-title-tuc141974466',\n",
       " 'product-title-tuc141710268',\n",
       " 'product-title-tuc141670825',\n",
       " 'product-title-tuc141317829',\n",
       " 'product-title-tuc141072999',\n",
       " 'product-title-tuc139876963',\n",
       " 'product-title-tuc139876841',\n",
       " 'product-title-tuc140490697',\n",
       " 'product-title-tuc139876576',\n",
       " 'product-title-tuc139875872',\n",
       " 'product-title-tuc141494841',\n",
       " 'product-title-tuc142535924',\n",
       " 'product-title-tuc142533339',\n",
       " 'product-title-tuc142532328',\n",
       " 'product-title-tuc141982159',\n",
       " 'product-title-tuc141946035',\n",
       " 'product-title-tuc141948102',\n",
       " 'product-title-tuc141946051',\n",
       " 'product-title-tuc141948305',\n",
       " 'product-title-tuc141946887',\n",
       " 'product-title-tuc141946799',\n",
       " 'product-title-tuc141946684',\n",
       " 'product-title-tuc141948170',\n",
       " 'product-title-8869607',\n",
       " 'product-title-1353213',\n",
       " 'product-title-8251813',\n",
       " 'product-title-tuc141678763',\n",
       " 'product-title-tuc141503761',\n",
       " 'product-title-tuc141492571',\n",
       " 'product-title-tuc141981990',\n",
       " 'product-title-tuc141974466',\n",
       " 'product-title-tuc141710268',\n",
       " 'product-title-tuc141670825',\n",
       " 'product-title-tuc141317829',\n",
       " 'product-title-tuc141072999',\n",
       " 'product-title-tuc139876963',\n",
       " 'product-title-tuc139876841',\n",
       " 'product-title-tuc140490697',\n",
       " 'product-title-tuc139876576',\n",
       " 'product-title-tuc139875872',\n",
       " 'product-title-tuc141494841',\n",
       " 'product-title-tuc142535924',\n",
       " 'product-title-tuc142533339',\n",
       " 'product-title-tuc142532328',\n",
       " 'product-title-tuc141982159',\n",
       " 'product-title-tuc141946035',\n",
       " 'product-title-tuc141948102',\n",
       " 'product-title-tuc141946051',\n",
       " 'product-title-tuc141948305',\n",
       " 'product-title-tuc141946887',\n",
       " 'product-title-tuc141946799',\n",
       " 'product-title-tuc141946684',\n",
       " 'product-title-tuc141948170',\n",
       " 'product-title-8869607',\n",
       " 'product-title-1353213',\n",
       " 'product-title-8251813',\n",
       " 'product-title-tuc141678763',\n",
       " 'product-title-tuc141503761',\n",
       " 'product-title-tuc141492571',\n",
       " 'product-title-tuc141981990',\n",
       " 'product-title-tuc141974466',\n",
       " 'product-title-tuc141710268',\n",
       " 'product-title-tuc141670825',\n",
       " 'product-title-tuc141317829',\n",
       " 'product-title-tuc141072999',\n",
       " 'product-title-tuc139876963',\n",
       " 'product-title-tuc139876841',\n",
       " 'product-title-tuc140490697',\n",
       " 'product-title-tuc139876576',\n",
       " 'product-title-tuc139875872',\n",
       " 'product-title-tuc141494841',\n",
       " 'product-title-tuc142535924',\n",
       " 'product-title-tuc142533339',\n",
       " 'product-title-tuc142532328',\n",
       " 'product-title-tuc141982159',\n",
       " 'product-title-tuc141946035',\n",
       " 'product-title-tuc141948102',\n",
       " 'product-title-tuc141946051',\n",
       " 'product-title-tuc141948305',\n",
       " 'product-title-tuc141946887',\n",
       " 'product-title-tuc141946799',\n",
       " 'product-title-tuc141946684',\n",
       " 'product-title-tuc141948170',\n",
       " 'product-title-8869607',\n",
       " 'product-title-1353213',\n",
       " 'product-title-8251813',\n",
       " 'product-title-tuc141678763',\n",
       " 'product-title-tuc141503761',\n",
       " 'product-title-tuc141492571',\n",
       " 'product-title-tuc141981990',\n",
       " 'product-title-tuc141974466',\n",
       " 'product-title-tuc141710268',\n",
       " 'product-title-tuc141670825',\n",
       " 'product-title-tuc141317829',\n",
       " 'product-title-tuc141072999',\n",
       " 'product-title-tuc139876963',\n",
       " 'product-title-tuc139876841',\n",
       " 'product-title-tuc140490697',\n",
       " 'product-title-tuc139876576',\n",
       " 'product-title-tuc139875872',\n",
       " 'product-title-tuc141494841',\n",
       " 'product-title-tuc142535924',\n",
       " 'product-title-tuc142533339',\n",
       " 'product-title-tuc142532328',\n",
       " 'product-title-tuc141982159',\n",
       " 'product-title-tuc141946035',\n",
       " 'product-title-tuc141948102',\n",
       " 'product-title-tuc141946051',\n",
       " 'product-title-tuc141948305',\n",
       " 'product-title-tuc141946887',\n",
       " 'product-title-tuc141946799',\n",
       " 'product-title-tuc141946684',\n",
       " 'product-title-tuc141948170',\n",
       " 'product-title-8869607',\n",
       " 'product-title-1353213',\n",
       " 'product-title-8251813',\n",
       " 'product-title-tuc141678763',\n",
       " 'product-title-tuc141503761',\n",
       " 'product-title-tuc141492571',\n",
       " 'product-title-tuc141981990',\n",
       " 'product-title-tuc141974466',\n",
       " 'product-title-tuc141710268',\n",
       " 'product-title-tuc141670825',\n",
       " 'product-title-tuc141317829',\n",
       " 'product-title-tuc141072999',\n",
       " 'product-title-tuc139876963',\n",
       " 'product-title-tuc139876841',\n",
       " 'product-title-tuc140490697',\n",
       " 'product-title-tuc139876576',\n",
       " 'product-title-tuc139875872',\n",
       " 'product-title-tuc141494841',\n",
       " 'product-title-tuc142535924',\n",
       " 'product-title-tuc142533339',\n",
       " 'product-title-tuc142532328',\n",
       " 'product-title-tuc141982159',\n",
       " 'product-title-tuc141946035',\n",
       " 'product-title-tuc141948102',\n",
       " 'product-title-tuc141946051',\n",
       " 'product-title-tuc141948305',\n",
       " 'product-title-tuc141946887',\n",
       " 'product-title-tuc141946799',\n",
       " 'product-title-tuc141946684',\n",
       " 'product-title-tuc141948170']"
      ]
     },
     "execution_count": 25,
     "metadata": {},
     "output_type": "execute_result"
    }
   ],
   "source": [
    "qr['result'][4][0]"
   ]
  },
  {
   "cell_type": "code",
   "execution_count": 26,
   "id": "ac064038-9de0-4161-b3d2-bb7d4b7ba709",
   "metadata": {},
   "outputs": [
    {
     "data": {
      "text/plain": [
       "['',\n",
       " 'Tikkers Girls Multicolor Silicone Strap Fitness Tracker Set',\n",
       " '',\n",
       " 'Raleigh Girls Leisure Bike Helmet - Pink, 48-54cm',\n",
       " '',\n",
       " 'Piranha Harlem 20 inch Wheel Size Girls Kids Mountain Bike',\n",
       " '',\n",
       " 'Disney Moana Hooded Towel Poncho - One Size',\n",
       " '',\n",
       " 'Floral & Spot Swimsuits 2 Pack',\n",
       " '',\n",
       " 'Green Floral All-In-One Swimsuit',\n",
       " '',\n",
       " \"Kids' Family Tropical Leaf Swimsuit\",\n",
       " '',\n",
       " 'Pink Star Towelling Throw-On',\n",
       " '',\n",
       " \"Kids' Family Navy Abstract Swimsuit\",\n",
       " '',\n",
       " 'Disney Moana Pink Swimsuit',\n",
       " '',\n",
       " 'Black First Period Swimsuit',\n",
       " '',\n",
       " 'Navy Floral Print Swimsuit',\n",
       " '',\n",
       " \"Kids' Black Wetsuit\",\n",
       " '',\n",
       " 'Navy & Red Long Leg Wetsuit',\n",
       " '',\n",
       " 'L.O.L Surprise! Pink Costume',\n",
       " '',\n",
       " 'Navy & Pink Long Wetsuit',\n",
       " '',\n",
       " 'Black & Pink Short Wetsuit',\n",
       " '',\n",
       " 'Navy Colour Block Swimsuit',\n",
       " '',\n",
       " 'FATFACE Blue Sea Scape Tankini Set',\n",
       " '',\n",
       " 'FATFACE Floral Tankini Set',\n",
       " '',\n",
       " 'FATFACE Floral Swimsuit',\n",
       " '',\n",
       " 'Disney Princess Ariel Blue Frill Swimsuit',\n",
       " '',\n",
       " 'Tropical Print Swim Shorts',\n",
       " '',\n",
       " 'Pink Abstract Floral Swim Set',\n",
       " '',\n",
       " 'Tropical Print Bikini & Rash Vest',\n",
       " '',\n",
       " 'Aqua Broderie Frill Swimsuit',\n",
       " '',\n",
       " 'Red & Pink Daisy Print Tankini',\n",
       " '',\n",
       " \"Kids' Mini Me Lilac Animal Textured Tankini\",\n",
       " '',\n",
       " 'White Ditsy Floral Bardot Bikini',\n",
       " '',\n",
       " 'Fruit Print All In One Swimsuit']"
      ]
     },
     "execution_count": 26,
     "metadata": {},
     "output_type": "execute_result"
    }
   ],
   "source": [
    "qr['result'][4][1]"
   ]
  },
  {
   "cell_type": "code",
   "execution_count": 27,
   "id": "e658670b-3f03-4e3d-9ffa-490f8c499e31",
   "metadata": {},
   "outputs": [
    {
     "data": {
      "text/html": [
       "<div>\n",
       "<style scoped>\n",
       "    .dataframe tbody tr th:only-of-type {\n",
       "        vertical-align: middle;\n",
       "    }\n",
       "\n",
       "    .dataframe tbody tr th {\n",
       "        vertical-align: top;\n",
       "    }\n",
       "\n",
       "    .dataframe thead th {\n",
       "        text-align: right;\n",
       "    }\n",
       "</style>\n",
       "<table border=\"1\" class=\"dataframe\">\n",
       "  <thead>\n",
       "    <tr style=\"text-align: right;\">\n",
       "      <th></th>\n",
       "      <th>gender</th>\n",
       "      <th>query</th>\n",
       "      <th>href</th>\n",
       "    </tr>\n",
       "  </thead>\n",
       "  <tbody>\n",
       "    <tr>\n",
       "      <th>0</th>\n",
       "      <td>boys</td>\n",
       "      <td>vehicle toys</td>\n",
       "      <td>[https://www.argos.co.uk/product/1403565?click...</td>\n",
       "    </tr>\n",
       "    <tr>\n",
       "      <th>1</th>\n",
       "      <td>girls</td>\n",
       "      <td>vehicle toys</td>\n",
       "      <td>[https://www.argos.co.uk/product/1403565?click...</td>\n",
       "    </tr>\n",
       "    <tr>\n",
       "      <th>2</th>\n",
       "      <td>neutral</td>\n",
       "      <td>vehicle toys</td>\n",
       "      <td>[https://www.argos.co.uk/product/1403565?click...</td>\n",
       "    </tr>\n",
       "    <tr>\n",
       "      <th>3</th>\n",
       "      <td>boys</td>\n",
       "      <td>sport</td>\n",
       "      <td>[https://www.argos.co.uk/product/7655915?click...</td>\n",
       "    </tr>\n",
       "    <tr>\n",
       "      <th>4</th>\n",
       "      <td>girls</td>\n",
       "      <td>sport</td>\n",
       "      <td>[https://www.argos.co.uk/product/8869607?click...</td>\n",
       "    </tr>\n",
       "    <tr>\n",
       "      <th>...</th>\n",
       "      <td>...</td>\n",
       "      <td>...</td>\n",
       "      <td>...</td>\n",
       "    </tr>\n",
       "    <tr>\n",
       "      <th>493</th>\n",
       "      <td>girls</td>\n",
       "      <td>board games</td>\n",
       "      <td>[https://www.argos.co.uk/product/3904567?click...</td>\n",
       "    </tr>\n",
       "    <tr>\n",
       "      <th>494</th>\n",
       "      <td>neutral</td>\n",
       "      <td>board games</td>\n",
       "      <td>[https://www.argos.co.uk/product/2687421?click...</td>\n",
       "    </tr>\n",
       "    <tr>\n",
       "      <th>495</th>\n",
       "      <td>boys</td>\n",
       "      <td>rock painting</td>\n",
       "      <td>[https://www.argos.co.uk/product/9493113?click...</td>\n",
       "    </tr>\n",
       "    <tr>\n",
       "      <th>496</th>\n",
       "      <td>girls</td>\n",
       "      <td>rock painting</td>\n",
       "      <td>[https://www.argos.co.uk/product/9493113?click...</td>\n",
       "    </tr>\n",
       "    <tr>\n",
       "      <th>497</th>\n",
       "      <td>neutral</td>\n",
       "      <td>rock painting</td>\n",
       "      <td>[https://www.argos.co.uk/product/5318838?click...</td>\n",
       "    </tr>\n",
       "  </tbody>\n",
       "</table>\n",
       "<p>498 rows × 3 columns</p>\n",
       "</div>"
      ],
      "text/plain": [
       "      gender          query                                               href\n",
       "0       boys   vehicle toys  [https://www.argos.co.uk/product/1403565?click...\n",
       "1      girls   vehicle toys  [https://www.argos.co.uk/product/1403565?click...\n",
       "2    neutral   vehicle toys  [https://www.argos.co.uk/product/1403565?click...\n",
       "3       boys          sport  [https://www.argos.co.uk/product/7655915?click...\n",
       "4      girls          sport  [https://www.argos.co.uk/product/8869607?click...\n",
       "..       ...            ...                                                ...\n",
       "493    girls    board games  [https://www.argos.co.uk/product/3904567?click...\n",
       "494  neutral    board games  [https://www.argos.co.uk/product/2687421?click...\n",
       "495     boys  rock painting  [https://www.argos.co.uk/product/9493113?click...\n",
       "496    girls  rock painting  [https://www.argos.co.uk/product/9493113?click...\n",
       "497  neutral  rock painting  [https://www.argos.co.uk/product/5318838?click...\n",
       "\n",
       "[498 rows x 3 columns]"
      ]
     },
     "execution_count": 27,
     "metadata": {},
     "output_type": "execute_result"
    }
   ],
   "source": [
    "qr_link = qr_link.append(data2, True)\n",
    "qr_link"
   ]
  },
  {
   "cell_type": "code",
   "execution_count": 28,
   "id": "4d790fff-81ef-47ef-a679-1994374f3ba5",
   "metadata": {},
   "outputs": [
    {
     "data": {
      "text/plain": [
       "['https://www.argos.co.uk/product/1403565?clickSR=slp:term:vehicle%20toys%20for%20girls:1:303:1',\n",
       " 'https://www.argos.co.uk/product/1403668?clickSR=slp:term:vehicle%20toys%20for%20girls:2:303:1',\n",
       " 'https://www.argos.co.uk/product/1403709?clickSR=slp:term:vehicle%20toys%20for%20girls:3:303:1',\n",
       " 'https://www.argos.co.uk/product/9480250?clickSR=slp:term:vehicle%20toys%20for%20girls:4:303:1',\n",
       " 'https://www.argos.co.uk/product/7355703?clickSR=slp:term:vehicle%20toys%20for%20girls:5:303:1',\n",
       " 'https://www.argos.co.uk/product/9425916?clickSR=slp:term:vehicle%20toys%20for%20girls:6:303:1',\n",
       " 'https://www.argos.co.uk/product/1403383?clickSR=slp:term:vehicle%20toys%20for%20girls:7:303:1',\n",
       " 'https://www.argos.co.uk/product/9419128?clickSR=slp:term:vehicle%20toys%20for%20girls:8:303:1',\n",
       " 'https://www.argos.co.uk/product/9697469?clickSR=slp:term:vehicle%20toys%20for%20girls:9:303:1',\n",
       " 'https://www.argos.co.uk/product/9576418?clickSR=slp:term:vehicle%20toys%20for%20girls:10:303:1',\n",
       " 'https://www.argos.co.uk/product/9568440?clickSR=slp:term:vehicle%20toys%20for%20girls:11:303:1',\n",
       " 'https://www.argos.co.uk/product/9555594?clickSR=slp:term:vehicle%20toys%20for%20girls:12:303:1',\n",
       " 'https://www.argos.co.uk/product/2912206?clickSR=slp:term:vehicle%20toys%20for%20girls:13:303:1',\n",
       " 'https://www.argos.co.uk/product/1403682?clickSR=slp:term:vehicle%20toys%20for%20girls:1:303:2',\n",
       " 'https://www.argos.co.uk/product/2912433?clickSR=slp:term:vehicle%20toys%20for%20girls:2:303:2',\n",
       " 'https://www.argos.co.uk/product/3066979?clickSR=slp:term:vehicle%20toys%20for%20girls:3:303:2',\n",
       " 'https://www.argos.co.uk/product/3128312?clickSR=slp:term:vehicle%20toys%20for%20girls:4:303:2',\n",
       " 'https://www.argos.co.uk/product/8287265?clickSR=slp:term:vehicle%20toys%20for%20girls:5:303:2',\n",
       " 'https://www.argos.co.uk/product/9450723?clickSR=slp:term:vehicle%20toys%20for%20girls:6:303:2',\n",
       " 'https://www.argos.co.uk/product/8833554?clickSR=slp:term:vehicle%20toys%20for%20girls:7:303:2',\n",
       " 'https://www.argos.co.uk/product/8261308?clickSR=slp:term:vehicle%20toys%20for%20girls:8:303:2',\n",
       " 'https://www.argos.co.uk/product/9220692?clickSR=slp:term:vehicle%20toys%20for%20girls:9:303:2',\n",
       " 'https://www.argos.co.uk/product/1403417?clickSR=slp:term:vehicle%20toys%20for%20girls:10:303:2',\n",
       " 'https://www.argos.co.uk/product/3207958?clickSR=slp:term:vehicle%20toys%20for%20girls:11:303:2',\n",
       " 'https://www.argos.co.uk/product/5022478?clickSR=slp:term:vehicle%20toys%20for%20girls:12:303:2',\n",
       " 'https://www.argos.co.uk/product/8957155?clickSR=slp:term:vehicle%20toys%20for%20girls:13:303:2',\n",
       " 'https://www.argos.co.uk/product/9516234?clickSR=slp:term:vehicle%20toys%20for%20girls:14:303:2',\n",
       " 'https://www.argos.co.uk/product/2259828?clickSR=slp:term:vehicle%20toys%20for%20girls:15:303:2',\n",
       " 'https://www.argos.co.uk/product/9572058?clickSR=slp:term:vehicle%20toys%20for%20girls:16:303:2',\n",
       " 'https://www.argos.co.uk/product/1403280?clickSR=slp:term:vehicle%20toys%20for%20girls:17:303:2']"
      ]
     },
     "execution_count": 28,
     "metadata": {},
     "output_type": "execute_result"
    }
   ],
   "source": [
    "qr_link.href[1]"
   ]
  },
  {
   "cell_type": "markdown",
   "id": "bd0ca9be-465d-4908-8676-264bd77b7d64",
   "metadata": {},
   "source": [
    "Initialize a database to view only the first 20 items and their respective data points."
   ]
  },
  {
   "cell_type": "code",
   "execution_count": 29,
   "id": "69eac5bd-b50d-40a1-8cfc-87eb65514158",
   "metadata": {},
   "outputs": [
    {
     "data": {
      "text/html": [
       "<div>\n",
       "<style scoped>\n",
       "    .dataframe tbody tr th:only-of-type {\n",
       "        vertical-align: middle;\n",
       "    }\n",
       "\n",
       "    .dataframe tbody tr th {\n",
       "        vertical-align: top;\n",
       "    }\n",
       "\n",
       "    .dataframe thead th {\n",
       "        text-align: right;\n",
       "    }\n",
       "</style>\n",
       "<table border=\"1\" class=\"dataframe\">\n",
       "  <thead>\n",
       "    <tr style=\"text-align: right;\">\n",
       "      <th></th>\n",
       "    </tr>\n",
       "  </thead>\n",
       "  <tbody>\n",
       "  </tbody>\n",
       "</table>\n",
       "</div>"
      ],
      "text/plain": [
       "Empty DataFrame\n",
       "Columns: []\n",
       "Index: []"
      ]
     },
     "execution_count": 29,
     "metadata": {},
     "output_type": "execute_result"
    }
   ],
   "source": [
    "first20 = pd.DataFrame()\n",
    "first20"
   ]
  },
  {
   "cell_type": "code",
   "execution_count": 30,
   "id": "071f52b4-19b9-43d9-9d1c-0a78aed24b88",
   "metadata": {},
   "outputs": [],
   "source": [
    "first20 = first20.append(qr, ignore_index = True)"
   ]
  },
  {
   "cell_type": "code",
   "execution_count": 31,
   "id": "0c1dfae8-2cd5-4c07-ae59-74d22758cb9c",
   "metadata": {},
   "outputs": [
    {
     "data": {
      "text/html": [
       "<div>\n",
       "<style scoped>\n",
       "    .dataframe tbody tr th:only-of-type {\n",
       "        vertical-align: middle;\n",
       "    }\n",
       "\n",
       "    .dataframe tbody tr th {\n",
       "        vertical-align: top;\n",
       "    }\n",
       "\n",
       "    .dataframe thead th {\n",
       "        text-align: right;\n",
       "    }\n",
       "</style>\n",
       "<table border=\"1\" class=\"dataframe\">\n",
       "  <thead>\n",
       "    <tr style=\"text-align: right;\">\n",
       "      <th></th>\n",
       "      <th>gender</th>\n",
       "      <th>query</th>\n",
       "      <th>result</th>\n",
       "    </tr>\n",
       "  </thead>\n",
       "  <tbody>\n",
       "    <tr>\n",
       "      <th>0</th>\n",
       "      <td>boys</td>\n",
       "      <td>vehicle toys</td>\n",
       "      <td>([product-title-1403565, product-title-1403668...</td>\n",
       "    </tr>\n",
       "    <tr>\n",
       "      <th>1</th>\n",
       "      <td>girls</td>\n",
       "      <td>vehicle toys</td>\n",
       "      <td>([product-title-1403565, product-title-1403668...</td>\n",
       "    </tr>\n",
       "    <tr>\n",
       "      <th>2</th>\n",
       "      <td>neutral</td>\n",
       "      <td>vehicle toys</td>\n",
       "      <td>([product-title-1403565, product-title-1403668...</td>\n",
       "    </tr>\n",
       "    <tr>\n",
       "      <th>3</th>\n",
       "      <td>boys</td>\n",
       "      <td>sport</td>\n",
       "      <td>([product-title-7655915, product-title-9506512...</td>\n",
       "    </tr>\n",
       "    <tr>\n",
       "      <th>4</th>\n",
       "      <td>girls</td>\n",
       "      <td>sport</td>\n",
       "      <td>([product-title-8869607, product-title-1353213...</td>\n",
       "    </tr>\n",
       "    <tr>\n",
       "      <th>...</th>\n",
       "      <td>...</td>\n",
       "      <td>...</td>\n",
       "      <td>...</td>\n",
       "    </tr>\n",
       "    <tr>\n",
       "      <th>493</th>\n",
       "      <td>girls</td>\n",
       "      <td>board games</td>\n",
       "      <td>([product-title-3904567, product-title-3907306...</td>\n",
       "    </tr>\n",
       "    <tr>\n",
       "      <th>494</th>\n",
       "      <td>neutral</td>\n",
       "      <td>board games</td>\n",
       "      <td>([product-title-2687421, product-title-9452123...</td>\n",
       "    </tr>\n",
       "    <tr>\n",
       "      <th>495</th>\n",
       "      <td>boys</td>\n",
       "      <td>rock painting</td>\n",
       "      <td>([product-title-9493113, product-title-tuc1414...</td>\n",
       "    </tr>\n",
       "    <tr>\n",
       "      <th>496</th>\n",
       "      <td>girls</td>\n",
       "      <td>rock painting</td>\n",
       "      <td>([product-title-9493113, product-title-9493113...</td>\n",
       "    </tr>\n",
       "    <tr>\n",
       "      <th>497</th>\n",
       "      <td>neutral</td>\n",
       "      <td>rock painting</td>\n",
       "      <td>([product-title-5318838, product-title-9493113...</td>\n",
       "    </tr>\n",
       "  </tbody>\n",
       "</table>\n",
       "<p>498 rows × 3 columns</p>\n",
       "</div>"
      ],
      "text/plain": [
       "      gender          query                                             result\n",
       "0       boys   vehicle toys  ([product-title-1403565, product-title-1403668...\n",
       "1      girls   vehicle toys  ([product-title-1403565, product-title-1403668...\n",
       "2    neutral   vehicle toys  ([product-title-1403565, product-title-1403668...\n",
       "3       boys          sport  ([product-title-7655915, product-title-9506512...\n",
       "4      girls          sport  ([product-title-8869607, product-title-1353213...\n",
       "..       ...            ...                                                ...\n",
       "493    girls    board games  ([product-title-3904567, product-title-3907306...\n",
       "494  neutral    board games  ([product-title-2687421, product-title-9452123...\n",
       "495     boys  rock painting  ([product-title-9493113, product-title-tuc1414...\n",
       "496    girls  rock painting  ([product-title-9493113, product-title-9493113...\n",
       "497  neutral  rock painting  ([product-title-5318838, product-title-9493113...\n",
       "\n",
       "[498 rows x 3 columns]"
      ]
     },
     "execution_count": 31,
     "metadata": {},
     "output_type": "execute_result"
    }
   ],
   "source": [
    "first20"
   ]
  },
  {
   "cell_type": "code",
   "execution_count": 32,
   "id": "33ac38b7-ddc0-4660-8553-1a26901e805d",
   "metadata": {},
   "outputs": [
    {
     "data": {
      "text/plain": [
       "60"
      ]
     },
     "execution_count": 32,
     "metadata": {},
     "output_type": "execute_result"
    }
   ],
   "source": [
    "len(first20.loc[0]['result'][1])"
   ]
  },
  {
   "cell_type": "code",
   "execution_count": 33,
   "id": "d0d7e1ed-cba2-4ce4-8f56-3e94c3345482",
   "metadata": {},
   "outputs": [],
   "source": [
    "first20.to_csv('argos_search_results.csv', index = False)"
   ]
  },
  {
   "cell_type": "markdown",
   "id": "43fbbcf0-f1ed-4d45-9c70-00ca5eb21715",
   "metadata": {},
   "source": [
    "## Data Cleaning"
   ]
  },
  {
   "cell_type": "code",
   "execution_count": null,
   "id": "e4acbdf1-ea19-4cd8-b970-dc75f2c27378",
   "metadata": {},
   "outputs": [],
   "source": [
    "import pandas as pd\n",
    "data = pd.read_csv('argos_search_results.csv', delimiter=',')\n",
    "data"
   ]
  },
  {
   "cell_type": "code",
   "execution_count": 22,
   "id": "47370c99-99d4-4f50-9c4e-e1caf93d3fda",
   "metadata": {},
   "outputs": [
    {
     "data": {
      "text/plain": [
       "\"(['product-title-9536836', 'product-title-9451423', 'product-title-8673439', 'product-title-1252053', 'product-title-1177994', 'product-title-1175587', 'product-title-8845401', 'product-title-5034095', 'product-title-8676742', 'product-title-4982416', 'product-title-3187573', 'product-title-9487734', 'product-title-8661702', 'product-title-9452006', 'product-title-9546888', 'product-title-7841925', 'product-title-9492671', 'product-title-8438038', 'product-title-1156142', 'product-title-9430523', 'product-title-2006923', 'product-title-9517886', 'product-title-1174997', 'product-title-8625250', 'product-title-8212773', 'product-title-7622175', 'product-title-9517446', 'product-title-5577198', 'product-title-9424137', 'product-title-9457032', 'product-title-9536836', 'product-title-9451423', 'product-title-8673439', 'product-title-1252053', 'product-title-1177994', 'product-title-1175587', 'product-title-8845401', 'product-title-5034095', 'product-title-8676742', 'product-title-4982416', 'product-title-3187573', 'product-title-9487734', 'product-title-8661702', 'product-title-9452006', 'product-title-9546888', 'product-title-7841925', 'product-title-9492671', 'product-title-8438038', 'product-title-1156142', 'product-title-9430523', 'product-title-2006923', 'product-title-9517886', 'product-title-1174997', 'product-title-8625250', 'product-title-8212773', 'product-title-7622175', 'product-title-9517446', 'product-title-5577198', 'product-title-9424137', 'product-title-9457032', 'product-title-9536836', 'product-title-9451423', 'product-title-8673439', 'product-title-1252053', 'product-title-1177994', 'product-title-1175587', 'product-title-8845401', 'product-title-5034095', 'product-title-8676742', 'product-title-4982416', 'product-title-3187573', 'product-title-9487734', 'product-title-8661702', 'product-title-9452006', 'product-title-9546888', 'product-title-7841925', 'product-title-9492671', 'product-title-8438038', 'product-title-1156142', 'product-title-9430523', 'product-title-2006923', 'product-title-9517886', 'product-title-1174997', 'product-title-8625250', 'product-title-8212773', 'product-title-7622175', 'product-title-9517446', 'product-title-5577198', 'product-title-9424137', 'product-title-9457032', 'product-title-9536836', 'product-title-9451423', 'product-title-8673439', 'product-title-1252053', 'product-title-1177994', 'product-title-1175587', 'product-title-8845401', 'product-title-5034095', 'product-title-8676742', 'product-title-4982416', 'product-title-3187573', 'product-title-9487734', 'product-title-8661702', 'product-title-9452006', 'product-title-9546888', 'product-title-7841925', 'product-title-9492671', 'product-title-8438038', 'product-title-1156142', 'product-title-9430523', 'product-title-2006923', 'product-title-9517886', 'product-title-1174997', 'product-title-8625250', 'product-title-8212773', 'product-title-7622175', 'product-title-9517446', 'product-title-5577198', 'product-title-9424137', 'product-title-9457032', 'product-title-9536836', 'product-title-9451423', 'product-title-8673439', 'product-title-1252053', 'product-title-1177994', 'product-title-1175587', 'product-title-8845401', 'product-title-5034095', 'product-title-8676742', 'product-title-4982416', 'product-title-3187573', 'product-title-9487734', 'product-title-8661702', 'product-title-9452006', 'product-title-9546888', 'product-title-7841925', 'product-title-9492671', 'product-title-8438038', 'product-title-1156142', 'product-title-9430523', 'product-title-2006923', 'product-title-9517886', 'product-title-1174997', 'product-title-8625250', 'product-title-8212773', 'product-title-7622175', 'product-title-9517446', 'product-title-5577198', 'product-title-9424137', 'product-title-9457032', 'product-title-9536836', 'product-title-9451423', 'product-title-8673439', 'product-title-1252053', 'product-title-1177994', 'product-title-1175587', 'product-title-8845401', 'product-title-5034095', 'product-title-8676742', 'product-title-4982416', 'product-title-3187573', 'product-title-9487734', 'product-title-8661702', 'product-title-9452006', 'product-title-9546888', 'product-title-7841925', 'product-title-9492671', 'product-title-8438038', 'product-title-1156142', 'product-title-9430523', 'product-title-2006923', 'product-title-9517886', 'product-title-1174997', 'product-title-8625250', 'product-title-8212773', 'product-title-7622175', 'product-title-9517446', 'product-title-5577198', 'product-title-9424137', 'product-title-9457032', 'product-title-9536836', 'product-title-9451423', 'product-title-8673439', 'product-title-1252053', 'product-title-1177994', 'product-title-1175587', 'product-title-8845401', 'product-title-5034095', 'product-title-8676742', 'product-title-4982416', 'product-title-3187573', 'product-title-9487734', 'product-title-8661702', 'product-title-9452006', 'product-title-9546888', 'product-title-7841925', 'product-title-9492671', 'product-title-8438038', 'product-title-1156142', 'product-title-9430523', 'product-title-2006923', 'product-title-9517886', 'product-title-1174997', 'product-title-8625250', 'product-title-8212773', 'product-title-7622175', 'product-title-9517446', 'product-title-5577198', 'product-title-9424137', 'product-title-9457032', 'product-title-9536836', 'product-title-9451423', 'product-title-8673439', 'product-title-1252053', 'product-title-1177994', 'product-title-1175587', 'product-title-8845401', 'product-title-5034095', 'product-title-8676742', 'product-title-4982416', 'product-title-3187573', 'product-title-9487734', 'product-title-8661702', 'product-title-9452006', 'product-title-9546888', 'product-title-7841925', 'product-title-9492671', 'product-title-8438038', 'product-title-1156142', 'product-title-9430523', 'product-title-2006923', 'product-title-9517886', 'product-title-1174997', 'product-title-8625250', 'product-title-8212773', 'product-title-7622175', 'product-title-9517446', 'product-title-5577198', 'product-title-9424137', 'product-title-9457032', 'product-title-9536836', 'product-title-9451423', 'product-title-8673439', 'product-title-1252053', 'product-title-1177994', 'product-title-1175587', 'product-title-8845401', 'product-title-5034095', 'product-title-8676742', 'product-title-4982416', 'product-title-3187573', 'product-title-9487734', 'product-title-8661702', 'product-title-9452006', 'product-title-9546888', 'product-title-7841925', 'product-title-9492671', 'product-title-8438038', 'product-title-1156142', 'product-title-9430523', 'product-title-2006923', 'product-title-9517886', 'product-title-1174997', 'product-title-8625250', 'product-title-8212773', 'product-title-7622175', 'product-title-9517446', 'product-title-5577198', 'product-title-9424137', 'product-title-9457032'], ['', 'EVO Light Up Move and Groove Scooter - Pink', '', 'EVO Light Up Move and Groove Scooter - Blue', '', 'Spider-Man Tri Scooter', '', 'Zinc Verge Pro Folding Big Wheeled Scooter', '', 'Evo Light Up Inline Folding Scooter - Pink', '', 'Evo Dino Mini Cruiser Scooter', '', 'Zinc Black Folding T-Motion Tri Scooter', '', 'Zinc Folding Inline Scooter - White', '', 'The Ultimate Spider-Man Folding Scooter', '', 'Zinc Folding Inline Scooter - Purple', '', 'Zinc Detour Stunt Scooter - Yellow', '', 'Zinc Light Up Safari Unicorn Scooter', '', 'Disney Princess Tri Scooter', '', 'EVO Move and Groove Scooter - Blue', '', 'EVO Colour Burst Folding Tri Scooter', '', 'Zinc Xtreme Stunt Scooter', '', 'EVO 3-in-1 Cruiser Scooter', '', 'Ozbozz Unicorn Folding Scooter with Soft Toy', '', 'Evo Light Up Inline Folding Scooter - Blue', '', 'Peppa Pig Switch It Multi Character Tri Scooter', '', 'Zinc Detour Stunt Scooter - Pink', '', 'Paw Patrol Switch It Multi Character Tri Scooter', '', 'Bluey Switch-it Multi Character Tri Scooter', '', 'Zinc Void Stunt Scooter', '', 'Zinc Trace Folding Big Wheeled Scooter', '', 'Airwalk Hellcat Stunt Scooter', '', 'EVO Rainbow Blast Folding Tri Scooter', '', 'Ozbozz Scissor Folding Scooter - Blue', '', 'Zinc Folding Light Up Identity Scooter', '', 'Zinc Light Up Strobe Scooter - Aqua'])\""
      ]
     },
     "execution_count": 22,
     "metadata": {},
     "output_type": "execute_result"
    }
   ],
   "source": [
    "data['result'][4]"
   ]
  },
  {
   "cell_type": "code",
   "execution_count": null,
   "id": "9677e57f-3acf-43e9-aab2-2d93a04f402f",
   "metadata": {},
   "outputs": [],
   "source": []
  }
 ],
 "metadata": {
  "kernelspec": {
   "display_name": "Python 3 (ipykernel)",
   "language": "python",
   "name": "python3"
  },
  "language_info": {
   "codemirror_mode": {
    "name": "ipython",
    "version": 3
   },
   "file_extension": ".py",
   "mimetype": "text/x-python",
   "name": "python",
   "nbconvert_exporter": "python",
   "pygments_lexer": "ipython3",
   "version": "3.10.6"
  }
 },
 "nbformat": 4,
 "nbformat_minor": 5
}
