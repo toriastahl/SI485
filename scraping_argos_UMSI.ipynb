{
 "cells": [
  {
   "cell_type": "markdown",
   "metadata": {},
   "source": [
    "# Argos Query Suggestions\n",
    "This notebook scrapes the query suggestions from Argos."
   ]
  },
  {
   "cell_type": "code",
   "execution_count": 1,
   "metadata": {
    "executionInfo": {
     "elapsed": 4,
     "status": "ok",
     "timestamp": 1673551987533,
     "user": {
      "displayName": "Kate Gould",
      "userId": "05910585260938437266"
     },
     "user_tz": 300
    },
    "id": "65gQ9veZrK5Z"
   },
   "outputs": [],
   "source": [
    "#imports\n",
    "import requests\n",
    "import json\n",
    "from fake_useragent import UserAgent\n",
    "import pandas as pd\n",
    "import numpy as np\n",
    "import matplotlib.pyplot as plt\n",
    "import seaborn"
   ]
  },
  {
   "cell_type": "code",
   "execution_count": 2,
   "metadata": {
    "executionInfo": {
     "elapsed": 272,
     "status": "ok",
     "timestamp": 1673551991229,
     "user": {
      "displayName": "Kate Gould",
      "userId": "05910585260938437266"
     },
     "user_tz": 300
    },
    "id": "nWb2_I70rK5l"
   },
   "outputs": [],
   "source": [
    "ua = UserAgent()\n",
    "#headers = {\"user-agent\": ua.chrome}\n",
    "headers = {'User-Agent': 'Mozilla/5.0 (Macintosh; Intel Mac OS X 10_15_7) AppleWebKit/537.36 (KHTML, like Gecko) Chrome/109.0.0.0 Safari/537.36'}"
   ]
  },
  {
   "cell_type": "markdown",
   "metadata": {
    "id": "69nkD2oRrK5o"
   },
   "source": [
    "### Loading list of toys\n",
    "all_items.txt is a text file of different toys that will be queried."
   ]
  },
  {
   "cell_type": "code",
   "execution_count": 3,
   "metadata": {
    "colab": {
     "base_uri": "https://localhost:8080/",
     "height": 188
    },
    "executionInfo": {
     "elapsed": 7,
     "status": "error",
     "timestamp": 1673551996475,
     "user": {
      "displayName": "Kate Gould",
      "userId": "05910585260938437266"
     },
     "user_tz": 300
    },
    "id": "jUPwZ4dkrK6V",
    "outputId": "cef9c600-3886-468e-beec-c59156a8e06f"
   },
   "outputs": [
    {
     "data": {
      "text/plain": [
       "['vehicle toys', 'sport', 'military toys', 'race cars', 'outer space toys']"
      ]
     },
     "execution_count": 3,
     "metadata": {},
     "output_type": "execute_result"
    }
   ],
   "source": [
    "with open('all_items.txt') as f:\n",
    "    contents = f.read().splitlines()\n",
    "contents [:5]"
   ]
  },
  {
   "cell_type": "markdown",
   "metadata": {
    "id": "T9caSoUsrK6Z"
   },
   "source": [
    "## Loading pre-documented gender stereotyped toys\n",
    "predoc_sterotyped_items.csv is a csv file of the different toys and their pre documented assigned gender stereotypes"
   ]
  },
  {
   "cell_type": "code",
   "execution_count": 4,
   "metadata": {
    "id": "c78_SFFxrK6a",
    "outputId": "77e37d16-614a-42d6-ba31-e9d5ce3f4ea8"
   },
   "outputs": [
    {
     "data": {
      "text/html": [
       "<div>\n",
       "<style scoped>\n",
       "    .dataframe tbody tr th:only-of-type {\n",
       "        vertical-align: middle;\n",
       "    }\n",
       "\n",
       "    .dataframe tbody tr th {\n",
       "        vertical-align: top;\n",
       "    }\n",
       "\n",
       "    .dataframe thead th {\n",
       "        text-align: right;\n",
       "    }\n",
       "</style>\n",
       "<table border=\"1\" class=\"dataframe\">\n",
       "  <thead>\n",
       "    <tr style=\"text-align: right;\">\n",
       "      <th></th>\n",
       "      <th>BOY</th>\n",
       "      <th>GIRL</th>\n",
       "      <th>NEUTRAL</th>\n",
       "    </tr>\n",
       "  </thead>\n",
       "  <tbody>\n",
       "    <tr>\n",
       "      <th>0</th>\n",
       "      <td>vehicle toys</td>\n",
       "      <td>doll</td>\n",
       "      <td>toy animals</td>\n",
       "    </tr>\n",
       "    <tr>\n",
       "      <th>1</th>\n",
       "      <td>sport</td>\n",
       "      <td>domestic toys</td>\n",
       "      <td>books</td>\n",
       "    </tr>\n",
       "    <tr>\n",
       "      <th>2</th>\n",
       "      <td>military toys</td>\n",
       "      <td>educational art</td>\n",
       "      <td>educational teaching</td>\n",
       "    </tr>\n",
       "    <tr>\n",
       "      <th>3</th>\n",
       "      <td>race cars</td>\n",
       "      <td>clothes</td>\n",
       "      <td>musical games</td>\n",
       "    </tr>\n",
       "    <tr>\n",
       "      <th>4</th>\n",
       "      <td>outer space toys</td>\n",
       "      <td>dollhouses</td>\n",
       "      <td>games</td>\n",
       "    </tr>\n",
       "    <tr>\n",
       "      <th>...</th>\n",
       "      <td>...</td>\n",
       "      <td>...</td>\n",
       "      <td>...</td>\n",
       "    </tr>\n",
       "    <tr>\n",
       "      <th>67</th>\n",
       "      <td>toy rocket</td>\n",
       "      <td>barbie furniture set</td>\n",
       "      <td>NaN</td>\n",
       "    </tr>\n",
       "    <tr>\n",
       "      <th>68</th>\n",
       "      <td>soccer ball</td>\n",
       "      <td>NaN</td>\n",
       "      <td>NaN</td>\n",
       "    </tr>\n",
       "    <tr>\n",
       "      <th>69</th>\n",
       "      <td>blue ipad</td>\n",
       "      <td>pink ipad</td>\n",
       "      <td>NaN</td>\n",
       "    </tr>\n",
       "    <tr>\n",
       "      <th>70</th>\n",
       "      <td>toy robots</td>\n",
       "      <td>NaN</td>\n",
       "      <td>NaN</td>\n",
       "    </tr>\n",
       "    <tr>\n",
       "      <th>71</th>\n",
       "      <td>toy drones</td>\n",
       "      <td>NaN</td>\n",
       "      <td>NaN</td>\n",
       "    </tr>\n",
       "  </tbody>\n",
       "</table>\n",
       "<p>72 rows × 3 columns</p>\n",
       "</div>"
      ],
      "text/plain": [
       "                 BOY                  GIRL               NEUTRAL\n",
       "0       vehicle toys                  doll           toy animals\n",
       "1              sport         domestic toys                 books\n",
       "2      military toys       educational art  educational teaching\n",
       "3          race cars               clothes         musical games\n",
       "4   outer space toys            dollhouses                 games\n",
       "..               ...                   ...                   ...\n",
       "67        toy rocket  barbie furniture set                   NaN\n",
       "68       soccer ball                   NaN                   NaN\n",
       "69         blue ipad             pink ipad                   NaN\n",
       "70        toy robots                   NaN                   NaN\n",
       "71        toy drones                   NaN                   NaN\n",
       "\n",
       "[72 rows x 3 columns]"
      ]
     },
     "execution_count": 4,
     "metadata": {},
     "output_type": "execute_result"
    }
   ],
   "source": [
    "stereo_toys = pd.read_csv('~/Desktop/485/Data/predoc_stereotyped_items.csv', delimiter =',')\n",
    "stereo_toys"
   ]
  },
  {
   "cell_type": "markdown",
   "metadata": {
    "id": "Rpk2koDnrK6f"
   },
   "source": [
    "### Some stat on the dataset"
   ]
  },
  {
   "cell_type": "code",
   "execution_count": 5,
   "metadata": {
    "id": "Bfh7xZoNrK6g",
    "outputId": "67005328-29fa-4c9e-aa01-3b7ffe091369"
   },
   "outputs": [
    {
     "data": {
      "text/plain": [
       "71"
      ]
     },
     "execution_count": 5,
     "metadata": {},
     "output_type": "execute_result"
    }
   ],
   "source": [
    "boy_toys = stereo_toys['BOY'].unique().tolist()\n",
    "len(boy_toys)"
   ]
  },
  {
   "cell_type": "code",
   "execution_count": 6,
   "metadata": {
    "id": "EWttdKj3rK6h",
    "outputId": "bd396ec9-2522-4139-8658-45883a8ff8f7"
   },
   "outputs": [
    {
     "data": {
      "text/plain": [
       "64"
      ]
     },
     "execution_count": 6,
     "metadata": {},
     "output_type": "execute_result"
    }
   ],
   "source": [
    "girl_toys = stereo_toys['GIRL'].unique().tolist()\n",
    "len(girl_toys)"
   ]
  },
  {
   "cell_type": "code",
   "execution_count": 7,
   "metadata": {
    "id": "UWemfiEDrK6i",
    "outputId": "1c8e2dd5-5ec9-4a3d-d046-cb0800c53463"
   },
   "outputs": [
    {
     "data": {
      "text/plain": [
       "33"
      ]
     },
     "execution_count": 7,
     "metadata": {},
     "output_type": "execute_result"
    }
   ],
   "source": [
    "neutral_toys = stereo_toys['NEUTRAL'].unique().tolist()\n",
    "len(neutral_toys)"
   ]
  },
  {
   "cell_type": "code",
   "execution_count": 8,
   "metadata": {
    "id": "iknAUJJHrK6j",
    "outputId": "83954cd9-afe8-4471-cebd-1cb998ac60d5"
   },
   "outputs": [
    {
     "data": {
      "text/plain": [
       "168"
      ]
     },
     "execution_count": 8,
     "metadata": {},
     "output_type": "execute_result"
    }
   ],
   "source": [
    "all_items = boy_toys + girl_toys + neutral_toys\n",
    "len(all_items)"
   ]
  },
  {
   "cell_type": "code",
   "execution_count": 9,
   "metadata": {
    "id": "TRQwxkOBrK6k"
   },
   "outputs": [],
   "source": [
    "all_items = [x for x in all_items if isinstance(x, str)]"
   ]
  },
  {
   "cell_type": "code",
   "execution_count": 10,
   "metadata": {},
   "outputs": [
    {
     "data": {
      "image/png": "[encoded data removed]",
      "text/plain": [
       "<Figure size 640x480 with 1 Axes>"
      ]
     },
     "metadata": {},
     "output_type": "display_data"
    }
   ],
   "source": [
    "data = [71, 64, 33]\n",
    "keys = ['Boys', 'Girls', 'Neutral']\n",
    "  \n",
    "# define Seaborn color palette to use\n",
    "palette_color = seaborn.color_palette('bright')\n",
    "  \n",
    "# plotting data on chart\n",
    "plt.pie(data, labels=keys, colors=palette_color, autopct='%.0f%%')\n",
    "  \n",
    "# displaying chart\n",
    "plt.title('Percentage of Pre-documented Gendered Toys')\n",
    "plt.show()"
   ]
  },
  {
   "cell_type": "markdown",
   "metadata": {},
   "source": [
    "This pie chart visualizes the percentage of toys assigned to genders. Boys have the highest percentage with girls being second and neutral the last."
   ]
  },
  {
   "cell_type": "markdown",
   "metadata": {
    "id": "b-bXbFnIrK6k"
   },
   "source": [
    "## Preparing the data for query"
   ]
  },
  {
   "cell_type": "markdown",
   "metadata": {
    "id": "E89T78gbrK6l"
   },
   "source": [
    "### Adding \"for\""
   ]
  },
  {
   "cell_type": "code",
   "execution_count": 11,
   "metadata": {
    "id": "m6XKf6J7rK6m",
    "outputId": "d6368e7f-925f-402f-94bc-c26a06bade3e"
   },
   "outputs": [
    {
     "data": {
      "text/plain": [
       "['vehicle toys', 'sport', 'military toys', 'race cars', 'outer space toys']"
      ]
     },
     "execution_count": 11,
     "metadata": {},
     "output_type": "execute_result"
    }
   ],
   "source": [
    "new_content = [x.strip() for x in all_items]\n",
    "new_content = [x.replace(' for','') for x in new_content]\n",
    "new_content = [x.lower() for x in new_content]\n",
    "new_content [:5]"
   ]
  },
  {
   "cell_type": "code",
   "execution_count": 13,
   "metadata": {
    "id": "vheiNobHrK6n",
    "outputId": "7a611450-c57f-4b4a-8e42-2f8102b8e22e"
   },
   "outputs": [
    {
     "data": {
      "text/plain": [
       "['vehicle toys for',\n",
       " 'sport for',\n",
       " 'military toys for',\n",
       " 'race cars for',\n",
       " 'outer space toys for']"
      ]
     },
     "execution_count": 13,
     "metadata": {},
     "output_type": "execute_result"
    }
   ],
   "source": [
    "#creating query format to put in the search engine\n",
    "search_terms = [x+' for' for x in new_content]\n",
    "search_terms [:5]"
   ]
  },
  {
   "cell_type": "markdown",
   "metadata": {
    "id": "2cUiROYyrK6p"
   },
   "source": [
    "## Search Engines and E-Com Sites"
   ]
  },
  {
   "cell_type": "markdown",
   "metadata": {
    "id": "ixqQWo4erK6w"
   },
   "source": [
    "### Argos"
   ]
  },
  {
   "cell_type": "code",
   "execution_count": 14,
   "metadata": {},
   "outputs": [],
   "source": [
    "from urllib.request import urlopen, Request\n",
    "import urllib.parse as urlparse\n",
    "from bs4 import BeautifulSoup\n",
    "#custom_user_agent = \"Mozilla/5.0 (Windows NT 6.1; Win64; x64; rv:47.0) Gecko/20100101 Firefox/47.0\"\n",
    "#headers={\"User-Agent\": custom_user_agent}\n",
    "\n",
    "def argos_scrape(query):\n",
    "   # params = {\"qry\": query}\n",
    "    url_parse = urlparse.urlparse('https://www.argos.co.uk/suggest?term={query}%20f&fuzziness=true&size=5&includeFaq=true')\n",
    "    query = url_parse.query\n",
    "    url_dict = dict(urlparse.parse_qsl(query))\n",
    "    # url_dict.update(params)\n",
    "    url_new_query = urlparse.urlencode(url_dict)\n",
    "    url_parse = url_parse._replace(query=url_new_query)\n",
    "    new_url = urlparse.urlunparse(url_parse)\n",
    "    req = Request(new_url, headers=headers)\n",
    "    page = urlopen(req)\n",
    "    soup = BeautifulSoup(page.read())\n",
    "    return soup"
   ]
  },
  {
   "cell_type": "code",
   "execution_count": 15,
   "metadata": {
    "id": "TeQHIWsTrK6y"
   },
   "outputs": [],
   "source": [
    "def argos_scrape(query):\n",
    "    url = f'https://www.argos.co.uk/suggest?term={query}%20f&fuzziness=true&size=5&includeFaq=true'\n",
    "    # with open(url) as j:\n",
    "    #    response = json.loads(j.read())\n",
    "    response = requests.get(url, headers=headers, verify=False).json()\n",
    "    return response\n",
    "#['autoSuggest']['keywords']"
   ]
  },
  {
   "cell_type": "markdown",
   "metadata": {
    "id": "HfDpLCy2rK7D"
   },
   "source": [
    "### All together"
   ]
  },
  {
   "cell_type": "code",
   "execution_count": 16,
   "metadata": {
    "id": "QzDAuYeBrK7E"
   },
   "outputs": [],
   "source": [
    "def argos_auto(item):\n",
    "    res = argos_scrape(item)\n",
    "    suggestions = res['autoSuggest']['keywords']\n",
    "    results = []\n",
    "    for s in suggestions:\n",
    "        results.append(s['value'])\n",
    "    return results"
   ]
  },
  {
   "cell_type": "markdown",
   "metadata": {
    "id": "3qu9oCwkrK7I"
   },
   "source": [
    "## Run queries"
   ]
  },
  {
   "cell_type": "code",
   "execution_count": 17,
   "metadata": {
    "id": "4Mw6WgLGrK7J",
    "outputId": "b972fe58-255b-42ca-be1f-f008224bcad1"
   },
   "outputs": [
    {
     "data": {
      "text/html": [
       "<div>\n",
       "<style scoped>\n",
       "    .dataframe tbody tr th:only-of-type {\n",
       "        vertical-align: middle;\n",
       "    }\n",
       "\n",
       "    .dataframe tbody tr th {\n",
       "        vertical-align: top;\n",
       "    }\n",
       "\n",
       "    .dataframe thead th {\n",
       "        text-align: right;\n",
       "    }\n",
       "</style>\n",
       "<table border=\"1\" class=\"dataframe\">\n",
       "  <thead>\n",
       "    <tr style=\"text-align: right;\">\n",
       "      <th></th>\n",
       "      <th>platform</th>\n",
       "      <th>query</th>\n",
       "      <th>suggestions</th>\n",
       "    </tr>\n",
       "  </thead>\n",
       "  <tbody>\n",
       "  </tbody>\n",
       "</table>\n",
       "</div>"
      ],
      "text/plain": [
       "Empty DataFrame\n",
       "Columns: [platform, query, suggestions]\n",
       "Index: []"
      ]
     },
     "execution_count": 17,
     "metadata": {},
     "output_type": "execute_result"
    }
   ],
   "source": [
    "#create dataframe\n",
    "import pandas as pd\n",
    "columns = ['platform', 'query', 'suggestions']\n",
    "df = pd.DataFrame(columns = columns)\n",
    "df"
   ]
  },
  {
   "cell_type": "code",
   "execution_count": 18,
   "metadata": {
    "id": "fj2CUZNirK7J"
   },
   "outputs": [],
   "source": [
    "def search(platform):\n",
    "    if platform == 'Argos':\n",
    "        return argos_auto(item)"
   ]
  },
  {
   "cell_type": "code",
   "execution_count": 23,
   "metadata": {},
   "outputs": [],
   "source": [
    "#run below function with trial list of items before using contents\n",
    "trial = ['plants','toys','doll']"
   ]
  },
  {
   "cell_type": "code",
   "execution_count": 24,
   "metadata": {},
   "outputs": [],
   "source": [
    "columns = ['query', 'suggestions']"
   ]
  },
  {
   "cell_type": "code",
   "execution_count": 25,
   "metadata": {},
   "outputs": [
    {
     "name": "stdout",
     "output_type": "stream",
     "text": [
      "{'query': 'plants', 'suggestions': ['artificial plant', 'plant pot', 'planter', 'plant', 'plants']}\n",
      "{'query': 'toys', 'suggestions': ['toys', 'kids toys', 'toy storage', 'toy box', 'toy kitchen']}\n",
      "{'query': 'doll', 'suggestions': ['designafriend doll', 'dolls', 'barbie doll', 'dolls pram', 'baby doll']}\n"
     ]
    }
   ],
   "source": [
    "# trial run\n",
    "import time\n",
    "import warnings\n",
    "warnings.filterwarnings('ignore')\n",
    "data = []\n",
    "for item in trial:\n",
    "    result = argos_auto(item)\n",
    "    values = [item, result]\n",
    "    zipped = zip(columns, values)\n",
    "    a_dictionary = dict(zipped)\n",
    "    print(a_dictionary)\n",
    "    time.sleep(1.5)\n",
    "    data.append(a_dictionary)"
   ]
  },
  {
   "cell_type": "code",
   "execution_count": 26,
   "metadata": {},
   "outputs": [
    {
     "name": "stdout",
     "output_type": "stream",
     "text": [
      "{'query': 'vehicle toys', 'suggestions': ['vehicle toy', 'building blocks vehicle toy', 'construction digger excavator vehicle toy', 'blocks vehicle toy', 'esports vehicle toy']}\n",
      "{'query': 'sport', 'suggestions': ['nintendo switch sports', 'sports watch', 'sports', 'switch sports', 'sport']}\n",
      "{'query': 'military toys', 'suggestions': []}\n",
      "{'query': 'race cars', 'suggestions': ['race car', 'race car set', 'lego ninjago lloyds race car', 'countach race car set 76908', 'race car model set 42141']}\n",
      "{'query': 'outer space toys', 'suggestions': []}\n",
      "{'query': 'depots', 'suggestions': []}\n",
      "{'query': 'machines', 'suggestions': ['washing machine', 'coffee machine', 'sewing machine', 'rowing machine', 'integrated washing machine']}\n",
      "{'query': 'doll-humanoid', 'suggestions': []}\n",
      "{'query': 'action figures', 'suggestions': ['action figures', 'action figure', 'avengers action figure', 'flash action figure', '12inch action figure']}\n",
      "{'query': 'gi joe action figure', 'suggestions': []}\n",
      "{'query': 'spiderman', 'suggestions': ['spiderman figure', 'marvel spiderman figure', 'spiderman', 'spiderman costume', 'spider man']}\n",
      "{'query': 'guitar', 'suggestions': ['guitar', 'electric guitar', 'acoustic guitar', 'guitar and accessories', 'bass guitar']}\n",
      "{'query': 'castle tent', 'suggestions': []}\n",
      "{'query': 'microscope', 'suggestions': ['microscope', 'science microscope', 'telescope and microscope', 'stem microscope', 'leapfrog magic adventures microscope']}\n",
      "{'query': 'monster trucks', 'suggestions': ['monster truck', 'hot wheels monster truck', 'monster trucks', 'monster truck toys', 'hot wheels monster trucks oversized']}\n",
      "{'query': 'bug collection set', 'suggestions': []}\n",
      "{'query': 'barn', 'suggestions': ['barn farm animals figures', 'barn farm animals', 'lego city barn farm animals', 'city barn farm animals figures', 'barn']}\n",
      "{'query': 'grill', 'suggestions': ['grill', 'health grill', 'grill pan', 'cooking grill electric hot plate', 'mini oven and grill']}\n",
      "{'query': 'dinosaur toy', 'suggestions': ['dinosaur toy', 'atrociraptor dinosaur toy 76948', 'rex dinosaur toy', 'giganotosaurus attack dinosaur toy', 'scorpios rex dinosaur toy']}\n",
      "{'query': 'volcano creator', 'suggestions': []}\n",
      "{'query': 'pokemon cards', 'suggestions': []}\n",
      "{'query': 'space station toys', 'suggestions': ['lunar space station toy', 'space station toy', 'lunar space station toy with', 'space station toy with', 'space station toy with astronauts']}\n",
      "{'query': 'basketball hoop', 'suggestions': ['basketball hoop', 'basketball hoop and backboard', 'portable basketball hoop', 'door basketball hoop', 'adjustable basketball hoop']}\n",
      "{'query': 'gears', 'suggestions': ['polar gear', 'garfield', 'gear', 'pebble gear', 'spy gear']}\n",
      "{'query': 'train set', 'suggestions': ['train set', 'wooden train set', 'chad valley wooden train set', 'hornby flying scotsman train set', 'remote train set']}\n",
      "{'query': 'lincoln logs', 'suggestions': []}\n",
      "{'query': 'police station toy', 'suggestions': []}\n",
      "{'query': 'airport toy', 'suggestions': []}\n",
      "{'query': 'police officer gear', 'suggestions': []}\n",
      "{'query': 'dragonballz', 'suggestions': ['dragon ball z', 'dragon ball z kakarot', 'dragon ball z kakarot ps5', 'dragon ball z kakarot xbox']}\n",
      "{'query': 'superhero costumes', 'suggestions': []}\n",
      "{'query': 'helicopter', 'suggestions': ['helicopter', 'radio controlled helicopter', 'helicopter toy', 'paw patrol skyes helicopter', 'rescue helicopter']}\n",
      "{'query': 'racetrack', 'suggestions': ['race track', 'drive race track', 'hey duggee drive race track', 'race track playmat', 'duggee drive race track']}\n",
      "{'query': 'remote control car', 'suggestions': ['remote control car', 'batmobile remote control car', 'boost batmobile remote control car']}\n",
      "{'query': 'football', 'suggestions': ['football', 'football goal', 'football goals', 'football pump', 'football table']}\n",
      "{'query': 'hockey stick', 'suggestions': []}\n",
      "{'query': 'sword toy', 'suggestions': []}\n",
      "{'query': 'miniature guns', 'suggestions': []}\n",
      "{'query': 'truck set', 'suggestions': ['truck set', 'monster truck set', 'blippi stunt monster truck set', 'stunt monster truck set']}\n",
      "{'query': 'remote control helicopter', 'suggestions': []}\n",
      "{'query': 'sully costume', 'suggestions': []}\n",
      "{'query': 'woody valentine', 'suggestions': []}\n",
      "{'query': 'spiderman costume', 'suggestions': ['spiderman costume', 'marvel spiderman costume', 'marvel spiderman costume set', 'spiderman costume set']}\n",
      "{'query': 'batman costume', 'suggestions': ['batman costume', 'dc comics batman costume', 'comics batman costume']}\n",
      "{'query': 'ninja costume', 'suggestions': []}\n",
      "{'query': 'wwe action figure', 'suggestions': []}\n",
      "{'query': 'action figure', 'suggestions': ['action figures', 'action figure', 'avengers action figure', 'flash action figure', '12inch action figure']}\n",
      "{'query': 'toy gun', 'suggestions': []}\n",
      "{'query': 'construction games', 'suggestions': []}\n",
      "{'query': 'war toys', 'suggestions': []}\n",
      "{'query': 'toy vehicles', 'suggestions': ['toy vehicle', 'bin lorry toy vehicle', 'above beyond toy vehicle', 'octonauts above beyond toy vehicle', 'truck bin lorry toy vehicle']}\n",
      "{'query': 'educational material', 'suggestions': []}\n",
      "{'query': 'nerf guns', 'suggestions': []}\n",
      "{'query': 'construction toys', 'suggestions': ['construction toy', 'gravitrax zipline construction toy', 'gravitrax extension catapult construction toy', 'catapult construction toy', 'zipline construction toy']}\n",
      "{'query': 'car toys', 'suggestions': ['car toys', 'car toy', 'electric car toy', 'police car toy', 'car toy for kids']}\n",
      "{'query': 'video games', 'suggestions': ['video game', 'jumanji the video game', 'jumanji the video game nintendo', 'videogame', 'lego movie 2 videogame']}\n",
      "{'query': 'building blocks', 'suggestions': ['building blocks', 'wooden building blocks', 'foam building blocks', 'building blocks vehicle toy', 'pinky ponk building blocks']}\n",
      "{'query': 'dinosaur toys', 'suggestions': ['dinosaur toy', 'atrociraptor dinosaur toy 76948', 'rex dinosaur toy', 'giganotosaurus attack dinosaur toy', 'scorpios rex dinosaur toy']}\n",
      "{'query': 'lego cars', 'suggestions': []}\n",
      "{'query': 'lego toys', 'suggestions': []}\n",
      "{'query': 'computer games', 'suggestions': []}\n",
      "{'query': 'spaceship lego', 'suggestions': []}\n",
      "{'query': 'firefighter gear', 'suggestions': []}\n",
      "{'query': 'soldier toys', 'suggestions': []}\n",
      "{'query': 'space station', 'suggestions': ['space station', 'barbie space discovery space station', 'astro ventures space station', 'lego city lunar space station', 'city lunar space station']}\n",
      "{'query': 'science project kit', 'suggestions': []}\n",
      "{'query': 'toy rocket', 'suggestions': ['toy rocket', 'with toy rocket', 'academy with toy rocket', 'space academy with toy rocket', 'with toy rocket 41713']}\n",
      "{'query': 'soccer ball', 'suggestions': []}\n",
      "{'query': 'blue ipad', 'suggestions': []}\n",
      "{'query': 'toy robots', 'suggestions': []}\n",
      "{'query': 'toy drones', 'suggestions': []}\n",
      "{'query': 'doll', 'suggestions': ['designafriend doll', 'dolls', 'barbie doll', 'dolls pram', 'baby doll']}\n",
      "{'query': 'domestic toys', 'suggestions': []}\n",
      "{'query': 'educational art', 'suggestions': []}\n",
      "{'query': 'clothes', 'suggestions': ['clothes airer', 'clothes rail', 'heated clothes airer', 'indoor clothes airer', 'heavy duty clothes rail']}\n",
      "{'query': 'dollhouses', 'suggestions': ['dolls house', 'doll house', 'gabbys dollhouse figure', 'wooden dolls house', 'dollhouse']}\n",
      "{'query': 'clothing accessories', 'suggestions': []}\n",
      "{'query': 'doll accessories', 'suggestions': ['doll accessory', 'dolls accessory set', 'doll accessory set', 'dolls accessory', 'tiny treasures princess dolls accessory']}\n",
      "{'query': 'furnishing', 'suggestions': []}\n",
      "{'query': 'ballerina costume', 'suggestions': []}\n",
      "{'query': 'barbie costume', 'suggestions': []}\n",
      "{'query': 'barbie jeep', 'suggestions': []}\n",
      "{'query': 'play makeup', 'suggestions': []}\n",
      "{'query': 'bratz doll', 'suggestions': []}\n",
      "{'query': 'jewelry', 'suggestions': ['jewelry', 'box jewelry', 'jewelry set', 'box jewelry set', 'glamour box jewelry']}\n",
      "{'query': 'my little pony', 'suggestions': ['my little pony flowers', 'my little pony flowers multicolour', 'my little pony', 'my little pony rainbow dash', 'blo pens my little pony']}\n",
      "{'query': 'tea set', 'suggestions': ['tea set', 'afternoon tea set', 'wooden tea set', 'chad valley wooden tea set', 'frozen tea set']}\n",
      "{'query': 'vanity set', 'suggestions': ['chad valley wooden vanity set', 'vanity set', 'wooden vanity set', 'valley wooden vanity set']}\n",
      "{'query': 'princess costume', 'suggestions': []}\n",
      "{'query': 'baby dolls', 'suggestions': ['baby doll', 'baby dolls', 'baby dolls carrier', 'crawling baby doll', 'boy baby doll']}\n",
      "{'query': 'beads', 'suggestions': ['double bed frame', 'single bed frame', 'kingsize bed frame', 'small double bed frame', 'bed frame']}\n",
      "{'query': 'dollhouse', 'suggestions': ['gabbys dollhouse figure', 'gabbys dollhouse figure gift pack', 'dollhouse figure', 'dolls house', 'doll house']}\n",
      "{'query': 'easy bake oven', 'suggestions': []}\n",
      "{'query': 'baby doll stroller', 'suggestions': []}\n",
      "{'query': 'sewing machine', 'suggestions': ['sewing machine', 'sewing machine carry bag', 'singer 1306 sewing machine', 'computerised sewing machine', 'stitch sewing machine']}\n",
      "{'query': 'pink ice skates', 'suggestions': []}\n",
      "{'query': 'ken doll', 'suggestions': ['ken doll', 'barbie fashionistas ken doll', 'ken doll assortment', 'fashionistas ken doll', 'barbie fashionistas ken doll assortment']}\n",
      "{'query': 'toy kitchen', 'suggestions': ['toy kitchen', 'wooden dolls toy kitchen', 'dolls toy kitchen', 'designafriend wooden dolls toy kitchen']}\n",
      "{'query': 'broom', 'suggestions': ['broom', 'outdoor broom', 'broom and dustpan', 'soft broom', 'broom set']}\n",
      "{'query': 'beanie baby bear', 'suggestions': []}\n",
      "{'query': 'toy vacuum cleaner', 'suggestions': ['dyson cordless toy vacuum cleaner', 'toy vacuum cleaner', 'childrens toy vacuum cleaner', 'cordless toy vacuum cleaner', 'hetty childrens toy vacuum cleaner']}\n",
      "{'query': 'veterinarian kit', 'suggestions': []}\n",
      "{'query': 'kitchen set', 'suggestions': ['kitchen set', 'morphy richards kitchen set', 'chad valley kitchen set', 'chad valley kitchen set carry', 'soft grips kitchen set']}\n",
      "{'query': 'stuffed animals', 'suggestions': []}\n",
      "{'query': 'plush toys', 'suggestions': ['plush toy', 'cat plush toy', 'dinosaur plush toy', 'pikachu plush toy', 'soft plush toy']}\n",
      "{'query': 'unicorn', 'suggestions': ['unicorn', 'unicorn toy', 'unicorn bedding', 'unicorns', 'polly pocket unicorn']}\n",
      "{'query': 'sparkly toys', 'suggestions': []}\n",
      "{'query': 'disney doll', 'suggestions': []}\n",
      "{'query': 'baking kit', 'suggestions': []}\n",
      "{'query': 'painting kit', 'suggestions': []}\n",
      "{'query': 'dora doll', 'suggestions': []}\n",
      "{'query': 'power ranger valentine', 'suggestions': []}\n",
      "{'query': 'dorothy costume', 'suggestions': []}\n",
      "{'query': 'minnie mouse', 'suggestions': ['disney minnie mouse fabulous 6inch', 'minnie mouse fabulous', 'disney minnie mouse fabulous', 'minnie mouse', 'disney minnie mouse']}\n",
      "{'query': 'monster high doll', 'suggestions': []}\n",
      "{'query': 'monster high costume', 'suggestions': []}\n",
      "{'query': 'barbie', 'suggestions': ['barbie fashionista', 'barbie doll', 'barbie', 'barbie cutie reveal', 'barbie house']}\n",
      "{'query': 'baby doll', 'suggestions': ['baby doll', 'baby dolls', 'baby dolls carrier', 'crawling baby doll', 'boy baby doll']}\n",
      "{'query': 'fashion doll', 'suggestions': ['lol surprise omg fashion doll', 'avastars fashion doll', 'fashion doll', 'fashion dolls', 'avastars fashion doll kawaiipie']}\n",
      "{'query': 'tiara', 'suggestions': ['tiara', 'princess tiara', 'princess tiara set', 'tiara set', 'disney princess tiara set']}\n",
      "{'query': 'craft toys', 'suggestions': ['crafts toy', 'room dcor crafts toy', '5in1 crafts toy', 'dcor crafts toy', 'diy room dcor crafts toy']}\n",
      "{'query': 'beauty products', 'suggestions': []}\n",
      "{'query': 'tea party set', 'suggestions': ['tea party set', 'doll and tea party set', 'pink tea party set', 'bakery tea party set', 'storybook tea party set']}\n",
      "{'query': 'pink doll', 'suggestions': ['pink doll', 'pink dolls', 'babies pink doll', 'for babies pink doll', 'sleepy for babies pink doll']}\n",
      "{'query': 'cupcake maker', 'suggestions': []}\n",
      "{'query': 'makeup kit', 'suggestions': ['makeup kit', 'party makeup kit', 'revolution centre stage makeup kit', 'shimmering hearts makeup kit', 'centre stage makeup kit']}\n",
      "{'query': 'fashion dolls', 'suggestions': ['lol surprise omg fashion doll', 'avastars fashion doll', 'fashion doll', 'fashion dolls', 'avastars fashion doll kawaiipie']}\n",
      "{'query': 'crochet kit', 'suggestions': []}\n",
      "{'query': 'playhouses', 'suggestions': ['playhouse', 'play house', 'garden playhouse', 'wooden playhouse', 'wooden play house']}\n",
      "{'query': 'princess sword', 'suggestions': []}\n",
      "{'query': 'doctors kit', 'suggestions': []}\n",
      "{'query': 'skin care kit', 'suggestions': []}\n",
      "{'query': 'barbie furniture set', 'suggestions': []}\n"
     ]
    }
   ],
   "source": [
    "#once the trial run is successful run the code with contents\n",
    "warnings.filterwarnings('ignore')\n",
    "data = []\n",
    "for item in contents:\n",
    "    result = argos_auto(item)\n",
    "    values = [item, result]\n",
    "    zipped = zip(columns, values)\n",
    "    a_dictionary = dict(zipped)\n",
    "    print(a_dictionary)\n",
    "    time.sleep(1.5)\n",
    "    data.append(a_dictionary)"
   ]
  },
  {
   "cell_type": "code",
   "execution_count": 31,
   "metadata": {
    "id": "HePm6xn-rK7P",
    "outputId": "4ad8c767-8b50-4003-9d6a-dad8b28decb0"
   },
   "outputs": [
    {
     "data": {
      "text/plain": [
       "{'query': 'vehicle toys',\n",
       " 'suggestions': ['vehicle toy',\n",
       "  'building blocks vehicle toy',\n",
       "  'construction digger excavator vehicle toy',\n",
       "  'blocks vehicle toy',\n",
       "  'esports vehicle toy']}"
      ]
     },
     "execution_count": 31,
     "metadata": {},
     "output_type": "execute_result"
    }
   ],
   "source": [
    "#look at data that has been extracted\n",
    "data[0]"
   ]
  },
  {
   "cell_type": "code",
   "execution_count": 32,
   "metadata": {
    "id": "YI6nkF5FrK7Q",
    "outputId": "bd6200da-c5ed-4094-bb5b-6f8bfe93f241"
   },
   "outputs": [
    {
     "data": {
      "text/html": [
       "<div>\n",
       "<style scoped>\n",
       "    .dataframe tbody tr th:only-of-type {\n",
       "        vertical-align: middle;\n",
       "    }\n",
       "\n",
       "    .dataframe tbody tr th {\n",
       "        vertical-align: top;\n",
       "    }\n",
       "\n",
       "    .dataframe thead th {\n",
       "        text-align: right;\n",
       "    }\n",
       "</style>\n",
       "<table border=\"1\" class=\"dataframe\">\n",
       "  <thead>\n",
       "    <tr style=\"text-align: right;\">\n",
       "      <th></th>\n",
       "      <th>platform</th>\n",
       "      <th>query</th>\n",
       "      <th>suggestions</th>\n",
       "    </tr>\n",
       "  </thead>\n",
       "  <tbody>\n",
       "    <tr>\n",
       "      <th>0</th>\n",
       "      <td>Argos</td>\n",
       "      <td>vehicle toys</td>\n",
       "      <td>[vehicle toy, building blocks vehicle toy, con...</td>\n",
       "    </tr>\n",
       "    <tr>\n",
       "      <th>1</th>\n",
       "      <td>Argos</td>\n",
       "      <td>sport</td>\n",
       "      <td>[nintendo switch sports, sports watch, sports,...</td>\n",
       "    </tr>\n",
       "    <tr>\n",
       "      <th>2</th>\n",
       "      <td>Argos</td>\n",
       "      <td>military toys</td>\n",
       "      <td>[]</td>\n",
       "    </tr>\n",
       "    <tr>\n",
       "      <th>3</th>\n",
       "      <td>Argos</td>\n",
       "      <td>race cars</td>\n",
       "      <td>[race car, race car set, lego ninjago lloyds r...</td>\n",
       "    </tr>\n",
       "    <tr>\n",
       "      <th>4</th>\n",
       "      <td>Argos</td>\n",
       "      <td>outer space toys</td>\n",
       "      <td>[]</td>\n",
       "    </tr>\n",
       "    <tr>\n",
       "      <th>...</th>\n",
       "      <td>...</td>\n",
       "      <td>...</td>\n",
       "      <td>...</td>\n",
       "    </tr>\n",
       "    <tr>\n",
       "      <th>261</th>\n",
       "      <td>Argos</td>\n",
       "      <td>playhouses</td>\n",
       "      <td>[playhouse, play house, garden playhouse, wood...</td>\n",
       "    </tr>\n",
       "    <tr>\n",
       "      <th>262</th>\n",
       "      <td>Argos</td>\n",
       "      <td>princess sword</td>\n",
       "      <td>[]</td>\n",
       "    </tr>\n",
       "    <tr>\n",
       "      <th>263</th>\n",
       "      <td>Argos</td>\n",
       "      <td>doctors kit</td>\n",
       "      <td>[]</td>\n",
       "    </tr>\n",
       "    <tr>\n",
       "      <th>264</th>\n",
       "      <td>Argos</td>\n",
       "      <td>skin care kit</td>\n",
       "      <td>[]</td>\n",
       "    </tr>\n",
       "    <tr>\n",
       "      <th>265</th>\n",
       "      <td>Argos</td>\n",
       "      <td>barbie furniture set</td>\n",
       "      <td>[]</td>\n",
       "    </tr>\n",
       "  </tbody>\n",
       "</table>\n",
       "<p>266 rows × 3 columns</p>\n",
       "</div>"
      ],
      "text/plain": [
       "    platform                 query  \\\n",
       "0      Argos          vehicle toys   \n",
       "1      Argos                 sport   \n",
       "2      Argos         military toys   \n",
       "3      Argos             race cars   \n",
       "4      Argos      outer space toys   \n",
       "..       ...                   ...   \n",
       "261    Argos            playhouses   \n",
       "262    Argos        princess sword   \n",
       "263    Argos           doctors kit   \n",
       "264    Argos         skin care kit   \n",
       "265    Argos  barbie furniture set   \n",
       "\n",
       "                                           suggestions  \n",
       "0    [vehicle toy, building blocks vehicle toy, con...  \n",
       "1    [nintendo switch sports, sports watch, sports,...  \n",
       "2                                                   []  \n",
       "3    [race car, race car set, lego ninjago lloyds r...  \n",
       "4                                                   []  \n",
       "..                                                 ...  \n",
       "261  [playhouse, play house, garden playhouse, wood...  \n",
       "262                                                 []  \n",
       "263                                                 []  \n",
       "264                                                 []  \n",
       "265                                                 []  \n",
       "\n",
       "[266 rows x 3 columns]"
      ]
     },
     "execution_count": 32,
     "metadata": {},
     "output_type": "execute_result"
    }
   ],
   "source": [
    "#put data into a dataframe with the platform, query, and scraped suggestions\n",
    "df = df.append(data, True)\n",
    "df['platform'] = 'Argos'\n",
    "df"
   ]
  },
  {
   "cell_type": "code",
   "execution_count": 30,
   "metadata": {
    "id": "lwr2RjjFrK7R"
   },
   "outputs": [],
   "source": [
    "#export data to a csv file\n",
    "df.to_csv('argos_query_suggestions.csv', index = False)"
   ]
  },
  {
   "cell_type": "code",
   "execution_count": null,
   "metadata": {},
   "outputs": [],
   "source": []
  }
 ],
 "metadata": {
  "colab": {
   "provenance": []
  },
  "kernelspec": {
   "display_name": "Python 3 (ipykernel)",
   "language": "python",
   "name": "python3"
  },
  "language_info": {
   "codemirror_mode": {
    "name": "ipython",
    "version": 3
   },
   "file_extension": ".py",
   "mimetype": "text/x-python",
   "name": "python",
   "nbconvert_exporter": "python",
   "pygments_lexer": "ipython3",
   "version": "3.9.13"
  }
 },
 "nbformat": 4,
 "nbformat_minor": 4
}
